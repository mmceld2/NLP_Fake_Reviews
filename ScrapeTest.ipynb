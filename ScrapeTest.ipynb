{
 "cells": [
  {
   "cell_type": "code",
   "execution_count": 652,
   "metadata": {},
   "outputs": [],
   "source": [
    "from selenium import webdriver\n",
    "from selenium.webdriver.common.keys import Keys\n",
    "import requests\n",
    "import json\n",
    "import pandas as pd\n",
    "import time\n",
    "from bs4 import BeautifulSoup\n",
    "from lxml import html\n",
    "from urllib.request import Request, urlopen\n",
    "import re\n",
    "from bs2json import bs2json\n",
    "pd.set_option ('display.max_colwidth', None) \n",
    "import pickle\n"
   ]
  },
  {
   "cell_type": "code",
   "execution_count": 412,
   "metadata": {},
   "outputs": [],
   "source": [
    "path = 'C:\\Program Files (x86)\\chromedriver.exe'"
   ]
  },
  {
   "cell_type": "code",
   "execution_count": 413,
   "metadata": {},
   "outputs": [
    {
     "name": "stderr",
     "output_type": "stream",
     "text": [
      "<ipython-input-413-d04ebe7e778e>:1: DeprecationWarning: executable_path has been deprecated, please pass in a Service object\n",
      "  driver = webdriver.Chrome(path)\n"
     ]
    }
   ],
   "source": [
    "driver = webdriver.Chrome(path)"
   ]
  },
  {
   "cell_type": "code",
   "execution_count": 568,
   "metadata": {},
   "outputs": [
    {
     "name": "stderr",
     "output_type": "stream",
     "text": [
      "<ipython-input-568-4deffe2ee900>:1: DeprecationWarning: executable_path has been deprecated, please pass in a Service object\n",
      "  driver = webdriver.Chrome(path)\n",
      "<ipython-input-568-4deffe2ee900>:3: DeprecationWarning: find_element_by_* commands are deprecated. Please use find_element() instead\n",
      "  search = driver.find_element_by_id('dropperText_Mast')\n",
      "<ipython-input-568-4deffe2ee900>:7: DeprecationWarning: find_element_by_* commands are deprecated. Please use find_element() instead\n",
      "  restaraunt = driver.find_element_by_id('find_desc')\n",
      "<ipython-input-568-4deffe2ee900>:11: DeprecationWarning: find_element_by_* commands are deprecated. Please use find_element() instead\n",
      "  more = driver.find_element_by_name('Broaddus Burgers')\n"
     ]
    }
   ],
   "source": [
    "driver = webdriver.Chrome(path)\n",
    "driver.get('https://www.yelp.com')\n",
    "search = driver.find_element_by_id('dropperText_Mast')\n",
    "search.send_keys('Current Location')\n",
    "time.sleep(4)\n",
    "search.send_keys(Keys.DOWN)\n",
    "restaraunt = driver.find_element_by_id('find_desc')\n",
    "restaraunt.send_keys('Rest')\n",
    "time.sleep(4)\n",
    "restaraunt.send_keys(Keys.DOWN,Keys.RETURN)\n",
    "more = driver.find_element_by_name('Broaddus Burgers')\n",
    "time.sleep(2)\n",
    "more.send_keys(Keys.RETURN)\n",
    "time.sleep(3)\n",
    "review_dict = {'name':[], 'review':[]}\n",
    "\n",
    "for x in range(0,29):   \n",
    "    soup = BeautifulSoup(driver.page_source,'html.parser')\n",
    "    user = soup.findAll('p',class_='css-m6anxm')\n",
    "    review = soup.findAll('span',class_='raw__373c0__tQAx6')\n",
    "    title = soup.find('h1',class_='css-m7s7xv')\n",
    "    for y in range(len(review)-11, len(review)):\n",
    "        review_dict['review'].append(review[y].text)\n",
    "        review_dict['name'].append(title.text)\n",
    "        \n",
    "    #driver.find_element_by_xpath('/html/body/div[2]/div[2]/yelp-react-root/div[1]/div[4]/div/div/div[2]/div/div[1]/div[2]/section[2]/div[2]/div/div[4]/div[1]/div/div[11]/span/a').click()\n",
    "    #time.sleep(5)\n"
   ]
  },
  {
   "cell_type": "code",
   "execution_count": null,
   "metadata": {},
   "outputs": [],
   "source": []
  },
  {
   "cell_type": "code",
   "execution_count": 548,
   "metadata": {},
   "outputs": [],
   "source": [
    "test = pd.DataFrame.from_dict(review_dict)\n",
    "test.drop(0,inplace=True)"
   ]
  },
  {
   "cell_type": "code",
   "execution_count": 750,
   "metadata": {},
   "outputs": [],
   "source": [
    "Broaddus_df = test"
   ]
  },
  {
   "cell_type": "code",
   "execution_count": 751,
   "metadata": {},
   "outputs": [],
   "source": [
    "Broaddus_pickle = open('Broaddus_df', 'wb')\n",
    "pickle.dump(Broaddus_df, Broaddus_pickle)\n",
    "picklefile.close()"
   ]
  },
  {
   "cell_type": "code",
   "execution_count": null,
   "metadata": {},
   "outputs": [],
   "source": []
  },
  {
   "cell_type": "code",
   "execution_count": null,
   "metadata": {},
   "outputs": [],
   "source": []
  },
  {
   "cell_type": "code",
   "execution_count": 609,
   "metadata": {},
   "outputs": [
    {
     "name": "stderr",
     "output_type": "stream",
     "text": [
      "<ipython-input-609-1e915bd9681a>:1: DeprecationWarning: executable_path has been deprecated, please pass in a Service object\n",
      "  driver = webdriver.Chrome(path)\n",
      "<ipython-input-609-1e915bd9681a>:3: DeprecationWarning: find_element_by_* commands are deprecated. Please use find_element() instead\n",
      "  search = driver.find_element_by_id('dropperText_Mast')\n",
      "<ipython-input-609-1e915bd9681a>:7: DeprecationWarning: find_element_by_* commands are deprecated. Please use find_element() instead\n",
      "  restaraunt = driver.find_element_by_id('find_desc')\n",
      "<ipython-input-609-1e915bd9681a>:11: DeprecationWarning: find_element_by_* commands are deprecated. Please use find_element() instead\n",
      "  more = driver.find_element_by_name('Bon Temps Grill')\n",
      "<ipython-input-609-1e915bd9681a>:26: DeprecationWarning: find_element_by_* commands are deprecated. Please use find_element() instead\n",
      "  driver.find_element_by_xpath('/html/body/div[2]/div[2]/yelp-react-root/div[1]/div[4]/div/div/div[2]/div/div[1]/div[2]/section[2]/div[2]/div/div[4]/div[1]/div/div[11]/span/a').click()\n"
     ]
    },
    {
     "ename": "NoSuchElementException",
     "evalue": "Message: no such element: Unable to locate element: {\"method\":\"xpath\",\"selector\":\"/html/body/div[2]/div[2]/yelp-react-root/div[1]/div[4]/div/div/div[2]/div/div[1]/div[2]/section[2]/div[2]/div/div[4]/div[1]/div/div[11]/span/a\"}\n  (Session info: chrome=94.0.4606.81)\nStacktrace:\nBacktrace:\n\tOrdinal0 [0x00F5B9D3+2472403]\n\tOrdinal0 [0x00EF6961+2058593]\n\tOrdinal0 [0x00E022B8+1057464]\n\tOrdinal0 [0x00E2C68B+1230475]\n\tOrdinal0 [0x00E565B2+1402290]\n\tOrdinal0 [0x00E455CA+1332682]\n\tOrdinal0 [0x00E5495F+1395039]\n\tOrdinal0 [0x00E4545B+1332315]\n\tOrdinal0 [0x00E21FB4+1187764]\n\tOrdinal0 [0x00E22E09+1191433]\n\tGetHandleVerifier [0x010E3396+1551078]\n\tGetHandleVerifier [0x0118D53A+2247818]\n\tGetHandleVerifier [0x00FE7FBB+521995]\n\tGetHandleVerifier [0x00FE7079+518089]\n\tOrdinal0 [0x00EFBD4D+2080077]\n\tOrdinal0 [0x00EFFC18+2096152]\n\tOrdinal0 [0x00EFFD52+2096466]\n\tOrdinal0 [0x00F094B1+2135217]\n\tBaseThreadInitThunk [0x75DFFA29+25]\n\tRtlGetAppContainerNamedObjectPath [0x77307A9E+286]\n\tRtlGetAppContainerNamedObjectPath [0x77307A6E+238]\n",
     "output_type": "error",
     "traceback": [
      "\u001b[1;31m---------------------------------------------------------------------------\u001b[0m",
      "\u001b[1;31mNoSuchElementException\u001b[0m                    Traceback (most recent call last)",
      "\u001b[1;32m<ipython-input-609-1e915bd9681a>\u001b[0m in \u001b[0;36m<module>\u001b[1;34m\u001b[0m\n\u001b[0;32m     24\u001b[0m \u001b[1;33m\u001b[0m\u001b[0m\n\u001b[0;32m     25\u001b[0m \u001b[1;33m\u001b[0m\u001b[0m\n\u001b[1;32m---> 26\u001b[1;33m     \u001b[0mdriver\u001b[0m\u001b[1;33m.\u001b[0m\u001b[0mfind_element_by_xpath\u001b[0m\u001b[1;33m(\u001b[0m\u001b[1;34m'/html/body/div[2]/div[2]/yelp-react-root/div[1]/div[4]/div/div/div[2]/div/div[1]/div[2]/section[2]/div[2]/div/div[4]/div[1]/div/div[11]/span/a'\u001b[0m\u001b[1;33m)\u001b[0m\u001b[1;33m.\u001b[0m\u001b[0mclick\u001b[0m\u001b[1;33m(\u001b[0m\u001b[1;33m)\u001b[0m\u001b[1;33m\u001b[0m\u001b[1;33m\u001b[0m\u001b[0m\n\u001b[0m\u001b[0;32m     27\u001b[0m     \u001b[0mtime\u001b[0m\u001b[1;33m.\u001b[0m\u001b[0msleep\u001b[0m\u001b[1;33m(\u001b[0m\u001b[1;36m6\u001b[0m\u001b[1;33m)\u001b[0m\u001b[1;33m\u001b[0m\u001b[1;33m\u001b[0m\u001b[0m\n",
      "\u001b[1;32m~\\anaconda3\\envs\\learn-env\\lib\\site-packages\\selenium\\webdriver\\remote\\webdriver.py\u001b[0m in \u001b[0;36mfind_element_by_xpath\u001b[1;34m(self, xpath)\u001b[0m\n\u001b[0;32m    512\u001b[0m             \u001b[0mstacklevel\u001b[0m\u001b[1;33m=\u001b[0m\u001b[1;36m2\u001b[0m\u001b[1;33m,\u001b[0m\u001b[1;33m\u001b[0m\u001b[1;33m\u001b[0m\u001b[0m\n\u001b[0;32m    513\u001b[0m         )\n\u001b[1;32m--> 514\u001b[1;33m         \u001b[1;32mreturn\u001b[0m \u001b[0mself\u001b[0m\u001b[1;33m.\u001b[0m\u001b[0mfind_element\u001b[0m\u001b[1;33m(\u001b[0m\u001b[0mby\u001b[0m\u001b[1;33m=\u001b[0m\u001b[0mBy\u001b[0m\u001b[1;33m.\u001b[0m\u001b[0mXPATH\u001b[0m\u001b[1;33m,\u001b[0m \u001b[0mvalue\u001b[0m\u001b[1;33m=\u001b[0m\u001b[0mxpath\u001b[0m\u001b[1;33m)\u001b[0m\u001b[1;33m\u001b[0m\u001b[1;33m\u001b[0m\u001b[0m\n\u001b[0m\u001b[0;32m    515\u001b[0m \u001b[1;33m\u001b[0m\u001b[0m\n\u001b[0;32m    516\u001b[0m     \u001b[1;32mdef\u001b[0m \u001b[0mfind_elements_by_xpath\u001b[0m\u001b[1;33m(\u001b[0m\u001b[0mself\u001b[0m\u001b[1;33m,\u001b[0m \u001b[0mxpath\u001b[0m\u001b[1;33m)\u001b[0m \u001b[1;33m->\u001b[0m \u001b[0mWebElement\u001b[0m\u001b[1;33m:\u001b[0m\u001b[1;33m\u001b[0m\u001b[1;33m\u001b[0m\u001b[0m\n",
      "\u001b[1;32m~\\anaconda3\\envs\\learn-env\\lib\\site-packages\\selenium\\webdriver\\remote\\webdriver.py\u001b[0m in \u001b[0;36mfind_element\u001b[1;34m(self, by, value)\u001b[0m\n\u001b[0;32m   1236\u001b[0m             \u001b[0mvalue\u001b[0m \u001b[1;33m=\u001b[0m \u001b[1;34m'[name=\"%s\"]'\u001b[0m \u001b[1;33m%\u001b[0m \u001b[0mvalue\u001b[0m\u001b[1;33m\u001b[0m\u001b[1;33m\u001b[0m\u001b[0m\n\u001b[0;32m   1237\u001b[0m \u001b[1;33m\u001b[0m\u001b[0m\n\u001b[1;32m-> 1238\u001b[1;33m         return self.execute(Command.FIND_ELEMENT, {\n\u001b[0m\u001b[0;32m   1239\u001b[0m             \u001b[1;34m'using'\u001b[0m\u001b[1;33m:\u001b[0m \u001b[0mby\u001b[0m\u001b[1;33m,\u001b[0m\u001b[1;33m\u001b[0m\u001b[1;33m\u001b[0m\u001b[0m\n\u001b[0;32m   1240\u001b[0m             'value': value})['value']\n",
      "\u001b[1;32m~\\anaconda3\\envs\\learn-env\\lib\\site-packages\\selenium\\webdriver\\remote\\webdriver.py\u001b[0m in \u001b[0;36mexecute\u001b[1;34m(self, driver_command, params)\u001b[0m\n\u001b[0;32m    416\u001b[0m         \u001b[0mresponse\u001b[0m \u001b[1;33m=\u001b[0m \u001b[0mself\u001b[0m\u001b[1;33m.\u001b[0m\u001b[0mcommand_executor\u001b[0m\u001b[1;33m.\u001b[0m\u001b[0mexecute\u001b[0m\u001b[1;33m(\u001b[0m\u001b[0mdriver_command\u001b[0m\u001b[1;33m,\u001b[0m \u001b[0mparams\u001b[0m\u001b[1;33m)\u001b[0m\u001b[1;33m\u001b[0m\u001b[1;33m\u001b[0m\u001b[0m\n\u001b[0;32m    417\u001b[0m         \u001b[1;32mif\u001b[0m \u001b[0mresponse\u001b[0m\u001b[1;33m:\u001b[0m\u001b[1;33m\u001b[0m\u001b[1;33m\u001b[0m\u001b[0m\n\u001b[1;32m--> 418\u001b[1;33m             \u001b[0mself\u001b[0m\u001b[1;33m.\u001b[0m\u001b[0merror_handler\u001b[0m\u001b[1;33m.\u001b[0m\u001b[0mcheck_response\u001b[0m\u001b[1;33m(\u001b[0m\u001b[0mresponse\u001b[0m\u001b[1;33m)\u001b[0m\u001b[1;33m\u001b[0m\u001b[1;33m\u001b[0m\u001b[0m\n\u001b[0m\u001b[0;32m    419\u001b[0m             response['value'] = self._unwrap_value(\n\u001b[0;32m    420\u001b[0m                 response.get('value', None))\n",
      "\u001b[1;32m~\\anaconda3\\envs\\learn-env\\lib\\site-packages\\selenium\\webdriver\\remote\\errorhandler.py\u001b[0m in \u001b[0;36mcheck_response\u001b[1;34m(self, response)\u001b[0m\n\u001b[0;32m    241\u001b[0m                 \u001b[0malert_text\u001b[0m \u001b[1;33m=\u001b[0m \u001b[0mvalue\u001b[0m\u001b[1;33m[\u001b[0m\u001b[1;34m'alert'\u001b[0m\u001b[1;33m]\u001b[0m\u001b[1;33m.\u001b[0m\u001b[0mget\u001b[0m\u001b[1;33m(\u001b[0m\u001b[1;34m'text'\u001b[0m\u001b[1;33m)\u001b[0m\u001b[1;33m\u001b[0m\u001b[1;33m\u001b[0m\u001b[0m\n\u001b[0;32m    242\u001b[0m             \u001b[1;32mraise\u001b[0m \u001b[0mexception_class\u001b[0m\u001b[1;33m(\u001b[0m\u001b[0mmessage\u001b[0m\u001b[1;33m,\u001b[0m \u001b[0mscreen\u001b[0m\u001b[1;33m,\u001b[0m \u001b[0mstacktrace\u001b[0m\u001b[1;33m,\u001b[0m \u001b[0malert_text\u001b[0m\u001b[1;33m)\u001b[0m  \u001b[1;31m# type: ignore[call-arg]  # mypy is not smart enough here\u001b[0m\u001b[1;33m\u001b[0m\u001b[1;33m\u001b[0m\u001b[0m\n\u001b[1;32m--> 243\u001b[1;33m         \u001b[1;32mraise\u001b[0m \u001b[0mexception_class\u001b[0m\u001b[1;33m(\u001b[0m\u001b[0mmessage\u001b[0m\u001b[1;33m,\u001b[0m \u001b[0mscreen\u001b[0m\u001b[1;33m,\u001b[0m \u001b[0mstacktrace\u001b[0m\u001b[1;33m)\u001b[0m\u001b[1;33m\u001b[0m\u001b[1;33m\u001b[0m\u001b[0m\n\u001b[0m\u001b[0;32m    244\u001b[0m \u001b[1;33m\u001b[0m\u001b[0m\n\u001b[0;32m    245\u001b[0m     \u001b[1;32mdef\u001b[0m \u001b[0m_value_or_default\u001b[0m\u001b[1;33m(\u001b[0m\u001b[0mself\u001b[0m\u001b[1;33m,\u001b[0m \u001b[0mobj\u001b[0m\u001b[1;33m:\u001b[0m \u001b[0mMapping\u001b[0m\u001b[1;33m[\u001b[0m\u001b[0m_KT\u001b[0m\u001b[1;33m,\u001b[0m \u001b[0m_VT\u001b[0m\u001b[1;33m]\u001b[0m\u001b[1;33m,\u001b[0m \u001b[0mkey\u001b[0m\u001b[1;33m:\u001b[0m \u001b[0m_KT\u001b[0m\u001b[1;33m,\u001b[0m \u001b[0mdefault\u001b[0m\u001b[1;33m:\u001b[0m \u001b[0m_VT\u001b[0m\u001b[1;33m)\u001b[0m \u001b[1;33m->\u001b[0m \u001b[0m_VT\u001b[0m\u001b[1;33m:\u001b[0m\u001b[1;33m\u001b[0m\u001b[1;33m\u001b[0m\u001b[0m\n",
      "\u001b[1;31mNoSuchElementException\u001b[0m: Message: no such element: Unable to locate element: {\"method\":\"xpath\",\"selector\":\"/html/body/div[2]/div[2]/yelp-react-root/div[1]/div[4]/div/div/div[2]/div/div[1]/div[2]/section[2]/div[2]/div/div[4]/div[1]/div/div[11]/span/a\"}\n  (Session info: chrome=94.0.4606.81)\nStacktrace:\nBacktrace:\n\tOrdinal0 [0x00F5B9D3+2472403]\n\tOrdinal0 [0x00EF6961+2058593]\n\tOrdinal0 [0x00E022B8+1057464]\n\tOrdinal0 [0x00E2C68B+1230475]\n\tOrdinal0 [0x00E565B2+1402290]\n\tOrdinal0 [0x00E455CA+1332682]\n\tOrdinal0 [0x00E5495F+1395039]\n\tOrdinal0 [0x00E4545B+1332315]\n\tOrdinal0 [0x00E21FB4+1187764]\n\tOrdinal0 [0x00E22E09+1191433]\n\tGetHandleVerifier [0x010E3396+1551078]\n\tGetHandleVerifier [0x0118D53A+2247818]\n\tGetHandleVerifier [0x00FE7FBB+521995]\n\tGetHandleVerifier [0x00FE7079+518089]\n\tOrdinal0 [0x00EFBD4D+2080077]\n\tOrdinal0 [0x00EFFC18+2096152]\n\tOrdinal0 [0x00EFFD52+2096466]\n\tOrdinal0 [0x00F094B1+2135217]\n\tBaseThreadInitThunk [0x75DFFA29+25]\n\tRtlGetAppContainerNamedObjectPath [0x77307A9E+286]\n\tRtlGetAppContainerNamedObjectPath [0x77307A6E+238]\n"
     ]
    }
   ],
   "source": [
    "driver = webdriver.Chrome(path)\n",
    "driver.get('https://www.yelp.com')\n",
    "search = driver.find_element_by_id('dropperText_Mast')\n",
    "search.send_keys('Current Location')\n",
    "time.sleep(4)\n",
    "search.send_keys(Keys.DOWN)\n",
    "restaraunt = driver.find_element_by_id('find_desc')\n",
    "restaraunt.send_keys('Rest')\n",
    "time.sleep(4)\n",
    "restaraunt.send_keys(Keys.DOWN,Keys.RETURN)\n",
    "more = driver.find_element_by_name('Bon Temps Grill')\n",
    "time.sleep(2)\n",
    "more.send_keys(Keys.RETURN)\n",
    "time.sleep(3)\n",
    "review_dict = {'name':[], 'review':[],'user': []}\n",
    "\n",
    "for x in range(0,100):   \n",
    "    soup = BeautifulSoup(driver.page_source,'html.parser')\n",
    "    review = soup.findAll('span',class_='raw__373c0__tQAx6')\n",
    "    title = soup.find('h1',class_='css-m7s7xv')\n",
    "    for y in range(len(review)-22, len(review)-6):\n",
    "        review_dict['review'].append(review[y].text)\n",
    "        review_dict['name'].append(title.text)\n",
    "\n",
    "        \n",
    "    driver.find_element_by_xpath('/html/body/div[2]/div[2]/yelp-react-root/div[1]/div[4]/div/div/div[2]/div/div[1]/div[2]/section[2]/div[2]/div/div[4]/div[1]/div/div[11]/span/a').click()\n",
    "    time.sleep(6)"
   ]
  },
  {
   "cell_type": "code",
   "execution_count": 616,
   "metadata": {},
   "outputs": [
    {
     "data": {
      "text/html": [
       "<div>\n",
       "<style scoped>\n",
       "    .dataframe tbody tr th:only-of-type {\n",
       "        vertical-align: middle;\n",
       "    }\n",
       "\n",
       "    .dataframe tbody tr th {\n",
       "        vertical-align: top;\n",
       "    }\n",
       "\n",
       "    .dataframe thead th {\n",
       "        text-align: right;\n",
       "    }\n",
       "</style>\n",
       "<table border=\"1\" class=\"dataframe\">\n",
       "  <thead>\n",
       "    <tr style=\"text-align: right;\">\n",
       "      <th></th>\n",
       "      <th>name</th>\n",
       "      <th>review</th>\n",
       "    </tr>\n",
       "  </thead>\n",
       "  <tbody>\n",
       "    <tr>\n",
       "      <th>0</th>\n",
       "      <td>Bon Temps Grill</td>\n",
       "      <td>Boyfriend and I were looking for a new brunch ...</td>\n",
       "    </tr>\n",
       "    <tr>\n",
       "      <th>1</th>\n",
       "      <td>Bon Temps Grill</td>\n",
       "      <td>Stephanie, Thank you for dining with us for Br...</td>\n",
       "    </tr>\n",
       "    <tr>\n",
       "      <th>2</th>\n",
       "      <td>Bon Temps Grill</td>\n",
       "      <td>The ratings says it all-- solid Cajun food for...</td>\n",
       "    </tr>\n",
       "    <tr>\n",
       "      <th>3</th>\n",
       "      <td>Bon Temps Grill</td>\n",
       "      <td>Wow!!! I was in the area for the first time on...</td>\n",
       "    </tr>\n",
       "    <tr>\n",
       "      <th>4</th>\n",
       "      <td>Bon Temps Grill</td>\n",
       "      <td>Thank you for choosing to dine local with us w...</td>\n",
       "    </tr>\n",
       "    <tr>\n",
       "      <th>...</th>\n",
       "      <td>...</td>\n",
       "      <td>...</td>\n",
       "    </tr>\n",
       "    <tr>\n",
       "      <th>1147</th>\n",
       "      <td>Bon Temps Grill</td>\n",
       "      <td>Excellent service, food and atmosphere! We had...</td>\n",
       "    </tr>\n",
       "    <tr>\n",
       "      <th>1148</th>\n",
       "      <td>Bon Temps Grill</td>\n",
       "      <td>Was there for dinner Thursday and can't wait t...</td>\n",
       "    </tr>\n",
       "    <tr>\n",
       "      <th>1149</th>\n",
       "      <td>Bon Temps Grill</td>\n",
       "      <td>The food was great and the service was very go...</td>\n",
       "    </tr>\n",
       "    <tr>\n",
       "      <th>1150</th>\n",
       "      <td>Bon Temps Grill</td>\n",
       "      <td>In from the ATL and have to say this place roc...</td>\n",
       "    </tr>\n",
       "    <tr>\n",
       "      <th>1151</th>\n",
       "      <td>Bon Temps Grill</td>\n",
       "      <td>Came in with a party of 6...  Could only accom...</td>\n",
       "    </tr>\n",
       "  </tbody>\n",
       "</table>\n",
       "<p>1152 rows × 2 columns</p>\n",
       "</div>"
      ],
      "text/plain": [
       "                 name                                             review\n",
       "0     Bon Temps Grill  Boyfriend and I were looking for a new brunch ...\n",
       "1     Bon Temps Grill  Stephanie, Thank you for dining with us for Br...\n",
       "2     Bon Temps Grill  The ratings says it all-- solid Cajun food for...\n",
       "3     Bon Temps Grill  Wow!!! I was in the area for the first time on...\n",
       "4     Bon Temps Grill  Thank you for choosing to dine local with us w...\n",
       "...               ...                                                ...\n",
       "1147  Bon Temps Grill  Excellent service, food and atmosphere! We had...\n",
       "1148  Bon Temps Grill  Was there for dinner Thursday and can't wait t...\n",
       "1149  Bon Temps Grill  The food was great and the service was very go...\n",
       "1150  Bon Temps Grill  In from the ATL and have to say this place roc...\n",
       "1151  Bon Temps Grill  Came in with a party of 6...  Could only accom...\n",
       "\n",
       "[1152 rows x 2 columns]"
      ]
     },
     "execution_count": 616,
     "metadata": {},
     "output_type": "execute_result"
    }
   ],
   "source": [
    "test2 = pd.DataFrame.from_dict(review_dict)\n",
    "test2\n"
   ]
  },
  {
   "cell_type": "code",
   "execution_count": 668,
   "metadata": {},
   "outputs": [],
   "source": [
    "# thanks = ['thank','appreciate']\n",
    "# test2['gone'] = ''\n",
    "# for x,val in enumerate(test2['review']):\n",
    "#     for y in val.lower().split(' '):\n",
    "#         if y in thanks:\n",
    "#             test2['gone'].iloc[x] = 'yes'\n"
   ]
  },
  {
   "cell_type": "code",
   "execution_count": null,
   "metadata": {},
   "outputs": [],
   "source": []
  },
  {
   "cell_type": "code",
   "execution_count": 662,
   "metadata": {},
   "outputs": [
    {
     "name": "stderr",
     "output_type": "stream",
     "text": [
      "C:\\Users\\mmcel\\anaconda3\\envs\\learn-env\\lib\\site-packages\\pandas\\core\\frame.py:4163: SettingWithCopyWarning: \n",
      "A value is trying to be set on a copy of a slice from a DataFrame\n",
      "\n",
      "See the caveats in the documentation: https://pandas.pydata.org/pandas-docs/stable/user_guide/indexing.html#returning-a-view-versus-a-copy\n",
      "  return super().drop(\n"
     ]
    },
    {
     "data": {
      "text/html": [
       "<div>\n",
       "<style scoped>\n",
       "    .dataframe tbody tr th:only-of-type {\n",
       "        vertical-align: middle;\n",
       "    }\n",
       "\n",
       "    .dataframe tbody tr th {\n",
       "        vertical-align: top;\n",
       "    }\n",
       "\n",
       "    .dataframe thead th {\n",
       "        text-align: right;\n",
       "    }\n",
       "</style>\n",
       "<table border=\"1\" class=\"dataframe\">\n",
       "  <thead>\n",
       "    <tr style=\"text-align: right;\">\n",
       "      <th></th>\n",
       "      <th>name</th>\n",
       "      <th>review</th>\n",
       "    </tr>\n",
       "  </thead>\n",
       "  <tbody>\n",
       "    <tr>\n",
       "      <th>0</th>\n",
       "      <td>Bon Temps Grill</td>\n",
       "      <td>Boyfriend and I were looking for a new brunch spot in town and we found this place not far from the house...TOTAL WINNER in our book. We went for Sunday brunch. Got bottomless mimosas and were surprised by complementary garlic bread. Ordered the cheese toast with pepper jelly as an appetizer and WOW can't believe they made something so simple taste so good! We had the grits and grillades and crab cake bennies; both were delightful. Live music was a plus, but we were sat right next to the stage so it was pretty loud. Can't wait to go back!</td>\n",
       "    </tr>\n",
       "    <tr>\n",
       "      <th>2</th>\n",
       "      <td>Bon Temps Grill</td>\n",
       "      <td>The ratings says it all-- solid Cajun food for a great price point. We got our dinner togo and it was still fresh when we ate it at home. The crawfish étouffe was spot on with flavors. We're no Cajun experts by any means but it was delicious. Good amount of crawfish and just the right amount of spice. For side, get the jalapeño cheese grits. You will not be disappointed!! I got the fried catfish mon dieu and the catfish was crispy even when I got home to eat it. Good fish fry. My toddler got the fish fingers and ate almost all of it! Definitely check it out!</td>\n",
       "    </tr>\n",
       "    <tr>\n",
       "      <th>3</th>\n",
       "      <td>Bon Temps Grill</td>\n",
       "      <td>Wow!!! I was in the area for the first time on business, so I went by Bon Temps Grill for a late dinner.  Since it was late, I decided to go with a highly recommended Cobb Salad instead of a heavier Cajun dish.Absolute decadence!  It comes with seasoned shrimp, but you can add lump crab meat.   I did that.  One thing I glossed over when reading the description was the bacon.  It's a Cobb salad so I figured it would be nicely chopped bacon at best.  Nope.  I can't even describe the sorcery required to make  \"bacon\" this flavorful and visually impressive. Needless to say - best Cobb salad ever!!!!</td>\n",
       "    </tr>\n",
       "    <tr>\n",
       "      <th>5</th>\n",
       "      <td>Bon Temps Grill</td>\n",
       "      <td>If you're in Lafayette area, this is a must! I went in on a Tuesday night, usually a B team staff in the kitchen and front of the house. The kitchen staff was on it this night! Ordered the corn &amp; crab bisque as an app. The wait staff this night, a very young, seeming new wait staffer. Theres complementary bread offered to other tables, that I had to ask for. The wine menu is decent, so ordered a glass. Water glass would sit empty while server passed table a few times. The bisque was delivered by a manager I'm guessing, not my server. Before I could ask for anything she was flipped and away.  The saving grace here was the kitchen. The bisque was out of the park, and for an  entree I ordered another appetizer, the shrimp and grits...oh hell yeah! This was amazing.  Again, I got the feeling my server was new-ish to the job, and with everyone looking for help, I know it's tough to find staff. So not a mood killer by any means. Highly recommended</td>\n",
       "    </tr>\n",
       "    <tr>\n",
       "      <th>6</th>\n",
       "      <td>Bon Temps Grill</td>\n",
       "      <td>Excellent food! We immensely enjoyed  the crawfish and  grilled fish dinners we had... Appetizers were delicious. Service was exceptional as well. . You can't go wrong with Bon Temps.</td>\n",
       "    </tr>\n",
       "    <tr>\n",
       "      <th>...</th>\n",
       "      <td>...</td>\n",
       "      <td>...</td>\n",
       "    </tr>\n",
       "    <tr>\n",
       "      <th>1147</th>\n",
       "      <td>Bon Temps Grill</td>\n",
       "      <td>Excellent service, food and atmosphere! We had the Crawfish Potpie and the Snapper, and recommend both! The Jalapeño Grits with cheese was also very good.</td>\n",
       "    </tr>\n",
       "    <tr>\n",
       "      <th>1148</th>\n",
       "      <td>Bon Temps Grill</td>\n",
       "      <td>Was there for dinner Thursday and can't wait to go back. We had crab cakes, shrimp and grits and frog leg appetizers. We couldn't get pass the appetizers since we ordered so many but it was so good. The crab cakes and shrimp and grits were absolutely incredible. Next time I'm back in town I will be there again.</td>\n",
       "    </tr>\n",
       "    <tr>\n",
       "      <th>1149</th>\n",
       "      <td>Bon Temps Grill</td>\n",
       "      <td>The food was great and the service was very good. The mashed sweet potatoes with sage were amazing. Would CE back again</td>\n",
       "    </tr>\n",
       "    <tr>\n",
       "      <th>1150</th>\n",
       "      <td>Bon Temps Grill</td>\n",
       "      <td>In from the ATL and have to say this place rocks. Great food and a lot of things you aren't going to to find outside of Louisiana. Certainly will be back when in town again b</td>\n",
       "    </tr>\n",
       "    <tr>\n",
       "      <th>1151</th>\n",
       "      <td>Bon Temps Grill</td>\n",
       "      <td>Came in with a party of 6...  Could only accommodate us at bar table because of the way the tables were seated on the floor (there were only 3 seated but were staggered so that tables could not be put together for a larger party). Bartender waited on us which resulted in poor service because he was busy serving drinks &amp; waiting on customers at the counter.  Ordered steak medium rare, it was served seared &amp; cold in the middle.  Ended up asking the hostess for ketchup, dressing, etc.  Suggestion: if you seat a larger party at a bar table, assign a server, not the bartender who was very nice &amp; tried but was far too busy.  Terrible experience.</td>\n",
       "    </tr>\n",
       "  </tbody>\n",
       "</table>\n",
       "<p>836 rows × 2 columns</p>\n",
       "</div>"
      ],
      "text/plain": [
       "                 name  \\\n",
       "0     Bon Temps Grill   \n",
       "2     Bon Temps Grill   \n",
       "3     Bon Temps Grill   \n",
       "5     Bon Temps Grill   \n",
       "6     Bon Temps Grill   \n",
       "...               ...   \n",
       "1147  Bon Temps Grill   \n",
       "1148  Bon Temps Grill   \n",
       "1149  Bon Temps Grill   \n",
       "1150  Bon Temps Grill   \n",
       "1151  Bon Temps Grill   \n",
       "\n",
       "                                                                                                                                                                                                                                                                                                                                                                                                                                                                                                                                                                                                                                                                                                                                                                                                                                                                                                                                                                                           review  \n",
       "0                                                                                                                                                                                                                                                                                                                                                                                                                                Boyfriend and I were looking for a new brunch spot in town and we found this place not far from the house...TOTAL WINNER in our book. We went for Sunday brunch. Got bottomless mimosas and were surprised by complementary garlic bread. Ordered the cheese toast with pepper jelly as an appetizer and WOW can't believe they made something so simple taste so good! We had the grits and grillades and crab cake bennies; both were delightful. Live music was a plus, but we were sat right next to the stage so it was pretty loud. Can't wait to go back!  \n",
       "2                                                                                                                                                                                                                                                                                                                                                                                                            The ratings says it all-- solid Cajun food for a great price point. We got our dinner togo and it was still fresh when we ate it at home. The crawfish étouffe was spot on with flavors. We're no Cajun experts by any means but it was delicious. Good amount of crawfish and just the right amount of spice. For side, get the jalapeño cheese grits. You will not be disappointed!! I got the fried catfish mon dieu and the catfish was crispy even when I got home to eat it. Good fish fry. My toddler got the fish fingers and ate almost all of it! Definitely check it out!  \n",
       "3                                                                                                                                                                                                                                                                                                                                                                      Wow!!! I was in the area for the first time on business, so I went by Bon Temps Grill for a late dinner.  Since it was late, I decided to go with a highly recommended Cobb Salad instead of a heavier Cajun dish.Absolute decadence!  It comes with seasoned shrimp, but you can add lump crab meat.   I did that.  One thing I glossed over when reading the description was the bacon.  It's a Cobb salad so I figured it would be nicely chopped bacon at best.  Nope.  I can't even describe the sorcery required to make  \"bacon\" this flavorful and visually impressive. Needless to say - best Cobb salad ever!!!!  \n",
       "5     If you're in Lafayette area, this is a must! I went in on a Tuesday night, usually a B team staff in the kitchen and front of the house. The kitchen staff was on it this night! Ordered the corn & crab bisque as an app. The wait staff this night, a very young, seeming new wait staffer. Theres complementary bread offered to other tables, that I had to ask for. The wine menu is decent, so ordered a glass. Water glass would sit empty while server passed table a few times. The bisque was delivered by a manager I'm guessing, not my server. Before I could ask for anything she was flipped and away.  The saving grace here was the kitchen. The bisque was out of the park, and for an  entree I ordered another appetizer, the shrimp and grits...oh hell yeah! This was amazing.  Again, I got the feeling my server was new-ish to the job, and with everyone looking for help, I know it's tough to find staff. So not a mood killer by any means. Highly recommended  \n",
       "6                                                                                                                                                                                                                                                                                                                                                                                                                                                                                                                                                                                                                                                                                                                                                                                                         Excellent food! We immensely enjoyed  the crawfish and  grilled fish dinners we had... Appetizers were delicious. Service was exceptional as well. . You can't go wrong with Bon Temps.  \n",
       "...                                                                                                                                                                                                                                                                                                                                                                                                                                                                                                                                                                                                                                                                                                                                                                                                                                                                                                                                                                                           ...  \n",
       "1147                                                                                                                                                                                                                                                                                                                                                                                                                                                                                                                                                                                                                                                                                                                                                                                                                                   Excellent service, food and atmosphere! We had the Crawfish Potpie and the Snapper, and recommend both! The Jalapeño Grits with cheese was also very good.  \n",
       "1148                                                                                                                                                                                                                                                                                                                                                                                                                                                                                                                                                                                                                                                                     Was there for dinner Thursday and can't wait to go back. We had crab cakes, shrimp and grits and frog leg appetizers. We couldn't get pass the appetizers since we ordered so many but it was so good. The crab cakes and shrimp and grits were absolutely incredible. Next time I'm back in town I will be there again.  \n",
       "1149                                                                                                                                                                                                                                                                                                                                                                                                                                                                                                                                                                                                                                                                                                                                                                                                                                                                      The food was great and the service was very good. The mashed sweet potatoes with sage were amazing. Would CE back again  \n",
       "1150                                                                                                                                                                                                                                                                                                                                                                                                                                                                                                                                                                                                                                                                                                                                                                                                               In from the ATL and have to say this place rocks. Great food and a lot of things you aren't going to to find outside of Louisiana. Certainly will be back when in town again b  \n",
       "1151                                                                                                                                                                                                                                                                                                                      Came in with a party of 6...  Could only accommodate us at bar table because of the way the tables were seated on the floor (there were only 3 seated but were staggered so that tables could not be put together for a larger party). Bartender waited on us which resulted in poor service because he was busy serving drinks & waiting on customers at the counter.  Ordered steak medium rare, it was served seared & cold in the middle.  Ended up asking the hostess for ketchup, dressing, etc.  Suggestion: if you seat a larger party at a bar table, assign a server, not the bartender who was very nice & tried but was far too busy.  Terrible experience.  \n",
       "\n",
       "[836 rows x 2 columns]"
      ]
     },
     "execution_count": 662,
     "metadata": {},
     "output_type": "execute_result"
    }
   ],
   "source": [
    "test2 = test2[test2.gone != 'yes']\n",
    "test2.drop('gone',axis=1,inplace=True)\n",
    "test2\n"
   ]
  },
  {
   "cell_type": "code",
   "execution_count": null,
   "metadata": {},
   "outputs": [],
   "source": [
    "\n",
    "    "
   ]
  },
  {
   "cell_type": "code",
   "execution_count": 665,
   "metadata": {},
   "outputs": [],
   "source": [
    "picklefile = open('Broaddus_df', 'wb')\n"
   ]
  },
  {
   "cell_type": "code",
   "execution_count": 666,
   "metadata": {},
   "outputs": [],
   "source": [
    "pickle.dump(Broaddus_df, picklefile)"
   ]
  },
  {
   "cell_type": "code",
   "execution_count": 667,
   "metadata": {},
   "outputs": [],
   "source": [
    "picklefile.close()"
   ]
  },
  {
   "cell_type": "code",
   "execution_count": 687,
   "metadata": {},
   "outputs": [
    {
     "name": "stderr",
     "output_type": "stream",
     "text": [
      "<ipython-input-687-17c4a793c788>:1: DeprecationWarning: executable_path has been deprecated, please pass in a Service object\n",
      "  driver = webdriver.Chrome(path)\n",
      "<ipython-input-687-17c4a793c788>:3: DeprecationWarning: find_element_by_* commands are deprecated. Please use find_element() instead\n",
      "  search = driver.find_element_by_id('dropperText_Mast')\n",
      "<ipython-input-687-17c4a793c788>:7: DeprecationWarning: find_element_by_* commands are deprecated. Please use find_element() instead\n",
      "  restaraunt = driver.find_element_by_id('find_desc')\n",
      "<ipython-input-687-17c4a793c788>:11: DeprecationWarning: find_element_by_* commands are deprecated. Please use find_element() instead\n",
      "  more = driver.find_element_by_name('Social Southern Table & Bar')\n",
      "<ipython-input-687-17c4a793c788>:26: DeprecationWarning: find_element_by_* commands are deprecated. Please use find_element() instead\n",
      "  driver.find_element_by_xpath('/html/body/div[2]/div[2]/yelp-react-root/div[1]/div[4]/div/div/div[2]/div/div[1]/div[2]/section[2]/div[2]/div/div[4]/div[1]/div/div[11]/span/a').click()\n"
     ]
    },
    {
     "ename": "NoSuchElementException",
     "evalue": "Message: no such element: Unable to locate element: {\"method\":\"xpath\",\"selector\":\"/html/body/div[2]/div[2]/yelp-react-root/div[1]/div[4]/div/div/div[2]/div/div[1]/div[2]/section[2]/div[2]/div/div[4]/div[1]/div/div[11]/span/a\"}\n  (Session info: chrome=94.0.4606.81)\nStacktrace:\nBacktrace:\n\tOrdinal0 [0x00F5B9D3+2472403]\n\tOrdinal0 [0x00EF6961+2058593]\n\tOrdinal0 [0x00E022B8+1057464]\n\tOrdinal0 [0x00E2C68B+1230475]\n\tOrdinal0 [0x00E565B2+1402290]\n\tOrdinal0 [0x00E455CA+1332682]\n\tOrdinal0 [0x00E5495F+1395039]\n\tOrdinal0 [0x00E4545B+1332315]\n\tOrdinal0 [0x00E21FB4+1187764]\n\tOrdinal0 [0x00E22E09+1191433]\n\tGetHandleVerifier [0x010E3396+1551078]\n\tGetHandleVerifier [0x0118D53A+2247818]\n\tGetHandleVerifier [0x00FE7FBB+521995]\n\tGetHandleVerifier [0x00FE7079+518089]\n\tOrdinal0 [0x00EFBD4D+2080077]\n\tOrdinal0 [0x00EFFC18+2096152]\n\tOrdinal0 [0x00EFFD52+2096466]\n\tOrdinal0 [0x00F094B1+2135217]\n\tBaseThreadInitThunk [0x75DFFA29+25]\n\tRtlGetAppContainerNamedObjectPath [0x77307A9E+286]\n\tRtlGetAppContainerNamedObjectPath [0x77307A6E+238]\n",
     "output_type": "error",
     "traceback": [
      "\u001b[1;31m---------------------------------------------------------------------------\u001b[0m",
      "\u001b[1;31mNoSuchElementException\u001b[0m                    Traceback (most recent call last)",
      "\u001b[1;32m<ipython-input-687-17c4a793c788>\u001b[0m in \u001b[0;36m<module>\u001b[1;34m\u001b[0m\n\u001b[0;32m     24\u001b[0m \u001b[1;33m\u001b[0m\u001b[0m\n\u001b[0;32m     25\u001b[0m \u001b[1;33m\u001b[0m\u001b[0m\n\u001b[1;32m---> 26\u001b[1;33m     \u001b[0mdriver\u001b[0m\u001b[1;33m.\u001b[0m\u001b[0mfind_element_by_xpath\u001b[0m\u001b[1;33m(\u001b[0m\u001b[1;34m'/html/body/div[2]/div[2]/yelp-react-root/div[1]/div[4]/div/div/div[2]/div/div[1]/div[2]/section[2]/div[2]/div/div[4]/div[1]/div/div[11]/span/a'\u001b[0m\u001b[1;33m)\u001b[0m\u001b[1;33m.\u001b[0m\u001b[0mclick\u001b[0m\u001b[1;33m(\u001b[0m\u001b[1;33m)\u001b[0m\u001b[1;33m\u001b[0m\u001b[1;33m\u001b[0m\u001b[0m\n\u001b[0m\u001b[0;32m     27\u001b[0m     \u001b[0mtime\u001b[0m\u001b[1;33m.\u001b[0m\u001b[0msleep\u001b[0m\u001b[1;33m(\u001b[0m\u001b[1;36m6\u001b[0m\u001b[1;33m)\u001b[0m\u001b[1;33m\u001b[0m\u001b[1;33m\u001b[0m\u001b[0m\n",
      "\u001b[1;32m~\\anaconda3\\envs\\learn-env\\lib\\site-packages\\selenium\\webdriver\\remote\\webdriver.py\u001b[0m in \u001b[0;36mfind_element_by_xpath\u001b[1;34m(self, xpath)\u001b[0m\n\u001b[0;32m    512\u001b[0m             \u001b[0mstacklevel\u001b[0m\u001b[1;33m=\u001b[0m\u001b[1;36m2\u001b[0m\u001b[1;33m,\u001b[0m\u001b[1;33m\u001b[0m\u001b[1;33m\u001b[0m\u001b[0m\n\u001b[0;32m    513\u001b[0m         )\n\u001b[1;32m--> 514\u001b[1;33m         \u001b[1;32mreturn\u001b[0m \u001b[0mself\u001b[0m\u001b[1;33m.\u001b[0m\u001b[0mfind_element\u001b[0m\u001b[1;33m(\u001b[0m\u001b[0mby\u001b[0m\u001b[1;33m=\u001b[0m\u001b[0mBy\u001b[0m\u001b[1;33m.\u001b[0m\u001b[0mXPATH\u001b[0m\u001b[1;33m,\u001b[0m \u001b[0mvalue\u001b[0m\u001b[1;33m=\u001b[0m\u001b[0mxpath\u001b[0m\u001b[1;33m)\u001b[0m\u001b[1;33m\u001b[0m\u001b[1;33m\u001b[0m\u001b[0m\n\u001b[0m\u001b[0;32m    515\u001b[0m \u001b[1;33m\u001b[0m\u001b[0m\n\u001b[0;32m    516\u001b[0m     \u001b[1;32mdef\u001b[0m \u001b[0mfind_elements_by_xpath\u001b[0m\u001b[1;33m(\u001b[0m\u001b[0mself\u001b[0m\u001b[1;33m,\u001b[0m \u001b[0mxpath\u001b[0m\u001b[1;33m)\u001b[0m \u001b[1;33m->\u001b[0m \u001b[0mWebElement\u001b[0m\u001b[1;33m:\u001b[0m\u001b[1;33m\u001b[0m\u001b[1;33m\u001b[0m\u001b[0m\n",
      "\u001b[1;32m~\\anaconda3\\envs\\learn-env\\lib\\site-packages\\selenium\\webdriver\\remote\\webdriver.py\u001b[0m in \u001b[0;36mfind_element\u001b[1;34m(self, by, value)\u001b[0m\n\u001b[0;32m   1236\u001b[0m             \u001b[0mvalue\u001b[0m \u001b[1;33m=\u001b[0m \u001b[1;34m'[name=\"%s\"]'\u001b[0m \u001b[1;33m%\u001b[0m \u001b[0mvalue\u001b[0m\u001b[1;33m\u001b[0m\u001b[1;33m\u001b[0m\u001b[0m\n\u001b[0;32m   1237\u001b[0m \u001b[1;33m\u001b[0m\u001b[0m\n\u001b[1;32m-> 1238\u001b[1;33m         return self.execute(Command.FIND_ELEMENT, {\n\u001b[0m\u001b[0;32m   1239\u001b[0m             \u001b[1;34m'using'\u001b[0m\u001b[1;33m:\u001b[0m \u001b[0mby\u001b[0m\u001b[1;33m,\u001b[0m\u001b[1;33m\u001b[0m\u001b[1;33m\u001b[0m\u001b[0m\n\u001b[0;32m   1240\u001b[0m             'value': value})['value']\n",
      "\u001b[1;32m~\\anaconda3\\envs\\learn-env\\lib\\site-packages\\selenium\\webdriver\\remote\\webdriver.py\u001b[0m in \u001b[0;36mexecute\u001b[1;34m(self, driver_command, params)\u001b[0m\n\u001b[0;32m    416\u001b[0m         \u001b[0mresponse\u001b[0m \u001b[1;33m=\u001b[0m \u001b[0mself\u001b[0m\u001b[1;33m.\u001b[0m\u001b[0mcommand_executor\u001b[0m\u001b[1;33m.\u001b[0m\u001b[0mexecute\u001b[0m\u001b[1;33m(\u001b[0m\u001b[0mdriver_command\u001b[0m\u001b[1;33m,\u001b[0m \u001b[0mparams\u001b[0m\u001b[1;33m)\u001b[0m\u001b[1;33m\u001b[0m\u001b[1;33m\u001b[0m\u001b[0m\n\u001b[0;32m    417\u001b[0m         \u001b[1;32mif\u001b[0m \u001b[0mresponse\u001b[0m\u001b[1;33m:\u001b[0m\u001b[1;33m\u001b[0m\u001b[1;33m\u001b[0m\u001b[0m\n\u001b[1;32m--> 418\u001b[1;33m             \u001b[0mself\u001b[0m\u001b[1;33m.\u001b[0m\u001b[0merror_handler\u001b[0m\u001b[1;33m.\u001b[0m\u001b[0mcheck_response\u001b[0m\u001b[1;33m(\u001b[0m\u001b[0mresponse\u001b[0m\u001b[1;33m)\u001b[0m\u001b[1;33m\u001b[0m\u001b[1;33m\u001b[0m\u001b[0m\n\u001b[0m\u001b[0;32m    419\u001b[0m             response['value'] = self._unwrap_value(\n\u001b[0;32m    420\u001b[0m                 response.get('value', None))\n",
      "\u001b[1;32m~\\anaconda3\\envs\\learn-env\\lib\\site-packages\\selenium\\webdriver\\remote\\errorhandler.py\u001b[0m in \u001b[0;36mcheck_response\u001b[1;34m(self, response)\u001b[0m\n\u001b[0;32m    241\u001b[0m                 \u001b[0malert_text\u001b[0m \u001b[1;33m=\u001b[0m \u001b[0mvalue\u001b[0m\u001b[1;33m[\u001b[0m\u001b[1;34m'alert'\u001b[0m\u001b[1;33m]\u001b[0m\u001b[1;33m.\u001b[0m\u001b[0mget\u001b[0m\u001b[1;33m(\u001b[0m\u001b[1;34m'text'\u001b[0m\u001b[1;33m)\u001b[0m\u001b[1;33m\u001b[0m\u001b[1;33m\u001b[0m\u001b[0m\n\u001b[0;32m    242\u001b[0m             \u001b[1;32mraise\u001b[0m \u001b[0mexception_class\u001b[0m\u001b[1;33m(\u001b[0m\u001b[0mmessage\u001b[0m\u001b[1;33m,\u001b[0m \u001b[0mscreen\u001b[0m\u001b[1;33m,\u001b[0m \u001b[0mstacktrace\u001b[0m\u001b[1;33m,\u001b[0m \u001b[0malert_text\u001b[0m\u001b[1;33m)\u001b[0m  \u001b[1;31m# type: ignore[call-arg]  # mypy is not smart enough here\u001b[0m\u001b[1;33m\u001b[0m\u001b[1;33m\u001b[0m\u001b[0m\n\u001b[1;32m--> 243\u001b[1;33m         \u001b[1;32mraise\u001b[0m \u001b[0mexception_class\u001b[0m\u001b[1;33m(\u001b[0m\u001b[0mmessage\u001b[0m\u001b[1;33m,\u001b[0m \u001b[0mscreen\u001b[0m\u001b[1;33m,\u001b[0m \u001b[0mstacktrace\u001b[0m\u001b[1;33m)\u001b[0m\u001b[1;33m\u001b[0m\u001b[1;33m\u001b[0m\u001b[0m\n\u001b[0m\u001b[0;32m    244\u001b[0m \u001b[1;33m\u001b[0m\u001b[0m\n\u001b[0;32m    245\u001b[0m     \u001b[1;32mdef\u001b[0m \u001b[0m_value_or_default\u001b[0m\u001b[1;33m(\u001b[0m\u001b[0mself\u001b[0m\u001b[1;33m,\u001b[0m \u001b[0mobj\u001b[0m\u001b[1;33m:\u001b[0m \u001b[0mMapping\u001b[0m\u001b[1;33m[\u001b[0m\u001b[0m_KT\u001b[0m\u001b[1;33m,\u001b[0m \u001b[0m_VT\u001b[0m\u001b[1;33m]\u001b[0m\u001b[1;33m,\u001b[0m \u001b[0mkey\u001b[0m\u001b[1;33m:\u001b[0m \u001b[0m_KT\u001b[0m\u001b[1;33m,\u001b[0m \u001b[0mdefault\u001b[0m\u001b[1;33m:\u001b[0m \u001b[0m_VT\u001b[0m\u001b[1;33m)\u001b[0m \u001b[1;33m->\u001b[0m \u001b[0m_VT\u001b[0m\u001b[1;33m:\u001b[0m\u001b[1;33m\u001b[0m\u001b[1;33m\u001b[0m\u001b[0m\n",
      "\u001b[1;31mNoSuchElementException\u001b[0m: Message: no such element: Unable to locate element: {\"method\":\"xpath\",\"selector\":\"/html/body/div[2]/div[2]/yelp-react-root/div[1]/div[4]/div/div/div[2]/div/div[1]/div[2]/section[2]/div[2]/div/div[4]/div[1]/div/div[11]/span/a\"}\n  (Session info: chrome=94.0.4606.81)\nStacktrace:\nBacktrace:\n\tOrdinal0 [0x00F5B9D3+2472403]\n\tOrdinal0 [0x00EF6961+2058593]\n\tOrdinal0 [0x00E022B8+1057464]\n\tOrdinal0 [0x00E2C68B+1230475]\n\tOrdinal0 [0x00E565B2+1402290]\n\tOrdinal0 [0x00E455CA+1332682]\n\tOrdinal0 [0x00E5495F+1395039]\n\tOrdinal0 [0x00E4545B+1332315]\n\tOrdinal0 [0x00E21FB4+1187764]\n\tOrdinal0 [0x00E22E09+1191433]\n\tGetHandleVerifier [0x010E3396+1551078]\n\tGetHandleVerifier [0x0118D53A+2247818]\n\tGetHandleVerifier [0x00FE7FBB+521995]\n\tGetHandleVerifier [0x00FE7079+518089]\n\tOrdinal0 [0x00EFBD4D+2080077]\n\tOrdinal0 [0x00EFFC18+2096152]\n\tOrdinal0 [0x00EFFD52+2096466]\n\tOrdinal0 [0x00F094B1+2135217]\n\tBaseThreadInitThunk [0x75DFFA29+25]\n\tRtlGetAppContainerNamedObjectPath [0x77307A9E+286]\n\tRtlGetAppContainerNamedObjectPath [0x77307A6E+238]\n"
     ]
    }
   ],
   "source": [
    "driver = webdriver.Chrome(path)\n",
    "driver.get('https://www.yelp.com')\n",
    "search = driver.find_element_by_id('dropperText_Mast')\n",
    "search.send_keys('Current Location')\n",
    "time.sleep(4)\n",
    "search.send_keys(Keys.DOWN)\n",
    "restaraunt = driver.find_element_by_id('find_desc')\n",
    "restaraunt.send_keys('Restau')\n",
    "time.sleep(4)\n",
    "restaraunt.send_keys(Keys.DOWN,Keys.RETURN)\n",
    "more = driver.find_element_by_name('Social Southern Table & Bar')\n",
    "time.sleep(2)\n",
    "more.send_keys(Keys.RETURN)\n",
    "time.sleep(3)\n",
    "social_dict = {'name':[], 'review':[]}\n",
    "\n",
    "for x in range(0,50):   \n",
    "    soup = BeautifulSoup(driver.page_source,'html.parser')\n",
    "    review = soup.findAll('span',class_='raw__373c0__tQAx6')\n",
    "    title = soup.find('h1',class_='css-m7s7xv')\n",
    "    for y in range(len(review)-14, len(review)-2):\n",
    "        social_dict['review'].append(review[y].text)\n",
    "        social_dict['name'].append(title.text)\n",
    "\n",
    "        \n",
    "    driver.find_element_by_xpath('/html/body/div[2]/div[2]/yelp-react-root/div[1]/div[4]/div/div/div[2]/div/div[1]/div[2]/section[2]/div[2]/div/div[4]/div[1]/div/div[11]/span/a').click()\n",
    "    time.sleep(6)"
   ]
  },
  {
   "cell_type": "code",
   "execution_count": 698,
   "metadata": {},
   "outputs": [],
   "source": [
    "social_df = pd.DataFrame.from_dict(social_dict)\n",
    "social_df['gone'] = ''\n",
    "for num,val in enumerate(social_df['review']):\n",
    "    if val == 'Start your review of Social Southern Table & Bar.':\n",
    "        social_df['gone'].iloc[num] = 'yes'"
   ]
  },
  {
   "cell_type": "code",
   "execution_count": 700,
   "metadata": {},
   "outputs": [],
   "source": [
    "social_df = social_df[social_df.gone != 'yes']"
   ]
  },
  {
   "cell_type": "code",
   "execution_count": 705,
   "metadata": {},
   "outputs": [
    {
     "name": "stderr",
     "output_type": "stream",
     "text": [
      "<ipython-input-705-6a4b7a336166>:4: SettingWithCopyWarning: \n",
      "A value is trying to be set on a copy of a slice from a DataFrame\n",
      "\n",
      "See the caveats in the documentation: https://pandas.pydata.org/pandas-docs/stable/user_guide/indexing.html#returning-a-view-versus-a-copy\n",
      "  social_df['gone'].iloc[num] = 'yes'\n"
     ]
    }
   ],
   "source": [
    "for num,val in enumerate(social_df['review']):\n",
    "     for y in val.lower().split(' '):\n",
    "        if y in thanks:\n",
    "             social_df['gone'].iloc[num] = 'yes'\n",
    "    "
   ]
  },
  {
   "cell_type": "code",
   "execution_count": 710,
   "metadata": {},
   "outputs": [],
   "source": [
    "social_df = social_df[social_df['gone'] != 'yes']\n"
   ]
  },
  {
   "cell_type": "code",
   "execution_count": 752,
   "metadata": {},
   "outputs": [],
   "source": [
    "# Pickle the DF to load in another notebook\n",
    "social_pickle = open('social_df', 'wb')\n",
    "pickle.dump(social_df, social_pickle)\n",
    "picklefile.close()"
   ]
  },
  {
   "cell_type": "code",
   "execution_count": 718,
   "metadata": {},
   "outputs": [
    {
     "name": "stderr",
     "output_type": "stream",
     "text": [
      "<ipython-input-718-4fa880cc9196>:1: DeprecationWarning: executable_path has been deprecated, please pass in a Service object\n",
      "  driver = webdriver.Chrome(path)\n",
      "<ipython-input-718-4fa880cc9196>:3: DeprecationWarning: find_element_by_* commands are deprecated. Please use find_element() instead\n",
      "  search = driver.find_element_by_id('dropperText_Mast')\n",
      "<ipython-input-718-4fa880cc9196>:7: DeprecationWarning: find_element_by_* commands are deprecated. Please use find_element() instead\n",
      "  restaraunt = driver.find_element_by_id('find_desc')\n",
      "<ipython-input-718-4fa880cc9196>:11: DeprecationWarning: find_element_by_* commands are deprecated. Please use find_element() instead\n",
      "  more = driver.find_element_by_name('Ruffino’s On The River')\n",
      "<ipython-input-718-4fa880cc9196>:26: DeprecationWarning: find_element_by_* commands are deprecated. Please use find_element() instead\n",
      "  driver.find_element_by_xpath('/html/body/div[2]/div[2]/yelp-react-root/div[1]/div[4]/div/div/div[2]/div/div[1]/div[2]/section[2]/div[2]/div/div[4]/div[1]/div/div[11]/span/a').click()\n"
     ]
    },
    {
     "ename": "NoSuchElementException",
     "evalue": "Message: no such element: Unable to locate element: {\"method\":\"xpath\",\"selector\":\"/html/body/div[2]/div[2]/yelp-react-root/div[1]/div[4]/div/div/div[2]/div/div[1]/div[2]/section[2]/div[2]/div/div[4]/div[1]/div/div[11]/span/a\"}\n  (Session info: chrome=94.0.4606.81)\nStacktrace:\nBacktrace:\n\tOrdinal0 [0x00F5B9D3+2472403]\n\tOrdinal0 [0x00EF6961+2058593]\n\tOrdinal0 [0x00E022B8+1057464]\n\tOrdinal0 [0x00E2C68B+1230475]\n\tOrdinal0 [0x00E565B2+1402290]\n\tOrdinal0 [0x00E455CA+1332682]\n\tOrdinal0 [0x00E5495F+1395039]\n\tOrdinal0 [0x00E4545B+1332315]\n\tOrdinal0 [0x00E21FB4+1187764]\n\tOrdinal0 [0x00E22E09+1191433]\n\tGetHandleVerifier [0x010E3396+1551078]\n\tGetHandleVerifier [0x0118D53A+2247818]\n\tGetHandleVerifier [0x00FE7FBB+521995]\n\tGetHandleVerifier [0x00FE7079+518089]\n\tOrdinal0 [0x00EFBD4D+2080077]\n\tOrdinal0 [0x00EFFC18+2096152]\n\tOrdinal0 [0x00EFFD52+2096466]\n\tOrdinal0 [0x00F094B1+2135217]\n\tBaseThreadInitThunk [0x75DFFA29+25]\n\tRtlGetAppContainerNamedObjectPath [0x77307A9E+286]\n\tRtlGetAppContainerNamedObjectPath [0x77307A6E+238]\n",
     "output_type": "error",
     "traceback": [
      "\u001b[1;31m---------------------------------------------------------------------------\u001b[0m",
      "\u001b[1;31mNoSuchElementException\u001b[0m                    Traceback (most recent call last)",
      "\u001b[1;32m<ipython-input-718-4fa880cc9196>\u001b[0m in \u001b[0;36m<module>\u001b[1;34m\u001b[0m\n\u001b[0;32m     24\u001b[0m \u001b[1;33m\u001b[0m\u001b[0m\n\u001b[0;32m     25\u001b[0m \u001b[1;33m\u001b[0m\u001b[0m\n\u001b[1;32m---> 26\u001b[1;33m     \u001b[0mdriver\u001b[0m\u001b[1;33m.\u001b[0m\u001b[0mfind_element_by_xpath\u001b[0m\u001b[1;33m(\u001b[0m\u001b[1;34m'/html/body/div[2]/div[2]/yelp-react-root/div[1]/div[4]/div/div/div[2]/div/div[1]/div[2]/section[2]/div[2]/div/div[4]/div[1]/div/div[11]/span/a'\u001b[0m\u001b[1;33m)\u001b[0m\u001b[1;33m.\u001b[0m\u001b[0mclick\u001b[0m\u001b[1;33m(\u001b[0m\u001b[1;33m)\u001b[0m\u001b[1;33m\u001b[0m\u001b[1;33m\u001b[0m\u001b[0m\n\u001b[0m\u001b[0;32m     27\u001b[0m     \u001b[0mtime\u001b[0m\u001b[1;33m.\u001b[0m\u001b[0msleep\u001b[0m\u001b[1;33m(\u001b[0m\u001b[1;36m6\u001b[0m\u001b[1;33m)\u001b[0m\u001b[1;33m\u001b[0m\u001b[1;33m\u001b[0m\u001b[0m\n",
      "\u001b[1;32m~\\anaconda3\\envs\\learn-env\\lib\\site-packages\\selenium\\webdriver\\remote\\webdriver.py\u001b[0m in \u001b[0;36mfind_element_by_xpath\u001b[1;34m(self, xpath)\u001b[0m\n\u001b[0;32m    512\u001b[0m             \u001b[0mstacklevel\u001b[0m\u001b[1;33m=\u001b[0m\u001b[1;36m2\u001b[0m\u001b[1;33m,\u001b[0m\u001b[1;33m\u001b[0m\u001b[1;33m\u001b[0m\u001b[0m\n\u001b[0;32m    513\u001b[0m         )\n\u001b[1;32m--> 514\u001b[1;33m         \u001b[1;32mreturn\u001b[0m \u001b[0mself\u001b[0m\u001b[1;33m.\u001b[0m\u001b[0mfind_element\u001b[0m\u001b[1;33m(\u001b[0m\u001b[0mby\u001b[0m\u001b[1;33m=\u001b[0m\u001b[0mBy\u001b[0m\u001b[1;33m.\u001b[0m\u001b[0mXPATH\u001b[0m\u001b[1;33m,\u001b[0m \u001b[0mvalue\u001b[0m\u001b[1;33m=\u001b[0m\u001b[0mxpath\u001b[0m\u001b[1;33m)\u001b[0m\u001b[1;33m\u001b[0m\u001b[1;33m\u001b[0m\u001b[0m\n\u001b[0m\u001b[0;32m    515\u001b[0m \u001b[1;33m\u001b[0m\u001b[0m\n\u001b[0;32m    516\u001b[0m     \u001b[1;32mdef\u001b[0m \u001b[0mfind_elements_by_xpath\u001b[0m\u001b[1;33m(\u001b[0m\u001b[0mself\u001b[0m\u001b[1;33m,\u001b[0m \u001b[0mxpath\u001b[0m\u001b[1;33m)\u001b[0m \u001b[1;33m->\u001b[0m \u001b[0mWebElement\u001b[0m\u001b[1;33m:\u001b[0m\u001b[1;33m\u001b[0m\u001b[1;33m\u001b[0m\u001b[0m\n",
      "\u001b[1;32m~\\anaconda3\\envs\\learn-env\\lib\\site-packages\\selenium\\webdriver\\remote\\webdriver.py\u001b[0m in \u001b[0;36mfind_element\u001b[1;34m(self, by, value)\u001b[0m\n\u001b[0;32m   1236\u001b[0m             \u001b[0mvalue\u001b[0m \u001b[1;33m=\u001b[0m \u001b[1;34m'[name=\"%s\"]'\u001b[0m \u001b[1;33m%\u001b[0m \u001b[0mvalue\u001b[0m\u001b[1;33m\u001b[0m\u001b[1;33m\u001b[0m\u001b[0m\n\u001b[0;32m   1237\u001b[0m \u001b[1;33m\u001b[0m\u001b[0m\n\u001b[1;32m-> 1238\u001b[1;33m         return self.execute(Command.FIND_ELEMENT, {\n\u001b[0m\u001b[0;32m   1239\u001b[0m             \u001b[1;34m'using'\u001b[0m\u001b[1;33m:\u001b[0m \u001b[0mby\u001b[0m\u001b[1;33m,\u001b[0m\u001b[1;33m\u001b[0m\u001b[1;33m\u001b[0m\u001b[0m\n\u001b[0;32m   1240\u001b[0m             'value': value})['value']\n",
      "\u001b[1;32m~\\anaconda3\\envs\\learn-env\\lib\\site-packages\\selenium\\webdriver\\remote\\webdriver.py\u001b[0m in \u001b[0;36mexecute\u001b[1;34m(self, driver_command, params)\u001b[0m\n\u001b[0;32m    416\u001b[0m         \u001b[0mresponse\u001b[0m \u001b[1;33m=\u001b[0m \u001b[0mself\u001b[0m\u001b[1;33m.\u001b[0m\u001b[0mcommand_executor\u001b[0m\u001b[1;33m.\u001b[0m\u001b[0mexecute\u001b[0m\u001b[1;33m(\u001b[0m\u001b[0mdriver_command\u001b[0m\u001b[1;33m,\u001b[0m \u001b[0mparams\u001b[0m\u001b[1;33m)\u001b[0m\u001b[1;33m\u001b[0m\u001b[1;33m\u001b[0m\u001b[0m\n\u001b[0;32m    417\u001b[0m         \u001b[1;32mif\u001b[0m \u001b[0mresponse\u001b[0m\u001b[1;33m:\u001b[0m\u001b[1;33m\u001b[0m\u001b[1;33m\u001b[0m\u001b[0m\n\u001b[1;32m--> 418\u001b[1;33m             \u001b[0mself\u001b[0m\u001b[1;33m.\u001b[0m\u001b[0merror_handler\u001b[0m\u001b[1;33m.\u001b[0m\u001b[0mcheck_response\u001b[0m\u001b[1;33m(\u001b[0m\u001b[0mresponse\u001b[0m\u001b[1;33m)\u001b[0m\u001b[1;33m\u001b[0m\u001b[1;33m\u001b[0m\u001b[0m\n\u001b[0m\u001b[0;32m    419\u001b[0m             response['value'] = self._unwrap_value(\n\u001b[0;32m    420\u001b[0m                 response.get('value', None))\n",
      "\u001b[1;32m~\\anaconda3\\envs\\learn-env\\lib\\site-packages\\selenium\\webdriver\\remote\\errorhandler.py\u001b[0m in \u001b[0;36mcheck_response\u001b[1;34m(self, response)\u001b[0m\n\u001b[0;32m    241\u001b[0m                 \u001b[0malert_text\u001b[0m \u001b[1;33m=\u001b[0m \u001b[0mvalue\u001b[0m\u001b[1;33m[\u001b[0m\u001b[1;34m'alert'\u001b[0m\u001b[1;33m]\u001b[0m\u001b[1;33m.\u001b[0m\u001b[0mget\u001b[0m\u001b[1;33m(\u001b[0m\u001b[1;34m'text'\u001b[0m\u001b[1;33m)\u001b[0m\u001b[1;33m\u001b[0m\u001b[1;33m\u001b[0m\u001b[0m\n\u001b[0;32m    242\u001b[0m             \u001b[1;32mraise\u001b[0m \u001b[0mexception_class\u001b[0m\u001b[1;33m(\u001b[0m\u001b[0mmessage\u001b[0m\u001b[1;33m,\u001b[0m \u001b[0mscreen\u001b[0m\u001b[1;33m,\u001b[0m \u001b[0mstacktrace\u001b[0m\u001b[1;33m,\u001b[0m \u001b[0malert_text\u001b[0m\u001b[1;33m)\u001b[0m  \u001b[1;31m# type: ignore[call-arg]  # mypy is not smart enough here\u001b[0m\u001b[1;33m\u001b[0m\u001b[1;33m\u001b[0m\u001b[0m\n\u001b[1;32m--> 243\u001b[1;33m         \u001b[1;32mraise\u001b[0m \u001b[0mexception_class\u001b[0m\u001b[1;33m(\u001b[0m\u001b[0mmessage\u001b[0m\u001b[1;33m,\u001b[0m \u001b[0mscreen\u001b[0m\u001b[1;33m,\u001b[0m \u001b[0mstacktrace\u001b[0m\u001b[1;33m)\u001b[0m\u001b[1;33m\u001b[0m\u001b[1;33m\u001b[0m\u001b[0m\n\u001b[0m\u001b[0;32m    244\u001b[0m \u001b[1;33m\u001b[0m\u001b[0m\n\u001b[0;32m    245\u001b[0m     \u001b[1;32mdef\u001b[0m \u001b[0m_value_or_default\u001b[0m\u001b[1;33m(\u001b[0m\u001b[0mself\u001b[0m\u001b[1;33m,\u001b[0m \u001b[0mobj\u001b[0m\u001b[1;33m:\u001b[0m \u001b[0mMapping\u001b[0m\u001b[1;33m[\u001b[0m\u001b[0m_KT\u001b[0m\u001b[1;33m,\u001b[0m \u001b[0m_VT\u001b[0m\u001b[1;33m]\u001b[0m\u001b[1;33m,\u001b[0m \u001b[0mkey\u001b[0m\u001b[1;33m:\u001b[0m \u001b[0m_KT\u001b[0m\u001b[1;33m,\u001b[0m \u001b[0mdefault\u001b[0m\u001b[1;33m:\u001b[0m \u001b[0m_VT\u001b[0m\u001b[1;33m)\u001b[0m \u001b[1;33m->\u001b[0m \u001b[0m_VT\u001b[0m\u001b[1;33m:\u001b[0m\u001b[1;33m\u001b[0m\u001b[1;33m\u001b[0m\u001b[0m\n",
      "\u001b[1;31mNoSuchElementException\u001b[0m: Message: no such element: Unable to locate element: {\"method\":\"xpath\",\"selector\":\"/html/body/div[2]/div[2]/yelp-react-root/div[1]/div[4]/div/div/div[2]/div/div[1]/div[2]/section[2]/div[2]/div/div[4]/div[1]/div/div[11]/span/a\"}\n  (Session info: chrome=94.0.4606.81)\nStacktrace:\nBacktrace:\n\tOrdinal0 [0x00F5B9D3+2472403]\n\tOrdinal0 [0x00EF6961+2058593]\n\tOrdinal0 [0x00E022B8+1057464]\n\tOrdinal0 [0x00E2C68B+1230475]\n\tOrdinal0 [0x00E565B2+1402290]\n\tOrdinal0 [0x00E455CA+1332682]\n\tOrdinal0 [0x00E5495F+1395039]\n\tOrdinal0 [0x00E4545B+1332315]\n\tOrdinal0 [0x00E21FB4+1187764]\n\tOrdinal0 [0x00E22E09+1191433]\n\tGetHandleVerifier [0x010E3396+1551078]\n\tGetHandleVerifier [0x0118D53A+2247818]\n\tGetHandleVerifier [0x00FE7FBB+521995]\n\tGetHandleVerifier [0x00FE7079+518089]\n\tOrdinal0 [0x00EFBD4D+2080077]\n\tOrdinal0 [0x00EFFC18+2096152]\n\tOrdinal0 [0x00EFFD52+2096466]\n\tOrdinal0 [0x00F094B1+2135217]\n\tBaseThreadInitThunk [0x75DFFA29+25]\n\tRtlGetAppContainerNamedObjectPath [0x77307A9E+286]\n\tRtlGetAppContainerNamedObjectPath [0x77307A6E+238]\n"
     ]
    }
   ],
   "source": [
    "driver = webdriver.Chrome(path)\n",
    "driver.get('https://www.yelp.com')\n",
    "search = driver.find_element_by_id('dropperText_Mast')\n",
    "search.send_keys('Current Location')\n",
    "time.sleep(4)\n",
    "search.send_keys(Keys.DOWN)\n",
    "restaraunt = driver.find_element_by_id('find_desc')\n",
    "restaraunt.send_keys('Restau')\n",
    "time.sleep(4)\n",
    "restaraunt.send_keys(Keys.DOWN,Keys.RETURN)\n",
    "more = driver.find_element_by_name('Ruffino’s On The River')\n",
    "time.sleep(2)\n",
    "more.send_keys(Keys.RETURN)\n",
    "time.sleep(3)\n",
    "ruffinos_dict = {'name':[], 'review':[]}\n",
    "\n",
    "for x in range(0,50):   \n",
    "    soup = BeautifulSoup(driver.page_source,'html.parser')\n",
    "    review = soup.findAll('span',class_='raw__373c0__tQAx6')\n",
    "    title = soup.find('h1',class_='css-m7s7xv')\n",
    "    for y in range(len(review)-18, len(review)-2):\n",
    "        ruffinos_dict['review'].append(review[y].text)\n",
    "        ruffinos_dict['name'].append(title.text)\n",
    "\n",
    "        \n",
    "    driver.find_element_by_xpath('/html/body/div[2]/div[2]/yelp-react-root/div[1]/div[4]/div/div/div[2]/div/div[1]/div[2]/section[2]/div[2]/div/div[4]/div[1]/div/div[11]/span/a').click()\n",
    "    time.sleep(6)"
   ]
  },
  {
   "cell_type": "code",
   "execution_count": 725,
   "metadata": {},
   "outputs": [],
   "source": [
    "ruffinos = [ \"2.8 miles away from Ruffino's On The River\",\n",
    "  \"1.7 miles away from Ruffino's On The River\",\n",
    "  '921 Camellia Blvd',\n",
    "  'Lafayette, LA 70508',\n",
    "  \"5.3 miles away from Ruffino's On The River\",\n",
    "  \"1.1 miles away from Ruffino's On The River\",\n",
    "  \"Yelp users haven’t asked any questions yet about Ruffino's On The River.\",\n",
    "  \"Your trust is our top concern, so businesses can't pay to alter or remove their reviews. Learn more.\",\n",
    "  \"Start your review of Ruffino's On The River.\"]"
   ]
  },
  {
   "cell_type": "code",
   "execution_count": 726,
   "metadata": {},
   "outputs": [],
   "source": [
    "ruffinos_df = pd.DataFrame.from_dict(ruffinos_dict)"
   ]
  },
  {
   "cell_type": "code",
   "execution_count": 731,
   "metadata": {},
   "outputs": [
    {
     "data": {
      "text/html": [
       "<div>\n",
       "<style scoped>\n",
       "    .dataframe tbody tr th:only-of-type {\n",
       "        vertical-align: middle;\n",
       "    }\n",
       "\n",
       "    .dataframe tbody tr th {\n",
       "        vertical-align: top;\n",
       "    }\n",
       "\n",
       "    .dataframe thead th {\n",
       "        text-align: right;\n",
       "    }\n",
       "</style>\n",
       "<table border=\"1\" class=\"dataframe\">\n",
       "  <thead>\n",
       "    <tr style=\"text-align: right;\">\n",
       "      <th></th>\n",
       "      <th>name</th>\n",
       "      <th>review</th>\n",
       "      <th>gone</th>\n",
       "    </tr>\n",
       "  </thead>\n",
       "  <tbody>\n",
       "    <tr>\n",
       "      <th>0</th>\n",
       "      <td>Ruffino's On The River</td>\n",
       "      <td>1.1 miles away from Ruffino's On The River</td>\n",
       "      <td></td>\n",
       "    </tr>\n",
       "    <tr>\n",
       "      <th>1</th>\n",
       "      <td>Ruffino's On The River</td>\n",
       "      <td>Yelp users haven’t asked any questions yet about Ruffino's On The River.</td>\n",
       "      <td></td>\n",
       "    </tr>\n",
       "    <tr>\n",
       "      <th>2</th>\n",
       "      <td>Ruffino's On The River</td>\n",
       "      <td>Your trust is our top concern, so businesses can't pay to alter or remove their reviews. Learn more.</td>\n",
       "      <td></td>\n",
       "    </tr>\n",
       "    <tr>\n",
       "      <th>3</th>\n",
       "      <td>Ruffino's On The River</td>\n",
       "      <td>Start your review of Ruffino's On The River.</td>\n",
       "      <td></td>\n",
       "    </tr>\n",
       "    <tr>\n",
       "      <th>4</th>\n",
       "      <td>Ruffino's On The River</td>\n",
       "      <td>Still craving the Oysters....Perfect answer when looking to kick off a great night out in Lafayette! Scenic white table cloth restaurant along the river with a great selection of Cajun Seafood. Everything we ate was top notch &amp; amazing. Favorite dish was an appetizer of Oysters - I couldn't get enough. The menu is up there in price but equal to the value of the food and experience,  you won't be let down. UNIQUE: They end the meal with complimentary cotton candy, a cool touch to complete the night. Would come back!</td>\n",
       "      <td></td>\n",
       "    </tr>\n",
       "    <tr>\n",
       "      <th>...</th>\n",
       "      <td>...</td>\n",
       "      <td>...</td>\n",
       "      <td>...</td>\n",
       "    </tr>\n",
       "    <tr>\n",
       "      <th>267</th>\n",
       "      <td>Ruffino's On The River</td>\n",
       "      <td>The food was kinda good...  but the alfredo sauce and I'm not a cook but to me tasted like it came as a powder and they just added water and served. Idk if all sauces come like that but it tasted like you could taste the powder.... wasn't good at all. Then the whole 3 waiters they give you.to confusing you got one for drinks 1 for appetizers and one for food or something like that if you don't have the best memory you forget who you're asking for what. Then it's like who do I ask to give me my check the drank waiter was  more happily to do it for me. And said you can ask anyone of us it's okay... it was our anniversary and they took really good care of us..... gave us a desert with happy anniversary on it gave us champagne.... the place is beautiful.. the water front is even better. But they gotta do something about that alfredo... I love alfredo sauce. It's deffently my favorite and I try it every place I go. I don't care for olive garden besides the bread and salad and of ocurse the alfredo sauce. They have the best I've tasted. if it wasn't for the sauce I'd give  them 5 stars. Oh I completely forgot so I had to edit my review. My wife was trying to order a drank and asked the woman waiter what's good and she pointed out a drank and said this drank is the shit... like how does she know that we are okay with cuss words. You don't curse to customers. There a million other words to use other then this drank is the shit...</td>\n",
       "      <td></td>\n",
       "    </tr>\n",
       "    <tr>\n",
       "      <th>268</th>\n",
       "      <td>Ruffino's On The River</td>\n",
       "      <td>Hi Ryan,Thanks so much for spending your anniversary with us and for taking the time to write us a review. We will surely use your comments regarding your Alfredo sauce to improve. We hope you had a great anniversary!Peter</td>\n",
       "      <td></td>\n",
       "    </tr>\n",
       "    <tr>\n",
       "      <th>269</th>\n",
       "      <td>Ruffino's On The River</td>\n",
       "      <td>Service Ok! Food quality deplorable given the $$. Steaks incredibly fat. Veal was terrible as was lasagna. Party of 6 where no one had an enjoyable experience</td>\n",
       "      <td></td>\n",
       "    </tr>\n",
       "    <tr>\n",
       "      <th>270</th>\n",
       "      <td>Ruffino's On The River</td>\n",
       "      <td>The food, drinks, and service were amazing, not a single complaint there. The host/seating situation could be improved... On my first visit my friend and I called ahead on a Friday around 5:30 and arrived about an hour later. We checked in with the hostess and they stated there was only one table ahead of us, but it'd still be about and hour and half wait, which we were fine with (and expected) so we happily went to the bar to visit and have a few drinks. At 9:30 we still hadn't been seated, so we went politely to check on our table and they again said \"there's only one table ahead of you, it shouldn't be too much longer.\" Unfortunately we were starving so we smiled and said thank you, but we were just going to grab something a little quicker and went to Bonefish... No problem, we both have years of experience in the service industry and understand how new restaurants are in Lafayette for the first few months, and we knew we'd be back another time. Last night we figured it wouldn't be as bad on a Wednesday so we decided to try again for his birthday. We arrived around 7 and were told the wait was about an hour---he didn't really want to wait but I convinced him-- so we again headed to the bar for some pre-dinner drinks. There were a couple bar tables open, and we're bar table kind of people, so we went and double checked with the hosts to make sure they were hosted seating and not first-come first-serve, and were reaffirmed that indeed they were hosted seating. We watched people coming and going from the bar tables and just assumed they were on the wait list before us, however there were always multiple tables open. Just over an hour later we got the text that our table was ready and headed to the hostess stand. As we were walking up a couple walked in and asked for a table for 2, the host replied that he didn't have any in the dining room at the moment, but that he did have a nice high top in the bar they could have and he walked them to their table, as we stood there and watched. We didn't make a fuss, upon his return we simply stated \"You know, it certainly would have been nice if we could have had a bar table, an hour ago, when we inquired about them. It's okay though, we're patient\". We were pretty pissed and wanted to say more, but went to our table and went on about our business. The food and service were amazing, and we thoroughly enjoyed the rest of the experience.  I definitely know to make reservations from now on, even if it's just for 2, and I certainly hope next time the seating will go a little more smoothly-- tables will be seated with the proper priority and we won't wait an hour unnecessarily!</td>\n",
       "      <td>yes</td>\n",
       "    </tr>\n",
       "    <tr>\n",
       "      <th>271</th>\n",
       "      <td>Ruffino's On The River</td>\n",
       "      <td>Dear A.L,Thank you so much for taking the time to write about your recent dining experience with us. I was glad to hear that you enjoyed your food and service at the table, but disappointed to hear about the frustrations and challenges you experienced at the front door. This is certainly not indicative of the Ruffino's experience that we are able to provide. We make our high top bar tables available for guest without reservations so you can enjoy dinner in a relaxed atmosphere without a reservation.  We ask that our guest check in at the Host stand where they can be seated if a table is available or added to our waitlist and quoted an approximate seating time. We obviously fell short of both our and your expectations on both occasions. I deeply apologize that your visit was not up to standard and will certainly address your concerns with our team. I would like to take the time to personally speak with you about your experiences in order to address your concerns, so please feel free to contact me or my General Manager Rene' Schnell directly at your convenience 337*706*7333.Thank you and we look forward to serving you in the future!</td>\n",
       "      <td></td>\n",
       "    </tr>\n",
       "  </tbody>\n",
       "</table>\n",
       "<p>272 rows × 3 columns</p>\n",
       "</div>"
      ],
      "text/plain": [
       "                       name  \\\n",
       "0    Ruffino's On The River   \n",
       "1    Ruffino's On The River   \n",
       "2    Ruffino's On The River   \n",
       "3    Ruffino's On The River   \n",
       "4    Ruffino's On The River   \n",
       "..                      ...   \n",
       "267  Ruffino's On The River   \n",
       "268  Ruffino's On The River   \n",
       "269  Ruffino's On The River   \n",
       "270  Ruffino's On The River   \n",
       "271  Ruffino's On The River   \n",
       "\n",
       "                                                                                                                                                                                                                                                                                                                                                                                                                                                                                                                                                                                                                                                                                                                                                                                                                                                                                                                                                                                                                                                                                                                                                                                                                                                                                                                                                                                                                                                                                                                                                                                                                                                                                                                                                                                                                                                                                                                                                                                                                                                                                                                                                                                                                                                                                                                                                                                                                                                                                                                                                                                                                                                                                                                                                                 review  \\\n",
       "0                                                                                                                                                                                                                                                                                                                                                                                                                                                                                                                                                                                                                                                                                                                                                                                                                                                                                                                                                                                                                                                                                                                                                                                                                                                                                                                                                                                                                                                                                                                                                                                                                                                                                                                                                                                                                                                                                                                                                                                                                                                                                                                                                                                                                                                                                                                                                                                                                                                                                                                                                                                                                                                                                                                            1.1 miles away from Ruffino's On The River   \n",
       "1                                                                                                                                                                                                                                                                                                                                                                                                                                                                                                                                                                                                                                                                                                                                                                                                                                                                                                                                                                                                                                                                                                                                                                                                                                                                                                                                                                                                                                                                                                                                                                                                                                                                                                                                                                                                                                                                                                                                                                                                                                                                                                                                                                                                                                                                                                                                                                                                                                                                                                                                                                                                                                                                                              Yelp users haven’t asked any questions yet about Ruffino's On The River.   \n",
       "2                                                                                                                                                                                                                                                                                                                                                                                                                                                                                                                                                                                                                                                                                                                                                                                                                                                                                                                                                                                                                                                                                                                                                                                                                                                                                                                                                                                                                                                                                                                                                                                                                                                                                                                                                                                                                                                                                                                                                                                                                                                                                                                                                                                                                                                                                                                                                                                                                                                                                                                                                                                                                                                                  Your trust is our top concern, so businesses can't pay to alter or remove their reviews. Learn more.   \n",
       "3                                                                                                                                                                                                                                                                                                                                                                                                                                                                                                                                                                                                                                                                                                                                                                                                                                                                                                                                                                                                                                                                                                                                                                                                                                                                                                                                                                                                                                                                                                                                                                                                                                                                                                                                                                                                                                                                                                                                                                                                                                                                                                                                                                                                                                                                                                                                                                                                                                                                                                                                                                                                                                                                                                                          Start your review of Ruffino's On The River.   \n",
       "4                                                                                                                                                                                                                                                                                                                                                                                                                                                                                                                                                                                                                                                                                                                                                                                                                                                                                                                                                                                                                                                                                                                                                                                                                                                                                                                                                                                                                                                                                                                                                                                                                                                                                                                                                                                                                                                                                                                                                                                                                                                                                                                                                                                                                              Still craving the Oysters....Perfect answer when looking to kick off a great night out in Lafayette! Scenic white table cloth restaurant along the river with a great selection of Cajun Seafood. Everything we ate was top notch & amazing. Favorite dish was an appetizer of Oysters - I couldn't get enough. The menu is up there in price but equal to the value of the food and experience,  you won't be let down. UNIQUE: They end the meal with complimentary cotton candy, a cool touch to complete the night. Would come back!   \n",
       "..                                                                                                                                                                                                                                                                                                                                                                                                                                                                                                                                                                                                                                                                                                                                                                                                                                                                                                                                                                                                                                                                                                                                                                                                                                                                                                                                                                                                                                                                                                                                                                                                                                                                                                                                                                                                                                                                                                                                                                                                                                                                                                                                                                                                                                                                                                                                                                                                                                                                                                                                                                                                                                                                                                                                                                  ...   \n",
       "267                                                                                                                                                                                                                                                                                                                                                                                                                                                                                                                                                                                                                                                                                                                                                                                                                                                                                                                                                                                                                                                                                                                                                                                                                                                               The food was kinda good...  but the alfredo sauce and I'm not a cook but to me tasted like it came as a powder and they just added water and served. Idk if all sauces come like that but it tasted like you could taste the powder.... wasn't good at all. Then the whole 3 waiters they give you.to confusing you got one for drinks 1 for appetizers and one for food or something like that if you don't have the best memory you forget who you're asking for what. Then it's like who do I ask to give me my check the drank waiter was  more happily to do it for me. And said you can ask anyone of us it's okay... it was our anniversary and they took really good care of us..... gave us a desert with happy anniversary on it gave us champagne.... the place is beautiful.. the water front is even better. But they gotta do something about that alfredo... I love alfredo sauce. It's deffently my favorite and I try it every place I go. I don't care for olive garden besides the bread and salad and of ocurse the alfredo sauce. They have the best I've tasted. if it wasn't for the sauce I'd give  them 5 stars. Oh I completely forgot so I had to edit my review. My wife was trying to order a drank and asked the woman waiter what's good and she pointed out a drank and said this drank is the shit... like how does she know that we are okay with cuss words. You don't curse to customers. There a million other words to use other then this drank is the shit...   \n",
       "268                                                                                                                                                                                                                                                                                                                                                                                                                                                                                                                                                                                                                                                                                                                                                                                                                                                                                                                                                                                                                                                                                                                                                                                                                                                                                                                                                                                                                                                                                                                                                                                                                                                                                                                                                                                                                                                                                                                                                                                                                                                                                                                                                                                                                                                                                                                                                                                                                                                                                                                                      Hi Ryan,Thanks so much for spending your anniversary with us and for taking the time to write us a review. We will surely use your comments regarding your Alfredo sauce to improve. We hope you had a great anniversary!Peter   \n",
       "269                                                                                                                                                                                                                                                                                                                                                                                                                                                                                                                                                                                                                                                                                                                                                                                                                                                                                                                                                                                                                                                                                                                                                                                                                                                                                                                                                                                                                                                                                                                                                                                                                                                                                                                                                                                                                                                                                                                                                                                                                                                                                                                                                                                                                                                                                                                                                                                                                                                                                                                                                                                                      Service Ok! Food quality deplorable given the $$. Steaks incredibly fat. Veal was terrible as was lasagna. Party of 6 where no one had an enjoyable experience   \n",
       "270  The food, drinks, and service were amazing, not a single complaint there. The host/seating situation could be improved... On my first visit my friend and I called ahead on a Friday around 5:30 and arrived about an hour later. We checked in with the hostess and they stated there was only one table ahead of us, but it'd still be about and hour and half wait, which we were fine with (and expected) so we happily went to the bar to visit and have a few drinks. At 9:30 we still hadn't been seated, so we went politely to check on our table and they again said \"there's only one table ahead of you, it shouldn't be too much longer.\" Unfortunately we were starving so we smiled and said thank you, but we were just going to grab something a little quicker and went to Bonefish... No problem, we both have years of experience in the service industry and understand how new restaurants are in Lafayette for the first few months, and we knew we'd be back another time. Last night we figured it wouldn't be as bad on a Wednesday so we decided to try again for his birthday. We arrived around 7 and were told the wait was about an hour---he didn't really want to wait but I convinced him-- so we again headed to the bar for some pre-dinner drinks. There were a couple bar tables open, and we're bar table kind of people, so we went and double checked with the hosts to make sure they were hosted seating and not first-come first-serve, and were reaffirmed that indeed they were hosted seating. We watched people coming and going from the bar tables and just assumed they were on the wait list before us, however there were always multiple tables open. Just over an hour later we got the text that our table was ready and headed to the hostess stand. As we were walking up a couple walked in and asked for a table for 2, the host replied that he didn't have any in the dining room at the moment, but that he did have a nice high top in the bar they could have and he walked them to their table, as we stood there and watched. We didn't make a fuss, upon his return we simply stated \"You know, it certainly would have been nice if we could have had a bar table, an hour ago, when we inquired about them. It's okay though, we're patient\". We were pretty pissed and wanted to say more, but went to our table and went on about our business. The food and service were amazing, and we thoroughly enjoyed the rest of the experience.  I definitely know to make reservations from now on, even if it's just for 2, and I certainly hope next time the seating will go a little more smoothly-- tables will be seated with the proper priority and we won't wait an hour unnecessarily!   \n",
       "271                                                                                                                                                                                                                                                                                                                                                                                                                                                                                                                                                                                                                                                                                                                                                                                                                                                                                                                                                                                                                                                                                                                                                                                                                                                                                                                                                                                                                                                                                                                                                                        Dear A.L,Thank you so much for taking the time to write about your recent dining experience with us. I was glad to hear that you enjoyed your food and service at the table, but disappointed to hear about the frustrations and challenges you experienced at the front door. This is certainly not indicative of the Ruffino's experience that we are able to provide. We make our high top bar tables available for guest without reservations so you can enjoy dinner in a relaxed atmosphere without a reservation.  We ask that our guest check in at the Host stand where they can be seated if a table is available or added to our waitlist and quoted an approximate seating time. We obviously fell short of both our and your expectations on both occasions. I deeply apologize that your visit was not up to standard and will certainly address your concerns with our team. I would like to take the time to personally speak with you about your experiences in order to address your concerns, so please feel free to contact me or my General Manager Rene' Schnell directly at your convenience 337*706*7333.Thank you and we look forward to serving you in the future!   \n",
       "\n",
       "    gone  \n",
       "0         \n",
       "1         \n",
       "2         \n",
       "3         \n",
       "4         \n",
       "..   ...  \n",
       "267       \n",
       "268       \n",
       "269       \n",
       "270  yes  \n",
       "271       \n",
       "\n",
       "[272 rows x 3 columns]"
      ]
     },
     "execution_count": 731,
     "metadata": {},
     "output_type": "execute_result"
    }
   ],
   "source": [
    "ruffinos_df"
   ]
  },
  {
   "cell_type": "code",
   "execution_count": 741,
   "metadata": {},
   "outputs": [],
   "source": [
    "def clean_it(df,column,lst=None):\n",
    "    thanks = ['thank','appreciate','thanks','sorry',',thanks']\n",
    "    df['gone'] = ''\n",
    "    for num,val in enumerate(df[column]):\n",
    "        for y in val.lower().split(' '):          \n",
    "            if y in thanks:\n",
    "                df['gone'].iloc[num] = 'yes'\n",
    "        for x in val:\n",
    "            if val in lst:\n",
    "                df['gone'].iloc[num] = 'yes'\n",
    "    return df"
   ]
  },
  {
   "cell_type": "code",
   "execution_count": 742,
   "metadata": {},
   "outputs": [
    {
     "name": "stderr",
     "output_type": "stream",
     "text": [
      "<ipython-input-741-109e00274944>:3: SettingWithCopyWarning: \n",
      "A value is trying to be set on a copy of a slice from a DataFrame.\n",
      "Try using .loc[row_indexer,col_indexer] = value instead\n",
      "\n",
      "See the caveats in the documentation: https://pandas.pydata.org/pandas-docs/stable/user_guide/indexing.html#returning-a-view-versus-a-copy\n",
      "  df['gone'] = ''\n",
      "<ipython-input-741-109e00274944>:7: SettingWithCopyWarning: \n",
      "A value is trying to be set on a copy of a slice from a DataFrame\n",
      "\n",
      "See the caveats in the documentation: https://pandas.pydata.org/pandas-docs/stable/user_guide/indexing.html#returning-a-view-versus-a-copy\n",
      "  df['gone'].iloc[num] = 'yes'\n"
     ]
    }
   ],
   "source": [
    "clean_it(ruffinos_df,'review',ruffinos)\n",
    "ruffinos_df = ruffinos_df[ruffinos_df['gone']!='yes']"
   ]
  },
  {
   "cell_type": "code",
   "execution_count": 744,
   "metadata": {},
   "outputs": [
    {
     "name": "stderr",
     "output_type": "stream",
     "text": [
      "C:\\Users\\mmcel\\anaconda3\\envs\\learn-env\\lib\\site-packages\\pandas\\core\\frame.py:4163: SettingWithCopyWarning: \n",
      "A value is trying to be set on a copy of a slice from a DataFrame\n",
      "\n",
      "See the caveats in the documentation: https://pandas.pydata.org/pandas-docs/stable/user_guide/indexing.html#returning-a-view-versus-a-copy\n",
      "  return super().drop(\n"
     ]
    }
   ],
   "source": [
    "ruffinos_df.drop('gone',axis=1,inplace=True)"
   ]
  },
  {
   "cell_type": "code",
   "execution_count": 753,
   "metadata": {},
   "outputs": [],
   "source": [
    "ruffinos_pickle = open('ruffinos_df', 'wb')\n",
    "pickle.dump(ruffinos_df, ruffinos_pickle)\n",
    "picklefile.close()"
   ]
  },
  {
   "cell_type": "markdown",
   "metadata": {},
   "source": [
    "# Not Recommended Reviews"
   ]
  },
  {
   "cell_type": "code",
   "execution_count": 771,
   "metadata": {},
   "outputs": [
    {
     "name": "stderr",
     "output_type": "stream",
     "text": [
      "<ipython-input-771-854a6c64ab88>:1: DeprecationWarning: executable_path has been deprecated, please pass in a Service object\n",
      "  driver = webdriver.Chrome(path)\n",
      "<ipython-input-771-854a6c64ab88>:3: DeprecationWarning: find_element_by_* commands are deprecated. Please use find_element() instead\n",
      "  search = driver.find_element_by_id('dropperText_Mast')\n",
      "<ipython-input-771-854a6c64ab88>:7: DeprecationWarning: find_element_by_* commands are deprecated. Please use find_element() instead\n",
      "  restaraunt = driver.find_element_by_id('find_desc')\n",
      "<ipython-input-771-854a6c64ab88>:11: DeprecationWarning: find_element_by_* commands are deprecated. Please use find_element() instead\n",
      "  more = driver.find_element_by_name('Broaddus Burgers')\n",
      "<ipython-input-771-854a6c64ab88>:15: DeprecationWarning: find_element_by_* commands are deprecated. Please use find_element() instead\n",
      "  driver.find_element_by_class_name('css-1joxor6').click()\n",
      "<ipython-input-771-854a6c64ab88>:26: DeprecationWarning: find_element_by_* commands are deprecated. Please use find_element() instead\n",
      "  driver.find_element_by_link_text(\"Next\").click()\n"
     ]
    },
    {
     "ename": "NoSuchElementException",
     "evalue": "Message: no such element: Unable to locate element: {\"method\":\"link text\",\"selector\":\"Next\"}\n  (Session info: chrome=94.0.4606.81)\nStacktrace:\nBacktrace:\n\tOrdinal0 [0x00F5B9D3+2472403]\n\tOrdinal0 [0x00EF6961+2058593]\n\tOrdinal0 [0x00E022B8+1057464]\n\tOrdinal0 [0x00E2C68B+1230475]\n\tOrdinal0 [0x00E565B2+1402290]\n\tOrdinal0 [0x00E455CA+1332682]\n\tOrdinal0 [0x00E5495F+1395039]\n\tOrdinal0 [0x00E4545B+1332315]\n\tOrdinal0 [0x00E21FB4+1187764]\n\tOrdinal0 [0x00E22E09+1191433]\n\tGetHandleVerifier [0x010E3396+1551078]\n\tGetHandleVerifier [0x0118D53A+2247818]\n\tGetHandleVerifier [0x00FE7FBB+521995]\n\tGetHandleVerifier [0x00FE7079+518089]\n\tOrdinal0 [0x00EFBD4D+2080077]\n\tOrdinal0 [0x00EFFC18+2096152]\n\tOrdinal0 [0x00EFFD52+2096466]\n\tOrdinal0 [0x00F094B1+2135217]\n\tBaseThreadInitThunk [0x75DFFA29+25]\n\tRtlGetAppContainerNamedObjectPath [0x77307A9E+286]\n\tRtlGetAppContainerNamedObjectPath [0x77307A6E+238]\n",
     "output_type": "error",
     "traceback": [
      "\u001b[1;31m---------------------------------------------------------------------------\u001b[0m",
      "\u001b[1;31mNoSuchElementException\u001b[0m                    Traceback (most recent call last)",
      "\u001b[1;32m<ipython-input-771-854a6c64ab88>\u001b[0m in \u001b[0;36m<module>\u001b[1;34m\u001b[0m\n\u001b[0;32m     24\u001b[0m \u001b[1;33m\u001b[0m\u001b[0m\n\u001b[0;32m     25\u001b[0m     \u001b[0mtime\u001b[0m\u001b[1;33m.\u001b[0m\u001b[0msleep\u001b[0m\u001b[1;33m(\u001b[0m\u001b[1;36m6\u001b[0m\u001b[1;33m)\u001b[0m\u001b[1;33m\u001b[0m\u001b[1;33m\u001b[0m\u001b[0m\n\u001b[1;32m---> 26\u001b[1;33m     \u001b[0mdriver\u001b[0m\u001b[1;33m.\u001b[0m\u001b[0mfind_element_by_link_text\u001b[0m\u001b[1;33m(\u001b[0m\u001b[1;34m\"Next\"\u001b[0m\u001b[1;33m)\u001b[0m\u001b[1;33m.\u001b[0m\u001b[0mclick\u001b[0m\u001b[1;33m(\u001b[0m\u001b[1;33m)\u001b[0m\u001b[1;33m\u001b[0m\u001b[1;33m\u001b[0m\u001b[0m\n\u001b[0m",
      "\u001b[1;32m~\\anaconda3\\envs\\learn-env\\lib\\site-packages\\selenium\\webdriver\\remote\\webdriver.py\u001b[0m in \u001b[0;36mfind_element_by_link_text\u001b[1;34m(self, link_text)\u001b[0m\n\u001b[0;32m    560\u001b[0m             \u001b[0mstacklevel\u001b[0m\u001b[1;33m=\u001b[0m\u001b[1;36m2\u001b[0m\u001b[1;33m,\u001b[0m\u001b[1;33m\u001b[0m\u001b[1;33m\u001b[0m\u001b[0m\n\u001b[0;32m    561\u001b[0m         )\n\u001b[1;32m--> 562\u001b[1;33m         \u001b[1;32mreturn\u001b[0m \u001b[0mself\u001b[0m\u001b[1;33m.\u001b[0m\u001b[0mfind_element\u001b[0m\u001b[1;33m(\u001b[0m\u001b[0mby\u001b[0m\u001b[1;33m=\u001b[0m\u001b[0mBy\u001b[0m\u001b[1;33m.\u001b[0m\u001b[0mLINK_TEXT\u001b[0m\u001b[1;33m,\u001b[0m \u001b[0mvalue\u001b[0m\u001b[1;33m=\u001b[0m\u001b[0mlink_text\u001b[0m\u001b[1;33m)\u001b[0m\u001b[1;33m\u001b[0m\u001b[1;33m\u001b[0m\u001b[0m\n\u001b[0m\u001b[0;32m    563\u001b[0m \u001b[1;33m\u001b[0m\u001b[0m\n\u001b[0;32m    564\u001b[0m     \u001b[1;32mdef\u001b[0m \u001b[0mfind_elements_by_link_text\u001b[0m\u001b[1;33m(\u001b[0m\u001b[0mself\u001b[0m\u001b[1;33m,\u001b[0m \u001b[0mtext\u001b[0m\u001b[1;33m)\u001b[0m \u001b[1;33m->\u001b[0m \u001b[0mWebElement\u001b[0m\u001b[1;33m:\u001b[0m\u001b[1;33m\u001b[0m\u001b[1;33m\u001b[0m\u001b[0m\n",
      "\u001b[1;32m~\\anaconda3\\envs\\learn-env\\lib\\site-packages\\selenium\\webdriver\\remote\\webdriver.py\u001b[0m in \u001b[0;36mfind_element\u001b[1;34m(self, by, value)\u001b[0m\n\u001b[0;32m   1236\u001b[0m             \u001b[0mvalue\u001b[0m \u001b[1;33m=\u001b[0m \u001b[1;34m'[name=\"%s\"]'\u001b[0m \u001b[1;33m%\u001b[0m \u001b[0mvalue\u001b[0m\u001b[1;33m\u001b[0m\u001b[1;33m\u001b[0m\u001b[0m\n\u001b[0;32m   1237\u001b[0m \u001b[1;33m\u001b[0m\u001b[0m\n\u001b[1;32m-> 1238\u001b[1;33m         return self.execute(Command.FIND_ELEMENT, {\n\u001b[0m\u001b[0;32m   1239\u001b[0m             \u001b[1;34m'using'\u001b[0m\u001b[1;33m:\u001b[0m \u001b[0mby\u001b[0m\u001b[1;33m,\u001b[0m\u001b[1;33m\u001b[0m\u001b[1;33m\u001b[0m\u001b[0m\n\u001b[0;32m   1240\u001b[0m             'value': value})['value']\n",
      "\u001b[1;32m~\\anaconda3\\envs\\learn-env\\lib\\site-packages\\selenium\\webdriver\\remote\\webdriver.py\u001b[0m in \u001b[0;36mexecute\u001b[1;34m(self, driver_command, params)\u001b[0m\n\u001b[0;32m    416\u001b[0m         \u001b[0mresponse\u001b[0m \u001b[1;33m=\u001b[0m \u001b[0mself\u001b[0m\u001b[1;33m.\u001b[0m\u001b[0mcommand_executor\u001b[0m\u001b[1;33m.\u001b[0m\u001b[0mexecute\u001b[0m\u001b[1;33m(\u001b[0m\u001b[0mdriver_command\u001b[0m\u001b[1;33m,\u001b[0m \u001b[0mparams\u001b[0m\u001b[1;33m)\u001b[0m\u001b[1;33m\u001b[0m\u001b[1;33m\u001b[0m\u001b[0m\n\u001b[0;32m    417\u001b[0m         \u001b[1;32mif\u001b[0m \u001b[0mresponse\u001b[0m\u001b[1;33m:\u001b[0m\u001b[1;33m\u001b[0m\u001b[1;33m\u001b[0m\u001b[0m\n\u001b[1;32m--> 418\u001b[1;33m             \u001b[0mself\u001b[0m\u001b[1;33m.\u001b[0m\u001b[0merror_handler\u001b[0m\u001b[1;33m.\u001b[0m\u001b[0mcheck_response\u001b[0m\u001b[1;33m(\u001b[0m\u001b[0mresponse\u001b[0m\u001b[1;33m)\u001b[0m\u001b[1;33m\u001b[0m\u001b[1;33m\u001b[0m\u001b[0m\n\u001b[0m\u001b[0;32m    419\u001b[0m             response['value'] = self._unwrap_value(\n\u001b[0;32m    420\u001b[0m                 response.get('value', None))\n",
      "\u001b[1;32m~\\anaconda3\\envs\\learn-env\\lib\\site-packages\\selenium\\webdriver\\remote\\errorhandler.py\u001b[0m in \u001b[0;36mcheck_response\u001b[1;34m(self, response)\u001b[0m\n\u001b[0;32m    241\u001b[0m                 \u001b[0malert_text\u001b[0m \u001b[1;33m=\u001b[0m \u001b[0mvalue\u001b[0m\u001b[1;33m[\u001b[0m\u001b[1;34m'alert'\u001b[0m\u001b[1;33m]\u001b[0m\u001b[1;33m.\u001b[0m\u001b[0mget\u001b[0m\u001b[1;33m(\u001b[0m\u001b[1;34m'text'\u001b[0m\u001b[1;33m)\u001b[0m\u001b[1;33m\u001b[0m\u001b[1;33m\u001b[0m\u001b[0m\n\u001b[0;32m    242\u001b[0m             \u001b[1;32mraise\u001b[0m \u001b[0mexception_class\u001b[0m\u001b[1;33m(\u001b[0m\u001b[0mmessage\u001b[0m\u001b[1;33m,\u001b[0m \u001b[0mscreen\u001b[0m\u001b[1;33m,\u001b[0m \u001b[0mstacktrace\u001b[0m\u001b[1;33m,\u001b[0m \u001b[0malert_text\u001b[0m\u001b[1;33m)\u001b[0m  \u001b[1;31m# type: ignore[call-arg]  # mypy is not smart enough here\u001b[0m\u001b[1;33m\u001b[0m\u001b[1;33m\u001b[0m\u001b[0m\n\u001b[1;32m--> 243\u001b[1;33m         \u001b[1;32mraise\u001b[0m \u001b[0mexception_class\u001b[0m\u001b[1;33m(\u001b[0m\u001b[0mmessage\u001b[0m\u001b[1;33m,\u001b[0m \u001b[0mscreen\u001b[0m\u001b[1;33m,\u001b[0m \u001b[0mstacktrace\u001b[0m\u001b[1;33m)\u001b[0m\u001b[1;33m\u001b[0m\u001b[1;33m\u001b[0m\u001b[0m\n\u001b[0m\u001b[0;32m    244\u001b[0m \u001b[1;33m\u001b[0m\u001b[0m\n\u001b[0;32m    245\u001b[0m     \u001b[1;32mdef\u001b[0m \u001b[0m_value_or_default\u001b[0m\u001b[1;33m(\u001b[0m\u001b[0mself\u001b[0m\u001b[1;33m,\u001b[0m \u001b[0mobj\u001b[0m\u001b[1;33m:\u001b[0m \u001b[0mMapping\u001b[0m\u001b[1;33m[\u001b[0m\u001b[0m_KT\u001b[0m\u001b[1;33m,\u001b[0m \u001b[0m_VT\u001b[0m\u001b[1;33m]\u001b[0m\u001b[1;33m,\u001b[0m \u001b[0mkey\u001b[0m\u001b[1;33m:\u001b[0m \u001b[0m_KT\u001b[0m\u001b[1;33m,\u001b[0m \u001b[0mdefault\u001b[0m\u001b[1;33m:\u001b[0m \u001b[0m_VT\u001b[0m\u001b[1;33m)\u001b[0m \u001b[1;33m->\u001b[0m \u001b[0m_VT\u001b[0m\u001b[1;33m:\u001b[0m\u001b[1;33m\u001b[0m\u001b[1;33m\u001b[0m\u001b[0m\n",
      "\u001b[1;31mNoSuchElementException\u001b[0m: Message: no such element: Unable to locate element: {\"method\":\"link text\",\"selector\":\"Next\"}\n  (Session info: chrome=94.0.4606.81)\nStacktrace:\nBacktrace:\n\tOrdinal0 [0x00F5B9D3+2472403]\n\tOrdinal0 [0x00EF6961+2058593]\n\tOrdinal0 [0x00E022B8+1057464]\n\tOrdinal0 [0x00E2C68B+1230475]\n\tOrdinal0 [0x00E565B2+1402290]\n\tOrdinal0 [0x00E455CA+1332682]\n\tOrdinal0 [0x00E5495F+1395039]\n\tOrdinal0 [0x00E4545B+1332315]\n\tOrdinal0 [0x00E21FB4+1187764]\n\tOrdinal0 [0x00E22E09+1191433]\n\tGetHandleVerifier [0x010E3396+1551078]\n\tGetHandleVerifier [0x0118D53A+2247818]\n\tGetHandleVerifier [0x00FE7FBB+521995]\n\tGetHandleVerifier [0x00FE7079+518089]\n\tOrdinal0 [0x00EFBD4D+2080077]\n\tOrdinal0 [0x00EFFC18+2096152]\n\tOrdinal0 [0x00EFFD52+2096466]\n\tOrdinal0 [0x00F094B1+2135217]\n\tBaseThreadInitThunk [0x75DFFA29+25]\n\tRtlGetAppContainerNamedObjectPath [0x77307A9E+286]\n\tRtlGetAppContainerNamedObjectPath [0x77307A6E+238]\n"
     ]
    }
   ],
   "source": [
    "driver = webdriver.Chrome(path)\n",
    "driver.get('https://www.yelp.com')\n",
    "search = driver.find_element_by_id('dropperText_Mast')\n",
    "search.send_keys('Current Location')\n",
    "time.sleep(4)\n",
    "search.send_keys(Keys.DOWN)\n",
    "restaraunt = driver.find_element_by_id('find_desc')\n",
    "restaraunt.send_keys('Rest')\n",
    "time.sleep(4)\n",
    "restaraunt.send_keys(Keys.DOWN,Keys.RETURN)\n",
    "more = driver.find_element_by_name('Broaddus Burgers')\n",
    "time.sleep(2)\n",
    "more.send_keys(Keys.RETURN)\n",
    "time.sleep(3)\n",
    "driver.find_element_by_class_name('css-1joxor6').click()\n",
    "bad_review_dict = { 'review':[]}\n",
    "\n",
    "for x in range(0,20):   \n",
    "    soup = BeautifulSoup(driver.page_source,'html.parser')\n",
    "    review = soup.findAll('p',lang='en')\n",
    "    title = soup.find('h1',class_='css-m7s7xv')\n",
    "    for y in range(0, len(review)):\n",
    "        bad_review_dict['review'].append(review[y].text)\n",
    "\n",
    "    time.sleep(6)    \n",
    "    driver.find_element_by_link_text(\"Next\").click()\n"
   ]
  },
  {
   "cell_type": "code",
   "execution_count": 774,
   "metadata": {},
   "outputs": [],
   "source": [
    "broaddus_NR_review = pd.DataFrame.from_dict(bad_review_dict)"
   ]
  },
  {
   "cell_type": "code",
   "execution_count": 776,
   "metadata": {},
   "outputs": [
    {
     "data": {
      "text/html": [
       "<div>\n",
       "<style scoped>\n",
       "    .dataframe tbody tr th:only-of-type {\n",
       "        vertical-align: middle;\n",
       "    }\n",
       "\n",
       "    .dataframe tbody tr th {\n",
       "        vertical-align: top;\n",
       "    }\n",
       "\n",
       "    .dataframe thead th {\n",
       "        text-align: right;\n",
       "    }\n",
       "</style>\n",
       "<table border=\"1\" class=\"dataframe\">\n",
       "  <thead>\n",
       "    <tr style=\"text-align: right;\">\n",
       "      <th></th>\n",
       "      <th>review</th>\n",
       "      <th>gone</th>\n",
       "    </tr>\n",
       "  </thead>\n",
       "  <tbody>\n",
       "    <tr>\n",
       "      <th>0</th>\n",
       "      <td>good burgers on kaliste, but painfully slow. especially during a lunch hour.maybe growing pains, but wait time  has to be addressed. 4 stars for burger, 1 star for service.</td>\n",
       "      <td></td>\n",
       "    </tr>\n",
       "    <tr>\n",
       "      <th>1</th>\n",
       "      <td>This place has been several different restaurants.  Bad location.  The burgers are nothing to write home about.  I give them 6 months before there is another restaurant in their place.</td>\n",
       "      <td></td>\n",
       "    </tr>\n",
       "    <tr>\n",
       "      <th>2</th>\n",
       "      <td>It was OK.  Nothing to write home about.</td>\n",
       "      <td></td>\n",
       "    </tr>\n",
       "    <tr>\n",
       "      <th>3</th>\n",
       "      <td>Eh. From what I read and saw online it looked great, but I asked for no pickles and I got pickles. The burger was tiny and the pineapple looked like it came from a can. I was and am still very disappointed and will not be going back-</td>\n",
       "      <td></td>\n",
       "    </tr>\n",
       "    <tr>\n",
       "      <th>4</th>\n",
       "      <td>Different and good. Ate there a handful of times.</td>\n",
       "      <td></td>\n",
       "    </tr>\n",
       "    <tr>\n",
       "      <th>...</th>\n",
       "      <td>...</td>\n",
       "      <td>...</td>\n",
       "    </tr>\n",
       "    <tr>\n",
       "      <th>93</th>\n",
       "      <td>When you pull up it is set up just like Sonic ( probably what it used to be) but don't you will not find fast food here.The burgers are big and have a lot of options. We ordered fries and onion rings to go with our burgers (sold separately) The fries are seasoned and we very good. The onion rings were also good. Jalapeño poppers were in the top 3 I have ever had.In addition to regular burger joint food they also sell protein shakes. The owner delivered our food him self. We had a chance to chat with him. He is very pleasant.</td>\n",
       "      <td></td>\n",
       "    </tr>\n",
       "    <tr>\n",
       "      <th>94</th>\n",
       "      <td>Very good Burgers!!</td>\n",
       "      <td></td>\n",
       "    </tr>\n",
       "    <tr>\n",
       "      <th>95</th>\n",
       "      <td>This review has been removed for violating our Terms of Service</td>\n",
       "      <td>yes</td>\n",
       "    </tr>\n",
       "    <tr>\n",
       "      <th>96</th>\n",
       "      <td>This review has been removed for violating our Terms of Service</td>\n",
       "      <td>yes</td>\n",
       "    </tr>\n",
       "    <tr>\n",
       "      <th>97</th>\n",
       "      <td>This review has been removed for violating our Terms of Service</td>\n",
       "      <td>yes</td>\n",
       "    </tr>\n",
       "  </tbody>\n",
       "</table>\n",
       "<p>98 rows × 2 columns</p>\n",
       "</div>"
      ],
      "text/plain": [
       "                                                                                                                                                                                                                                                                                                                                                                                                                                                                                                                                                review  \\\n",
       "0                                                                                                                                                                                                                                                                                                                                                                         good burgers on kaliste, but painfully slow. especially during a lunch hour.maybe growing pains, but wait time  has to be addressed. 4 stars for burger, 1 star for service.   \n",
       "1                                                                                                                                                                                                                                                                                                                                                             This place has been several different restaurants.  Bad location.  The burgers are nothing to write home about.  I give them 6 months before there is another restaurant in their place.   \n",
       "2                                                                                                                                                                                                                                                                                                                                                                                                                                                                                                             It was OK.  Nothing to write home about.   \n",
       "3                                                                                                                                                                                                                                                                                                            Eh. From what I read and saw online it looked great, but I asked for no pickles and I got pickles. The burger was tiny and the pineapple looked like it came from a can. I was and am still very disappointed and will not be going back-   \n",
       "4                                                                                                                                                                                                                                                                                                                                                                                                                                                                                                    Different and good. Ate there a handful of times.   \n",
       "..                                                                                                                                                                                                                                                                                                                                                                                                                                                                                                                                                 ...   \n",
       "93  When you pull up it is set up just like Sonic ( probably what it used to be) but don't you will not find fast food here.The burgers are big and have a lot of options. We ordered fries and onion rings to go with our burgers (sold separately) The fries are seasoned and we very good. The onion rings were also good. Jalapeño poppers were in the top 3 I have ever had.In addition to regular burger joint food they also sell protein shakes. The owner delivered our food him self. We had a chance to chat with him. He is very pleasant.   \n",
       "94                                                                                                                                                                                                                                                                                                                                                                                                                                                                                                                                 Very good Burgers!!   \n",
       "95                                                                                                                                                                                                                                                                                                                                                                                                                                                                                     This review has been removed for violating our Terms of Service   \n",
       "96                                                                                                                                                                                                                                                                                                                                                                                                                                                                                     This review has been removed for violating our Terms of Service   \n",
       "97                                                                                                                                                                                                                                                                                                                                                                                                                                                                                     This review has been removed for violating our Terms of Service   \n",
       "\n",
       "   gone  \n",
       "0        \n",
       "1        \n",
       "2        \n",
       "3        \n",
       "4        \n",
       "..  ...  \n",
       "93       \n",
       "94       \n",
       "95  yes  \n",
       "96  yes  \n",
       "97  yes  \n",
       "\n",
       "[98 rows x 2 columns]"
      ]
     },
     "execution_count": 776,
     "metadata": {},
     "output_type": "execute_result"
    }
   ],
   "source": [
    "clean_it(broaddus_NR_review,'review',['This review has been removed for violating our Terms of Service'])"
   ]
  },
  {
   "cell_type": "code",
   "execution_count": 777,
   "metadata": {},
   "outputs": [],
   "source": [
    "broaddus_NR_review = broaddus_NR_review[broaddus_NR_review['gone'] != 'yes']"
   ]
  },
  {
   "cell_type": "code",
   "execution_count": 779,
   "metadata": {},
   "outputs": [],
   "source": [
    "broaddus_NR_pickle = open('broaddus_NR_review', 'wb')\n",
    "pickle.dump(broaddus_NR_review, broaddus_NR_pickle)\n",
    "picklefile.close()"
   ]
  },
  {
   "cell_type": "code",
   "execution_count": 780,
   "metadata": {},
   "outputs": [
    {
     "name": "stderr",
     "output_type": "stream",
     "text": [
      "<ipython-input-780-c3cb43966cd1>:1: DeprecationWarning: executable_path has been deprecated, please pass in a Service object\n",
      "  driver = webdriver.Chrome(path)\n",
      "<ipython-input-780-c3cb43966cd1>:3: DeprecationWarning: find_element_by_* commands are deprecated. Please use find_element() instead\n",
      "  search = driver.find_element_by_id('dropperText_Mast')\n",
      "<ipython-input-780-c3cb43966cd1>:7: DeprecationWarning: find_element_by_* commands are deprecated. Please use find_element() instead\n",
      "  restaraunt = driver.find_element_by_id('find_desc')\n",
      "<ipython-input-780-c3cb43966cd1>:11: DeprecationWarning: find_element_by_* commands are deprecated. Please use find_element() instead\n",
      "  more = driver.find_element_by_name('Bon Temps Grill')\n",
      "<ipython-input-780-c3cb43966cd1>:15: DeprecationWarning: find_element_by_* commands are deprecated. Please use find_element() instead\n",
      "  driver.find_element_by_class_name('css-1joxor6').click()\n",
      "<ipython-input-780-c3cb43966cd1>:26: DeprecationWarning: find_element_by_* commands are deprecated. Please use find_element() instead\n",
      "  driver.find_element_by_link_text(\"Next\").click()\n"
     ]
    },
    {
     "ename": "NoSuchElementException",
     "evalue": "Message: no such element: Unable to locate element: {\"method\":\"link text\",\"selector\":\"Next\"}\n  (Session info: chrome=94.0.4606.81)\nStacktrace:\nBacktrace:\n\tOrdinal0 [0x00F5B9D3+2472403]\n\tOrdinal0 [0x00EF6961+2058593]\n\tOrdinal0 [0x00E022B8+1057464]\n\tOrdinal0 [0x00E2C68B+1230475]\n\tOrdinal0 [0x00E565B2+1402290]\n\tOrdinal0 [0x00E455CA+1332682]\n\tOrdinal0 [0x00E5495F+1395039]\n\tOrdinal0 [0x00E4545B+1332315]\n\tOrdinal0 [0x00E21FB4+1187764]\n\tOrdinal0 [0x00E22E09+1191433]\n\tGetHandleVerifier [0x010E3396+1551078]\n\tGetHandleVerifier [0x0118D53A+2247818]\n\tGetHandleVerifier [0x00FE7FBB+521995]\n\tGetHandleVerifier [0x00FE7079+518089]\n\tOrdinal0 [0x00EFBD4D+2080077]\n\tOrdinal0 [0x00EFFC18+2096152]\n\tOrdinal0 [0x00EFFD52+2096466]\n\tOrdinal0 [0x00F094B1+2135217]\n\tBaseThreadInitThunk [0x75DFFA29+25]\n\tRtlGetAppContainerNamedObjectPath [0x77307A9E+286]\n\tRtlGetAppContainerNamedObjectPath [0x77307A6E+238]\n",
     "output_type": "error",
     "traceback": [
      "\u001b[1;31m---------------------------------------------------------------------------\u001b[0m",
      "\u001b[1;31mNoSuchElementException\u001b[0m                    Traceback (most recent call last)",
      "\u001b[1;32m<ipython-input-780-c3cb43966cd1>\u001b[0m in \u001b[0;36m<module>\u001b[1;34m\u001b[0m\n\u001b[0;32m     24\u001b[0m \u001b[1;33m\u001b[0m\u001b[0m\n\u001b[0;32m     25\u001b[0m     \u001b[0mtime\u001b[0m\u001b[1;33m.\u001b[0m\u001b[0msleep\u001b[0m\u001b[1;33m(\u001b[0m\u001b[1;36m6\u001b[0m\u001b[1;33m)\u001b[0m\u001b[1;33m\u001b[0m\u001b[1;33m\u001b[0m\u001b[0m\n\u001b[1;32m---> 26\u001b[1;33m     \u001b[0mdriver\u001b[0m\u001b[1;33m.\u001b[0m\u001b[0mfind_element_by_link_text\u001b[0m\u001b[1;33m(\u001b[0m\u001b[1;34m\"Next\"\u001b[0m\u001b[1;33m)\u001b[0m\u001b[1;33m.\u001b[0m\u001b[0mclick\u001b[0m\u001b[1;33m(\u001b[0m\u001b[1;33m)\u001b[0m\u001b[1;33m\u001b[0m\u001b[1;33m\u001b[0m\u001b[0m\n\u001b[0m",
      "\u001b[1;32m~\\anaconda3\\envs\\learn-env\\lib\\site-packages\\selenium\\webdriver\\remote\\webdriver.py\u001b[0m in \u001b[0;36mfind_element_by_link_text\u001b[1;34m(self, link_text)\u001b[0m\n\u001b[0;32m    560\u001b[0m             \u001b[0mstacklevel\u001b[0m\u001b[1;33m=\u001b[0m\u001b[1;36m2\u001b[0m\u001b[1;33m,\u001b[0m\u001b[1;33m\u001b[0m\u001b[1;33m\u001b[0m\u001b[0m\n\u001b[0;32m    561\u001b[0m         )\n\u001b[1;32m--> 562\u001b[1;33m         \u001b[1;32mreturn\u001b[0m \u001b[0mself\u001b[0m\u001b[1;33m.\u001b[0m\u001b[0mfind_element\u001b[0m\u001b[1;33m(\u001b[0m\u001b[0mby\u001b[0m\u001b[1;33m=\u001b[0m\u001b[0mBy\u001b[0m\u001b[1;33m.\u001b[0m\u001b[0mLINK_TEXT\u001b[0m\u001b[1;33m,\u001b[0m \u001b[0mvalue\u001b[0m\u001b[1;33m=\u001b[0m\u001b[0mlink_text\u001b[0m\u001b[1;33m)\u001b[0m\u001b[1;33m\u001b[0m\u001b[1;33m\u001b[0m\u001b[0m\n\u001b[0m\u001b[0;32m    563\u001b[0m \u001b[1;33m\u001b[0m\u001b[0m\n\u001b[0;32m    564\u001b[0m     \u001b[1;32mdef\u001b[0m \u001b[0mfind_elements_by_link_text\u001b[0m\u001b[1;33m(\u001b[0m\u001b[0mself\u001b[0m\u001b[1;33m,\u001b[0m \u001b[0mtext\u001b[0m\u001b[1;33m)\u001b[0m \u001b[1;33m->\u001b[0m \u001b[0mWebElement\u001b[0m\u001b[1;33m:\u001b[0m\u001b[1;33m\u001b[0m\u001b[1;33m\u001b[0m\u001b[0m\n",
      "\u001b[1;32m~\\anaconda3\\envs\\learn-env\\lib\\site-packages\\selenium\\webdriver\\remote\\webdriver.py\u001b[0m in \u001b[0;36mfind_element\u001b[1;34m(self, by, value)\u001b[0m\n\u001b[0;32m   1236\u001b[0m             \u001b[0mvalue\u001b[0m \u001b[1;33m=\u001b[0m \u001b[1;34m'[name=\"%s\"]'\u001b[0m \u001b[1;33m%\u001b[0m \u001b[0mvalue\u001b[0m\u001b[1;33m\u001b[0m\u001b[1;33m\u001b[0m\u001b[0m\n\u001b[0;32m   1237\u001b[0m \u001b[1;33m\u001b[0m\u001b[0m\n\u001b[1;32m-> 1238\u001b[1;33m         return self.execute(Command.FIND_ELEMENT, {\n\u001b[0m\u001b[0;32m   1239\u001b[0m             \u001b[1;34m'using'\u001b[0m\u001b[1;33m:\u001b[0m \u001b[0mby\u001b[0m\u001b[1;33m,\u001b[0m\u001b[1;33m\u001b[0m\u001b[1;33m\u001b[0m\u001b[0m\n\u001b[0;32m   1240\u001b[0m             'value': value})['value']\n",
      "\u001b[1;32m~\\anaconda3\\envs\\learn-env\\lib\\site-packages\\selenium\\webdriver\\remote\\webdriver.py\u001b[0m in \u001b[0;36mexecute\u001b[1;34m(self, driver_command, params)\u001b[0m\n\u001b[0;32m    416\u001b[0m         \u001b[0mresponse\u001b[0m \u001b[1;33m=\u001b[0m \u001b[0mself\u001b[0m\u001b[1;33m.\u001b[0m\u001b[0mcommand_executor\u001b[0m\u001b[1;33m.\u001b[0m\u001b[0mexecute\u001b[0m\u001b[1;33m(\u001b[0m\u001b[0mdriver_command\u001b[0m\u001b[1;33m,\u001b[0m \u001b[0mparams\u001b[0m\u001b[1;33m)\u001b[0m\u001b[1;33m\u001b[0m\u001b[1;33m\u001b[0m\u001b[0m\n\u001b[0;32m    417\u001b[0m         \u001b[1;32mif\u001b[0m \u001b[0mresponse\u001b[0m\u001b[1;33m:\u001b[0m\u001b[1;33m\u001b[0m\u001b[1;33m\u001b[0m\u001b[0m\n\u001b[1;32m--> 418\u001b[1;33m             \u001b[0mself\u001b[0m\u001b[1;33m.\u001b[0m\u001b[0merror_handler\u001b[0m\u001b[1;33m.\u001b[0m\u001b[0mcheck_response\u001b[0m\u001b[1;33m(\u001b[0m\u001b[0mresponse\u001b[0m\u001b[1;33m)\u001b[0m\u001b[1;33m\u001b[0m\u001b[1;33m\u001b[0m\u001b[0m\n\u001b[0m\u001b[0;32m    419\u001b[0m             response['value'] = self._unwrap_value(\n\u001b[0;32m    420\u001b[0m                 response.get('value', None))\n",
      "\u001b[1;32m~\\anaconda3\\envs\\learn-env\\lib\\site-packages\\selenium\\webdriver\\remote\\errorhandler.py\u001b[0m in \u001b[0;36mcheck_response\u001b[1;34m(self, response)\u001b[0m\n\u001b[0;32m    241\u001b[0m                 \u001b[0malert_text\u001b[0m \u001b[1;33m=\u001b[0m \u001b[0mvalue\u001b[0m\u001b[1;33m[\u001b[0m\u001b[1;34m'alert'\u001b[0m\u001b[1;33m]\u001b[0m\u001b[1;33m.\u001b[0m\u001b[0mget\u001b[0m\u001b[1;33m(\u001b[0m\u001b[1;34m'text'\u001b[0m\u001b[1;33m)\u001b[0m\u001b[1;33m\u001b[0m\u001b[1;33m\u001b[0m\u001b[0m\n\u001b[0;32m    242\u001b[0m             \u001b[1;32mraise\u001b[0m \u001b[0mexception_class\u001b[0m\u001b[1;33m(\u001b[0m\u001b[0mmessage\u001b[0m\u001b[1;33m,\u001b[0m \u001b[0mscreen\u001b[0m\u001b[1;33m,\u001b[0m \u001b[0mstacktrace\u001b[0m\u001b[1;33m,\u001b[0m \u001b[0malert_text\u001b[0m\u001b[1;33m)\u001b[0m  \u001b[1;31m# type: ignore[call-arg]  # mypy is not smart enough here\u001b[0m\u001b[1;33m\u001b[0m\u001b[1;33m\u001b[0m\u001b[0m\n\u001b[1;32m--> 243\u001b[1;33m         \u001b[1;32mraise\u001b[0m \u001b[0mexception_class\u001b[0m\u001b[1;33m(\u001b[0m\u001b[0mmessage\u001b[0m\u001b[1;33m,\u001b[0m \u001b[0mscreen\u001b[0m\u001b[1;33m,\u001b[0m \u001b[0mstacktrace\u001b[0m\u001b[1;33m)\u001b[0m\u001b[1;33m\u001b[0m\u001b[1;33m\u001b[0m\u001b[0m\n\u001b[0m\u001b[0;32m    244\u001b[0m \u001b[1;33m\u001b[0m\u001b[0m\n\u001b[0;32m    245\u001b[0m     \u001b[1;32mdef\u001b[0m \u001b[0m_value_or_default\u001b[0m\u001b[1;33m(\u001b[0m\u001b[0mself\u001b[0m\u001b[1;33m,\u001b[0m \u001b[0mobj\u001b[0m\u001b[1;33m:\u001b[0m \u001b[0mMapping\u001b[0m\u001b[1;33m[\u001b[0m\u001b[0m_KT\u001b[0m\u001b[1;33m,\u001b[0m \u001b[0m_VT\u001b[0m\u001b[1;33m]\u001b[0m\u001b[1;33m,\u001b[0m \u001b[0mkey\u001b[0m\u001b[1;33m:\u001b[0m \u001b[0m_KT\u001b[0m\u001b[1;33m,\u001b[0m \u001b[0mdefault\u001b[0m\u001b[1;33m:\u001b[0m \u001b[0m_VT\u001b[0m\u001b[1;33m)\u001b[0m \u001b[1;33m->\u001b[0m \u001b[0m_VT\u001b[0m\u001b[1;33m:\u001b[0m\u001b[1;33m\u001b[0m\u001b[1;33m\u001b[0m\u001b[0m\n",
      "\u001b[1;31mNoSuchElementException\u001b[0m: Message: no such element: Unable to locate element: {\"method\":\"link text\",\"selector\":\"Next\"}\n  (Session info: chrome=94.0.4606.81)\nStacktrace:\nBacktrace:\n\tOrdinal0 [0x00F5B9D3+2472403]\n\tOrdinal0 [0x00EF6961+2058593]\n\tOrdinal0 [0x00E022B8+1057464]\n\tOrdinal0 [0x00E2C68B+1230475]\n\tOrdinal0 [0x00E565B2+1402290]\n\tOrdinal0 [0x00E455CA+1332682]\n\tOrdinal0 [0x00E5495F+1395039]\n\tOrdinal0 [0x00E4545B+1332315]\n\tOrdinal0 [0x00E21FB4+1187764]\n\tOrdinal0 [0x00E22E09+1191433]\n\tGetHandleVerifier [0x010E3396+1551078]\n\tGetHandleVerifier [0x0118D53A+2247818]\n\tGetHandleVerifier [0x00FE7FBB+521995]\n\tGetHandleVerifier [0x00FE7079+518089]\n\tOrdinal0 [0x00EFBD4D+2080077]\n\tOrdinal0 [0x00EFFC18+2096152]\n\tOrdinal0 [0x00EFFD52+2096466]\n\tOrdinal0 [0x00F094B1+2135217]\n\tBaseThreadInitThunk [0x75DFFA29+25]\n\tRtlGetAppContainerNamedObjectPath [0x77307A9E+286]\n\tRtlGetAppContainerNamedObjectPath [0x77307A6E+238]\n"
     ]
    }
   ],
   "source": [
    "driver = webdriver.Chrome(path)\n",
    "driver.get('https://www.yelp.com')\n",
    "search = driver.find_element_by_id('dropperText_Mast')\n",
    "search.send_keys('Current Location')\n",
    "time.sleep(4)\n",
    "search.send_keys(Keys.DOWN)\n",
    "restaraunt = driver.find_element_by_id('find_desc')\n",
    "restaraunt.send_keys('Rest')\n",
    "time.sleep(4)\n",
    "restaraunt.send_keys(Keys.DOWN,Keys.RETURN)\n",
    "more = driver.find_element_by_name('Bon Temps Grill')\n",
    "time.sleep(2)\n",
    "more.send_keys(Keys.RETURN)\n",
    "time.sleep(3)\n",
    "driver.find_element_by_class_name('css-1joxor6').click()\n",
    "bad_review_dict = { 'review':[]}\n",
    "\n",
    "for x in range(0,20):   \n",
    "    soup = BeautifulSoup(driver.page_source,'html.parser')\n",
    "    review = soup.findAll('p',lang='en')\n",
    "    title = soup.find('h1',class_='css-m7s7xv')\n",
    "    for y in range(0, len(review)):\n",
    "        bad_review_dict['review'].append(review[y].text)\n",
    "\n",
    "    time.sleep(6)    \n",
    "    driver.find_element_by_link_text(\"Next\").click()"
   ]
  },
  {
   "cell_type": "code",
   "execution_count": 782,
   "metadata": {},
   "outputs": [],
   "source": [
    "BonTemps_NR_reviews = pd.DataFrame.from_dict(bad_review_dict)"
   ]
  },
  {
   "cell_type": "code",
   "execution_count": 785,
   "metadata": {},
   "outputs": [
    {
     "data": {
      "text/html": [
       "<div>\n",
       "<style scoped>\n",
       "    .dataframe tbody tr th:only-of-type {\n",
       "        vertical-align: middle;\n",
       "    }\n",
       "\n",
       "    .dataframe tbody tr th {\n",
       "        vertical-align: top;\n",
       "    }\n",
       "\n",
       "    .dataframe thead th {\n",
       "        text-align: right;\n",
       "    }\n",
       "</style>\n",
       "<table border=\"1\" class=\"dataframe\">\n",
       "  <thead>\n",
       "    <tr style=\"text-align: right;\">\n",
       "      <th></th>\n",
       "      <th>review</th>\n",
       "      <th>gone</th>\n",
       "    </tr>\n",
       "  </thead>\n",
       "  <tbody>\n",
       "    <tr>\n",
       "      <th>0</th>\n",
       "      <td>Went based on reviews (4 1/2 stars) and I just don't get it. Staff was friendly, atmosphere was good but shrimp and grits, gumbo, and fish tacos were disappointing.</td>\n",
       "      <td></td>\n",
       "    </tr>\n",
       "    <tr>\n",
       "      <th>1</th>\n",
       "      <td>This has to be one of the worst restaurants I have ever been to.  The atmosphere was gawd awful, waitress made it very clear and direct that she did not want to be there, even admitted she does not eat there.  And lastly, the food was abhorrent.</td>\n",
       "      <td></td>\n",
       "    </tr>\n",
       "    <tr>\n",
       "      <th>2</th>\n",
       "      <td>For starters some other guests who were dining at the same time as we were had their DOG inside the restaurant!! It WAS NOT a service animal it was an 10 or 12 week old puppy that they were more than willing to let people pet and play with, including the staff. UNACCEPTABLE!!!!!!!! Disgusting, will never be back based on that alone, because who knows what else they let slide. The food was mediocre my steak was overcooked, the \"fries\" were undercooked and under seasoned, not to mention not very many menu choices. and finally the service was alright, a guest should never be slurping melted ice to stay hydrated and have to ask for a kids menu 3 times.</td>\n",
       "      <td></td>\n",
       "    </tr>\n",
       "    <tr>\n",
       "      <th>3</th>\n",
       "      <td>One star was earned for the clean, casual surroundings and prompt service.  Downhill from there with the shrimp remoulade appetizer.  As soon as it was set down the stench of spoiled shrimp came wafting through the scant brown mustard \"remoulade\" sauce.  Any server or chef should have smelled that before serving.  A closer look showed translucent, mushy rotten smelling--probably imported and frozen- shrimp.  I called the waiter back and asked him to smell it, which he did and apologized, saying he would speak with the chef.  He returned to the customer area but never returned to the table. There were only about 6 customers there on a Friday lunch.  I got up and told him we were leaving, cancel the rest of the order.  When we got outside, the manager caught up to us saying he hoped we would come back and give them a second chance.  Not on my life!</td>\n",
       "      <td></td>\n",
       "    </tr>\n",
       "    <tr>\n",
       "      <th>4</th>\n",
       "      <td>Im not a huge fan of this place. Their chicken was decent in my salad, but the portions seem fairly small and cost quite a bit. I am just not sold completely on eating here again.</td>\n",
       "      <td></td>\n",
       "    </tr>\n",
       "    <tr>\n",
       "      <th>...</th>\n",
       "      <td>...</td>\n",
       "      <td>...</td>\n",
       "    </tr>\n",
       "    <tr>\n",
       "      <th>137</th>\n",
       "      <td>Whether you live in Lafayette or you are visiting this place is a must go.  They are super nice and the food is mouth watering good and the flavor. Oh.... the flavor!  I am getting hungry just going back towrite this.  I can say that this is now an official stopping point for me as much as I can handle it!</td>\n",
       "      <td></td>\n",
       "    </tr>\n",
       "    <tr>\n",
       "      <th>138</th>\n",
       "      <td>Great service and great food!!!</td>\n",
       "      <td></td>\n",
       "    </tr>\n",
       "    <tr>\n",
       "      <th>139</th>\n",
       "      <td>This review has been removed for violating our Terms of Service</td>\n",
       "      <td>yes</td>\n",
       "    </tr>\n",
       "    <tr>\n",
       "      <th>140</th>\n",
       "      <td>This review has been removed for violating our Terms of Service</td>\n",
       "      <td>yes</td>\n",
       "    </tr>\n",
       "    <tr>\n",
       "      <th>141</th>\n",
       "      <td>This review has been removed for violating our Terms of Service</td>\n",
       "      <td>yes</td>\n",
       "    </tr>\n",
       "  </tbody>\n",
       "</table>\n",
       "<p>142 rows × 2 columns</p>\n",
       "</div>"
      ],
      "text/plain": [
       "                                                                                                                                                                                                                                                                                                                                                                                                                                                                                                                                                                                                                                                                                                                                                                                                                                                                                         review  \\\n",
       "0                                                                                                                                                                                                                                                                                                                                                                                                                                                                                                                                                                                                                                                                                                                          Went based on reviews (4 1/2 stars) and I just don't get it. Staff was friendly, atmosphere was good but shrimp and grits, gumbo, and fish tacos were disappointing.   \n",
       "1                                                                                                                                                                                                                                                                                                                                                                                                                                                                                                                                                                                                                                         This has to be one of the worst restaurants I have ever been to.  The atmosphere was gawd awful, waitress made it very clear and direct that she did not want to be there, even admitted she does not eat there.  And lastly, the food was abhorrent.   \n",
       "2                                                                                                                                                                                                              For starters some other guests who were dining at the same time as we were had their DOG inside the restaurant!! It WAS NOT a service animal it was an 10 or 12 week old puppy that they were more than willing to let people pet and play with, including the staff. UNACCEPTABLE!!!!!!!! Disgusting, will never be back based on that alone, because who knows what else they let slide. The food was mediocre my steak was overcooked, the \"fries\" were undercooked and under seasoned, not to mention not very many menu choices. and finally the service was alright, a guest should never be slurping melted ice to stay hydrated and have to ask for a kids menu 3 times.   \n",
       "3    One star was earned for the clean, casual surroundings and prompt service.  Downhill from there with the shrimp remoulade appetizer.  As soon as it was set down the stench of spoiled shrimp came wafting through the scant brown mustard \"remoulade\" sauce.  Any server or chef should have smelled that before serving.  A closer look showed translucent, mushy rotten smelling--probably imported and frozen- shrimp.  I called the waiter back and asked him to smell it, which he did and apologized, saying he would speak with the chef.  He returned to the customer area but never returned to the table. There were only about 6 customers there on a Friday lunch.  I got up and told him we were leaving, cancel the rest of the order.  When we got outside, the manager caught up to us saying he hoped we would come back and give them a second chance.  Not on my life!   \n",
       "4                                                                                                                                                                                                                                                                                                                                                                                                                                                                                                                                                                                                                                                                                                           Im not a huge fan of this place. Their chicken was decent in my salad, but the portions seem fairly small and cost quite a bit. I am just not sold completely on eating here again.   \n",
       "..                                                                                                                                                                                                                                                                                                                                                                                                                                                                                                                                                                                                                                                                                                                                                                                                                                                                                          ...   \n",
       "137                                                                                                                                                                                                                                                                                                                                                                                                                                                                                                                                                                         Whether you live in Lafayette or you are visiting this place is a must go.  They are super nice and the food is mouth watering good and the flavor. Oh.... the flavor!  I am getting hungry just going back towrite this.  I can say that this is now an official stopping point for me as much as I can handle it!   \n",
       "138                                                                                                                                                                                                                                                                                                                                                                                                                                                                                                                                                                                                                                                                                                                                                                                                                                                             Great service and great food!!!   \n",
       "139                                                                                                                                                                                                                                                                                                                                                                                                                                                                                                                                                                                                                                                                                                                                                                                                                             This review has been removed for violating our Terms of Service   \n",
       "140                                                                                                                                                                                                                                                                                                                                                                                                                                                                                                                                                                                                                                                                                                                                                                                                                             This review has been removed for violating our Terms of Service   \n",
       "141                                                                                                                                                                                                                                                                                                                                                                                                                                                                                                                                                                                                                                                                                                                                                                                                                             This review has been removed for violating our Terms of Service   \n",
       "\n",
       "    gone  \n",
       "0         \n",
       "1         \n",
       "2         \n",
       "3         \n",
       "4         \n",
       "..   ...  \n",
       "137       \n",
       "138       \n",
       "139  yes  \n",
       "140  yes  \n",
       "141  yes  \n",
       "\n",
       "[142 rows x 2 columns]"
      ]
     },
     "execution_count": 785,
     "metadata": {},
     "output_type": "execute_result"
    }
   ],
   "source": [
    "clean_it(BonTemps_NR_reviews,'review',['This review has been removed for violating our Terms of Service'])"
   ]
  },
  {
   "cell_type": "code",
   "execution_count": 787,
   "metadata": {},
   "outputs": [
    {
     "data": {
      "text/html": [
       "<div>\n",
       "<style scoped>\n",
       "    .dataframe tbody tr th:only-of-type {\n",
       "        vertical-align: middle;\n",
       "    }\n",
       "\n",
       "    .dataframe tbody tr th {\n",
       "        vertical-align: top;\n",
       "    }\n",
       "\n",
       "    .dataframe thead th {\n",
       "        text-align: right;\n",
       "    }\n",
       "</style>\n",
       "<table border=\"1\" class=\"dataframe\">\n",
       "  <thead>\n",
       "    <tr style=\"text-align: right;\">\n",
       "      <th></th>\n",
       "      <th>review</th>\n",
       "      <th>gone</th>\n",
       "    </tr>\n",
       "  </thead>\n",
       "  <tbody>\n",
       "    <tr>\n",
       "      <th>0</th>\n",
       "      <td>Went based on reviews (4 1/2 stars) and I just don't get it. Staff was friendly, atmosphere was good but shrimp and grits, gumbo, and fish tacos were disappointing.</td>\n",
       "      <td></td>\n",
       "    </tr>\n",
       "    <tr>\n",
       "      <th>1</th>\n",
       "      <td>This has to be one of the worst restaurants I have ever been to.  The atmosphere was gawd awful, waitress made it very clear and direct that she did not want to be there, even admitted she does not eat there.  And lastly, the food was abhorrent.</td>\n",
       "      <td></td>\n",
       "    </tr>\n",
       "    <tr>\n",
       "      <th>2</th>\n",
       "      <td>For starters some other guests who were dining at the same time as we were had their DOG inside the restaurant!! It WAS NOT a service animal it was an 10 or 12 week old puppy that they were more than willing to let people pet and play with, including the staff. UNACCEPTABLE!!!!!!!! Disgusting, will never be back based on that alone, because who knows what else they let slide. The food was mediocre my steak was overcooked, the \"fries\" were undercooked and under seasoned, not to mention not very many menu choices. and finally the service was alright, a guest should never be slurping melted ice to stay hydrated and have to ask for a kids menu 3 times.</td>\n",
       "      <td></td>\n",
       "    </tr>\n",
       "    <tr>\n",
       "      <th>3</th>\n",
       "      <td>One star was earned for the clean, casual surroundings and prompt service.  Downhill from there with the shrimp remoulade appetizer.  As soon as it was set down the stench of spoiled shrimp came wafting through the scant brown mustard \"remoulade\" sauce.  Any server or chef should have smelled that before serving.  A closer look showed translucent, mushy rotten smelling--probably imported and frozen- shrimp.  I called the waiter back and asked him to smell it, which he did and apologized, saying he would speak with the chef.  He returned to the customer area but never returned to the table. There were only about 6 customers there on a Friday lunch.  I got up and told him we were leaving, cancel the rest of the order.  When we got outside, the manager caught up to us saying he hoped we would come back and give them a second chance.  Not on my life!</td>\n",
       "      <td></td>\n",
       "    </tr>\n",
       "    <tr>\n",
       "      <th>4</th>\n",
       "      <td>Im not a huge fan of this place. Their chicken was decent in my salad, but the portions seem fairly small and cost quite a bit. I am just not sold completely on eating here again.</td>\n",
       "      <td></td>\n",
       "    </tr>\n",
       "    <tr>\n",
       "      <th>...</th>\n",
       "      <td>...</td>\n",
       "      <td>...</td>\n",
       "    </tr>\n",
       "    <tr>\n",
       "      <th>134</th>\n",
       "      <td>We found the Bon Temps Grill by complete accident in July 2012 when we were headed back home to North Texas from Florida. The food was phenomenal . My wife cannot get over how good the crawfish pot pie was. We had to stop back by this past March for another go on our way to New Orleans. I guarantee you that if we are within 100 miles again, we're heading to the Bon Temps Grill!</td>\n",
       "      <td></td>\n",
       "    </tr>\n",
       "    <tr>\n",
       "      <th>135</th>\n",
       "      <td>Doing a whole lot of things right! We will be back!</td>\n",
       "      <td></td>\n",
       "    </tr>\n",
       "    <tr>\n",
       "      <th>136</th>\n",
       "      <td>We were travelling the area (from Canada) and looking for a creole place to eat. We were recommended this restaurant and were very glad.The service was great.  The owner stopped by and chatted with us. Wait staff made sure we had everything.Food....well it was fantastic.  The frogs legs were to die for. Portions are substantial.I love my wine and was very surprised to see a nice selection of good wines.Eat here and you will not be disappointed.</td>\n",
       "      <td></td>\n",
       "    </tr>\n",
       "    <tr>\n",
       "      <th>137</th>\n",
       "      <td>Whether you live in Lafayette or you are visiting this place is a must go.  They are super nice and the food is mouth watering good and the flavor. Oh.... the flavor!  I am getting hungry just going back towrite this.  I can say that this is now an official stopping point for me as much as I can handle it!</td>\n",
       "      <td></td>\n",
       "    </tr>\n",
       "    <tr>\n",
       "      <th>138</th>\n",
       "      <td>Great service and great food!!!</td>\n",
       "      <td></td>\n",
       "    </tr>\n",
       "  </tbody>\n",
       "</table>\n",
       "<p>108 rows × 2 columns</p>\n",
       "</div>"
      ],
      "text/plain": [
       "                                                                                                                                                                                                                                                                                                                                                                                                                                                                                                                                                                                                                                                                                                                                                                                                                                                                                         review  \\\n",
       "0                                                                                                                                                                                                                                                                                                                                                                                                                                                                                                                                                                                                                                                                                                                          Went based on reviews (4 1/2 stars) and I just don't get it. Staff was friendly, atmosphere was good but shrimp and grits, gumbo, and fish tacos were disappointing.   \n",
       "1                                                                                                                                                                                                                                                                                                                                                                                                                                                                                                                                                                                                                                         This has to be one of the worst restaurants I have ever been to.  The atmosphere was gawd awful, waitress made it very clear and direct that she did not want to be there, even admitted she does not eat there.  And lastly, the food was abhorrent.   \n",
       "2                                                                                                                                                                                                              For starters some other guests who were dining at the same time as we were had their DOG inside the restaurant!! It WAS NOT a service animal it was an 10 or 12 week old puppy that they were more than willing to let people pet and play with, including the staff. UNACCEPTABLE!!!!!!!! Disgusting, will never be back based on that alone, because who knows what else they let slide. The food was mediocre my steak was overcooked, the \"fries\" were undercooked and under seasoned, not to mention not very many menu choices. and finally the service was alright, a guest should never be slurping melted ice to stay hydrated and have to ask for a kids menu 3 times.   \n",
       "3    One star was earned for the clean, casual surroundings and prompt service.  Downhill from there with the shrimp remoulade appetizer.  As soon as it was set down the stench of spoiled shrimp came wafting through the scant brown mustard \"remoulade\" sauce.  Any server or chef should have smelled that before serving.  A closer look showed translucent, mushy rotten smelling--probably imported and frozen- shrimp.  I called the waiter back and asked him to smell it, which he did and apologized, saying he would speak with the chef.  He returned to the customer area but never returned to the table. There were only about 6 customers there on a Friday lunch.  I got up and told him we were leaving, cancel the rest of the order.  When we got outside, the manager caught up to us saying he hoped we would come back and give them a second chance.  Not on my life!   \n",
       "4                                                                                                                                                                                                                                                                                                                                                                                                                                                                                                                                                                                                                                                                                                           Im not a huge fan of this place. Their chicken was decent in my salad, but the portions seem fairly small and cost quite a bit. I am just not sold completely on eating here again.   \n",
       "..                                                                                                                                                                                                                                                                                                                                                                                                                                                                                                                                                                                                                                                                                                                                                                                                                                                                                          ...   \n",
       "134                                                                                                                                                                                                                                                                                                                                                                                                                                                                                                We found the Bon Temps Grill by complete accident in July 2012 when we were headed back home to North Texas from Florida. The food was phenomenal . My wife cannot get over how good the crawfish pot pie was. We had to stop back by this past March for another go on our way to New Orleans. I guarantee you that if we are within 100 miles again, we're heading to the Bon Temps Grill!   \n",
       "135                                                                                                                                                                                                                                                                                                                                                                                                                                                                                                                                                                                                                                                                                                                                                                                                                                         Doing a whole lot of things right! We will be back!   \n",
       "136                                                                                                                                                                                                                                                                                                                                                                                                                            We were travelling the area (from Canada) and looking for a creole place to eat. We were recommended this restaurant and were very glad.The service was great.  The owner stopped by and chatted with us. Wait staff made sure we had everything.Food....well it was fantastic.  The frogs legs were to die for. Portions are substantial.I love my wine and was very surprised to see a nice selection of good wines.Eat here and you will not be disappointed.   \n",
       "137                                                                                                                                                                                                                                                                                                                                                                                                                                                                                                                                                                         Whether you live in Lafayette or you are visiting this place is a must go.  They are super nice and the food is mouth watering good and the flavor. Oh.... the flavor!  I am getting hungry just going back towrite this.  I can say that this is now an official stopping point for me as much as I can handle it!   \n",
       "138                                                                                                                                                                                                                                                                                                                                                                                                                                                                                                                                                                                                                                                                                                                                                                                                                                                             Great service and great food!!!   \n",
       "\n",
       "    gone  \n",
       "0         \n",
       "1         \n",
       "2         \n",
       "3         \n",
       "4         \n",
       "..   ...  \n",
       "134       \n",
       "135       \n",
       "136       \n",
       "137       \n",
       "138       \n",
       "\n",
       "[108 rows x 2 columns]"
      ]
     },
     "execution_count": 787,
     "metadata": {},
     "output_type": "execute_result"
    }
   ],
   "source": [
    "BonTemps_NR_reviews =  BonTemps_NR_reviews[BonTemps_NR_reviews['gone'] != 'yes']"
   ]
  },
  {
   "cell_type": "code",
   "execution_count": 788,
   "metadata": {},
   "outputs": [],
   "source": [
    "BonTemps_NR_pickle = open('BonTemps_NR_review', 'wb')\n",
    "pickle.dump(BonTemps_NR_reviews, BonTemps_NR_pickle)\n",
    "picklefile.close()"
   ]
  },
  {
   "cell_type": "code",
   "execution_count": 789,
   "metadata": {},
   "outputs": [
    {
     "name": "stderr",
     "output_type": "stream",
     "text": [
      "<ipython-input-789-0712645765de>:1: DeprecationWarning: executable_path has been deprecated, please pass in a Service object\n",
      "  driver = webdriver.Chrome(path)\n",
      "<ipython-input-789-0712645765de>:3: DeprecationWarning: find_element_by_* commands are deprecated. Please use find_element() instead\n",
      "  search = driver.find_element_by_id('dropperText_Mast')\n",
      "<ipython-input-789-0712645765de>:7: DeprecationWarning: find_element_by_* commands are deprecated. Please use find_element() instead\n",
      "  restaraunt = driver.find_element_by_id('find_desc')\n",
      "<ipython-input-789-0712645765de>:11: DeprecationWarning: find_element_by_* commands are deprecated. Please use find_element() instead\n",
      "  more = driver.find_element_by_name('Social Southern Table & Bar')\n",
      "<ipython-input-789-0712645765de>:15: DeprecationWarning: find_element_by_* commands are deprecated. Please use find_element() instead\n",
      "  driver.find_element_by_class_name('css-1joxor6').click()\n",
      "<ipython-input-789-0712645765de>:26: DeprecationWarning: find_element_by_* commands are deprecated. Please use find_element() instead\n",
      "  driver.find_element_by_link_text(\"Next\").click()\n"
     ]
    },
    {
     "ename": "NoSuchElementException",
     "evalue": "Message: no such element: Unable to locate element: {\"method\":\"link text\",\"selector\":\"Next\"}\n  (Session info: chrome=94.0.4606.81)\nStacktrace:\nBacktrace:\n\tOrdinal0 [0x00F5B9D3+2472403]\n\tOrdinal0 [0x00EF6961+2058593]\n\tOrdinal0 [0x00E022B8+1057464]\n\tOrdinal0 [0x00E2C68B+1230475]\n\tOrdinal0 [0x00E565B2+1402290]\n\tOrdinal0 [0x00E455CA+1332682]\n\tOrdinal0 [0x00E5495F+1395039]\n\tOrdinal0 [0x00E4545B+1332315]\n\tOrdinal0 [0x00E21FB4+1187764]\n\tOrdinal0 [0x00E22E09+1191433]\n\tGetHandleVerifier [0x010E3396+1551078]\n\tGetHandleVerifier [0x0118D53A+2247818]\n\tGetHandleVerifier [0x00FE7FBB+521995]\n\tGetHandleVerifier [0x00FE7079+518089]\n\tOrdinal0 [0x00EFBD4D+2080077]\n\tOrdinal0 [0x00EFFC18+2096152]\n\tOrdinal0 [0x00EFFD52+2096466]\n\tOrdinal0 [0x00F094B1+2135217]\n\tBaseThreadInitThunk [0x75DFFA29+25]\n\tRtlGetAppContainerNamedObjectPath [0x77307A9E+286]\n\tRtlGetAppContainerNamedObjectPath [0x77307A6E+238]\n",
     "output_type": "error",
     "traceback": [
      "\u001b[1;31m---------------------------------------------------------------------------\u001b[0m",
      "\u001b[1;31mNoSuchElementException\u001b[0m                    Traceback (most recent call last)",
      "\u001b[1;32m<ipython-input-789-0712645765de>\u001b[0m in \u001b[0;36m<module>\u001b[1;34m\u001b[0m\n\u001b[0;32m     24\u001b[0m \u001b[1;33m\u001b[0m\u001b[0m\n\u001b[0;32m     25\u001b[0m     \u001b[0mtime\u001b[0m\u001b[1;33m.\u001b[0m\u001b[0msleep\u001b[0m\u001b[1;33m(\u001b[0m\u001b[1;36m6\u001b[0m\u001b[1;33m)\u001b[0m\u001b[1;33m\u001b[0m\u001b[1;33m\u001b[0m\u001b[0m\n\u001b[1;32m---> 26\u001b[1;33m     \u001b[0mdriver\u001b[0m\u001b[1;33m.\u001b[0m\u001b[0mfind_element_by_link_text\u001b[0m\u001b[1;33m(\u001b[0m\u001b[1;34m\"Next\"\u001b[0m\u001b[1;33m)\u001b[0m\u001b[1;33m.\u001b[0m\u001b[0mclick\u001b[0m\u001b[1;33m(\u001b[0m\u001b[1;33m)\u001b[0m\u001b[1;33m\u001b[0m\u001b[1;33m\u001b[0m\u001b[0m\n\u001b[0m",
      "\u001b[1;32m~\\anaconda3\\envs\\learn-env\\lib\\site-packages\\selenium\\webdriver\\remote\\webdriver.py\u001b[0m in \u001b[0;36mfind_element_by_link_text\u001b[1;34m(self, link_text)\u001b[0m\n\u001b[0;32m    560\u001b[0m             \u001b[0mstacklevel\u001b[0m\u001b[1;33m=\u001b[0m\u001b[1;36m2\u001b[0m\u001b[1;33m,\u001b[0m\u001b[1;33m\u001b[0m\u001b[1;33m\u001b[0m\u001b[0m\n\u001b[0;32m    561\u001b[0m         )\n\u001b[1;32m--> 562\u001b[1;33m         \u001b[1;32mreturn\u001b[0m \u001b[0mself\u001b[0m\u001b[1;33m.\u001b[0m\u001b[0mfind_element\u001b[0m\u001b[1;33m(\u001b[0m\u001b[0mby\u001b[0m\u001b[1;33m=\u001b[0m\u001b[0mBy\u001b[0m\u001b[1;33m.\u001b[0m\u001b[0mLINK_TEXT\u001b[0m\u001b[1;33m,\u001b[0m \u001b[0mvalue\u001b[0m\u001b[1;33m=\u001b[0m\u001b[0mlink_text\u001b[0m\u001b[1;33m)\u001b[0m\u001b[1;33m\u001b[0m\u001b[1;33m\u001b[0m\u001b[0m\n\u001b[0m\u001b[0;32m    563\u001b[0m \u001b[1;33m\u001b[0m\u001b[0m\n\u001b[0;32m    564\u001b[0m     \u001b[1;32mdef\u001b[0m \u001b[0mfind_elements_by_link_text\u001b[0m\u001b[1;33m(\u001b[0m\u001b[0mself\u001b[0m\u001b[1;33m,\u001b[0m \u001b[0mtext\u001b[0m\u001b[1;33m)\u001b[0m \u001b[1;33m->\u001b[0m \u001b[0mWebElement\u001b[0m\u001b[1;33m:\u001b[0m\u001b[1;33m\u001b[0m\u001b[1;33m\u001b[0m\u001b[0m\n",
      "\u001b[1;32m~\\anaconda3\\envs\\learn-env\\lib\\site-packages\\selenium\\webdriver\\remote\\webdriver.py\u001b[0m in \u001b[0;36mfind_element\u001b[1;34m(self, by, value)\u001b[0m\n\u001b[0;32m   1236\u001b[0m             \u001b[0mvalue\u001b[0m \u001b[1;33m=\u001b[0m \u001b[1;34m'[name=\"%s\"]'\u001b[0m \u001b[1;33m%\u001b[0m \u001b[0mvalue\u001b[0m\u001b[1;33m\u001b[0m\u001b[1;33m\u001b[0m\u001b[0m\n\u001b[0;32m   1237\u001b[0m \u001b[1;33m\u001b[0m\u001b[0m\n\u001b[1;32m-> 1238\u001b[1;33m         return self.execute(Command.FIND_ELEMENT, {\n\u001b[0m\u001b[0;32m   1239\u001b[0m             \u001b[1;34m'using'\u001b[0m\u001b[1;33m:\u001b[0m \u001b[0mby\u001b[0m\u001b[1;33m,\u001b[0m\u001b[1;33m\u001b[0m\u001b[1;33m\u001b[0m\u001b[0m\n\u001b[0;32m   1240\u001b[0m             'value': value})['value']\n",
      "\u001b[1;32m~\\anaconda3\\envs\\learn-env\\lib\\site-packages\\selenium\\webdriver\\remote\\webdriver.py\u001b[0m in \u001b[0;36mexecute\u001b[1;34m(self, driver_command, params)\u001b[0m\n\u001b[0;32m    416\u001b[0m         \u001b[0mresponse\u001b[0m \u001b[1;33m=\u001b[0m \u001b[0mself\u001b[0m\u001b[1;33m.\u001b[0m\u001b[0mcommand_executor\u001b[0m\u001b[1;33m.\u001b[0m\u001b[0mexecute\u001b[0m\u001b[1;33m(\u001b[0m\u001b[0mdriver_command\u001b[0m\u001b[1;33m,\u001b[0m \u001b[0mparams\u001b[0m\u001b[1;33m)\u001b[0m\u001b[1;33m\u001b[0m\u001b[1;33m\u001b[0m\u001b[0m\n\u001b[0;32m    417\u001b[0m         \u001b[1;32mif\u001b[0m \u001b[0mresponse\u001b[0m\u001b[1;33m:\u001b[0m\u001b[1;33m\u001b[0m\u001b[1;33m\u001b[0m\u001b[0m\n\u001b[1;32m--> 418\u001b[1;33m             \u001b[0mself\u001b[0m\u001b[1;33m.\u001b[0m\u001b[0merror_handler\u001b[0m\u001b[1;33m.\u001b[0m\u001b[0mcheck_response\u001b[0m\u001b[1;33m(\u001b[0m\u001b[0mresponse\u001b[0m\u001b[1;33m)\u001b[0m\u001b[1;33m\u001b[0m\u001b[1;33m\u001b[0m\u001b[0m\n\u001b[0m\u001b[0;32m    419\u001b[0m             response['value'] = self._unwrap_value(\n\u001b[0;32m    420\u001b[0m                 response.get('value', None))\n",
      "\u001b[1;32m~\\anaconda3\\envs\\learn-env\\lib\\site-packages\\selenium\\webdriver\\remote\\errorhandler.py\u001b[0m in \u001b[0;36mcheck_response\u001b[1;34m(self, response)\u001b[0m\n\u001b[0;32m    241\u001b[0m                 \u001b[0malert_text\u001b[0m \u001b[1;33m=\u001b[0m \u001b[0mvalue\u001b[0m\u001b[1;33m[\u001b[0m\u001b[1;34m'alert'\u001b[0m\u001b[1;33m]\u001b[0m\u001b[1;33m.\u001b[0m\u001b[0mget\u001b[0m\u001b[1;33m(\u001b[0m\u001b[1;34m'text'\u001b[0m\u001b[1;33m)\u001b[0m\u001b[1;33m\u001b[0m\u001b[1;33m\u001b[0m\u001b[0m\n\u001b[0;32m    242\u001b[0m             \u001b[1;32mraise\u001b[0m \u001b[0mexception_class\u001b[0m\u001b[1;33m(\u001b[0m\u001b[0mmessage\u001b[0m\u001b[1;33m,\u001b[0m \u001b[0mscreen\u001b[0m\u001b[1;33m,\u001b[0m \u001b[0mstacktrace\u001b[0m\u001b[1;33m,\u001b[0m \u001b[0malert_text\u001b[0m\u001b[1;33m)\u001b[0m  \u001b[1;31m# type: ignore[call-arg]  # mypy is not smart enough here\u001b[0m\u001b[1;33m\u001b[0m\u001b[1;33m\u001b[0m\u001b[0m\n\u001b[1;32m--> 243\u001b[1;33m         \u001b[1;32mraise\u001b[0m \u001b[0mexception_class\u001b[0m\u001b[1;33m(\u001b[0m\u001b[0mmessage\u001b[0m\u001b[1;33m,\u001b[0m \u001b[0mscreen\u001b[0m\u001b[1;33m,\u001b[0m \u001b[0mstacktrace\u001b[0m\u001b[1;33m)\u001b[0m\u001b[1;33m\u001b[0m\u001b[1;33m\u001b[0m\u001b[0m\n\u001b[0m\u001b[0;32m    244\u001b[0m \u001b[1;33m\u001b[0m\u001b[0m\n\u001b[0;32m    245\u001b[0m     \u001b[1;32mdef\u001b[0m \u001b[0m_value_or_default\u001b[0m\u001b[1;33m(\u001b[0m\u001b[0mself\u001b[0m\u001b[1;33m,\u001b[0m \u001b[0mobj\u001b[0m\u001b[1;33m:\u001b[0m \u001b[0mMapping\u001b[0m\u001b[1;33m[\u001b[0m\u001b[0m_KT\u001b[0m\u001b[1;33m,\u001b[0m \u001b[0m_VT\u001b[0m\u001b[1;33m]\u001b[0m\u001b[1;33m,\u001b[0m \u001b[0mkey\u001b[0m\u001b[1;33m:\u001b[0m \u001b[0m_KT\u001b[0m\u001b[1;33m,\u001b[0m \u001b[0mdefault\u001b[0m\u001b[1;33m:\u001b[0m \u001b[0m_VT\u001b[0m\u001b[1;33m)\u001b[0m \u001b[1;33m->\u001b[0m \u001b[0m_VT\u001b[0m\u001b[1;33m:\u001b[0m\u001b[1;33m\u001b[0m\u001b[1;33m\u001b[0m\u001b[0m\n",
      "\u001b[1;31mNoSuchElementException\u001b[0m: Message: no such element: Unable to locate element: {\"method\":\"link text\",\"selector\":\"Next\"}\n  (Session info: chrome=94.0.4606.81)\nStacktrace:\nBacktrace:\n\tOrdinal0 [0x00F5B9D3+2472403]\n\tOrdinal0 [0x00EF6961+2058593]\n\tOrdinal0 [0x00E022B8+1057464]\n\tOrdinal0 [0x00E2C68B+1230475]\n\tOrdinal0 [0x00E565B2+1402290]\n\tOrdinal0 [0x00E455CA+1332682]\n\tOrdinal0 [0x00E5495F+1395039]\n\tOrdinal0 [0x00E4545B+1332315]\n\tOrdinal0 [0x00E21FB4+1187764]\n\tOrdinal0 [0x00E22E09+1191433]\n\tGetHandleVerifier [0x010E3396+1551078]\n\tGetHandleVerifier [0x0118D53A+2247818]\n\tGetHandleVerifier [0x00FE7FBB+521995]\n\tGetHandleVerifier [0x00FE7079+518089]\n\tOrdinal0 [0x00EFBD4D+2080077]\n\tOrdinal0 [0x00EFFC18+2096152]\n\tOrdinal0 [0x00EFFD52+2096466]\n\tOrdinal0 [0x00F094B1+2135217]\n\tBaseThreadInitThunk [0x75DFFA29+25]\n\tRtlGetAppContainerNamedObjectPath [0x77307A9E+286]\n\tRtlGetAppContainerNamedObjectPath [0x77307A6E+238]\n"
     ]
    }
   ],
   "source": [
    "driver = webdriver.Chrome(path)\n",
    "driver.get('https://www.yelp.com')\n",
    "search = driver.find_element_by_id('dropperText_Mast')\n",
    "search.send_keys('Current Location')\n",
    "time.sleep(4)\n",
    "search.send_keys(Keys.DOWN)\n",
    "restaraunt = driver.find_element_by_id('find_desc')\n",
    "restaraunt.send_keys('Rest')\n",
    "time.sleep(4)\n",
    "restaraunt.send_keys(Keys.DOWN,Keys.RETURN)\n",
    "more = driver.find_element_by_name('Social Southern Table & Bar')\n",
    "time.sleep(2)\n",
    "more.send_keys(Keys.RETURN)\n",
    "time.sleep(3)\n",
    "driver.find_element_by_class_name('css-1joxor6').click()\n",
    "bad_review_dict = { 'review':[]}\n",
    "\n",
    "for x in range(0,20):   \n",
    "    soup = BeautifulSoup(driver.page_source,'html.parser')\n",
    "    review = soup.findAll('p',lang='en')\n",
    "    title = soup.find('h1',class_='css-m7s7xv')\n",
    "    for y in range(0, len(review)):\n",
    "        bad_review_dict['review'].append(review[y].text)\n",
    "\n",
    "    time.sleep(6)    \n",
    "    driver.find_element_by_link_text(\"Next\").click()"
   ]
  },
  {
   "cell_type": "code",
   "execution_count": 792,
   "metadata": {},
   "outputs": [],
   "source": [
    "social_NR_reviews = pd.DataFrame.from_dict(bad_review_dict)\n",
    "social_NR_pickle = open('social_NR_reviews', 'wb')\n",
    "pickle.dump(social_NR_reviews, social_NR_pickle)\n",
    "picklefile.close()"
   ]
  },
  {
   "cell_type": "code",
   "execution_count": 793,
   "metadata": {},
   "outputs": [
    {
     "name": "stderr",
     "output_type": "stream",
     "text": [
      "<ipython-input-793-8a5f1795e00c>:1: DeprecationWarning: executable_path has been deprecated, please pass in a Service object\n",
      "  driver = webdriver.Chrome(path)\n",
      "<ipython-input-793-8a5f1795e00c>:3: DeprecationWarning: find_element_by_* commands are deprecated. Please use find_element() instead\n",
      "  search = driver.find_element_by_id('dropperText_Mast')\n",
      "<ipython-input-793-8a5f1795e00c>:7: DeprecationWarning: find_element_by_* commands are deprecated. Please use find_element() instead\n",
      "  restaraunt = driver.find_element_by_id('find_desc')\n",
      "<ipython-input-793-8a5f1795e00c>:11: DeprecationWarning: find_element_by_* commands are deprecated. Please use find_element() instead\n",
      "  more = driver.find_element_by_name('Ruffino’s On The River')\n",
      "<ipython-input-793-8a5f1795e00c>:15: DeprecationWarning: find_element_by_* commands are deprecated. Please use find_element() instead\n",
      "  driver.find_element_by_class_name('css-1joxor6').click()\n",
      "<ipython-input-793-8a5f1795e00c>:26: DeprecationWarning: find_element_by_* commands are deprecated. Please use find_element() instead\n",
      "  driver.find_element_by_link_text(\"Next\").click()\n"
     ]
    },
    {
     "ename": "NoSuchElementException",
     "evalue": "Message: no such element: Unable to locate element: {\"method\":\"link text\",\"selector\":\"Next\"}\n  (Session info: chrome=94.0.4606.81)\nStacktrace:\nBacktrace:\n\tOrdinal0 [0x00F5B9D3+2472403]\n\tOrdinal0 [0x00EF6961+2058593]\n\tOrdinal0 [0x00E022B8+1057464]\n\tOrdinal0 [0x00E2C68B+1230475]\n\tOrdinal0 [0x00E565B2+1402290]\n\tOrdinal0 [0x00E455CA+1332682]\n\tOrdinal0 [0x00E5495F+1395039]\n\tOrdinal0 [0x00E4545B+1332315]\n\tOrdinal0 [0x00E21FB4+1187764]\n\tOrdinal0 [0x00E22E09+1191433]\n\tGetHandleVerifier [0x010E3396+1551078]\n\tGetHandleVerifier [0x0118D53A+2247818]\n\tGetHandleVerifier [0x00FE7FBB+521995]\n\tGetHandleVerifier [0x00FE7079+518089]\n\tOrdinal0 [0x00EFBD4D+2080077]\n\tOrdinal0 [0x00EFFC18+2096152]\n\tOrdinal0 [0x00EFFD52+2096466]\n\tOrdinal0 [0x00F094B1+2135217]\n\tBaseThreadInitThunk [0x75DFFA29+25]\n\tRtlGetAppContainerNamedObjectPath [0x77307A9E+286]\n\tRtlGetAppContainerNamedObjectPath [0x77307A6E+238]\n",
     "output_type": "error",
     "traceback": [
      "\u001b[1;31m---------------------------------------------------------------------------\u001b[0m",
      "\u001b[1;31mNoSuchElementException\u001b[0m                    Traceback (most recent call last)",
      "\u001b[1;32m<ipython-input-793-8a5f1795e00c>\u001b[0m in \u001b[0;36m<module>\u001b[1;34m\u001b[0m\n\u001b[0;32m     24\u001b[0m \u001b[1;33m\u001b[0m\u001b[0m\n\u001b[0;32m     25\u001b[0m     \u001b[0mtime\u001b[0m\u001b[1;33m.\u001b[0m\u001b[0msleep\u001b[0m\u001b[1;33m(\u001b[0m\u001b[1;36m6\u001b[0m\u001b[1;33m)\u001b[0m\u001b[1;33m\u001b[0m\u001b[1;33m\u001b[0m\u001b[0m\n\u001b[1;32m---> 26\u001b[1;33m     \u001b[0mdriver\u001b[0m\u001b[1;33m.\u001b[0m\u001b[0mfind_element_by_link_text\u001b[0m\u001b[1;33m(\u001b[0m\u001b[1;34m\"Next\"\u001b[0m\u001b[1;33m)\u001b[0m\u001b[1;33m.\u001b[0m\u001b[0mclick\u001b[0m\u001b[1;33m(\u001b[0m\u001b[1;33m)\u001b[0m\u001b[1;33m\u001b[0m\u001b[1;33m\u001b[0m\u001b[0m\n\u001b[0m",
      "\u001b[1;32m~\\anaconda3\\envs\\learn-env\\lib\\site-packages\\selenium\\webdriver\\remote\\webdriver.py\u001b[0m in \u001b[0;36mfind_element_by_link_text\u001b[1;34m(self, link_text)\u001b[0m\n\u001b[0;32m    560\u001b[0m             \u001b[0mstacklevel\u001b[0m\u001b[1;33m=\u001b[0m\u001b[1;36m2\u001b[0m\u001b[1;33m,\u001b[0m\u001b[1;33m\u001b[0m\u001b[1;33m\u001b[0m\u001b[0m\n\u001b[0;32m    561\u001b[0m         )\n\u001b[1;32m--> 562\u001b[1;33m         \u001b[1;32mreturn\u001b[0m \u001b[0mself\u001b[0m\u001b[1;33m.\u001b[0m\u001b[0mfind_element\u001b[0m\u001b[1;33m(\u001b[0m\u001b[0mby\u001b[0m\u001b[1;33m=\u001b[0m\u001b[0mBy\u001b[0m\u001b[1;33m.\u001b[0m\u001b[0mLINK_TEXT\u001b[0m\u001b[1;33m,\u001b[0m \u001b[0mvalue\u001b[0m\u001b[1;33m=\u001b[0m\u001b[0mlink_text\u001b[0m\u001b[1;33m)\u001b[0m\u001b[1;33m\u001b[0m\u001b[1;33m\u001b[0m\u001b[0m\n\u001b[0m\u001b[0;32m    563\u001b[0m \u001b[1;33m\u001b[0m\u001b[0m\n\u001b[0;32m    564\u001b[0m     \u001b[1;32mdef\u001b[0m \u001b[0mfind_elements_by_link_text\u001b[0m\u001b[1;33m(\u001b[0m\u001b[0mself\u001b[0m\u001b[1;33m,\u001b[0m \u001b[0mtext\u001b[0m\u001b[1;33m)\u001b[0m \u001b[1;33m->\u001b[0m \u001b[0mWebElement\u001b[0m\u001b[1;33m:\u001b[0m\u001b[1;33m\u001b[0m\u001b[1;33m\u001b[0m\u001b[0m\n",
      "\u001b[1;32m~\\anaconda3\\envs\\learn-env\\lib\\site-packages\\selenium\\webdriver\\remote\\webdriver.py\u001b[0m in \u001b[0;36mfind_element\u001b[1;34m(self, by, value)\u001b[0m\n\u001b[0;32m   1236\u001b[0m             \u001b[0mvalue\u001b[0m \u001b[1;33m=\u001b[0m \u001b[1;34m'[name=\"%s\"]'\u001b[0m \u001b[1;33m%\u001b[0m \u001b[0mvalue\u001b[0m\u001b[1;33m\u001b[0m\u001b[1;33m\u001b[0m\u001b[0m\n\u001b[0;32m   1237\u001b[0m \u001b[1;33m\u001b[0m\u001b[0m\n\u001b[1;32m-> 1238\u001b[1;33m         return self.execute(Command.FIND_ELEMENT, {\n\u001b[0m\u001b[0;32m   1239\u001b[0m             \u001b[1;34m'using'\u001b[0m\u001b[1;33m:\u001b[0m \u001b[0mby\u001b[0m\u001b[1;33m,\u001b[0m\u001b[1;33m\u001b[0m\u001b[1;33m\u001b[0m\u001b[0m\n\u001b[0;32m   1240\u001b[0m             'value': value})['value']\n",
      "\u001b[1;32m~\\anaconda3\\envs\\learn-env\\lib\\site-packages\\selenium\\webdriver\\remote\\webdriver.py\u001b[0m in \u001b[0;36mexecute\u001b[1;34m(self, driver_command, params)\u001b[0m\n\u001b[0;32m    416\u001b[0m         \u001b[0mresponse\u001b[0m \u001b[1;33m=\u001b[0m \u001b[0mself\u001b[0m\u001b[1;33m.\u001b[0m\u001b[0mcommand_executor\u001b[0m\u001b[1;33m.\u001b[0m\u001b[0mexecute\u001b[0m\u001b[1;33m(\u001b[0m\u001b[0mdriver_command\u001b[0m\u001b[1;33m,\u001b[0m \u001b[0mparams\u001b[0m\u001b[1;33m)\u001b[0m\u001b[1;33m\u001b[0m\u001b[1;33m\u001b[0m\u001b[0m\n\u001b[0;32m    417\u001b[0m         \u001b[1;32mif\u001b[0m \u001b[0mresponse\u001b[0m\u001b[1;33m:\u001b[0m\u001b[1;33m\u001b[0m\u001b[1;33m\u001b[0m\u001b[0m\n\u001b[1;32m--> 418\u001b[1;33m             \u001b[0mself\u001b[0m\u001b[1;33m.\u001b[0m\u001b[0merror_handler\u001b[0m\u001b[1;33m.\u001b[0m\u001b[0mcheck_response\u001b[0m\u001b[1;33m(\u001b[0m\u001b[0mresponse\u001b[0m\u001b[1;33m)\u001b[0m\u001b[1;33m\u001b[0m\u001b[1;33m\u001b[0m\u001b[0m\n\u001b[0m\u001b[0;32m    419\u001b[0m             response['value'] = self._unwrap_value(\n\u001b[0;32m    420\u001b[0m                 response.get('value', None))\n",
      "\u001b[1;32m~\\anaconda3\\envs\\learn-env\\lib\\site-packages\\selenium\\webdriver\\remote\\errorhandler.py\u001b[0m in \u001b[0;36mcheck_response\u001b[1;34m(self, response)\u001b[0m\n\u001b[0;32m    241\u001b[0m                 \u001b[0malert_text\u001b[0m \u001b[1;33m=\u001b[0m \u001b[0mvalue\u001b[0m\u001b[1;33m[\u001b[0m\u001b[1;34m'alert'\u001b[0m\u001b[1;33m]\u001b[0m\u001b[1;33m.\u001b[0m\u001b[0mget\u001b[0m\u001b[1;33m(\u001b[0m\u001b[1;34m'text'\u001b[0m\u001b[1;33m)\u001b[0m\u001b[1;33m\u001b[0m\u001b[1;33m\u001b[0m\u001b[0m\n\u001b[0;32m    242\u001b[0m             \u001b[1;32mraise\u001b[0m \u001b[0mexception_class\u001b[0m\u001b[1;33m(\u001b[0m\u001b[0mmessage\u001b[0m\u001b[1;33m,\u001b[0m \u001b[0mscreen\u001b[0m\u001b[1;33m,\u001b[0m \u001b[0mstacktrace\u001b[0m\u001b[1;33m,\u001b[0m \u001b[0malert_text\u001b[0m\u001b[1;33m)\u001b[0m  \u001b[1;31m# type: ignore[call-arg]  # mypy is not smart enough here\u001b[0m\u001b[1;33m\u001b[0m\u001b[1;33m\u001b[0m\u001b[0m\n\u001b[1;32m--> 243\u001b[1;33m         \u001b[1;32mraise\u001b[0m \u001b[0mexception_class\u001b[0m\u001b[1;33m(\u001b[0m\u001b[0mmessage\u001b[0m\u001b[1;33m,\u001b[0m \u001b[0mscreen\u001b[0m\u001b[1;33m,\u001b[0m \u001b[0mstacktrace\u001b[0m\u001b[1;33m)\u001b[0m\u001b[1;33m\u001b[0m\u001b[1;33m\u001b[0m\u001b[0m\n\u001b[0m\u001b[0;32m    244\u001b[0m \u001b[1;33m\u001b[0m\u001b[0m\n\u001b[0;32m    245\u001b[0m     \u001b[1;32mdef\u001b[0m \u001b[0m_value_or_default\u001b[0m\u001b[1;33m(\u001b[0m\u001b[0mself\u001b[0m\u001b[1;33m,\u001b[0m \u001b[0mobj\u001b[0m\u001b[1;33m:\u001b[0m \u001b[0mMapping\u001b[0m\u001b[1;33m[\u001b[0m\u001b[0m_KT\u001b[0m\u001b[1;33m,\u001b[0m \u001b[0m_VT\u001b[0m\u001b[1;33m]\u001b[0m\u001b[1;33m,\u001b[0m \u001b[0mkey\u001b[0m\u001b[1;33m:\u001b[0m \u001b[0m_KT\u001b[0m\u001b[1;33m,\u001b[0m \u001b[0mdefault\u001b[0m\u001b[1;33m:\u001b[0m \u001b[0m_VT\u001b[0m\u001b[1;33m)\u001b[0m \u001b[1;33m->\u001b[0m \u001b[0m_VT\u001b[0m\u001b[1;33m:\u001b[0m\u001b[1;33m\u001b[0m\u001b[1;33m\u001b[0m\u001b[0m\n",
      "\u001b[1;31mNoSuchElementException\u001b[0m: Message: no such element: Unable to locate element: {\"method\":\"link text\",\"selector\":\"Next\"}\n  (Session info: chrome=94.0.4606.81)\nStacktrace:\nBacktrace:\n\tOrdinal0 [0x00F5B9D3+2472403]\n\tOrdinal0 [0x00EF6961+2058593]\n\tOrdinal0 [0x00E022B8+1057464]\n\tOrdinal0 [0x00E2C68B+1230475]\n\tOrdinal0 [0x00E565B2+1402290]\n\tOrdinal0 [0x00E455CA+1332682]\n\tOrdinal0 [0x00E5495F+1395039]\n\tOrdinal0 [0x00E4545B+1332315]\n\tOrdinal0 [0x00E21FB4+1187764]\n\tOrdinal0 [0x00E22E09+1191433]\n\tGetHandleVerifier [0x010E3396+1551078]\n\tGetHandleVerifier [0x0118D53A+2247818]\n\tGetHandleVerifier [0x00FE7FBB+521995]\n\tGetHandleVerifier [0x00FE7079+518089]\n\tOrdinal0 [0x00EFBD4D+2080077]\n\tOrdinal0 [0x00EFFC18+2096152]\n\tOrdinal0 [0x00EFFD52+2096466]\n\tOrdinal0 [0x00F094B1+2135217]\n\tBaseThreadInitThunk [0x75DFFA29+25]\n\tRtlGetAppContainerNamedObjectPath [0x77307A9E+286]\n\tRtlGetAppContainerNamedObjectPath [0x77307A6E+238]\n"
     ]
    }
   ],
   "source": [
    "driver = webdriver.Chrome(path)\n",
    "driver.get('https://www.yelp.com')\n",
    "search = driver.find_element_by_id('dropperText_Mast')\n",
    "search.send_keys('Current Location')\n",
    "time.sleep(4)\n",
    "search.send_keys(Keys.DOWN)\n",
    "restaraunt = driver.find_element_by_id('find_desc')\n",
    "restaraunt.send_keys('Rest')\n",
    "time.sleep(4)\n",
    "restaraunt.send_keys(Keys.DOWN,Keys.RETURN)\n",
    "more = driver.find_element_by_name('Ruffino’s On The River')\n",
    "time.sleep(2)\n",
    "more.send_keys(Keys.RETURN)\n",
    "time.sleep(3)\n",
    "driver.find_element_by_class_name('css-1joxor6').click()\n",
    "bad_review_dict = { 'review':[]}\n",
    "\n",
    "for x in range(0,20):   \n",
    "    soup = BeautifulSoup(driver.page_source,'html.parser')\n",
    "    review = soup.findAll('p',lang='en')\n",
    "    title = soup.find('h1',class_='css-m7s7xv')\n",
    "    for y in range(0, len(review)):\n",
    "        bad_review_dict['review'].append(review[y].text)\n",
    "\n",
    "    time.sleep(6)    \n",
    "    driver.find_element_by_link_text(\"Next\").click()"
   ]
  },
  {
   "cell_type": "code",
   "execution_count": 797,
   "metadata": {},
   "outputs": [],
   "source": [
    "ruffino_NR_reviews = pd.DataFrame.from_dict(bad_review_dict)\n",
    "ruffino_NR_pickle = open('ruffino_NR_reviews', 'wb')\n",
    "pickle.dump(ruffino_NR_reviews, ruffino_NR_pickle)\n",
    "picklefile.close()"
   ]
  },
  {
   "cell_type": "code",
   "execution_count": null,
   "metadata": {},
   "outputs": [],
   "source": []
  },
  {
   "cell_type": "code",
   "execution_count": null,
   "metadata": {},
   "outputs": [],
   "source": []
  },
  {
   "cell_type": "markdown",
   "metadata": {},
   "source": [
    "# Yelp API"
   ]
  },
  {
   "cell_type": "code",
   "execution_count": 94,
   "metadata": {},
   "outputs": [],
   "source": [
    "url = 'https://www.yelp.com/search?find_desc=Restaurants&l=a%3A30.177812%2C-92.0371255%2C4630.998230126289&ns=1'"
   ]
  },
  {
   "cell_type": "code",
   "execution_count": 96,
   "metadata": {},
   "outputs": [],
   "source": [
    "response = requests.get(url)"
   ]
  },
  {
   "cell_type": "code",
   "execution_count": 97,
   "metadata": {},
   "outputs": [
    {
     "name": "stdout",
     "output_type": "stream",
     "text": [
      "200\n"
     ]
    }
   ],
   "source": [
    "print(response.status_code)"
   ]
  },
  {
   "cell_type": "code",
   "execution_count": 98,
   "metadata": {},
   "outputs": [],
   "source": [
    "soup = BeautifulSoup(response.text,'html.parser')"
   ]
  },
  {
   "cell_type": "code",
   "execution_count": 103,
   "metadata": {},
   "outputs": [],
   "source": [
    "# soup.prettify"
   ]
  },
  {
   "cell_type": "code",
   "execution_count": 93,
   "metadata": {},
   "outputs": [],
   "source": [
    "# reviews = soup.findAll(class_='css-e81eai')\n",
    "# reviews"
   ]
  },
  {
   "cell_type": "code",
   "execution_count": 410,
   "metadata": {},
   "outputs": [],
   "source": [
    "# with open(r'C:\\Users\\Flatiron\\phase_1\\.secrets\\creds.json') as f:\n",
    "#     creds = json.load(f)"
   ]
  },
  {
   "cell_type": "code",
   "execution_count": 86,
   "metadata": {},
   "outputs": [],
   "source": [
    "# url = 'https://api.yelp.com/v3/businesses/search'\n",
    "# term = 'Restaraunts'\n",
    "# SEARCH_LIMIT = 10\n",
    "# headers = {\n",
    "#     'Authorization': 'Bearer ' + creds['key']\n",
    "# }\n",
    "\n",
    "# url_params = {\n",
    "#     'term': term,\n",
    "#     'location': 'Lafayette+LA',\n",
    "#     'limit': SEARCH_LIMIT,\n",
    "#     'offset': 0\n",
    "# }\n",
    "# response = requests.get(url, headers=headers, params=url_params)\n",
    "# response.json()"
   ]
  },
  {
   "cell_type": "code",
   "execution_count": 87,
   "metadata": {},
   "outputs": [],
   "source": [
    "# social = 'xqxwR-vZwUYtm2R4PkWnPg'\n",
    "\n",
    "# url = f'https://api.yelp.com/v3/businesses/{social}/reviews'\n",
    "# term = 'Restaraunts'\n",
    "# SEARCH_LIMIT = 10\n",
    "# headers = {\n",
    "#     'Authorization': 'Bearer ' + creds['key']\n",
    "# }\n",
    "\n",
    "# url_params = {\n",
    "#     'term': term,\n",
    "#     'location': 'Lafayette+LA',\n",
    "#     'limit': SEARCH_LIMIT,\n",
    "#     'offset': 0\n",
    "# }\n",
    "# response = requests.get(url, headers=headers)\n",
    "# reviews =response.json()"
   ]
  },
  {
   "cell_type": "code",
   "execution_count": 85,
   "metadata": {},
   "outputs": [
    {
     "name": "stdout",
     "output_type": "stream",
     "text": [
      "Absolutely loved me experience here!  Visited for the first time this morning to have brunch with friends and it was wonderful.  Same day reservation...\n",
      "Corin made our day!! The food was delicious and the service was wonderful. Incredibly attentive and she made some great recommendations which we loved. It...\n",
      "YUM YUM YUM YUMMMMMM. To say this meal was top notch is an understatement. The service, food, drinks, and ambience were all great. We started with the Cast...\n"
     ]
    }
   ],
   "source": [
    "for x in range(0,3):\n",
    "    print(reviews['reviews'][x]['text'])\n"
   ]
  },
  {
   "cell_type": "code",
   "execution_count": null,
   "metadata": {},
   "outputs": [],
   "source": []
  },
  {
   "cell_type": "code",
   "execution_count": null,
   "metadata": {},
   "outputs": [],
   "source": []
  },
  {
   "cell_type": "code",
   "execution_count": null,
   "metadata": {},
   "outputs": [],
   "source": []
  },
  {
   "cell_type": "code",
   "execution_count": null,
   "metadata": {},
   "outputs": [],
   "source": []
  },
  {
   "cell_type": "code",
   "execution_count": null,
   "metadata": {},
   "outputs": [],
   "source": []
  }
 ],
 "metadata": {
  "kernelspec": {
   "display_name": "Python (learn-env)",
   "language": "python",
   "name": "learn-env"
  },
  "language_info": {
   "codemirror_mode": {
    "name": "ipython",
    "version": 3
   },
   "file_extension": ".py",
   "mimetype": "text/x-python",
   "name": "python",
   "nbconvert_exporter": "python",
   "pygments_lexer": "ipython3",
   "version": "3.8.5"
  }
 },
 "nbformat": 4,
 "nbformat_minor": 4
}
