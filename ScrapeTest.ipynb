{
 "cells": [
  {
   "cell_type": "code",
   "execution_count": 61,
   "metadata": {},
   "outputs": [],
   "source": [
    "from selenium import webdriver\n",
    "from selenium.webdriver.common.keys import Keys\n",
    "import requests\n",
    "import json\n",
    "import pandas as pd\n",
    "import time"
   ]
  },
  {
   "cell_type": "code",
   "execution_count": 21,
   "metadata": {},
   "outputs": [],
   "source": [
    "path = 'C:\\Program Files (x86)\\chromedriver.exe'"
   ]
  },
  {
   "cell_type": "code",
   "execution_count": 38,
   "metadata": {},
   "outputs": [
    {
     "name": "stderr",
     "output_type": "stream",
     "text": [
      "<ipython-input-38-9ca73ac16f73>:1: DeprecationWarning: executable_path has been deprecated, please pass in a Service object\n",
      "  driver = webdriver.Chrome(path)\n"
     ]
    }
   ],
   "source": [
    "driver = webdriver.Chrome(path)\n",
    "driver.get('https://www.yelp.com')"
   ]
  },
  {
   "cell_type": "code",
   "execution_count": 88,
   "metadata": {},
   "outputs": [
    {
     "name": "stderr",
     "output_type": "stream",
     "text": [
      "<ipython-input-88-800775836bfe>:1: DeprecationWarning: executable_path has been deprecated, please pass in a Service object\n",
      "  driver = webdriver.Chrome(path)\n",
      "<ipython-input-88-800775836bfe>:3: DeprecationWarning: find_element_by_* commands are deprecated. Please use find_element() instead\n",
      "  search = driver.find_element_by_id('dropperText_Mast')\n",
      "<ipython-input-88-800775836bfe>:7: DeprecationWarning: find_element_by_* commands are deprecated. Please use find_element() instead\n",
      "  restaraunt = driver.find_element_by_id('find_desc')\n"
     ]
    }
   ],
   "source": [
    "driver = webdriver.Chrome(path)\n",
    "driver.get('https://www.yelp.com')\n",
    "search = driver.find_element_by_id('dropperText_Mast')\n",
    "search.send_keys('Current Location')\n",
    "time.sleep(4)\n",
    "search.send_keys(Keys.DOWN)\n",
    "restaraunt = driver.find_element_by_id('find_desc')\n",
    "restaraunt.send_keys('Rest')\n",
    "time.sleep(4)\n",
    "restaraunt.send_keys(Keys.DOWN,Keys.RETURN)"
   ]
  },
  {
   "cell_type": "code",
   "execution_count": 63,
   "metadata": {},
   "outputs": [
    {
     "data": {
      "text/plain": [
       "{'id': 'aQ84KpYGkWzFgmOWgj0gyQ',\n",
       " 'key': 'OoHb62Sktblu3b1fiyPz7qQT3xemeFCTDk8ZD2kQlj9gwjNMbMSUm1ea1Cy7j67q0WO4Vi1nQz3KNTfAt2cbAAGLx6XtclDOEH78p9_3HZsCZwrKl5DZv2wjiv4CYXYx'}"
      ]
     },
     "execution_count": 63,
     "metadata": {},
     "output_type": "execute_result"
    }
   ],
   "source": [
    "with open(r'C:\\Users\\Flatiron\\phase_1\\.secrets\\creds.json') as f:\n",
    "    creds = json.load(f)"
   ]
  },
  {
   "cell_type": "code",
   "execution_count": 86,
   "metadata": {},
   "outputs": [],
   "source": [
    "# url = 'https://api.yelp.com/v3/businesses/search'\n",
    "# term = 'Restaraunts'\n",
    "# SEARCH_LIMIT = 10\n",
    "# headers = {\n",
    "#     'Authorization': 'Bearer ' + creds['key']\n",
    "# }\n",
    "\n",
    "# url_params = {\n",
    "#     'term': term,\n",
    "#     'location': 'Lafayette+LA',\n",
    "#     'limit': SEARCH_LIMIT,\n",
    "#     'offset': 0\n",
    "# }\n",
    "# response = requests.get(url, headers=headers, params=url_params)\n",
    "# response.json()"
   ]
  },
  {
   "cell_type": "code",
   "execution_count": 87,
   "metadata": {},
   "outputs": [],
   "source": [
    "# social = 'xqxwR-vZwUYtm2R4PkWnPg'\n",
    "\n",
    "# url = f'https://api.yelp.com/v3/businesses/{social}/reviews'\n",
    "# term = 'Restaraunts'\n",
    "# SEARCH_LIMIT = 10\n",
    "# headers = {\n",
    "#     'Authorization': 'Bearer ' + creds['key']\n",
    "# }\n",
    "\n",
    "# url_params = {\n",
    "#     'term': term,\n",
    "#     'location': 'Lafayette+LA',\n",
    "#     'limit': SEARCH_LIMIT,\n",
    "#     'offset': 0\n",
    "# }\n",
    "# response = requests.get(url, headers=headers)\n",
    "# reviews =response.json()"
   ]
  },
  {
   "cell_type": "code",
   "execution_count": 85,
   "metadata": {},
   "outputs": [
    {
     "name": "stdout",
     "output_type": "stream",
     "text": [
      "Absolutely loved me experience here!  Visited for the first time this morning to have brunch with friends and it was wonderful.  Same day reservation...\n",
      "Corin made our day!! The food was delicious and the service was wonderful. Incredibly attentive and she made some great recommendations which we loved. It...\n",
      "YUM YUM YUM YUMMMMMM. To say this meal was top notch is an understatement. The service, food, drinks, and ambience were all great. We started with the Cast...\n"
     ]
    }
   ],
   "source": [
    "for x in range(0,3):\n",
    "    print(reviews['reviews'][x]['text'])\n"
   ]
  },
  {
   "cell_type": "code",
   "execution_count": null,
   "metadata": {},
   "outputs": [],
   "source": []
  },
  {
   "cell_type": "code",
   "execution_count": null,
   "metadata": {},
   "outputs": [],
   "source": []
  },
  {
   "cell_type": "code",
   "execution_count": null,
   "metadata": {},
   "outputs": [],
   "source": []
  },
  {
   "cell_type": "code",
   "execution_count": null,
   "metadata": {},
   "outputs": [],
   "source": []
  },
  {
   "cell_type": "code",
   "execution_count": null,
   "metadata": {},
   "outputs": [],
   "source": []
  }
 ],
 "metadata": {
  "kernelspec": {
   "display_name": "Python (learn-env)",
   "language": "python",
   "name": "learn-env"
  },
  "language_info": {
   "codemirror_mode": {
    "name": "ipython",
    "version": 3
   },
   "file_extension": ".py",
   "mimetype": "text/x-python",
   "name": "python",
   "nbconvert_exporter": "python",
   "pygments_lexer": "ipython3",
   "version": "3.8.5"
  }
 },
 "nbformat": 4,
 "nbformat_minor": 4
}
