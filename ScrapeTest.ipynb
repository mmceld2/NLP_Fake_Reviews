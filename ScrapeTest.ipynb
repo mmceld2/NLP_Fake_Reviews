{
 "cells": [
  {
   "cell_type": "code",
   "execution_count": 90,
   "metadata": {},
   "outputs": [],
   "source": [
    "from selenium import webdriver\n",
    "from selenium.webdriver.common.keys import Keys\n",
    "import requests\n",
    "import json\n",
    "import pandas as pd\n",
    "import time\n",
    "from bs4 import BeautifulSoup"
   ]
  },
  {
   "cell_type": "code",
   "execution_count": 21,
   "metadata": {},
   "outputs": [],
   "source": [
    "path = 'C:\\Program Files (x86)\\chromedriver.exe'"
   ]
  },
  {
   "cell_type": "code",
   "execution_count": 38,
   "metadata": {},
   "outputs": [
    {
     "name": "stderr",
     "output_type": "stream",
     "text": [
      "<ipython-input-38-9ca73ac16f73>:1: DeprecationWarning: executable_path has been deprecated, please pass in a Service object\n",
      "  driver = webdriver.Chrome(path)\n"
     ]
    }
   ],
   "source": [
    "driver = webdriver.Chrome(path)\n",
    "driver.get('https://www.yelp.com')"
   ]
  },
  {
   "cell_type": "code",
   "execution_count": 89,
   "metadata": {},
   "outputs": [
    {
     "name": "stderr",
     "output_type": "stream",
     "text": [
      "<ipython-input-89-800775836bfe>:1: DeprecationWarning: executable_path has been deprecated, please pass in a Service object\n",
      "  driver = webdriver.Chrome(path)\n",
      "<ipython-input-89-800775836bfe>:3: DeprecationWarning: find_element_by_* commands are deprecated. Please use find_element() instead\n",
      "  search = driver.find_element_by_id('dropperText_Mast')\n",
      "<ipython-input-89-800775836bfe>:7: DeprecationWarning: find_element_by_* commands are deprecated. Please use find_element() instead\n",
      "  restaraunt = driver.find_element_by_id('find_desc')\n"
     ]
    }
   ],
   "source": [
    "driver = webdriver.Chrome(path)\n",
    "driver.get('https://www.yelp.com')\n",
    "search = driver.find_element_by_id('dropperText_Mast')\n",
    "search.send_keys('Current Location')\n",
    "time.sleep(4)\n",
    "search.send_keys(Keys.DOWN)\n",
    "restaraunt = driver.find_element_by_id('find_desc')\n",
    "restaraunt.send_keys('Rest')\n",
    "time.sleep(4)\n",
    "restaraunt.send_keys(Keys.DOWN,Keys.RETURN)\n"
   ]
  },
  {
   "cell_type": "code",
   "execution_count": 104,
   "metadata": {},
   "outputs": [],
   "source": [
    "soup = BeautifulSoup(driver.page_source,'html.parser')\n"
   ]
  },
  {
   "cell_type": "code",
   "execution_count": null,
   "metadata": {},
   "outputs": [],
   "source": []
  },
  {
   "cell_type": "code",
   "execution_count": 94,
   "metadata": {},
   "outputs": [],
   "source": [
    "url = 'https://www.yelp.com/search?find_desc=Restaurants&l=a%3A30.177812%2C-92.0371255%2C4630.998230126289&ns=1'"
   ]
  },
  {
   "cell_type": "code",
   "execution_count": 96,
   "metadata": {},
   "outputs": [],
   "source": [
    "response = requests.get(url)"
   ]
  },
  {
   "cell_type": "code",
   "execution_count": 97,
   "metadata": {},
   "outputs": [
    {
     "name": "stdout",
     "output_type": "stream",
     "text": [
      "200\n"
     ]
    }
   ],
   "source": [
    "print(response.status_code)"
   ]
  },
  {
   "cell_type": "code",
   "execution_count": 98,
   "metadata": {},
   "outputs": [],
   "source": [
    "soup = BeautifulSoup(response.text,'html.parser')"
   ]
  },
  {
   "cell_type": "code",
   "execution_count": 103,
   "metadata": {},
   "outputs": [],
   "source": [
    "# soup.prettify"
   ]
  },
  {
   "cell_type": "code",
   "execution_count": 93,
   "metadata": {},
   "outputs": [],
   "source": [
    "# reviews = soup.findAll(class_='css-e81eai')\n",
    "# reviews"
   ]
  },
  {
   "cell_type": "code",
   "execution_count": 106,
   "metadata": {},
   "outputs": [],
   "source": [
    "with open(r'C:\\Users\\Flatiron\\phase_1\\.secrets\\creds.json') as f:\n",
    "    creds = json.load(f)"
   ]
  },
  {
   "cell_type": "code",
   "execution_count": 86,
   "metadata": {},
   "outputs": [],
   "source": [
    "# url = 'https://api.yelp.com/v3/businesses/search'\n",
    "# term = 'Restaraunts'\n",
    "# SEARCH_LIMIT = 10\n",
    "# headers = {\n",
    "#     'Authorization': 'Bearer ' + creds['key']\n",
    "# }\n",
    "\n",
    "# url_params = {\n",
    "#     'term': term,\n",
    "#     'location': 'Lafayette+LA',\n",
    "#     'limit': SEARCH_LIMIT,\n",
    "#     'offset': 0\n",
    "# }\n",
    "# response = requests.get(url, headers=headers, params=url_params)\n",
    "# response.json()"
   ]
  },
  {
   "cell_type": "code",
   "execution_count": 87,
   "metadata": {},
   "outputs": [],
   "source": [
    "# social = 'xqxwR-vZwUYtm2R4PkWnPg'\n",
    "\n",
    "# url = f'https://api.yelp.com/v3/businesses/{social}/reviews'\n",
    "# term = 'Restaraunts'\n",
    "# SEARCH_LIMIT = 10\n",
    "# headers = {\n",
    "#     'Authorization': 'Bearer ' + creds['key']\n",
    "# }\n",
    "\n",
    "# url_params = {\n",
    "#     'term': term,\n",
    "#     'location': 'Lafayette+LA',\n",
    "#     'limit': SEARCH_LIMIT,\n",
    "#     'offset': 0\n",
    "# }\n",
    "# response = requests.get(url, headers=headers)\n",
    "# reviews =response.json()"
   ]
  },
  {
   "cell_type": "code",
   "execution_count": 85,
   "metadata": {},
   "outputs": [
    {
     "name": "stdout",
     "output_type": "stream",
     "text": [
      "Absolutely loved me experience here!  Visited for the first time this morning to have brunch with friends and it was wonderful.  Same day reservation...\n",
      "Corin made our day!! The food was delicious and the service was wonderful. Incredibly attentive and she made some great recommendations which we loved. It...\n",
      "YUM YUM YUM YUMMMMMM. To say this meal was top notch is an understatement. The service, food, drinks, and ambience were all great. We started with the Cast...\n"
     ]
    }
   ],
   "source": [
    "for x in range(0,3):\n",
    "    print(reviews['reviews'][x]['text'])\n"
   ]
  },
  {
   "cell_type": "code",
   "execution_count": null,
   "metadata": {},
   "outputs": [],
   "source": []
  },
  {
   "cell_type": "code",
   "execution_count": null,
   "metadata": {},
   "outputs": [],
   "source": []
  },
  {
   "cell_type": "code",
   "execution_count": null,
   "metadata": {},
   "outputs": [],
   "source": []
  },
  {
   "cell_type": "code",
   "execution_count": null,
   "metadata": {},
   "outputs": [],
   "source": []
  },
  {
   "cell_type": "code",
   "execution_count": null,
   "metadata": {},
   "outputs": [],
   "source": []
  }
 ],
 "metadata": {
  "kernelspec": {
   "display_name": "Python (learn-env)",
   "language": "python",
   "name": "learn-env"
  },
  "language_info": {
   "codemirror_mode": {
    "name": "ipython",
    "version": 3
   },
   "file_extension": ".py",
   "mimetype": "text/x-python",
   "name": "python",
   "nbconvert_exporter": "python",
   "pygments_lexer": "ipython3",
   "version": "3.8.5"
  }
 },
 "nbformat": 4,
 "nbformat_minor": 4
}
