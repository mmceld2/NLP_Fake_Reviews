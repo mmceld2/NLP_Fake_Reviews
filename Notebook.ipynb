{
 "cells": [
  {
   "cell_type": "code",
   "execution_count": 107,
   "metadata": {},
   "outputs": [
    {
     "name": "stdout",
     "output_type": "stream",
     "text": [
      "The autoreload extension is already loaded. To reload it, use:\n",
      "  %reload_ext autoreload\n"
     ]
    }
   ],
   "source": [
    "import pandas as pd\n",
    "import pickle\n",
    "import matplotlib.pyplot as plt\n",
    "import seaborn as sns\n",
    "import src as functions\n",
    "import re\n",
    "from nltk.tokenize import regexp_tokenize, word_tokenize, sent_tokenize\n",
    "from sklearn.model_selection import train_test_split, cross_validate , GridSearchCV, cross_val_predict\n",
    "from sklearn.pipeline import make_pipeline , Pipeline\n",
    "from nltk import word_tokenize\n",
    "from nltk.corpus import stopwords as sw\n",
    "from sklearn.linear_model import LogisticRegression , SGDClassifier\n",
    "from sklearn.feature_extraction.text import TfidfVectorizer, CountVectorizer\n",
    "from sklearn.naive_bayes import MultinomialNB\n",
    "import warnings\n",
    "from xgboost import XGBClassifier\n",
    "from sklearn.tree import DecisionTreeClassifier\n",
    "warnings.filterwarnings (\"ignore\")\n",
    "%load_ext autoreload\n",
    "%reload_ext autoreload "
   ]
  },
  {
   "cell_type": "code",
   "execution_count": 48,
   "metadata": {},
   "outputs": [],
   "source": [
    "df = pd.read_csv('data/Labelled Yelp Dataset Edited.csv')\n",
    "target = len(df.loc[df['Label'] == -1])\n",
    "not_target = len(df.loc[df['Label'] == 1])\n",
    "pd.set_option ('display.max_colwidth', None)            "
   ]
  },
  {
   "cell_type": "code",
   "execution_count": 49,
   "metadata": {},
   "outputs": [
    {
     "name": "stdout",
     "output_type": "stream",
     "text": [
      "Number of targets: 11154\n",
      "Percent of data target: 10.0\n",
      "Number of rows: 111798\n"
     ]
    }
   ],
   "source": [
    "print(f'''Number of targets: {target}\n",
    "Percent of data target: {round(target / len(df),3)*100}\n",
    "Number of rows: {len(df)}''')"
   ]
  },
  {
   "cell_type": "markdown",
   "metadata": {},
   "source": [
    "There are 11154 fake reviews that make up 10 percent of the data. If we were to go ahead and classify everything as a real review, there would be a 90% accuracy rate. "
   ]
  },
  {
   "cell_type": "code",
   "execution_count": 50,
   "metadata": {},
   "outputs": [
    {
     "data": {
      "image/png": "[encoded data removed]",
      "text/plain": [
       "<Figure size 576x576 with 1 Axes>"
      ]
     },
     "metadata": {
      "needs_background": "light"
     },
     "output_type": "display_data"
    }
   ],
   "source": [
    "fig , ax = plt.subplots(figsize=(8,8))\n",
    "\n",
    "sns.barplot(x=['Genuine','Not Genuine'],y=[not_target,target])\n",
    "plt.text(0-.15,not_target+300,f'{round(not_target/(len(df)),2)*100} Percent',fontsize=12)\n",
    "plt.text(1-.15,target+500,f'{round(target/(len(df)),2)*100} Percent',fontsize=12)\n",
    "ax.set_title('Target Distribution',fontsize=12)\n",
    "ax.set_xlabel('Review Classification',fontsize=12)\n",
    "ax.set_ylabel('Count',fontsize=12);"
   ]
  },
  {
   "cell_type": "code",
   "execution_count": 51,
   "metadata": {},
   "outputs": [
    {
     "data": {
      "text/plain": [
       "0        2014-12-08\n",
       "1        2013-05-16\n",
       "2        2013-07-01\n",
       "3        2011-07-28\n",
       "4        2010-11-01\n",
       "            ...    \n",
       "111793   2013-03-29\n",
       "111794   2013-02-13\n",
       "111795   2012-11-09\n",
       "111796   2012-10-13\n",
       "111797   2012-09-13\n",
       "Name: Date, Length: 111798, dtype: datetime64[ns]"
      ]
     },
     "execution_count": 51,
     "metadata": {},
     "output_type": "execute_result"
    }
   ],
   "source": [
    "pd.to_datetime(df['Date'])"
   ]
  },
  {
   "cell_type": "code",
   "execution_count": 52,
   "metadata": {},
   "outputs": [
    {
     "data": {
      "text/html": [
       "<div>\n",
       "<style scoped>\n",
       "    .dataframe tbody tr th:only-of-type {\n",
       "        vertical-align: middle;\n",
       "    }\n",
       "\n",
       "    .dataframe tbody tr th {\n",
       "        vertical-align: top;\n",
       "    }\n",
       "\n",
       "    .dataframe thead th {\n",
       "        text-align: right;\n",
       "    }\n",
       "</style>\n",
       "<table border=\"1\" class=\"dataframe\">\n",
       "  <thead>\n",
       "    <tr style=\"text-align: right;\">\n",
       "      <th></th>\n",
       "      <th>User_id</th>\n",
       "      <th>Product_id</th>\n",
       "      <th>Rating</th>\n",
       "      <th>Date</th>\n",
       "      <th>Review</th>\n",
       "      <th>Label</th>\n",
       "    </tr>\n",
       "  </thead>\n",
       "  <tbody>\n",
       "    <tr>\n",
       "      <th>0</th>\n",
       "      <td>923</td>\n",
       "      <td>0</td>\n",
       "      <td>3</td>\n",
       "      <td>12/8/2014</td>\n",
       "      <td>The food at snack is a selection of popular Greek dishes. The appetizer tray is good as is the Greek salad. We were underwhelmed with the main courses. There are 4-5 tables here so it's sometimes hard to get seated.</td>\n",
       "      <td>-1</td>\n",
       "    </tr>\n",
       "    <tr>\n",
       "      <th>1</th>\n",
       "      <td>924</td>\n",
       "      <td>0</td>\n",
       "      <td>3</td>\n",
       "      <td>5/16/2013</td>\n",
       "      <td>This little place in Soho is wonderful. I had a lamb sandwich and a glass of wine. The price shocked me for how small the serving was, but then again, this is Soho. The staff can be a little snotty and rude, but the food is great, just don't expect world-class service.</td>\n",
       "      <td>-1</td>\n",
       "    </tr>\n",
       "    <tr>\n",
       "      <th>2</th>\n",
       "      <td>925</td>\n",
       "      <td>0</td>\n",
       "      <td>4</td>\n",
       "      <td>7/1/2013</td>\n",
       "      <td>ordered lunch for 15 from Snack last Friday. Â On time, nothing missing and the food was great. Â I have added it to the regular company lunch list, as everyone enjoyed their meal.</td>\n",
       "      <td>-1</td>\n",
       "    </tr>\n",
       "    <tr>\n",
       "      <th>3</th>\n",
       "      <td>926</td>\n",
       "      <td>0</td>\n",
       "      <td>4</td>\n",
       "      <td>7/28/2011</td>\n",
       "      <td>This is a beautiful quaint little restaurant on a pretty street. Â If you're strolling through soho around lunchtime, this would be a great place to stop for a bite. I heard the reviews about the lamb sandwich, so I had to try it. I'm very happy that i did. Every single ingredient - from the bread to the onions and tomatoes, the lamb and the sauce - was delicious. These four stars are well deserved because of the tasty sandwich and great ambiance. Â I would recommend this place to anyone.</td>\n",
       "      <td>-1</td>\n",
       "    </tr>\n",
       "    <tr>\n",
       "      <th>4</th>\n",
       "      <td>927</td>\n",
       "      <td>0</td>\n",
       "      <td>4</td>\n",
       "      <td>11/1/2010</td>\n",
       "      <td>Snack is great place for a Â casual sit down lunch- especially on a cold winter day. Â In many ways the restaurant mirrors the food- simple yet unique. Â The avgolemono soup was lemony perfection and the butter bean salad hearty yet light. Â The greek coffee is different...they sweeten it with honey which makes for an interesting thickness and sweet spice. I definitely plan on going back for dinner. Â If the small space doesn't suit you their sister restaurant Snack Taverna in the West Village is just as good, if not better...and more \"upscale\" with waiters who make you feel well taken care of.</td>\n",
       "      <td>-1</td>\n",
       "    </tr>\n",
       "    <tr>\n",
       "      <th>...</th>\n",
       "      <td>...</td>\n",
       "      <td>...</td>\n",
       "      <td>...</td>\n",
       "      <td>...</td>\n",
       "      <td>...</td>\n",
       "      <td>...</td>\n",
       "    </tr>\n",
       "    <tr>\n",
       "      <th>111793</th>\n",
       "      <td>67541</td>\n",
       "      <td>318</td>\n",
       "      <td>2</td>\n",
       "      <td>3/29/2013</td>\n",
       "      <td>The chicken and waffles were great!!!. My friend got the cheese burger and fries. The fries were soggy and the burger was a frozen patty, which is unforgivable!!!</td>\n",
       "      <td>1</td>\n",
       "    </tr>\n",
       "    <tr>\n",
       "      <th>111794</th>\n",
       "      <td>69555</td>\n",
       "      <td>318</td>\n",
       "      <td>4</td>\n",
       "      <td>2/13/2013</td>\n",
       "      <td>Delicious food, friendly service. Wish the portions were slightly larger on the dinner meal deal -- hmm, probably a good thing they aren't lol</td>\n",
       "      <td>1</td>\n",
       "    </tr>\n",
       "    <tr>\n",
       "      <th>111795</th>\n",
       "      <td>67575</td>\n",
       "      <td>318</td>\n",
       "      <td>5</td>\n",
       "      <td>11/9/2012</td>\n",
       "      <td>The food here is SLAMMIN\"!!! e I truly love when you try a restaurant for the first time and the workers/owners are all so happy you came! The service is really a major plus. I felt like I walked into my aunt's house or something. I've tried a few of the items on the menu but the standout by far would be the honey bbq wings. They are so sweet and tangy! I have not had wings that juicy and good in a very long time. The homemade baked good are equally stellar. I hate cheesecake, but the sweet potato cheesecake here changed my mind! The yellow cake with chocolate frosting, the lemon cake all hits! Any of the sides you choose for your meal will be well seasond and tasty! Wash it all down with a hal and half and you will be in heaven. I have not tried the breakfast and to be honest I am scared to do it. Grits, salmon cakes, waffles with nutella...These things could be a major wardrobe shrinker. I am very confident that when I do, it will be worth every calorie. Get yourself over there ASAP!!</td>\n",
       "      <td>1</td>\n",
       "    </tr>\n",
       "    <tr>\n",
       "      <th>111796</th>\n",
       "      <td>69556</td>\n",
       "      <td>318</td>\n",
       "      <td>5</td>\n",
       "      <td>10/13/2012</td>\n",
       "      <td>I just moved to Brooklyn and was in search of that Chicken and Waffles combo I used to have back home in California. Â I've had tried plenty since I've moved to NY, but NONE compare to Napoleons!! Â I ordered the 4 mini waffles and wings dinner plate (substituting the wings for a leg and breast). Â The meat was juicy, mouth watering, and moist. Â The skin was crispy, crunchy, and extremely flavorful. Â The waffles we fluffy and covered in butter and powered sugar, with syrup on the side to smother at my will. Â SO, SO YUMMY! Â If that wasn't enough, my boyfriend ordered the Honey Barbeque Chicken dinner plate which comes with two sides, he ordered mac &amp; cheese and candied yams. Â The honey barbeque sauce was to die for! Extremely orgasmic to say the least. Â You will NEVER desire another. Â To top off the exceptional dinner, we had the sweet potato cheesecake which again was phenomenal, for lack of words. Â Napoleon came out to check up on us, asking if everything was alright. Â We couldn't stop complimenting his cooking/baking skills.. the love he puts into his food is above all and one can really see that with every taste that poured into our mouths. Â He was very sweet, as was the cashier. Â I plan to recommend this restaurant to EVERYONE that crosses my way, it really is that GREAT!!</td>\n",
       "      <td>1</td>\n",
       "    </tr>\n",
       "    <tr>\n",
       "      <th>111797</th>\n",
       "      <td>69557</td>\n",
       "      <td>318</td>\n",
       "      <td>3</td>\n",
       "      <td>9/13/2012</td>\n",
       "      <td>Absolutely delicious pastries and a nice comfortable place. They seem fixated on cleanliness, which is a good thing but can I Â finish my delicious chicken and waffles...please!!! Granted it's a new spot and they are getting Â things together but their menu is disappointingly inconsistent, their shelves are mostly empty and... what no coffee? \"The machine was turned off, this is not a coffee shop\", Â well there's is something called instant coffee, just add water... This place has an exceptional baker and a throw down cook, once you get over the emptiness and them not having what you came for..... You will love what they have.</td>\n",
       "      <td>1</td>\n",
       "    </tr>\n",
       "  </tbody>\n",
       "</table>\n",
       "<p>111798 rows × 6 columns</p>\n",
       "</div>"
      ],
      "text/plain": [
       "        User_id  Product_id  Rating        Date  \\\n",
       "0           923           0       3   12/8/2014   \n",
       "1           924           0       3   5/16/2013   \n",
       "2           925           0       4    7/1/2013   \n",
       "3           926           0       4   7/28/2011   \n",
       "4           927           0       4   11/1/2010   \n",
       "...         ...         ...     ...         ...   \n",
       "111793    67541         318       2   3/29/2013   \n",
       "111794    69555         318       4   2/13/2013   \n",
       "111795    67575         318       5   11/9/2012   \n",
       "111796    69556         318       5  10/13/2012   \n",
       "111797    69557         318       3   9/13/2012   \n",
       "\n",
       "                                                                                                                                                                                                                                                                                                                                                                                                                                                                                                                                                                                                                                                                                                                                                                                                                                                                                                                                                                                                                                                                                                                                                                                                                                                                                                                                                              Review  \\\n",
       "0                                                                                                                                                                                                                                                                                                                                                                                                                                                                                                                                                                                                                                                                                                                                                                                                                                                                                                                                                                                                                                                                                                                                            The food at snack is a selection of popular Greek dishes. The appetizer tray is good as is the Greek salad. We were underwhelmed with the main courses. There are 4-5 tables here so it's sometimes hard to get seated.   \n",
       "1                                                                                                                                                                                                                                                                                                                                                                                                                                                                                                                                                                                                                                                                                                                                                                                                                                                                                                                                                                                                                                                                                      This little place in Soho is wonderful. I had a lamb sandwich and a glass of wine. The price shocked me for how small the serving was, but then again, this is Soho. The staff can be a little snotty and rude, but the food is great, just don't expect world-class service.   \n",
       "2                                                                                                                                                                                                                                                                                                                                                                                                                                                                                                                                                                                                                                                                                                                                                                                                                                                                                                                                                                                                                                                                                                                                                                               ordered lunch for 15 from Snack last Friday. Â On time, nothing missing and the food was great. Â I have added it to the regular company lunch list, as everyone enjoyed their meal.   \n",
       "3                                                                                                                                                                                                                                                                                                                                                                                                                                                                                                                                                                                                                                                                                                                                                                                                                                                      This is a beautiful quaint little restaurant on a pretty street. Â If you're strolling through soho around lunchtime, this would be a great place to stop for a bite. I heard the reviews about the lamb sandwich, so I had to try it. I'm very happy that i did. Every single ingredient - from the bread to the onions and tomatoes, the lamb and the sauce - was delicious. These four stars are well deserved because of the tasty sandwich and great ambiance. Â I would recommend this place to anyone.   \n",
       "4                                                                                                                                                                                                                                                                                                                                                                                                                                                                                                                                                                                                                                                                                                                                          Snack is great place for a Â casual sit down lunch- especially on a cold winter day. Â In many ways the restaurant mirrors the food- simple yet unique. Â The avgolemono soup was lemony perfection and the butter bean salad hearty yet light. Â The greek coffee is different...they sweeten it with honey which makes for an interesting thickness and sweet spice. I definitely plan on going back for dinner. Â If the small space doesn't suit you their sister restaurant Snack Taverna in the West Village is just as good, if not better...and more \"upscale\" with waiters who make you feel well taken care of.   \n",
       "...                                                                                                                                                                                                                                                                                                                                                                                                                                                                                                                                                                                                                                                                                                                                                                                                                                                                                                                                                                                                                                                                                                                                                                                                                                                                                                                                                              ...   \n",
       "111793                                                                                                                                                                                                                                                                                                                                                                                                                                                                                                                                                                                                                                                                                                                                                                                                                                                                                                                                                                                                                                                                                                                                                                                            The chicken and waffles were great!!!. My friend got the cheese burger and fries. The fries were soggy and the burger was a frozen patty, which is unforgivable!!!   \n",
       "111794                                                                                                                                                                                                                                                                                                                                                                                                                                                                                                                                                                                                                                                                                                                                                                                                                                                                                                                                                                                                                                                                                                                                                                                                                Delicious food, friendly service. Wish the portions were slightly larger on the dinner meal deal -- hmm, probably a good thing they aren't lol   \n",
       "111795                                                                                                                                                                                                                                                                                                                     The food here is SLAMMIN\"!!! e I truly love when you try a restaurant for the first time and the workers/owners are all so happy you came! The service is really a major plus. I felt like I walked into my aunt's house or something. I've tried a few of the items on the menu but the standout by far would be the honey bbq wings. They are so sweet and tangy! I have not had wings that juicy and good in a very long time. The homemade baked good are equally stellar. I hate cheesecake, but the sweet potato cheesecake here changed my mind! The yellow cake with chocolate frosting, the lemon cake all hits! Any of the sides you choose for your meal will be well seasond and tasty! Wash it all down with a hal and half and you will be in heaven. I have not tried the breakfast and to be honest I am scared to do it. Grits, salmon cakes, waffles with nutella...These things could be a major wardrobe shrinker. I am very confident that when I do, it will be worth every calorie. Get yourself over there ASAP!!   \n",
       "111796  I just moved to Brooklyn and was in search of that Chicken and Waffles combo I used to have back home in California. Â I've had tried plenty since I've moved to NY, but NONE compare to Napoleons!! Â I ordered the 4 mini waffles and wings dinner plate (substituting the wings for a leg and breast). Â The meat was juicy, mouth watering, and moist. Â The skin was crispy, crunchy, and extremely flavorful. Â The waffles we fluffy and covered in butter and powered sugar, with syrup on the side to smother at my will. Â SO, SO YUMMY! Â If that wasn't enough, my boyfriend ordered the Honey Barbeque Chicken dinner plate which comes with two sides, he ordered mac & cheese and candied yams. Â The honey barbeque sauce was to die for! Extremely orgasmic to say the least. Â You will NEVER desire another. Â To top off the exceptional dinner, we had the sweet potato cheesecake which again was phenomenal, for lack of words. Â Napoleon came out to check up on us, asking if everything was alright. Â We couldn't stop complimenting his cooking/baking skills.. the love he puts into his food is above all and one can really see that with every taste that poured into our mouths. Â He was very sweet, as was the cashier. Â I plan to recommend this restaurant to EVERYONE that crosses my way, it really is that GREAT!!   \n",
       "111797                                                                                                                                                                                                                                                                                                                                                                                                                                                                                                                                                                                                                                                                                                    Absolutely delicious pastries and a nice comfortable place. They seem fixated on cleanliness, which is a good thing but can I Â finish my delicious chicken and waffles...please!!! Granted it's a new spot and they are getting Â things together but their menu is disappointingly inconsistent, their shelves are mostly empty and... what no coffee? \"The machine was turned off, this is not a coffee shop\", Â well there's is something called instant coffee, just add water... This place has an exceptional baker and a throw down cook, once you get over the emptiness and them not having what you came for..... You will love what they have.   \n",
       "\n",
       "        Label  \n",
       "0          -1  \n",
       "1          -1  \n",
       "2          -1  \n",
       "3          -1  \n",
       "4          -1  \n",
       "...       ...  \n",
       "111793      1  \n",
       "111794      1  \n",
       "111795      1  \n",
       "111796      1  \n",
       "111797      1  \n",
       "\n",
       "[111798 rows x 6 columns]"
      ]
     },
     "execution_count": 52,
     "metadata": {},
     "output_type": "execute_result"
    }
   ],
   "source": [
    "df"
   ]
  },
  {
   "cell_type": "code",
   "execution_count": 53,
   "metadata": {},
   "outputs": [
    {
     "data": {
      "text/plain": [
       "89577    9/9/2014\n",
       "89980    9/9/2014\n",
       "73459    9/9/2014\n",
       "73277    9/9/2014\n",
       "98882    9/9/2014\n",
       "           ...   \n",
       "12723    1/1/2009\n",
       "32351    1/1/2009\n",
       "74463    1/1/2009\n",
       "67654    1/1/2008\n",
       "4100     1/1/2008\n",
       "Name: Date, Length: 111798, dtype: object"
      ]
     },
     "execution_count": 53,
     "metadata": {},
     "output_type": "execute_result"
    }
   ],
   "source": [
    "df['Date'].sort_values(ascending=False)"
   ]
  },
  {
   "cell_type": "code",
   "execution_count": 54,
   "metadata": {},
   "outputs": [
    {
     "data": {
      "text/plain": [
       "User_id       0\n",
       "Product_id    0\n",
       "Rating        0\n",
       "Date          0\n",
       "Review        0\n",
       "Label         0\n",
       "dtype: int64"
      ]
     },
     "execution_count": 54,
     "metadata": {},
     "output_type": "execute_result"
    }
   ],
   "source": [
    "df.isna().sum()"
   ]
  },
  {
   "cell_type": "markdown",
   "metadata": {},
   "source": [
    "There are no null values in our data set."
   ]
  },
  {
   "cell_type": "code",
   "execution_count": 55,
   "metadata": {},
   "outputs": [
    {
     "data": {
      "text/html": [
       "<div>\n",
       "<style scoped>\n",
       "    .dataframe tbody tr th:only-of-type {\n",
       "        vertical-align: middle;\n",
       "    }\n",
       "\n",
       "    .dataframe tbody tr th {\n",
       "        vertical-align: top;\n",
       "    }\n",
       "\n",
       "    .dataframe thead th {\n",
       "        text-align: right;\n",
       "    }\n",
       "</style>\n",
       "<table border=\"1\" class=\"dataframe\">\n",
       "  <thead>\n",
       "    <tr style=\"text-align: right;\">\n",
       "      <th></th>\n",
       "      <th>User_id</th>\n",
       "      <th>Product_id</th>\n",
       "      <th>Rating</th>\n",
       "      <th>Date</th>\n",
       "      <th>Review</th>\n",
       "      <th>Label</th>\n",
       "    </tr>\n",
       "  </thead>\n",
       "  <tbody>\n",
       "    <tr>\n",
       "      <th>111331</th>\n",
       "      <td>69314</td>\n",
       "      <td>54</td>\n",
       "      <td>5</td>\n",
       "      <td>5/6/2013</td>\n",
       "      <td>The best restaraunt in New York City and one of the most historical places. I come here a lot. I love to support them instead of supporting other restaraunts in manhattan. It's my favorite, great food, great service, and most of all its a revolutionary war place which is my favorite! I can't believe George Washington slept, ate, and stayed here during the 1700s ! Bowling green is nearby which is a nice historical park, as well as other revolutionary war sites you should, visit. I live nearby on Chambers St and come here a lot to support them. Please support them the. Money goes to great cause. Museum is the best upstairs too.</td>\n",
       "      <td>-1</td>\n",
       "    </tr>\n",
       "    <tr>\n",
       "      <th>111332</th>\n",
       "      <td>69315</td>\n",
       "      <td>54</td>\n",
       "      <td>5</td>\n",
       "      <td>3/31/2013</td>\n",
       "      <td>The bar is such a great spot and has so much character! Over 100 some beers from $6-$12 bucks, Â and the food is great too. The shepherds pie is AMAZING and comes in a pan!!</td>\n",
       "      <td>-1</td>\n",
       "    </tr>\n",
       "    <tr>\n",
       "      <th>111333</th>\n",
       "      <td>69316</td>\n",
       "      <td>54</td>\n",
       "      <td>5</td>\n",
       "      <td>1/2/2013</td>\n",
       "      <td>The best place to have a beer and a bite. They have hundreds of different kinds of beers.</td>\n",
       "      <td>-1</td>\n",
       "    </tr>\n",
       "    <tr>\n",
       "      <th>111334</th>\n",
       "      <td>69317</td>\n",
       "      <td>54</td>\n",
       "      <td>5</td>\n",
       "      <td>11/6/2011</td>\n",
       "      <td>I never even heard of this place before signing up for the Zombies vs Vampires Halloween Scavenger Hunt but now that I know about I will be back! First of all it's like a restaurant and brew pub and sports bar and museum all wrapped into 1. The place is HUGE! The prices are cheap and there's enough room so you're not super crowded or packed in. Before the scavenger hunt I was in the back bat watching the series game and having a beer. The bartender (who was hot) was awesome! The French fries at this place are sick! I got 2 orders they were SO good! And George Washington drank here! It's totally true! I like Stone Street a lot and this is a couple blocks away and it's really worth going to. It's cool to go with friends or to hang out or even on a date. Plus they had this place as the starting point and the after party place for Zombies vs Vampires (zombiesVvampires.com if u want to check it out). Such a cool place! Laid back! Not expensive! Pretty easy to get to on the 1. I wish I knew about it before. You definitely have to try this place out.</td>\n",
       "      <td>-1</td>\n",
       "    </tr>\n",
       "    <tr>\n",
       "      <th>111335</th>\n",
       "      <td>69318</td>\n",
       "      <td>54</td>\n",
       "      <td>5</td>\n",
       "      <td>10/14/2011</td>\n",
       "      <td>I've been here twice now and I'm a huge fan of their food and beer. Their porter is smooth, creamy and very, very tasty. In my opinion, it's better than Guinness. It's worth going there just for the beer. The first time I went was in the evening. Their bar food was exceptional. Their fish and chips are solid, and I liked a mushroom based vegetarian dish. I've forgotten what they're called, but you should definitely their mini-sausages wrapped in dough. In the evenings though, it can get crowded and it's hard to get your waiter's attention. My girlfriend was lucky to win a free lunch there. Their potato and leek soup was sublime and their bangers and mash were very good too. The servers are very nice and helpful and I highly recommend the place.</td>\n",
       "      <td>-1</td>\n",
       "    </tr>\n",
       "    <tr>\n",
       "      <th>111644</th>\n",
       "      <td>69460</td>\n",
       "      <td>60</td>\n",
       "      <td>2</td>\n",
       "      <td>1/20/2014</td>\n",
       "      <td>First off, I would like to be upfront and say that the food is quote good and full of flavor. However the biggest thing that irked me was the size of their platters. The are in that awkward place between the size/price of an appetizer and the size/price of a normal main dish platter. In a regular restaurant I would maybe spend $10 on an appetizer and $20 on a main dish, and this is if I am feeling particularly hungry. Here I literally had to get two \"main dishes\" which amounted to about $35 and still left fairly hungry. If you just want an expensive but flavorful snack, this place is good. But if you are looking for a place to eat this may not be the best value. The interior is also a bit strange. It tried to pull off the ambiance of a restaurant with candles and a darkly lit setting, but the white plastic bar tables are strangely positioned and are cold in nature. Bottom line, the chef is great and the ideas behind the dishes are wonderful. But unless this place changes its value proposition it will not last long. Suggestion - keep the prices, double the size of the portions. People will flock. Good luck. Siana</td>\n",
       "      <td>-1</td>\n",
       "    </tr>\n",
       "    <tr>\n",
       "      <th>111645</th>\n",
       "      <td>69461</td>\n",
       "      <td>60</td>\n",
       "      <td>5</td>\n",
       "      <td>8/19/2014</td>\n",
       "      <td>This restaurant is stands out. Just in the basis of the exceptional wine list, Baoburg( which stands for chef bao bao in williamsburgs) deserves a michelin stars. Each offering is so well considered for its ability to match the food or offer something special, and there a few real gems at reasonable prices. The food is, of couse, supurb, and each dish is a true work of art. But perhaps the thing that more sets Baoburg apart is the service, which perfectly strikes that balance between professionalism and sincere friendliness. Truly an experience to be missed.</td>\n",
       "      <td>-1</td>\n",
       "    </tr>\n",
       "    <tr>\n",
       "      <th>111646</th>\n",
       "      <td>69462</td>\n",
       "      <td>60</td>\n",
       "      <td>5</td>\n",
       "      <td>8/19/2014</td>\n",
       "      <td>This was my first time visiting Baoburg, and was very excited to try these unique and original Asian European cuisine. This cozy intimate restaurant located in the heart of north Williamsburg was worth the trip, the staff was very friendly and the waiter made some great recommendations, but I wanted to try everything on the menu. My girlfriend and I choose to go with the Truffle fries and glazed chicken made with a maple flavor and soy sauce combination and chicken empanadas that we shared. I know for the next time to order 2 of those dishes cause it was so delicious I really did not want to share with my girlfriend..lol. Then we ordered the short ribs, this was also very tasty and the meat was very juicy and full of flavor. We ended our meal with the chocolate lava cake and a chocolate cream crape with ice cream. I will definitely go back to try the other items on the menu, and might live the girlfriend home, so It more food for me to enjoy...:) I also had the pleasure of meeting Chef Bao, she's a young and very talented chef with some cutting edge ideas for all food lovers, I'm looking forward to my next meal at Baourg.</td>\n",
       "      <td>-1</td>\n",
       "    </tr>\n",
       "    <tr>\n",
       "      <th>111647</th>\n",
       "      <td>69463</td>\n",
       "      <td>60</td>\n",
       "      <td>5</td>\n",
       "      <td>6/28/2014</td>\n",
       "      <td>I recently visited Baoburg for the second time just to satiate the strong urge to taste their garlic shrimp - Gambas Al Ajillo. The first time I went to eat there, I was following a vegan diet for religious reasons. My friends ordered several dishes (mostly non- vegan), and the aroma from each one of them stuck with me, especially garlic shrimps and thus I was back for my share and more. Both visits to Baoburg have been wonderful. The staff were not only friendly and warm, but also very attentive to guests' Â at every table. Even the owner, Chef Bao came to our table to check on us and asked for feedback in general. I personally enjoy trying out food at mom-and-pop shops, and one thing that is an absolute delight, as well as a surprise, is visibility to the kitchen - a surprise because kitchen is a busy place and one wouldn't like to expose that area to the guests, and delight because a clean and well managed kitchen suggests that hygiene is a priority for the staff. And Baoburg earns my applause for that!! Although the restaurant is small in area, it sure offers much more than just a table, chair, and food. The service is great, food is flavorful, presentation is classy and appetizing, ambiance is cosy, and the staff is personable. You don't much after a long day at work than just that. I would definitely recommend Baoburg to anyone and for sure I am coming back.</td>\n",
       "      <td>-1</td>\n",
       "    </tr>\n",
       "    <tr>\n",
       "      <th>111648</th>\n",
       "      <td>69464</td>\n",
       "      <td>60</td>\n",
       "      <td>5</td>\n",
       "      <td>10/25/2013</td>\n",
       "      <td>Been here a few times for brunch and dinner, this place is a hidden gem! Â  Amazing delicate tastes in every dish we tried. Â Spaghetti anchovy was my fav dinner, the eggs Benedict is great brunch dish. Â The cuisine is French with a thai/asian flair. Highly recommended.</td>\n",
       "      <td>-1</td>\n",
       "    </tr>\n",
       "    <tr>\n",
       "      <th>111649</th>\n",
       "      <td>69465</td>\n",
       "      <td>60</td>\n",
       "      <td>5</td>\n",
       "      <td>10/20/2013</td>\n",
       "      <td>Loved it here - charming little place with great food. Â Try the Octopus and Mussels.</td>\n",
       "      <td>-1</td>\n",
       "    </tr>\n",
       "    <tr>\n",
       "      <th>111743</th>\n",
       "      <td>69518</td>\n",
       "      <td>318</td>\n",
       "      <td>1</td>\n",
       "      <td>3/31/2013</td>\n",
       "      <td>Food took over an hour to arrive, and when it came it was cold. I called to check on my order after 45 minutes and they said it just went out. it came 25 minutes later. The sodas were warmer than the food, that's not a joke, they clearly weren't refrigerated.The delivery guy called to say he was there, and he wasn't, he was down the block. Â He eventually came down the block and delivered the food. Â Food was nothing special.</td>\n",
       "      <td>-1</td>\n",
       "    </tr>\n",
       "    <tr>\n",
       "      <th>111744</th>\n",
       "      <td>69519</td>\n",
       "      <td>318</td>\n",
       "      <td>1</td>\n",
       "      <td>12/16/2012</td>\n",
       "      <td>decided to try the chicken and waffels. first of all the price was 11.50 for wingeetes and 4 small waffels. Â , the chicken was refried. It was not fresh. Â Worst of all, there were 2 or 3 Â black \"pellets \" in the waffels that in my opinion Â looked like droppings. Did not look like pieces of burnt left over pancake like the lady who works therre described it when i called to tell them. Â It appears to me that something coul have fell into the batter. I threw it away. Â So what they got an A in the window, the chicken an waffels were , expensive, refried and tasteless with suspicious black pellets that was fried in the waffle. Â will never buy from this spot again.</td>\n",
       "      <td>-1</td>\n",
       "    </tr>\n",
       "    <tr>\n",
       "      <th>111745</th>\n",
       "      <td>69520</td>\n",
       "      <td>318</td>\n",
       "      <td>3</td>\n",
       "      <td>11/12/2012</td>\n",
       "      <td>MY FAMILY N I WENT THERE RECENTLY, THE FOOD IS GOOD. However its not really a restaurant, only had three small tables n, paper plates.more of a take out joint, or jus coffee/tea n or dessert.</td>\n",
       "      <td>-1</td>\n",
       "    </tr>\n",
       "    <tr>\n",
       "      <th>111746</th>\n",
       "      <td>69521</td>\n",
       "      <td>318</td>\n",
       "      <td>4</td>\n",
       "      <td>4/15/2013</td>\n",
       "      <td>I ordered from GRUBHUB. Had the fish dinner. It came with 2 sides. Â I chose the collard greens and potato salad. I am happy to say the food was delicious. Â The ordered came in the specified time. The delivery guy was nice. Brought the food to my door. Â I had the crumb apple pie for dessert. Â The only think missing was I didn't have any ice cream at home to top it off. Â I definitely would order from here again.</td>\n",
       "      <td>-1</td>\n",
       "    </tr>\n",
       "    <tr>\n",
       "      <th>111747</th>\n",
       "      <td>69522</td>\n",
       "      <td>318</td>\n",
       "      <td>5</td>\n",
       "      <td>3/28/2014</td>\n",
       "      <td>GREAT</td>\n",
       "      <td>-1</td>\n",
       "    </tr>\n",
       "    <tr>\n",
       "      <th>111748</th>\n",
       "      <td>69523</td>\n",
       "      <td>318</td>\n",
       "      <td>5</td>\n",
       "      <td>1/16/2014</td>\n",
       "      <td>I went into the Southern Â place thinking OK. here we go again another boot leg Southern cooking place. The place was empty and very clean. Â To good to be true kinda thing! Â My better half ordered a fried chicken dinner, my daughter ordered the honey BBQ wings and I ordered the fish &amp; shrimp dinner with a side of red velvet cake. Â Well, when we Â got home and started eating. . . OH, MY GOODNESS!! We looked at each other like WOW I don't believe it. Â We finally hit the JACKPOT and it is located around the corner from my home. Â  If you want Real Down Home Southern Cuisine. Please make your way to Napoleon Southern Cuisine &amp; Bakery on Bedford Ave Between Putnam and Madison. Delicious!!!</td>\n",
       "      <td>-1</td>\n",
       "    </tr>\n",
       "    <tr>\n",
       "      <th>111749</th>\n",
       "      <td>69524</td>\n",
       "      <td>318</td>\n",
       "      <td>5</td>\n",
       "      <td>12/23/2013</td>\n",
       "      <td>The honey BBQ shrimp was something I was skeptical about but I was happy I got it, it was great and I was told the red velvet waffle was good sorry they lied it was GREAT. The next day I as craving for red velvet waffles, sad part is that I'm located I the lower manhattan and i wish I could go there everyday. But I will surely visit it again!</td>\n",
       "      <td>-1</td>\n",
       "    </tr>\n",
       "    <tr>\n",
       "      <th>111750</th>\n",
       "      <td>69525</td>\n",
       "      <td>318</td>\n",
       "      <td>5</td>\n",
       "      <td>9/5/2013</td>\n",
       "      <td>The BEST Soul Food I have ever had! Â I ordered the smothered chicken with mac &amp; cheese and rice and gravy with a lemonade and banana bread pudding for dessert. Â The meat was so tender it was falling off the bone, the mac &amp; cheese was perfect and the banana bread pudding (which is made from scratch) was one of a kind! Denise was very helpful and friendly and Napoleon himself even came out to speak with us. Â I look forward to going back very soon!</td>\n",
       "      <td>-1</td>\n",
       "    </tr>\n",
       "    <tr>\n",
       "      <th>111751</th>\n",
       "      <td>69526</td>\n",
       "      <td>318</td>\n",
       "      <td>5</td>\n",
       "      <td>11/29/2012</td>\n",
       "      <td>Bangin!!! The honey bbq wings and mac and cheese are to die for, and once I tried it other places in the neighborhood paled in comparison. This family owned restaurant will satisfy any craving for a homey slice of southern comfort. Â Also, dont miss out on the top notch cakes and pastries--More cheese biscuits please!</td>\n",
       "      <td>-1</td>\n",
       "    </tr>\n",
       "  </tbody>\n",
       "</table>\n",
       "</div>"
      ],
      "text/plain": [
       "        User_id  Product_id  Rating        Date  \\\n",
       "111331    69314          54       5    5/6/2013   \n",
       "111332    69315          54       5   3/31/2013   \n",
       "111333    69316          54       5    1/2/2013   \n",
       "111334    69317          54       5   11/6/2011   \n",
       "111335    69318          54       5  10/14/2011   \n",
       "111644    69460          60       2   1/20/2014   \n",
       "111645    69461          60       5   8/19/2014   \n",
       "111646    69462          60       5   8/19/2014   \n",
       "111647    69463          60       5   6/28/2014   \n",
       "111648    69464          60       5  10/25/2013   \n",
       "111649    69465          60       5  10/20/2013   \n",
       "111743    69518         318       1   3/31/2013   \n",
       "111744    69519         318       1  12/16/2012   \n",
       "111745    69520         318       3  11/12/2012   \n",
       "111746    69521         318       4   4/15/2013   \n",
       "111747    69522         318       5   3/28/2014   \n",
       "111748    69523         318       5   1/16/2014   \n",
       "111749    69524         318       5  12/23/2013   \n",
       "111750    69525         318       5    9/5/2013   \n",
       "111751    69526         318       5  11/29/2012   \n",
       "\n",
       "                                                                                                                                                                                                                                                                                                                                                                                                                                                                                                                                                                                                                                                                                                                                                                                                                                                                                                                                                                                                                                                                                                                                                                                                                                                                                                                                                                                                                                            Review  \\\n",
       "111331                                                                                                                                                                                                                                                                                                                                                                                                                                                                                                                                                                                                                                                                                                                                                                                   The best restaraunt in New York City and one of the most historical places. I come here a lot. I love to support them instead of supporting other restaraunts in manhattan. It's my favorite, great food, great service, and most of all its a revolutionary war place which is my favorite! I can't believe George Washington slept, ate, and stayed here during the 1700s ! Bowling green is nearby which is a nice historical park, as well as other revolutionary war sites you should, visit. I live nearby on Chambers St and come here a lot to support them. Please support them the. Money goes to great cause. Museum is the best upstairs too.   \n",
       "111332                                                                                                                                                                                                                                                                                                                                                                                                                                                                                                                                                                                                                                                                                                                                                                                                                                                                                                                                                                                                                                                                                                                                                                                                                                                               The bar is such a great spot and has so much character! Over 100 some beers from $6-$12 bucks, Â and the food is great too. The shepherds pie is AMAZING and comes in a pan!!   \n",
       "111333                                                                                                                                                                                                                                                                                                                                                                                                                                                                                                                                                                                                                                                                                                                                                                                                                                                                                                                                                                                                                                                                                                                                                                                                                                                                                                                                                   The best place to have a beer and a bite. They have hundreds of different kinds of beers.   \n",
       "111334                                                                                                                                                                                                                                                                                                                                         I never even heard of this place before signing up for the Zombies vs Vampires Halloween Scavenger Hunt but now that I know about I will be back! First of all it's like a restaurant and brew pub and sports bar and museum all wrapped into 1. The place is HUGE! The prices are cheap and there's enough room so you're not super crowded or packed in. Before the scavenger hunt I was in the back bat watching the series game and having a beer. The bartender (who was hot) was awesome! The French fries at this place are sick! I got 2 orders they were SO good! And George Washington drank here! It's totally true! I like Stone Street a lot and this is a couple blocks away and it's really worth going to. It's cool to go with friends or to hang out or even on a date. Plus they had this place as the starting point and the after party place for Zombies vs Vampires (zombiesVvampires.com if u want to check it out). Such a cool place! Laid back! Not expensive! Pretty easy to get to on the 1. I wish I knew about it before. You definitely have to try this place out.   \n",
       "111335                                                                                                                                                                                                                                                                                                                                                                                                                                                                                                                                                                                                                                                          I've been here twice now and I'm a huge fan of their food and beer. Their porter is smooth, creamy and very, very tasty. In my opinion, it's better than Guinness. It's worth going there just for the beer. The first time I went was in the evening. Their bar food was exceptional. Their fish and chips are solid, and I liked a mushroom based vegetarian dish. I've forgotten what they're called, but you should definitely their mini-sausages wrapped in dough. In the evenings though, it can get crowded and it's hard to get your waiter's attention. My girlfriend was lucky to win a free lunch there. Their potato and leek soup was sublime and their bangers and mash were very good too. The servers are very nice and helpful and I highly recommend the place.   \n",
       "111644                                                                                                                                                                                                                                                                   First off, I would like to be upfront and say that the food is quote good and full of flavor. However the biggest thing that irked me was the size of their platters. The are in that awkward place between the size/price of an appetizer and the size/price of a normal main dish platter. In a regular restaurant I would maybe spend $10 on an appetizer and $20 on a main dish, and this is if I am feeling particularly hungry. Here I literally had to get two \"main dishes\" which amounted to about $35 and still left fairly hungry. If you just want an expensive but flavorful snack, this place is good. But if you are looking for a place to eat this may not be the best value. The interior is also a bit strange. It tried to pull off the ambiance of a restaurant with candles and a darkly lit setting, but the white plastic bar tables are strangely positioned and are cold in nature. Bottom line, the chef is great and the ideas behind the dishes are wonderful. But unless this place changes its value proposition it will not last long. Suggestion - keep the prices, double the size of the portions. People will flock. Good luck. Siana   \n",
       "111645                                                                                                                                                                                                                                                                                                                                                                                                                                                                                                                                                                                                                                                                                                                                                                                                                                                        This restaurant is stands out. Just in the basis of the exceptional wine list, Baoburg( which stands for chef bao bao in williamsburgs) deserves a michelin stars. Each offering is so well considered for its ability to match the food or offer something special, and there a few real gems at reasonable prices. The food is, of couse, supurb, and each dish is a true work of art. But perhaps the thing that more sets Baoburg apart is the service, which perfectly strikes that balance between professionalism and sincere friendliness. Truly an experience to be missed.   \n",
       "111646                                                                                                                                                                                                                                                         This was my first time visiting Baoburg, and was very excited to try these unique and original Asian European cuisine. This cozy intimate restaurant located in the heart of north Williamsburg was worth the trip, the staff was very friendly and the waiter made some great recommendations, but I wanted to try everything on the menu. My girlfriend and I choose to go with the Truffle fries and glazed chicken made with a maple flavor and soy sauce combination and chicken empanadas that we shared. I know for the next time to order 2 of those dishes cause it was so delicious I really did not want to share with my girlfriend..lol. Then we ordered the short ribs, this was also very tasty and the meat was very juicy and full of flavor. We ended our meal with the chocolate lava cake and a chocolate cream crape with ice cream. I will definitely go back to try the other items on the menu, and might live the girlfriend home, so It more food for me to enjoy...:) I also had the pleasure of meeting Chef Bao, she's a young and very talented chef with some cutting edge ideas for all food lovers, I'm looking forward to my next meal at Baourg.   \n",
       "111647  I recently visited Baoburg for the second time just to satiate the strong urge to taste their garlic shrimp - Gambas Al Ajillo. The first time I went to eat there, I was following a vegan diet for religious reasons. My friends ordered several dishes (mostly non- vegan), and the aroma from each one of them stuck with me, especially garlic shrimps and thus I was back for my share and more. Both visits to Baoburg have been wonderful. The staff were not only friendly and warm, but also very attentive to guests' Â at every table. Even the owner, Chef Bao came to our table to check on us and asked for feedback in general. I personally enjoy trying out food at mom-and-pop shops, and one thing that is an absolute delight, as well as a surprise, is visibility to the kitchen - a surprise because kitchen is a busy place and one wouldn't like to expose that area to the guests, and delight because a clean and well managed kitchen suggests that hygiene is a priority for the staff. And Baoburg earns my applause for that!! Although the restaurant is small in area, it sure offers much more than just a table, chair, and food. The service is great, food is flavorful, presentation is classy and appetizing, ambiance is cosy, and the staff is personable. You don't much after a long day at work than just that. I would definitely recommend Baoburg to anyone and for sure I am coming back.   \n",
       "111648                                                                                                                                                                                                                                                                                                                                                                                                                                                                                                                                                                                                                                                                                                                                                                                                                                                                                                                                                                                                                                                                                                                                                             Been here a few times for brunch and dinner, this place is a hidden gem! Â  Amazing delicate tastes in every dish we tried. Â Spaghetti anchovy was my fav dinner, the eggs Benedict is great brunch dish. Â The cuisine is French with a thai/asian flair. Highly recommended.   \n",
       "111649                                                                                                                                                                                                                                                                                                                                                                                                                                                                                                                                                                                                                                                                                                                                                                                                                                                                                                                                                                                                                                                                                                                                                                                                                                                                                                                                                       Loved it here - charming little place with great food. Â Try the Octopus and Mussels.   \n",
       "111743                                                                                                                                                                                                                                                                                                                                                                                                                                                                                                                                                                                                                                                                                                                                                                                                                                                                                                                                                                                               Food took over an hour to arrive, and when it came it was cold. I called to check on my order after 45 minutes and they said it just went out. it came 25 minutes later. The sodas were warmer than the food, that's not a joke, they clearly weren't refrigerated.The delivery guy called to say he was there, and he wasn't, he was down the block. Â He eventually came down the block and delivered the food. Â Food was nothing special.   \n",
       "111744                                                                                                                                                                                                                                                                                                                                                                                                                                                                                                                                                                                                                                                                                                                                          decided to try the chicken and waffels. first of all the price was 11.50 for wingeetes and 4 small waffels. Â , the chicken was refried. It was not fresh. Â Worst of all, there were 2 or 3 Â black \"pellets \" in the waffels that in my opinion Â looked like droppings. Did not look like pieces of burnt left over pancake like the lady who works therre described it when i called to tell them. Â It appears to me that something coul have fell into the batter. I threw it away. Â So what they got an A in the window, the chicken an waffels were , expensive, refried and tasteless with suspicious black pellets that was fried in the waffle. Â will never buy from this spot again.   \n",
       "111745                                                                                                                                                                                                                                                                                                                                                                                                                                                                                                                                                                                                                                                                                                                                                                                                                                                                                                                                                                                                                                                                                                                                                                                                                                             MY FAMILY N I WENT THERE RECENTLY, THE FOOD IS GOOD. However its not really a restaurant, only had three small tables n, paper plates.more of a take out joint, or jus coffee/tea n or dessert.   \n",
       "111746                                                                                                                                                                                                                                                                                                                                                                                                                                                                                                                                                                                                                                                                                                                                                                                                                                                                                                                                                                                                          I ordered from GRUBHUB. Had the fish dinner. It came with 2 sides. Â I chose the collard greens and potato salad. I am happy to say the food was delicious. Â The ordered came in the specified time. The delivery guy was nice. Brought the food to my door. Â I had the crumb apple pie for dessert. Â The only think missing was I didn't have any ice cream at home to top it off. Â I definitely would order from here again.   \n",
       "111747                                                                                                                                                                                                                                                                                                                                                                                                                                                                                                                                                                                                                                                                                                                                                                                                                                                                                                                                                                                                                                                                                                                                                                                                                                                                                                                                                                                                                                       GREAT   \n",
       "111748                                                                                                                                                                                                                                                                                                                                                                                                                                                                                                                                                                                                                                                                                                                   I went into the Southern Â place thinking OK. here we go again another boot leg Southern cooking place. The place was empty and very clean. Â To good to be true kinda thing! Â My better half ordered a fried chicken dinner, my daughter ordered the honey BBQ wings and I ordered the fish & shrimp dinner with a side of red velvet cake. Â Well, when we Â got home and started eating. . . OH, MY GOODNESS!! We looked at each other like WOW I don't believe it. Â We finally hit the JACKPOT and it is located around the corner from my home. Â  If you want Real Down Home Southern Cuisine. Please make your way to Napoleon Southern Cuisine & Bakery on Bedford Ave Between Putnam and Madison. Delicious!!!   \n",
       "111749                                                                                                                                                                                                                                                                                                                                                                                                                                                                                                                                                                                                                                                                                                                                                                                                                                                                                                                                                                                                                                                                                    The honey BBQ shrimp was something I was skeptical about but I was happy I got it, it was great and I was told the red velvet waffle was good sorry they lied it was GREAT. The next day I as craving for red velvet waffles, sad part is that I'm located I the lower manhattan and i wish I could go there everyday. But I will surely visit it again!   \n",
       "111750                                                                                                                                                                                                                                                                                                                                                                                                                                                                                                                                                                                                                                                                                                                                                                                                                                                                                                                                                                        The BEST Soul Food I have ever had! Â I ordered the smothered chicken with mac & cheese and rice and gravy with a lemonade and banana bread pudding for dessert. Â The meat was so tender it was falling off the bone, the mac & cheese was perfect and the banana bread pudding (which is made from scratch) was one of a kind! Denise was very helpful and friendly and Napoleon himself even came out to speak with us. Â I look forward to going back very soon!   \n",
       "111751                                                                                                                                                                                                                                                                                                                                                                                                                                                                                                                                                                                                                                                                                                                                                                                                                                                                                                                                                                                                                                                                                                             Bangin!!! The honey bbq wings and mac and cheese are to die for, and once I tried it other places in the neighborhood paled in comparison. This family owned restaurant will satisfy any craving for a homey slice of southern comfort. Â Also, dont miss out on the top notch cakes and pastries--More cheese biscuits please!   \n",
       "\n",
       "        Label  \n",
       "111331     -1  \n",
       "111332     -1  \n",
       "111333     -1  \n",
       "111334     -1  \n",
       "111335     -1  \n",
       "111644     -1  \n",
       "111645     -1  \n",
       "111646     -1  \n",
       "111647     -1  \n",
       "111648     -1  \n",
       "111649     -1  \n",
       "111743     -1  \n",
       "111744     -1  \n",
       "111745     -1  \n",
       "111746     -1  \n",
       "111747     -1  \n",
       "111748     -1  \n",
       "111749     -1  \n",
       "111750     -1  \n",
       "111751     -1  "
      ]
     },
     "execution_count": 55,
     "metadata": {},
     "output_type": "execute_result"
    }
   ],
   "source": [
    "df.loc[df['Label'] == -1].tail(20)"
   ]
  },
  {
   "cell_type": "markdown",
   "metadata": {},
   "source": [
    "Here I look at how some of the fake or disingenuous reviews are worded. They all seem real to me, I must be missing something. I also wonder how or why they were rated genuine or not. Was it a person who did this? I could not find the answer on kaggle, I will assume the data is accurate and continue to go with it. \n",
    "\n",
    "After doing a little more research, I found out that Yelp also classifies them as 'recommended' or 'not recommended'. https://www.reviewtrackers.com/blog/fake-yelp-reviews/ is the website I discovered this at. Each post is carefully vetted by employees at Yelp. At the current state of that article(Jan 2019), 70% are recommended while 30% are not. Long rants are put in the non recommended, along with those that seem solicitated. They want all reviews to be genuine, without a restaraunt trying to boost their ratings in a disingenuous manner. Yelp also has more information such as which computers the reviews came from and activity of the users.\n",
    "\n",
    "https://www.youtube.com/watch?v=KdG81QKdga0 is a link to a video where 5 star reviews are sold to businesses. There are Facebook groups where you can go to find people who will boost your score, with the 'elite' reviews being premium since they cannot be removed. This video is from September of 2020. This is why the fake reviews are so hard to spot. They are actual people writing these for money boosting the business rating. This leads to the question, can you also pay a group of people to bring down a competing business?"
   ]
  },
  {
   "cell_type": "code",
   "execution_count": 56,
   "metadata": {},
   "outputs": [
    {
     "data": {
      "text/html": [
       "<div>\n",
       "<style scoped>\n",
       "    .dataframe tbody tr th:only-of-type {\n",
       "        vertical-align: middle;\n",
       "    }\n",
       "\n",
       "    .dataframe tbody tr th {\n",
       "        vertical-align: top;\n",
       "    }\n",
       "\n",
       "    .dataframe thead th {\n",
       "        text-align: right;\n",
       "    }\n",
       "</style>\n",
       "<table border=\"1\" class=\"dataframe\">\n",
       "  <thead>\n",
       "    <tr style=\"text-align: right;\">\n",
       "      <th></th>\n",
       "      <th>User_id</th>\n",
       "      <th>Product_id</th>\n",
       "      <th>Rating</th>\n",
       "      <th>Date</th>\n",
       "      <th>Review</th>\n",
       "      <th>Label</th>\n",
       "    </tr>\n",
       "  </thead>\n",
       "  <tbody>\n",
       "    <tr>\n",
       "      <th>111778</th>\n",
       "      <td>69545</td>\n",
       "      <td>318</td>\n",
       "      <td>5</td>\n",
       "      <td>12/20/2013</td>\n",
       "      <td>Excellent southern delivery!! I had chicken wings and red velvet waffles with delicious greens. My husband had oxtails and said they were great, albeit a bit salty. I'm definitely ordering again!</td>\n",
       "      <td>1</td>\n",
       "    </tr>\n",
       "    <tr>\n",
       "      <th>111779</th>\n",
       "      <td>69546</td>\n",
       "      <td>318</td>\n",
       "      <td>5</td>\n",
       "      <td>11/21/2013</td>\n",
       "      <td>Oh....and BEST WAFFLES in Brooklyn - I MEAN THAT....Try them for breakfast as well</td>\n",
       "      <td>1</td>\n",
       "    </tr>\n",
       "    <tr>\n",
       "      <th>111780</th>\n",
       "      <td>69547</td>\n",
       "      <td>318</td>\n",
       "      <td>5</td>\n",
       "      <td>11/20/2013</td>\n",
       "      <td>This place had the best chicken and waffles...as well as other genuine down home cuisine with a nice simple decor that makes a country boy like me feel right at home...I'd your looking for a good meal and to replace the new York attitude for a little southern hospitality check this spot out</td>\n",
       "      <td>1</td>\n",
       "    </tr>\n",
       "    <tr>\n",
       "      <th>111781</th>\n",
       "      <td>69548</td>\n",
       "      <td>318</td>\n",
       "      <td>2</td>\n",
       "      <td>11/1/2013</td>\n",
       "      <td>Yelpers you steered me wrong... I got excited reading the reviews because Napoleon is not far from my house. So rushed from work to get her and the food was beyond disappointing. I had the fried fish mac and cheese and the collards. Fish under cooked and bland...I didn't taste an ounce of seasoning I had to use the tarter sauce for that. Mac and cheese I can't put my finger on the cheese but it taste powdery like Â a combination of kraft mac and cheese with real cheese added for good measure. Colards wouldn't have been bad if they weren't salty The young lady said she knew I would come back...I think not. I could have had end if the day food and theres a chance it may be better during regular hours...but I don't want to find out.</td>\n",
       "      <td>1</td>\n",
       "    </tr>\n",
       "    <tr>\n",
       "      <th>111782</th>\n",
       "      <td>69549</td>\n",
       "      <td>318</td>\n",
       "      <td>5</td>\n",
       "      <td>10/12/2013</td>\n",
       "      <td>I don't think that I will be going back for the rest of the year. Here's why: THE FOOD IS TOO GOOD!!!!!!!!! Do you understand what that means? THE F-O-O-D is G-O-O-D! I went into the store because earlier that day, I was CRAVING for some chicken and waffles. I went on yelp because I was going to go to Sweet Chick to test it out, but I work all the way in the Bronx and when I'm off, I don't like traveling and Williamsburg was a stretch from Crown Heights that day. I'm sorry. I see this place on Yelp that's right around the corner so I take the bus and I'm on the hunt. I go into the store that is EXTREMELY clean. I tell the guy that I want the red velvet waffles and chicken wings plus the sweet tea and a side of macaroni and cheese. I have a seat, drooling with anticipation. I almost cried when he set the food in front of me. The red velvet waffle had a sweet cream cheese glaze and it was so good. I asked for syrup on the side, but it wasn't needed. Not too sweet, but it was good. It was just right. BEST WAFFLE I EVER HAD IN MY LIFE! And trust me, I know my way around waffles. Damn a pancakes and DAMN a French toast! I had to order a second waffle. I also had a homemade half and half and It was the best I've ever had in New York State. (Just needs some Jack Daniel's Honey to mix with!) Come to find out that the guy that was serving me was the owner! I LOVE to see a business where the owner is hands on. Just a pleasant and humble person. Respect will get you places money won't. Because the owner is a humble man, his restaurant will flourish. I pray this is so, he deserves it. And he's from Birmingham, AL! It shows in his cooking. Â I wanted to try the banana pudding that was in the window but I didn't have the space. Maybe next year. Fuck am I kidding? I'm cancelling the NYSC membership and I'm at Napoleon's TOMORROW!!!!!! Love and life.</td>\n",
       "      <td>1</td>\n",
       "    </tr>\n",
       "    <tr>\n",
       "      <th>111783</th>\n",
       "      <td>69550</td>\n",
       "      <td>318</td>\n",
       "      <td>5</td>\n",
       "      <td>10/6/2013</td>\n",
       "      <td>Red velvet waffles with chicken wings. Don't order anything else, it's incredible!</td>\n",
       "      <td>1</td>\n",
       "    </tr>\n",
       "    <tr>\n",
       "      <th>111784</th>\n",
       "      <td>16438</td>\n",
       "      <td>318</td>\n",
       "      <td>3</td>\n",
       "      <td>9/15/2013</td>\n",
       "      <td>I look forward to updating this review to give it a better rating because the food (for the most part) was good! Unfortunately, it took them 2 hours to deliver the food when they originally estimated 35-45 mins, that knocked down the 4th star. The chicken was DARN good! We'll skip the fries next time, they were super soggy and greasy with a slice of american cheese melted on top. Unfortunately we couldn't tell if the red velvet waffle was good or not, it sweated on the way to us so it was super soggy, but regardless, we devoured it! The bf ordered a \"chicken breast\" smother sandwich, the chicken was on the bun, it's not really a sandwich, it came with 2 slices of \"whole wheat slice bread\", the bf would have preferred white. We will definitely give this place a try again.</td>\n",
       "      <td>1</td>\n",
       "    </tr>\n",
       "    <tr>\n",
       "      <th>111785</th>\n",
       "      <td>69551</td>\n",
       "      <td>318</td>\n",
       "      <td>5</td>\n",
       "      <td>9/12/2013</td>\n",
       "      <td>I can not say enough about this place. Â The food is AMAZING the owner and his wife are the nicest people you could ever meet. Â  I've eaten just about some of everything (turkey legs, shrimp, oxtails, chicken wings, potato salad, greens, Mac n cheese, cookies, pies and cakes) and I've never been disappointed. Only killer is the street parking, but for those out there who can actually parallel park this shouldn't be a problem. Go and be sure to bring an appetite because it is sooooooooo worth it!</td>\n",
       "      <td>1</td>\n",
       "    </tr>\n",
       "    <tr>\n",
       "      <th>111786</th>\n",
       "      <td>69552</td>\n",
       "      <td>318</td>\n",
       "      <td>5</td>\n",
       "      <td>8/16/2013</td>\n",
       "      <td>Last Saturday afternoon, I was exploring through yelp to see what I wanted to eat. I knew that I was tired as the same old crap. After searching for restaurants on yelp, I decided that I was in the mood for chicken and waffles. So, I seen that Napoleon's Southern Cuisine and Bakery had a high rate. When I read the reviews, the reviews was describing the red velvet waffles. I never heard of red velvet waffles. I go theree and ordered the red velvet waffle w/ chicken wings and a slice of sweet potato cheesecake. I took the food home and I hulk smash the food. The food was great. The red velvet waffle w/ the butter cream on top was like biting into slice of erotica. The waffle was moist and the chicken was seasoned and cooked right. This restaurant has my business and I will return for more great food.</td>\n",
       "      <td>1</td>\n",
       "    </tr>\n",
       "    <tr>\n",
       "      <th>111787</th>\n",
       "      <td>69553</td>\n",
       "      <td>318</td>\n",
       "      <td>5</td>\n",
       "      <td>8/12/2013</td>\n",
       "      <td>I went there to get chicken and waffles about an hour before they closed although they were no longer doing the chicken and waffles the staff was very nice and warm, if it weren't for her heavy NY accent I would've thought that she was a southern belle. The food was great, I would definitely go back. Their hours are not as long as most places but worth the visit when they are open.</td>\n",
       "      <td>1</td>\n",
       "    </tr>\n",
       "    <tr>\n",
       "      <th>111788</th>\n",
       "      <td>39956</td>\n",
       "      <td>318</td>\n",
       "      <td>5</td>\n",
       "      <td>8/8/2013</td>\n",
       "      <td>I love this place. I came here with my lady to try it out because we were both in the mood for some red velvet waffles and fried chicken and we found this place on yelp. the fried chicken wings were perfectly fried and the red velvet waffles were fresh, a little crispy on the outside and nice and soft on the inside. i was too full to try their cakes but my Â girlfriend bought a slice of their red velvet and It was awesome (ran back and bought me a slice to take home). my only complaint was the mac cheese looks like it was reheated (but tasted good) but I I will definitely be a regular here.</td>\n",
       "      <td>1</td>\n",
       "    </tr>\n",
       "    <tr>\n",
       "      <th>111789</th>\n",
       "      <td>67537</td>\n",
       "      <td>318</td>\n",
       "      <td>4</td>\n",
       "      <td>6/12/2013</td>\n",
       "      <td>This place is so good! I've had jerk chicken, oxtail and fried chicken. I love the oxtail the most. The only things that I don't totally love is that the place doesn't have too many tables so you have to do take out most of the time. The tables are mostly used by people waiting for takeout. I also think that they could be more clear about their hours. Several times I have tried to go but it was closed. But, the people who work here are incredibly friendly and care about the food they make and serve, the food itself is delicious and authentic and not too greasy or salty. Get collard greens and oxtail, those are my favorites.</td>\n",
       "      <td>1</td>\n",
       "    </tr>\n",
       "    <tr>\n",
       "      <th>111790</th>\n",
       "      <td>6579</td>\n",
       "      <td>318</td>\n",
       "      <td>4</td>\n",
       "      <td>6/8/2013</td>\n",
       "      <td>Ordered Â Napoleon's via Seamless on a rainy rainy Friday night. Â Delivery took a little over an hour which would usually send me into a crazy hAngry tizzy but there was a torrential down pour and the delivery man was very nice and even blew me a kiss went he left. Â *Secures top safety lock on door* I ordered the chicken and red velvet waffles. Â Waffles were tasty and the chicken was good too. They placed the chicken on top of the waffles as if you were dining in. I kinda wish they would have separated the two so that the waffles weren't soaking up all the grease. Â My sister ordered the traditional chicken and waffles and we swapped a quarter. Â Best decision of the night. Â That waffle right there was infused with butter. Â It was so rich that it reminded me of funnel cake at a street fair. Â I swear the traditional waffle complimented the chicken even better. Â We also ordered a side of mac and cheese which was good. Â The grand finale may have upstaged the entree. Â Carrot cake with the lightest, fluffliest cream cheese dressing completed my meal. I saw other reviews that commented on the portions. Â Don't be fooled by the \"mini waffles.\" Â It's one helluva waffle divided in four. Â My meal was comfortably split in 2. Happy chicken eating!</td>\n",
       "      <td>1</td>\n",
       "    </tr>\n",
       "    <tr>\n",
       "      <th>111791</th>\n",
       "      <td>35030</td>\n",
       "      <td>318</td>\n",
       "      <td>4</td>\n",
       "      <td>4/21/2013</td>\n",
       "      <td>Y'think there was some connection between yesterday's calendar date and the fact that I ordered a big ol' bag of fried chicken and waffles in a rush 10 minutes before the place closed? Of COURSE I had to celebrate Record Store day with the food of the South :-). Really good chicken and waffles, one star off for the prices -- $14 seems like a lot for a waffle and 4 chicken wings -- it was called '4 mini waffles' on the menu but it was one regular sized waffle, and I ordered a breast and thigh dinner as well because I prefer to have some chicken breast with my waffles, and the one breast that came with the dinner was too small for two people to share even just as a taste.</td>\n",
       "      <td>1</td>\n",
       "    </tr>\n",
       "    <tr>\n",
       "      <th>111792</th>\n",
       "      <td>69554</td>\n",
       "      <td>318</td>\n",
       "      <td>5</td>\n",
       "      <td>4/20/2013</td>\n",
       "      <td>I tried many soul food spots this is by far the best, the quality is excellent taste just like home cooking clean and large portions. I loveeee the food and the cake omg I can't stop going there.</td>\n",
       "      <td>1</td>\n",
       "    </tr>\n",
       "    <tr>\n",
       "      <th>111793</th>\n",
       "      <td>67541</td>\n",
       "      <td>318</td>\n",
       "      <td>2</td>\n",
       "      <td>3/29/2013</td>\n",
       "      <td>The chicken and waffles were great!!!. My friend got the cheese burger and fries. The fries were soggy and the burger was a frozen patty, which is unforgivable!!!</td>\n",
       "      <td>1</td>\n",
       "    </tr>\n",
       "    <tr>\n",
       "      <th>111794</th>\n",
       "      <td>69555</td>\n",
       "      <td>318</td>\n",
       "      <td>4</td>\n",
       "      <td>2/13/2013</td>\n",
       "      <td>Delicious food, friendly service. Wish the portions were slightly larger on the dinner meal deal -- hmm, probably a good thing they aren't lol</td>\n",
       "      <td>1</td>\n",
       "    </tr>\n",
       "    <tr>\n",
       "      <th>111795</th>\n",
       "      <td>67575</td>\n",
       "      <td>318</td>\n",
       "      <td>5</td>\n",
       "      <td>11/9/2012</td>\n",
       "      <td>The food here is SLAMMIN\"!!! e I truly love when you try a restaurant for the first time and the workers/owners are all so happy you came! The service is really a major plus. I felt like I walked into my aunt's house or something. I've tried a few of the items on the menu but the standout by far would be the honey bbq wings. They are so sweet and tangy! I have not had wings that juicy and good in a very long time. The homemade baked good are equally stellar. I hate cheesecake, but the sweet potato cheesecake here changed my mind! The yellow cake with chocolate frosting, the lemon cake all hits! Any of the sides you choose for your meal will be well seasond and tasty! Wash it all down with a hal and half and you will be in heaven. I have not tried the breakfast and to be honest I am scared to do it. Grits, salmon cakes, waffles with nutella...These things could be a major wardrobe shrinker. I am very confident that when I do, it will be worth every calorie. Get yourself over there ASAP!!</td>\n",
       "      <td>1</td>\n",
       "    </tr>\n",
       "    <tr>\n",
       "      <th>111796</th>\n",
       "      <td>69556</td>\n",
       "      <td>318</td>\n",
       "      <td>5</td>\n",
       "      <td>10/13/2012</td>\n",
       "      <td>I just moved to Brooklyn and was in search of that Chicken and Waffles combo I used to have back home in California. Â I've had tried plenty since I've moved to NY, but NONE compare to Napoleons!! Â I ordered the 4 mini waffles and wings dinner plate (substituting the wings for a leg and breast). Â The meat was juicy, mouth watering, and moist. Â The skin was crispy, crunchy, and extremely flavorful. Â The waffles we fluffy and covered in butter and powered sugar, with syrup on the side to smother at my will. Â SO, SO YUMMY! Â If that wasn't enough, my boyfriend ordered the Honey Barbeque Chicken dinner plate which comes with two sides, he ordered mac &amp; cheese and candied yams. Â The honey barbeque sauce was to die for! Extremely orgasmic to say the least. Â You will NEVER desire another. Â To top off the exceptional dinner, we had the sweet potato cheesecake which again was phenomenal, for lack of words. Â Napoleon came out to check up on us, asking if everything was alright. Â We couldn't stop complimenting his cooking/baking skills.. the love he puts into his food is above all and one can really see that with every taste that poured into our mouths. Â He was very sweet, as was the cashier. Â I plan to recommend this restaurant to EVERYONE that crosses my way, it really is that GREAT!!</td>\n",
       "      <td>1</td>\n",
       "    </tr>\n",
       "    <tr>\n",
       "      <th>111797</th>\n",
       "      <td>69557</td>\n",
       "      <td>318</td>\n",
       "      <td>3</td>\n",
       "      <td>9/13/2012</td>\n",
       "      <td>Absolutely delicious pastries and a nice comfortable place. They seem fixated on cleanliness, which is a good thing but can I Â finish my delicious chicken and waffles...please!!! Granted it's a new spot and they are getting Â things together but their menu is disappointingly inconsistent, their shelves are mostly empty and... what no coffee? \"The machine was turned off, this is not a coffee shop\", Â well there's is something called instant coffee, just add water... This place has an exceptional baker and a throw down cook, once you get over the emptiness and them not having what you came for..... You will love what they have.</td>\n",
       "      <td>1</td>\n",
       "    </tr>\n",
       "  </tbody>\n",
       "</table>\n",
       "</div>"
      ],
      "text/plain": [
       "        User_id  Product_id  Rating        Date  \\\n",
       "111778    69545         318       5  12/20/2013   \n",
       "111779    69546         318       5  11/21/2013   \n",
       "111780    69547         318       5  11/20/2013   \n",
       "111781    69548         318       2   11/1/2013   \n",
       "111782    69549         318       5  10/12/2013   \n",
       "111783    69550         318       5   10/6/2013   \n",
       "111784    16438         318       3   9/15/2013   \n",
       "111785    69551         318       5   9/12/2013   \n",
       "111786    69552         318       5   8/16/2013   \n",
       "111787    69553         318       5   8/12/2013   \n",
       "111788    39956         318       5    8/8/2013   \n",
       "111789    67537         318       4   6/12/2013   \n",
       "111790     6579         318       4    6/8/2013   \n",
       "111791    35030         318       4   4/21/2013   \n",
       "111792    69554         318       5   4/20/2013   \n",
       "111793    67541         318       2   3/29/2013   \n",
       "111794    69555         318       4   2/13/2013   \n",
       "111795    67575         318       5   11/9/2012   \n",
       "111796    69556         318       5  10/13/2012   \n",
       "111797    69557         318       3   9/13/2012   \n",
       "\n",
       "                                                                                                                                                                                                                                                                                                                                                                                                                                                                                                                                                                                                                                                                                                                                                                                                                                                                                                                                                                                                                                                                                                                                                                                                                                                                                                                                                                                                                                                                                                                                                                                                                                                                                                                                                                                                                                                                                                                                            Review  \\\n",
       "111778                                                                                                                                                                                                                                                                                                                                                                                                                                                                                                                                                                                                                                                                                                                                                                                                                                                                                                                                                                                                                                                                                                                                                                                                                                                                                                                                                                                                                                                                                                                                                                                                                                                                                                                                         Excellent southern delivery!! I had chicken wings and red velvet waffles with delicious greens. My husband had oxtails and said they were great, albeit a bit salty. I'm definitely ordering again!   \n",
       "111779                                                                                                                                                                                                                                                                                                                                                                                                                                                                                                                                                                                                                                                                                                                                                                                                                                                                                                                                                                                                                                                                                                                                                                                                                                                                                                                                                                                                                                                                                                                                                                                                                                                                                                                                                                                                                                                          Oh....and BEST WAFFLES in Brooklyn - I MEAN THAT....Try them for breakfast as well   \n",
       "111780                                                                                                                                                                                                                                                                                                                                                                                                                                                                                                                                                                                                                                                                                                                                                                                                                                                                                                                                                                                                                                                                                                                                                                                                                                                                                                                                                                                                                                                                                                                                                                                                                                         This place had the best chicken and waffles...as well as other genuine down home cuisine with a nice simple decor that makes a country boy like me feel right at home...I'd your looking for a good meal and to replace the new York attitude for a little southern hospitality check this spot out   \n",
       "111781                                                                                                                                                                                                                                                                                                                                                                                                                                                                                                                                                                                                                                                                                                                                                                                                                                                                                                                                                                                                                                                                                                                                                                         Yelpers you steered me wrong... I got excited reading the reviews because Napoleon is not far from my house. So rushed from work to get her and the food was beyond disappointing. I had the fried fish mac and cheese and the collards. Fish under cooked and bland...I didn't taste an ounce of seasoning I had to use the tarter sauce for that. Mac and cheese I can't put my finger on the cheese but it taste powdery like Â a combination of kraft mac and cheese with real cheese added for good measure. Colards wouldn't have been bad if they weren't salty The young lady said she knew I would come back...I think not. I could have had end if the day food and theres a chance it may be better during regular hours...but I don't want to find out.   \n",
       "111782  I don't think that I will be going back for the rest of the year. Here's why: THE FOOD IS TOO GOOD!!!!!!!!! Do you understand what that means? THE F-O-O-D is G-O-O-D! I went into the store because earlier that day, I was CRAVING for some chicken and waffles. I went on yelp because I was going to go to Sweet Chick to test it out, but I work all the way in the Bronx and when I'm off, I don't like traveling and Williamsburg was a stretch from Crown Heights that day. I'm sorry. I see this place on Yelp that's right around the corner so I take the bus and I'm on the hunt. I go into the store that is EXTREMELY clean. I tell the guy that I want the red velvet waffles and chicken wings plus the sweet tea and a side of macaroni and cheese. I have a seat, drooling with anticipation. I almost cried when he set the food in front of me. The red velvet waffle had a sweet cream cheese glaze and it was so good. I asked for syrup on the side, but it wasn't needed. Not too sweet, but it was good. It was just right. BEST WAFFLE I EVER HAD IN MY LIFE! And trust me, I know my way around waffles. Damn a pancakes and DAMN a French toast! I had to order a second waffle. I also had a homemade half and half and It was the best I've ever had in New York State. (Just needs some Jack Daniel's Honey to mix with!) Come to find out that the guy that was serving me was the owner! I LOVE to see a business where the owner is hands on. Just a pleasant and humble person. Respect will get you places money won't. Because the owner is a humble man, his restaurant will flourish. I pray this is so, he deserves it. And he's from Birmingham, AL! It shows in his cooking. Â I wanted to try the banana pudding that was in the window but I didn't have the space. Maybe next year. Fuck am I kidding? I'm cancelling the NYSC membership and I'm at Napoleon's TOMORROW!!!!!! Love and life.   \n",
       "111783                                                                                                                                                                                                                                                                                                                                                                                                                                                                                                                                                                                                                                                                                                                                                                                                                                                                                                                                                                                                                                                                                                                                                                                                                                                                                                                                                                                                                                                                                                                                                                                                                                                                                                                                                                                                                                                          Red velvet waffles with chicken wings. Don't order anything else, it's incredible!   \n",
       "111784                                                                                                                                                                                                                                                                                                                                                                                                                                                                                                                                                                                                                                                                                                                                                                                                                                                                                                                                                                                                                                                                                                                               I look forward to updating this review to give it a better rating because the food (for the most part) was good! Unfortunately, it took them 2 hours to deliver the food when they originally estimated 35-45 mins, that knocked down the 4th star. The chicken was DARN good! We'll skip the fries next time, they were super soggy and greasy with a slice of american cheese melted on top. Unfortunately we couldn't tell if the red velvet waffle was good or not, it sweated on the way to us so it was super soggy, but regardless, we devoured it! The bf ordered a \"chicken breast\" smother sandwich, the chicken was on the bun, it's not really a sandwich, it came with 2 slices of \"whole wheat slice bread\", the bf would have preferred white. We will definitely give this place a try again.   \n",
       "111785                                                                                                                                                                                                                                                                                                                                                                                                                                                                                                                                                                                                                                                                                                                                                                                                                                                                                                                                                                                                                                                                                                                                                                                                                                                                                                                                                                                                                       I can not say enough about this place. Â The food is AMAZING the owner and his wife are the nicest people you could ever meet. Â  I've eaten just about some of everything (turkey legs, shrimp, oxtails, chicken wings, potato salad, greens, Mac n cheese, cookies, pies and cakes) and I've never been disappointed. Only killer is the street parking, but for those out there who can actually parallel park this shouldn't be a problem. Go and be sure to bring an appetite because it is sooooooooo worth it!   \n",
       "111786                                                                                                                                                                                                                                                                                                                                                                                                                                                                                                                                                                                                                                                                                                                                                                                                                                                                                                                                                                                                                                                                                                  Last Saturday afternoon, I was exploring through yelp to see what I wanted to eat. I knew that I was tired as the same old crap. After searching for restaurants on yelp, I decided that I was in the mood for chicken and waffles. So, I seen that Napoleon's Southern Cuisine and Bakery had a high rate. When I read the reviews, the reviews was describing the red velvet waffles. I never heard of red velvet waffles. I go theree and ordered the red velvet waffle w/ chicken wings and a slice of sweet potato cheesecake. I took the food home and I hulk smash the food. The food was great. The red velvet waffle w/ the butter cream on top was like biting into slice of erotica. The waffle was moist and the chicken was seasoned and cooked right. This restaurant has my business and I will return for more great food.   \n",
       "111787                                                                                                                                                                                                                                                                                                                                                                                                                                                                                                                                                                                                                                                                                                                                                                                                                                                                                                                                                                                                                                                                                                                                                                                                                                                                                                                                                                                                                                                                                                                                            I went there to get chicken and waffles about an hour before they closed although they were no longer doing the chicken and waffles the staff was very nice and warm, if it weren't for her heavy NY accent I would've thought that she was a southern belle. The food was great, I would definitely go back. Their hours are not as long as most places but worth the visit when they are open.   \n",
       "111788                                                                                                                                                                                                                                                                                                                                                                                                                                                                                                                                                                                                                                                                                                                                                                                                                                                                                                                                                                                                                                                                                                                                                                                                                                                                                                                       I love this place. I came here with my lady to try it out because we were both in the mood for some red velvet waffles and fried chicken and we found this place on yelp. the fried chicken wings were perfectly fried and the red velvet waffles were fresh, a little crispy on the outside and nice and soft on the inside. i was too full to try their cakes but my Â girlfriend bought a slice of their red velvet and It was awesome (ran back and bought me a slice to take home). my only complaint was the mac cheese looks like it was reheated (but tasted good) but I I will definitely be a regular here.   \n",
       "111789                                                                                                                                                                                                                                                                                                                                                                                                                                                                                                                                                                                                                                                                                                                                                                                                                                                                                                                                                                                                                                                                                                                                                                                                                                                                                     This place is so good! I've had jerk chicken, oxtail and fried chicken. I love the oxtail the most. The only things that I don't totally love is that the place doesn't have too many tables so you have to do take out most of the time. The tables are mostly used by people waiting for takeout. I also think that they could be more clear about their hours. Several times I have tried to go but it was closed. But, the people who work here are incredibly friendly and care about the food they make and serve, the food itself is delicious and authentic and not too greasy or salty. Get collard greens and oxtail, those are my favorites.   \n",
       "111790                                                                                                                                                                                                                                                                                                                                                                                                                                                                                                                                                                                                                          Ordered Â Napoleon's via Seamless on a rainy rainy Friday night. Â Delivery took a little over an hour which would usually send me into a crazy hAngry tizzy but there was a torrential down pour and the delivery man was very nice and even blew me a kiss went he left. Â *Secures top safety lock on door* I ordered the chicken and red velvet waffles. Â Waffles were tasty and the chicken was good too. They placed the chicken on top of the waffles as if you were dining in. I kinda wish they would have separated the two so that the waffles weren't soaking up all the grease. Â My sister ordered the traditional chicken and waffles and we swapped a quarter. Â Best decision of the night. Â That waffle right there was infused with butter. Â It was so rich that it reminded me of funnel cake at a street fair. Â I swear the traditional waffle complimented the chicken even better. Â We also ordered a side of mac and cheese which was good. Â The grand finale may have upstaged the entree. Â Carrot cake with the lightest, fluffliest cream cheese dressing completed my meal. I saw other reviews that commented on the portions. Â Don't be fooled by the \"mini waffles.\" Â It's one helluva waffle divided in four. Â My meal was comfortably split in 2. Happy chicken eating!   \n",
       "111791                                                                                                                                                                                                                                                                                                                                                                                                                                                                                                                                                                                                                                                                                                                                                                                                                                                                                                                                                                                                                                                                                                                                                                                                                                      Y'think there was some connection between yesterday's calendar date and the fact that I ordered a big ol' bag of fried chicken and waffles in a rush 10 minutes before the place closed? Of COURSE I had to celebrate Record Store day with the food of the South :-). Really good chicken and waffles, one star off for the prices -- $14 seems like a lot for a waffle and 4 chicken wings -- it was called '4 mini waffles' on the menu but it was one regular sized waffle, and I ordered a breast and thigh dinner as well because I prefer to have some chicken breast with my waffles, and the one breast that came with the dinner was too small for two people to share even just as a taste.   \n",
       "111792                                                                                                                                                                                                                                                                                                                                                                                                                                                                                                                                                                                                                                                                                                                                                                                                                                                                                                                                                                                                                                                                                                                                                                                                                                                                                                                                                                                                                                                                                                                                                                                                                                                                                                                                         I tried many soul food spots this is by far the best, the quality is excellent taste just like home cooking clean and large portions. I loveeee the food and the cake omg I can't stop going there.   \n",
       "111793                                                                                                                                                                                                                                                                                                                                                                                                                                                                                                                                                                                                                                                                                                                                                                                                                                                                                                                                                                                                                                                                                                                                                                                                                                                                                                                                                                                                                                                                                                                                                                                                                                                                                                                                                                          The chicken and waffles were great!!!. My friend got the cheese burger and fries. The fries were soggy and the burger was a frozen patty, which is unforgivable!!!   \n",
       "111794                                                                                                                                                                                                                                                                                                                                                                                                                                                                                                                                                                                                                                                                                                                                                                                                                                                                                                                                                                                                                                                                                                                                                                                                                                                                                                                                                                                                                                                                                                                                                                                                                                                                                                                                                                                              Delicious food, friendly service. Wish the portions were slightly larger on the dinner meal deal -- hmm, probably a good thing they aren't lol   \n",
       "111795                                                                                                                                                                                                                                                                                                                                                                                                                                                                                                                                                                                                                                                                                                                                                                                                                                                                                                   The food here is SLAMMIN\"!!! e I truly love when you try a restaurant for the first time and the workers/owners are all so happy you came! The service is really a major plus. I felt like I walked into my aunt's house or something. I've tried a few of the items on the menu but the standout by far would be the honey bbq wings. They are so sweet and tangy! I have not had wings that juicy and good in a very long time. The homemade baked good are equally stellar. I hate cheesecake, but the sweet potato cheesecake here changed my mind! The yellow cake with chocolate frosting, the lemon cake all hits! Any of the sides you choose for your meal will be well seasond and tasty! Wash it all down with a hal and half and you will be in heaven. I have not tried the breakfast and to be honest I am scared to do it. Grits, salmon cakes, waffles with nutella...These things could be a major wardrobe shrinker. I am very confident that when I do, it will be worth every calorie. Get yourself over there ASAP!!   \n",
       "111796                                                                                                                                                                                                                                                                                                                                                                                                                                                                                                                                                                                I just moved to Brooklyn and was in search of that Chicken and Waffles combo I used to have back home in California. Â I've had tried plenty since I've moved to NY, but NONE compare to Napoleons!! Â I ordered the 4 mini waffles and wings dinner plate (substituting the wings for a leg and breast). Â The meat was juicy, mouth watering, and moist. Â The skin was crispy, crunchy, and extremely flavorful. Â The waffles we fluffy and covered in butter and powered sugar, with syrup on the side to smother at my will. Â SO, SO YUMMY! Â If that wasn't enough, my boyfriend ordered the Honey Barbeque Chicken dinner plate which comes with two sides, he ordered mac & cheese and candied yams. Â The honey barbeque sauce was to die for! Extremely orgasmic to say the least. Â You will NEVER desire another. Â To top off the exceptional dinner, we had the sweet potato cheesecake which again was phenomenal, for lack of words. Â Napoleon came out to check up on us, asking if everything was alright. Â We couldn't stop complimenting his cooking/baking skills.. the love he puts into his food is above all and one can really see that with every taste that poured into our mouths. Â He was very sweet, as was the cashier. Â I plan to recommend this restaurant to EVERYONE that crosses my way, it really is that GREAT!!   \n",
       "111797                                                                                                                                                                                                                                                                                                                                                                                                                                                                                                                                                                                                                                                                                                                                                                                                                                                                                                                                                                                                                                                                                                                                                                                                                                                                                  Absolutely delicious pastries and a nice comfortable place. They seem fixated on cleanliness, which is a good thing but can I Â finish my delicious chicken and waffles...please!!! Granted it's a new spot and they are getting Â things together but their menu is disappointingly inconsistent, their shelves are mostly empty and... what no coffee? \"The machine was turned off, this is not a coffee shop\", Â well there's is something called instant coffee, just add water... This place has an exceptional baker and a throw down cook, once you get over the emptiness and them not having what you came for..... You will love what they have.   \n",
       "\n",
       "        Label  \n",
       "111778      1  \n",
       "111779      1  \n",
       "111780      1  \n",
       "111781      1  \n",
       "111782      1  \n",
       "111783      1  \n",
       "111784      1  \n",
       "111785      1  \n",
       "111786      1  \n",
       "111787      1  \n",
       "111788      1  \n",
       "111789      1  \n",
       "111790      1  \n",
       "111791      1  \n",
       "111792      1  \n",
       "111793      1  \n",
       "111794      1  \n",
       "111795      1  \n",
       "111796      1  \n",
       "111797      1  "
      ]
     },
     "execution_count": 56,
     "metadata": {},
     "output_type": "execute_result"
    }
   ],
   "source": [
    "df.loc[df['Label'] == 1].tail(20)"
   ]
  },
  {
   "cell_type": "markdown",
   "metadata": {},
   "source": [
    "Here I look at how the real reviews are worded. I find them worded similarly to the fake reviews so now I am certain I must be missing something. Hopefully the model can pick up on something I can't."
   ]
  },
  {
   "cell_type": "markdown",
   "metadata": {},
   "source": []
  },
  {
   "cell_type": "code",
   "execution_count": 57,
   "metadata": {},
   "outputs": [],
   "source": [
    "# Make a copy of the original data frame to start adding features to\n",
    "df_engineered = df.copy()"
   ]
  },
  {
   "cell_type": "code",
   "execution_count": 58,
   "metadata": {},
   "outputs": [],
   "source": [
    "# Make a column to split words up, puncuation is included\n",
    "df_engineered['Tokens'] = df['Review'].str.split(' ')"
   ]
  },
  {
   "cell_type": "code",
   "execution_count": 59,
   "metadata": {},
   "outputs": [],
   "source": [
    "# Find the number of words in each review\n",
    "df_engineered['Number of Words'] = df_engineered['Tokens'].map(lambda x: len(x))"
   ]
  },
  {
   "cell_type": "code",
   "execution_count": 60,
   "metadata": {},
   "outputs": [],
   "source": [
    "# Find number of characters used in Reviews\n",
    "df_engineered['Character Review Length'] = df_engineered['Review'].map(lambda x: len(x))"
   ]
  },
  {
   "cell_type": "code",
   "execution_count": 64,
   "metadata": {},
   "outputs": [],
   "source": [
    "# Find Number of Sentences in Each Review\n",
    "df_engineered['Sentences'] = df_engineered['Review'].map(lambda x:sent_tokenize(x))\n",
    "df_engineered['Sentence Count'] = df_engineered['Sentences'].map(lambda x : len(x))"
   ]
  },
  {
   "cell_type": "code",
   "execution_count": 66,
   "metadata": {},
   "outputs": [],
   "source": [
    "avg_review_length = df_engineered['Character Review Length'].mean()\n",
    "avg_fake_length = df_engineered.loc[df_engineered['Label'] == -1]['Character Review Length'].mean()\n",
    "avg_real_length = df_engineered.loc[df_engineered['Label'] == 1]['Character Review Length'].mean()"
   ]
  },
  {
   "cell_type": "code",
   "execution_count": 67,
   "metadata": {},
   "outputs": [
    {
     "name": "stdout",
     "output_type": "stream",
     "text": [
      "Avg Review Length: 655.3\n",
      "Avg Fake Review Length: 459.37\n",
      "Avg Real Review Length: 677.01\n"
     ]
    }
   ],
   "source": [
    "print(f'''Avg Review Length: {round(avg_review_length,2)}\n",
    "Avg Fake Review Length: {round(avg_fake_length,2)}\n",
    "Avg Real Review Length: {round(avg_real_length,2)}''')"
   ]
  },
  {
   "cell_type": "markdown",
   "metadata": {},
   "source": [
    "This is interesting, the fake reviews are noticably shorter than reviews deemed as real. This is based off of character count, let's look at word count."
   ]
  },
  {
   "cell_type": "code",
   "execution_count": 68,
   "metadata": {},
   "outputs": [],
   "source": [
    "avg_word_length = df_engineered['Number of Words'].mean()\n",
    "avg_fakeword_length = df_engineered.loc[df_engineered['Label'] == -1]['Number of Words'].mean()\n",
    "avg_realword_length = df_engineered.loc[df_engineered['Label'] == 1]['Number of Words'].mean()"
   ]
  },
  {
   "cell_type": "code",
   "execution_count": 69,
   "metadata": {},
   "outputs": [
    {
     "name": "stdout",
     "output_type": "stream",
     "text": [
      "Avg Review Length: 119.72\n",
      "Avg Fake Review Length: 84.03\n",
      "Avg Real Review Length: 123.68\n",
      "\n"
     ]
    }
   ],
   "source": [
    "print(f'''Avg Review Length: {round(avg_word_length,2)}\n",
    "Avg Fake Review Length: {round(avg_fakeword_length,2)}\n",
    "Avg Real Review Length: {round(avg_realword_length,2)}\n",
    "''')"
   ]
  },
  {
   "cell_type": "markdown",
   "metadata": {},
   "source": [
    "Again, the average word length for the fake reviews are much lower than that of real reviews."
   ]
  },
  {
   "cell_type": "code",
   "execution_count": 70,
   "metadata": {},
   "outputs": [],
   "source": [
    "avg_sentence_length = df_engineered['Sentence Count'].mean()\n",
    "avg_fakesentence_length = df_engineered.loc[df_engineered['Label'] == -1]['Sentence Count'].mean()\n",
    "avg_realsentence_length = df_engineered.loc[df_engineered['Label'] == 1]['Sentence Count'].mean()"
   ]
  },
  {
   "cell_type": "code",
   "execution_count": 71,
   "metadata": {},
   "outputs": [
    {
     "name": "stdout",
     "output_type": "stream",
     "text": [
      "Avg Sentences: 8.67\n",
      "Avg Fake Review Sentences: 6.31\n",
      "Avg Real Review Sentences: 8.93\n",
      "\n"
     ]
    }
   ],
   "source": [
    "print(f'''Avg Sentences: {round(avg_sentence_length,2)}\n",
    "Avg Fake Review Sentences: {round(avg_fakesentence_length,2)}\n",
    "Avg Real Review Sentences: {round(avg_realsentence_length,2)}\n",
    "''')"
   ]
  },
  {
   "cell_type": "markdown",
   "metadata": {},
   "source": [
    "So again, the fake reviews have less sentences on average."
   ]
  },
  {
   "cell_type": "code",
   "execution_count": 72,
   "metadata": {},
   "outputs": [],
   "source": [
    "num_sentlength_reviews = sum(df_engineered['Sentence Count'])\n",
    "num_sentlength_fakereviews = sum(df_engineered.loc[df_engineered['Label'] == -1]['Sentence Count'])\n",
    "num_sentlength_realreviews = sum(df_engineered.loc[df_engineered['Label'] == 1]['Sentence Count'])"
   ]
  },
  {
   "cell_type": "code",
   "execution_count": 73,
   "metadata": {},
   "outputs": [
    {
     "name": "stdout",
     "output_type": "stream",
     "text": [
      "Avg Character Length Sentences: 75.56\n",
      "Avg Fake Review Character Length Sentences: 72.79\n",
      "Avg Real Review Character Length Sentences: 75.77\n",
      "\n"
     ]
    }
   ],
   "source": [
    "print(f'''Avg Character Length Sentences: {round(sum(df_engineered['Character Review Length'])/num_sentlength_reviews,2)}\n",
    "Avg Fake Review Character Length Sentences: {round(sum(df_engineered.loc[df_engineered['Label'] == -1]['Character Review Length'])/num_sentlength_fakereviews,2)}\n",
    "Avg Real Review Character Length Sentences: {round(sum(df_engineered.loc[df_engineered['Label'] == 1]['Character Review Length'])/num_sentlength_realreviews,2)}\n",
    "''')"
   ]
  },
  {
   "cell_type": "markdown",
   "metadata": {},
   "source": [
    "Here we have a case where there is not as big as a discrepancy. The character count for the fake reviews are a little bit shorter, but not by much."
   ]
  },
  {
   "cell_type": "code",
   "execution_count": 74,
   "metadata": {},
   "outputs": [],
   "source": [
    "df_engineered['Avg Words Per Sentence'] = df_engineered['Number of Words'] / df_engineered['Sentence Count']\n",
    "avg_word_sentence = df_engineered['Avg Words Per Sentence'].mean()\n",
    "avg_word_fakereview = df_engineered.loc[df_engineered['Label'] == -1]['Avg Words Per Sentence'].mean() \n",
    "avg_word_realreview = df_engineered.loc[df_engineered['Label'] == 1]['Avg Words Per Sentence'].mean() "
   ]
  },
  {
   "cell_type": "code",
   "execution_count": 75,
   "metadata": {},
   "outputs": [
    {
     "name": "stdout",
     "output_type": "stream",
     "text": [
      "Avg Word in Sentences: 13.57\n",
      "Avg Fake Review Word in Sentences: 12.87\n",
      "Avg Real Review Word in Sentences: 13.64\n",
      "\n"
     ]
    }
   ],
   "source": [
    "print(f'''Avg Word in Sentences: {round(avg_word_sentence,2)}\n",
    "Avg Fake Review Word in Sentences: {round(avg_word_fakereview,2)}\n",
    "Avg Real Review Word in Sentences: {round(avg_word_realreview,2)}\n",
    "''')"
   ]
  },
  {
   "cell_type": "markdown",
   "metadata": {},
   "source": [
    "Once again the fake reviews are shorter than the real reviews."
   ]
  },
  {
   "cell_type": "code",
   "execution_count": 76,
   "metadata": {},
   "outputs": [],
   "source": [
    "df_engineered['Numbers'] = df_engineered['Review'].map(lambda x: x if x.isdigit() else 'no' )"
   ]
  },
  {
   "cell_type": "code",
   "execution_count": 77,
   "metadata": {},
   "outputs": [
    {
     "data": {
      "text/html": [
       "<div>\n",
       "<style scoped>\n",
       "    .dataframe tbody tr th:only-of-type {\n",
       "        vertical-align: middle;\n",
       "    }\n",
       "\n",
       "    .dataframe tbody tr th {\n",
       "        vertical-align: top;\n",
       "    }\n",
       "\n",
       "    .dataframe thead th {\n",
       "        text-align: right;\n",
       "    }\n",
       "</style>\n",
       "<table border=\"1\" class=\"dataframe\">\n",
       "  <thead>\n",
       "    <tr style=\"text-align: right;\">\n",
       "      <th></th>\n",
       "      <th>User_id</th>\n",
       "      <th>Product_id</th>\n",
       "      <th>Rating</th>\n",
       "      <th>Date</th>\n",
       "      <th>Review</th>\n",
       "      <th>Label</th>\n",
       "      <th>Tokens</th>\n",
       "      <th>Number of Words</th>\n",
       "      <th>Character Review Length</th>\n",
       "      <th>Sentences</th>\n",
       "      <th>Sentence Count</th>\n",
       "      <th>Avg Words Per Sentence</th>\n",
       "      <th>Numbers</th>\n",
       "    </tr>\n",
       "  </thead>\n",
       "  <tbody>\n",
       "    <tr>\n",
       "      <th>0</th>\n",
       "      <td>923</td>\n",
       "      <td>0</td>\n",
       "      <td>3</td>\n",
       "      <td>12/8/2014</td>\n",
       "      <td>The food at snack is a selection of popular Greek dishes. The appetizer tray is good as is the Greek salad. We were underwhelmed with the main courses. There are 4-5 tables here so it's sometimes hard to get seated.</td>\n",
       "      <td>-1</td>\n",
       "      <td>[The, food, at, snack, is, a, selection, of, popular, Greek, dishes., The, appetizer, tray, is, good, as, is, the, Greek, salad., We, were, underwhelmed, with, the, main, courses., There, are, 4-5, tables, here, so, it's, sometimes, hard, to, get, seated.]</td>\n",
       "      <td>40</td>\n",
       "      <td>215</td>\n",
       "      <td>[The food at snack is a selection of popular Greek dishes., The appetizer tray is good as is the Greek salad., We were underwhelmed with the main courses., There are 4-5 tables here so it's sometimes hard to get seated.]</td>\n",
       "      <td>4</td>\n",
       "      <td>10.000000</td>\n",
       "      <td>no</td>\n",
       "    </tr>\n",
       "    <tr>\n",
       "      <th>1</th>\n",
       "      <td>924</td>\n",
       "      <td>0</td>\n",
       "      <td>3</td>\n",
       "      <td>5/16/2013</td>\n",
       "      <td>This little place in Soho is wonderful. I had a lamb sandwich and a glass of wine. The price shocked me for how small the serving was, but then again, this is Soho. The staff can be a little snotty and rude, but the food is great, just don't expect world-class service.</td>\n",
       "      <td>-1</td>\n",
       "      <td>[This, little, place, in, Soho, is, wonderful., I, had, a, lamb, sandwich, and, a, glass, of, wine., The, price, shocked, me, for, how, small, the, serving, was,, but, then, again,, this, is, Soho., The, staff, can, be, a, little, snotty, and, rude,, but, the, food, is, great,, just, don't, expect, world-class, service.]</td>\n",
       "      <td>52</td>\n",
       "      <td>269</td>\n",
       "      <td>[This little place in Soho is wonderful., I had a lamb sandwich and a glass of wine., The price shocked me for how small the serving was, but then again, this is Soho., The staff can be a little snotty and rude, but the food is great, just don't expect world-class service.]</td>\n",
       "      <td>4</td>\n",
       "      <td>13.000000</td>\n",
       "      <td>no</td>\n",
       "    </tr>\n",
       "    <tr>\n",
       "      <th>2</th>\n",
       "      <td>925</td>\n",
       "      <td>0</td>\n",
       "      <td>4</td>\n",
       "      <td>7/1/2013</td>\n",
       "      <td>ordered lunch for 15 from Snack last Friday. Â On time, nothing missing and the food was great. Â I have added it to the regular company lunch list, as everyone enjoyed their meal.</td>\n",
       "      <td>-1</td>\n",
       "      <td>[ordered, lunch, for, 15, from, Snack, last, Friday., Â On, time,, nothing, missing, and, the, food, was, great., Â I, have, added, it, to, the, regular, company, lunch, list,, as, everyone, enjoyed, their, meal.]</td>\n",
       "      <td>32</td>\n",
       "      <td>180</td>\n",
       "      <td>[ordered lunch for 15 from Snack last Friday., Â On time, nothing missing and the food was great., Â I have added it to the regular company lunch list, as everyone enjoyed their meal.]</td>\n",
       "      <td>3</td>\n",
       "      <td>10.666667</td>\n",
       "      <td>no</td>\n",
       "    </tr>\n",
       "    <tr>\n",
       "      <th>3</th>\n",
       "      <td>926</td>\n",
       "      <td>0</td>\n",
       "      <td>4</td>\n",
       "      <td>7/28/2011</td>\n",
       "      <td>This is a beautiful quaint little restaurant on a pretty street. Â If you're strolling through soho around lunchtime, this would be a great place to stop for a bite. I heard the reviews about the lamb sandwich, so I had to try it. I'm very happy that i did. Every single ingredient - from the bread to the onions and tomatoes, the lamb and the sauce - was delicious. These four stars are well deserved because of the tasty sandwich and great ambiance. Â I would recommend this place to anyone.</td>\n",
       "      <td>-1</td>\n",
       "      <td>[This, is, a, beautiful, quaint, little, restaurant, on, a, pretty, street., Â If, you're, strolling, through, soho, around, lunchtime,, this, would, be, a, great, place, to, stop, for, a, bite., I, heard, the, reviews, about, the, lamb, sandwich,, so, I, had, to, try, it., I'm, very, happy, that, i, did., Every, single, ingredient, -, from, the, bread, to, the, onions, and, tomatoes,, the, lamb, and, the, sauce, -, was, delicious., These, four, stars, are, well, deserved, because, of, the, tasty, sandwich, and, great, ambiance., Â I, would, recommend, this, place, to, anyone.]</td>\n",
       "      <td>90</td>\n",
       "      <td>493</td>\n",
       "      <td>[This is a beautiful quaint little restaurant on a pretty street., Â If you're strolling through soho around lunchtime, this would be a great place to stop for a bite., I heard the reviews about the lamb sandwich, so I had to try it., I'm very happy that i did., Every single ingredient - from the bread to the onions and tomatoes, the lamb and the sauce - was delicious., These four stars are well deserved because of the tasty sandwich and great ambiance., Â I would recommend this place to anyone.]</td>\n",
       "      <td>7</td>\n",
       "      <td>12.857143</td>\n",
       "      <td>no</td>\n",
       "    </tr>\n",
       "    <tr>\n",
       "      <th>4</th>\n",
       "      <td>927</td>\n",
       "      <td>0</td>\n",
       "      <td>4</td>\n",
       "      <td>11/1/2010</td>\n",
       "      <td>Snack is great place for a Â casual sit down lunch- especially on a cold winter day. Â In many ways the restaurant mirrors the food- simple yet unique. Â The avgolemono soup was lemony perfection and the butter bean salad hearty yet light. Â The greek coffee is different...they sweeten it with honey which makes for an interesting thickness and sweet spice. I definitely plan on going back for dinner. Â If the small space doesn't suit you their sister restaurant Snack Taverna in the West Village is just as good, if not better...and more \"upscale\" with waiters who make you feel well taken care of.</td>\n",
       "      <td>-1</td>\n",
       "      <td>[Snack, is, great, place, for, a, Â casual, sit, down, lunch-, especially, on, a, cold, winter, day., Â In, many, ways, the, restaurant, mirrors, the, food-, simple, yet, unique., Â The, avgolemono, soup, was, lemony, perfection, and, the, butter, bean, salad, hearty, yet, light., Â The, greek, coffee, is, different...they, sweeten, it, with, honey, which, makes, for, an, interesting, thickness, and, sweet, spice., I, definitely, plan, on, going, back, for, dinner., Â If, the, small, space, doesn't, suit, you, their, sister, restaurant, Snack, Taverna, in, the, West, Village, is, just, as, good,, if, not, better...and, more, \"upscale\", with, waiters, who, make, you, feel, well, taken, ...]</td>\n",
       "      <td>102</td>\n",
       "      <td>601</td>\n",
       "      <td>[Snack is great place for a Â casual sit down lunch- especially on a cold winter day., Â In many ways the restaurant mirrors the food- simple yet unique., Â The avgolemono soup was lemony perfection and the butter bean salad hearty yet light., Â The greek coffee is different...they sweeten it with honey which makes for an interesting thickness and sweet spice., I definitely plan on going back for dinner., Â If the small space doesn't suit you their sister restaurant Snack Taverna in the West Village is just as good, if not better...and more \"upscale\" with waiters who make you feel well taken care of.]</td>\n",
       "      <td>6</td>\n",
       "      <td>17.000000</td>\n",
       "      <td>no</td>\n",
       "    </tr>\n",
       "    <tr>\n",
       "      <th>...</th>\n",
       "      <td>...</td>\n",
       "      <td>...</td>\n",
       "      <td>...</td>\n",
       "      <td>...</td>\n",
       "      <td>...</td>\n",
       "      <td>...</td>\n",
       "      <td>...</td>\n",
       "      <td>...</td>\n",
       "      <td>...</td>\n",
       "      <td>...</td>\n",
       "      <td>...</td>\n",
       "      <td>...</td>\n",
       "      <td>...</td>\n",
       "    </tr>\n",
       "    <tr>\n",
       "      <th>111793</th>\n",
       "      <td>67541</td>\n",
       "      <td>318</td>\n",
       "      <td>2</td>\n",
       "      <td>3/29/2013</td>\n",
       "      <td>The chicken and waffles were great!!!. My friend got the cheese burger and fries. The fries were soggy and the burger was a frozen patty, which is unforgivable!!!</td>\n",
       "      <td>1</td>\n",
       "      <td>[The, chicken, and, waffles, were, great!!!., My, friend, got, the, cheese, burger, and, fries., The, fries, were, soggy, and, the, burger, was, a, frozen, patty,, which, is, unforgivable!!!]</td>\n",
       "      <td>28</td>\n",
       "      <td>162</td>\n",
       "      <td>[The chicken and waffles were great!!!., My friend got the cheese burger and fries., The fries were soggy and the burger was a frozen patty, which is unforgivable!!, !]</td>\n",
       "      <td>4</td>\n",
       "      <td>7.000000</td>\n",
       "      <td>no</td>\n",
       "    </tr>\n",
       "    <tr>\n",
       "      <th>111794</th>\n",
       "      <td>69555</td>\n",
       "      <td>318</td>\n",
       "      <td>4</td>\n",
       "      <td>2/13/2013</td>\n",
       "      <td>Delicious food, friendly service. Wish the portions were slightly larger on the dinner meal deal -- hmm, probably a good thing they aren't lol</td>\n",
       "      <td>1</td>\n",
       "      <td>[Delicious, food,, friendly, service., Wish, the, portions, were, slightly, larger, on, the, dinner, meal, deal, --, hmm,, probably, a, good, thing, they, aren't, lol]</td>\n",
       "      <td>24</td>\n",
       "      <td>142</td>\n",
       "      <td>[Delicious food, friendly service., Wish the portions were slightly larger on the dinner meal deal -- hmm, probably a good thing they aren't lol]</td>\n",
       "      <td>2</td>\n",
       "      <td>12.000000</td>\n",
       "      <td>no</td>\n",
       "    </tr>\n",
       "    <tr>\n",
       "      <th>111795</th>\n",
       "      <td>67575</td>\n",
       "      <td>318</td>\n",
       "      <td>5</td>\n",
       "      <td>11/9/2012</td>\n",
       "      <td>The food here is SLAMMIN\"!!! e I truly love when you try a restaurant for the first time and the workers/owners are all so happy you came! The service is really a major plus. I felt like I walked into my aunt's house or something. I've tried a few of the items on the menu but the standout by far would be the honey bbq wings. They are so sweet and tangy! I have not had wings that juicy and good in a very long time. The homemade baked good are equally stellar. I hate cheesecake, but the sweet potato cheesecake here changed my mind! The yellow cake with chocolate frosting, the lemon cake all hits! Any of the sides you choose for your meal will be well seasond and tasty! Wash it all down with a hal and half and you will be in heaven. I have not tried the breakfast and to be honest I am scared to do it. Grits, salmon cakes, waffles with nutella...These things could be a major wardrobe shrinker. I am very confident that when I do, it will be worth every calorie. Get yourself over there ASAP!!</td>\n",
       "      <td>1</td>\n",
       "      <td>[The, food, here, is, SLAMMIN\"!!!, e, I, truly, love, when, you, try, a, restaurant, for, the, first, time, and, the, workers/owners, are, all, so, happy, you, came!, The, service, is, really, a, major, plus., I, felt, like, I, walked, into, my, aunt's, house, or, something., I've, tried, a, few, of, the, items, on, the, menu, but, the, standout, by, far, would, be, the, honey, bbq, wings., They, are, so, sweet, and, tangy!, I, have, not, had, wings, that, juicy, and, good, in, a, very, long, time., The, homemade, baked, good, are, equally, stellar., I, hate, cheesecake,, but, the, sweet, potato, ...]</td>\n",
       "      <td>194</td>\n",
       "      <td>1001</td>\n",
       "      <td>[The food here is SLAMMIN\"!!!, e I truly love when you try a restaurant for the first time and the workers/owners are all so happy you came!, The service is really a major plus., I felt like I walked into my aunt's house or something., I've tried a few of the items on the menu but the standout by far would be the honey bbq wings., They are so sweet and tangy!, I have not had wings that juicy and good in a very long time., The homemade baked good are equally stellar., I hate cheesecake, but the sweet potato cheesecake here changed my mind!, The yellow cake with chocolate frosting, the lemon cake all hits!, Any of the sides you choose for your meal will be well seasond and tasty!, Wash it all down with a hal and half and you will be in heaven., I have not tried the breakfast and to be honest I am scared to do it., Grits, salmon cakes, waffles with nutella...These things could be a major wardrobe shrinker., I am very confident that when I do, it will be worth every calorie., Get yourself over there ASAP!, !]</td>\n",
       "      <td>17</td>\n",
       "      <td>11.411765</td>\n",
       "      <td>no</td>\n",
       "    </tr>\n",
       "    <tr>\n",
       "      <th>111796</th>\n",
       "      <td>69556</td>\n",
       "      <td>318</td>\n",
       "      <td>5</td>\n",
       "      <td>10/13/2012</td>\n",
       "      <td>I just moved to Brooklyn and was in search of that Chicken and Waffles combo I used to have back home in California. Â I've had tried plenty since I've moved to NY, but NONE compare to Napoleons!! Â I ordered the 4 mini waffles and wings dinner plate (substituting the wings for a leg and breast). Â The meat was juicy, mouth watering, and moist. Â The skin was crispy, crunchy, and extremely flavorful. Â The waffles we fluffy and covered in butter and powered sugar, with syrup on the side to smother at my will. Â SO, SO YUMMY! Â If that wasn't enough, my boyfriend ordered the Honey Barbeque Chicken dinner plate which comes with two sides, he ordered mac &amp; cheese and candied yams. Â The honey barbeque sauce was to die for! Extremely orgasmic to say the least. Â You will NEVER desire another. Â To top off the exceptional dinner, we had the sweet potato cheesecake which again was phenomenal, for lack of words. Â Napoleon came out to check up on us, asking if everything was alright. Â We couldn't stop complimenting his cooking/baking skills.. the love he puts into his food is above all and one can really see that with every taste that poured into our mouths. Â He was very sweet, as was the cashier. Â I plan to recommend this restaurant to EVERYONE that crosses my way, it really is that GREAT!!</td>\n",
       "      <td>1</td>\n",
       "      <td>[I, just, moved, to, Brooklyn, and, was, in, search, of, that, Chicken, and, Waffles, combo, I, used, to, have, back, home, in, California., Â I've, had, tried, plenty, since, I've, moved, to, NY,, but, NONE, compare, to, Napoleons!!, Â I, ordered, the, 4, mini, waffles, and, wings, dinner, plate, (substituting, the, wings, for, a, leg, and, breast)., Â The, meat, was, juicy,, mouth, watering,, and, moist., Â The, skin, was, crispy,, crunchy,, and, extremely, flavorful., Â The, waffles, we, fluffy, and, covered, in, butter, and, powered, sugar,, with, syrup, on, the, side, to, smother, at, my, will., Â SO,, SO, YUMMY!, Â If, that, wasn't, enough,, my, ...]</td>\n",
       "      <td>229</td>\n",
       "      <td>1308</td>\n",
       "      <td>[I just moved to Brooklyn and was in search of that Chicken and Waffles combo I used to have back home in California., Â I've had tried plenty since I've moved to NY, but NONE compare to Napoleons!!, Â I ordered the 4 mini waffles and wings dinner plate (substituting the wings for a leg and breast)., Â The meat was juicy, mouth watering, and moist., Â The skin was crispy, crunchy, and extremely flavorful., Â The waffles we fluffy and covered in butter and powered sugar, with syrup on the side to smother at my will., Â SO, SO YUMMY!, Â If that wasn't enough, my boyfriend ordered the Honey Barbeque Chicken dinner plate which comes with two sides, he ordered mac &amp; cheese and candied yams., Â The honey barbeque sauce was to die for!, Extremely orgasmic to say the least., Â You will NEVER desire another., Â To top off the exceptional dinner, we had the sweet potato cheesecake which again was phenomenal, for lack of words., Â Napoleon came out to check up on us, asking if everything was alright., Â We couldn't stop complimenting his cooking/baking skills.. the love he puts into his food is above all and one can really see that with every taste that poured into our mouths., Â He was very sweet, as was the cashier., Â I plan to recommend this restaurant to EVERYONE that crosses my way, it really is that GREAT!, !]</td>\n",
       "      <td>17</td>\n",
       "      <td>13.470588</td>\n",
       "      <td>no</td>\n",
       "    </tr>\n",
       "    <tr>\n",
       "      <th>111797</th>\n",
       "      <td>69557</td>\n",
       "      <td>318</td>\n",
       "      <td>3</td>\n",
       "      <td>9/13/2012</td>\n",
       "      <td>Absolutely delicious pastries and a nice comfortable place. They seem fixated on cleanliness, which is a good thing but can I Â finish my delicious chicken and waffles...please!!! Granted it's a new spot and they are getting Â things together but their menu is disappointingly inconsistent, their shelves are mostly empty and... what no coffee? \"The machine was turned off, this is not a coffee shop\", Â well there's is something called instant coffee, just add water... This place has an exceptional baker and a throw down cook, once you get over the emptiness and them not having what you came for..... You will love what they have.</td>\n",
       "      <td>1</td>\n",
       "      <td>[Absolutely, delicious, pastries, and, a, nice, comfortable, place., They, seem, fixated, on, cleanliness,, which, is, a, good, thing, but, can, I, Â finish, my, delicious, chicken, and, waffles...please!!!, Granted, it's, a, new, spot, and, they, are, getting, Â things, together, but, their, menu, is, disappointingly, inconsistent,, their, shelves, are, mostly, empty, and..., what, no, coffee?, \"The, machine, was, turned, off,, this, is, not, a, coffee, shop\",, Â well, there's, is, something, called, instant, coffee,, just, add, water..., This, place, has, an, exceptional, baker, and, a, throw, down, cook,, once, you, get, over, the, emptiness, and, them, not, having, what, you, came, for....., You, ...]</td>\n",
       "      <td>105</td>\n",
       "      <td>634</td>\n",
       "      <td>[Absolutely delicious pastries and a nice comfortable place., They seem fixated on cleanliness, which is a good thing but can I Â finish my delicious chicken and waffles...please!!!, Granted it's a new spot and they are getting Â things together but their menu is disappointingly inconsistent, their shelves are mostly empty and... what no coffee?, \"The machine was turned off, this is not a coffee shop\", Â well there's is something called instant coffee, just add water..., This place has an exceptional baker and a throw down cook, once you get over the emptiness and them not having what you came for..... You will love what they have.]</td>\n",
       "      <td>5</td>\n",
       "      <td>21.000000</td>\n",
       "      <td>no</td>\n",
       "    </tr>\n",
       "  </tbody>\n",
       "</table>\n",
       "<p>111798 rows × 13 columns</p>\n",
       "</div>"
      ],
      "text/plain": [
       "        User_id  Product_id  Rating        Date  \\\n",
       "0           923           0       3   12/8/2014   \n",
       "1           924           0       3   5/16/2013   \n",
       "2           925           0       4    7/1/2013   \n",
       "3           926           0       4   7/28/2011   \n",
       "4           927           0       4   11/1/2010   \n",
       "...         ...         ...     ...         ...   \n",
       "111793    67541         318       2   3/29/2013   \n",
       "111794    69555         318       4   2/13/2013   \n",
       "111795    67575         318       5   11/9/2012   \n",
       "111796    69556         318       5  10/13/2012   \n",
       "111797    69557         318       3   9/13/2012   \n",
       "\n",
       "                                                                                                                                                                                                                                                                                                                                                                                                                                                                                                                                                                                                                                                                                                                                                                                                                                                                                                                                                                                                                                                                                                                                                                                                                                                                                                                                                              Review  \\\n",
       "0                                                                                                                                                                                                                                                                                                                                                                                                                                                                                                                                                                                                                                                                                                                                                                                                                                                                                                                                                                                                                                                                                                                                            The food at snack is a selection of popular Greek dishes. The appetizer tray is good as is the Greek salad. We were underwhelmed with the main courses. There are 4-5 tables here so it's sometimes hard to get seated.   \n",
       "1                                                                                                                                                                                                                                                                                                                                                                                                                                                                                                                                                                                                                                                                                                                                                                                                                                                                                                                                                                                                                                                                                      This little place in Soho is wonderful. I had a lamb sandwich and a glass of wine. The price shocked me for how small the serving was, but then again, this is Soho. The staff can be a little snotty and rude, but the food is great, just don't expect world-class service.   \n",
       "2                                                                                                                                                                                                                                                                                                                                                                                                                                                                                                                                                                                                                                                                                                                                                                                                                                                                                                                                                                                                                                                                                                                                                                               ordered lunch for 15 from Snack last Friday. Â On time, nothing missing and the food was great. Â I have added it to the regular company lunch list, as everyone enjoyed their meal.   \n",
       "3                                                                                                                                                                                                                                                                                                                                                                                                                                                                                                                                                                                                                                                                                                                                                                                                                                                      This is a beautiful quaint little restaurant on a pretty street. Â If you're strolling through soho around lunchtime, this would be a great place to stop for a bite. I heard the reviews about the lamb sandwich, so I had to try it. I'm very happy that i did. Every single ingredient - from the bread to the onions and tomatoes, the lamb and the sauce - was delicious. These four stars are well deserved because of the tasty sandwich and great ambiance. Â I would recommend this place to anyone.   \n",
       "4                                                                                                                                                                                                                                                                                                                                                                                                                                                                                                                                                                                                                                                                                                                                          Snack is great place for a Â casual sit down lunch- especially on a cold winter day. Â In many ways the restaurant mirrors the food- simple yet unique. Â The avgolemono soup was lemony perfection and the butter bean salad hearty yet light. Â The greek coffee is different...they sweeten it with honey which makes for an interesting thickness and sweet spice. I definitely plan on going back for dinner. Â If the small space doesn't suit you their sister restaurant Snack Taverna in the West Village is just as good, if not better...and more \"upscale\" with waiters who make you feel well taken care of.   \n",
       "...                                                                                                                                                                                                                                                                                                                                                                                                                                                                                                                                                                                                                                                                                                                                                                                                                                                                                                                                                                                                                                                                                                                                                                                                                                                                                                                                                              ...   \n",
       "111793                                                                                                                                                                                                                                                                                                                                                                                                                                                                                                                                                                                                                                                                                                                                                                                                                                                                                                                                                                                                                                                                                                                                                                                            The chicken and waffles were great!!!. My friend got the cheese burger and fries. The fries were soggy and the burger was a frozen patty, which is unforgivable!!!   \n",
       "111794                                                                                                                                                                                                                                                                                                                                                                                                                                                                                                                                                                                                                                                                                                                                                                                                                                                                                                                                                                                                                                                                                                                                                                                                                Delicious food, friendly service. Wish the portions were slightly larger on the dinner meal deal -- hmm, probably a good thing they aren't lol   \n",
       "111795                                                                                                                                                                                                                                                                                                                     The food here is SLAMMIN\"!!! e I truly love when you try a restaurant for the first time and the workers/owners are all so happy you came! The service is really a major plus. I felt like I walked into my aunt's house or something. I've tried a few of the items on the menu but the standout by far would be the honey bbq wings. They are so sweet and tangy! I have not had wings that juicy and good in a very long time. The homemade baked good are equally stellar. I hate cheesecake, but the sweet potato cheesecake here changed my mind! The yellow cake with chocolate frosting, the lemon cake all hits! Any of the sides you choose for your meal will be well seasond and tasty! Wash it all down with a hal and half and you will be in heaven. I have not tried the breakfast and to be honest I am scared to do it. Grits, salmon cakes, waffles with nutella...These things could be a major wardrobe shrinker. I am very confident that when I do, it will be worth every calorie. Get yourself over there ASAP!!   \n",
       "111796  I just moved to Brooklyn and was in search of that Chicken and Waffles combo I used to have back home in California. Â I've had tried plenty since I've moved to NY, but NONE compare to Napoleons!! Â I ordered the 4 mini waffles and wings dinner plate (substituting the wings for a leg and breast). Â The meat was juicy, mouth watering, and moist. Â The skin was crispy, crunchy, and extremely flavorful. Â The waffles we fluffy and covered in butter and powered sugar, with syrup on the side to smother at my will. Â SO, SO YUMMY! Â If that wasn't enough, my boyfriend ordered the Honey Barbeque Chicken dinner plate which comes with two sides, he ordered mac & cheese and candied yams. Â The honey barbeque sauce was to die for! Extremely orgasmic to say the least. Â You will NEVER desire another. Â To top off the exceptional dinner, we had the sweet potato cheesecake which again was phenomenal, for lack of words. Â Napoleon came out to check up on us, asking if everything was alright. Â We couldn't stop complimenting his cooking/baking skills.. the love he puts into his food is above all and one can really see that with every taste that poured into our mouths. Â He was very sweet, as was the cashier. Â I plan to recommend this restaurant to EVERYONE that crosses my way, it really is that GREAT!!   \n",
       "111797                                                                                                                                                                                                                                                                                                                                                                                                                                                                                                                                                                                                                                                                                                    Absolutely delicious pastries and a nice comfortable place. They seem fixated on cleanliness, which is a good thing but can I Â finish my delicious chicken and waffles...please!!! Granted it's a new spot and they are getting Â things together but their menu is disappointingly inconsistent, their shelves are mostly empty and... what no coffee? \"The machine was turned off, this is not a coffee shop\", Â well there's is something called instant coffee, just add water... This place has an exceptional baker and a throw down cook, once you get over the emptiness and them not having what you came for..... You will love what they have.   \n",
       "\n",
       "        Label  \\\n",
       "0          -1   \n",
       "1          -1   \n",
       "2          -1   \n",
       "3          -1   \n",
       "4          -1   \n",
       "...       ...   \n",
       "111793      1   \n",
       "111794      1   \n",
       "111795      1   \n",
       "111796      1   \n",
       "111797      1   \n",
       "\n",
       "                                                                                                                                                                                                                                                                                                                                                                                                                                                                                                                                                                                                                                                                                                                                            Tokens  \\\n",
       "0                                                                                                                                                                                                                                                                                                                                                                                                                                                                                 [The, food, at, snack, is, a, selection, of, popular, Greek, dishes., The, appetizer, tray, is, good, as, is, the, Greek, salad., We, were, underwhelmed, with, the, main, courses., There, are, 4-5, tables, here, so, it's, sometimes, hard, to, get, seated.]   \n",
       "1                                                                                                                                                                                                                                                                                                                                                                                                               [This, little, place, in, Soho, is, wonderful., I, had, a, lamb, sandwich, and, a, glass, of, wine., The, price, shocked, me, for, how, small, the, serving, was,, but, then, again,, this, is, Soho., The, staff, can, be, a, little, snotty, and, rude,, but, the, food, is, great,, just, don't, expect, world-class, service.]   \n",
       "2                                                                                                                                                                                                                                                                                                                                                                                                                                                                                                                            [ordered, lunch, for, 15, from, Snack, last, Friday., Â On, time,, nothing, missing, and, the, food, was, great., Â I, have, added, it, to, the, regular, company, lunch, list,, as, everyone, enjoyed, their, meal.]   \n",
       "3                                                                                                                                         [This, is, a, beautiful, quaint, little, restaurant, on, a, pretty, street., Â If, you're, strolling, through, soho, around, lunchtime,, this, would, be, a, great, place, to, stop, for, a, bite., I, heard, the, reviews, about, the, lamb, sandwich,, so, I, had, to, try, it., I'm, very, happy, that, i, did., Every, single, ingredient, -, from, the, bread, to, the, onions, and, tomatoes,, the, lamb, and, the, sauce, -, was, delicious., These, four, stars, are, well, deserved, because, of, the, tasty, sandwich, and, great, ambiance., Â I, would, recommend, this, place, to, anyone.]   \n",
       "4                       [Snack, is, great, place, for, a, Â casual, sit, down, lunch-, especially, on, a, cold, winter, day., Â In, many, ways, the, restaurant, mirrors, the, food-, simple, yet, unique., Â The, avgolemono, soup, was, lemony, perfection, and, the, butter, bean, salad, hearty, yet, light., Â The, greek, coffee, is, different...they, sweeten, it, with, honey, which, makes, for, an, interesting, thickness, and, sweet, spice., I, definitely, plan, on, going, back, for, dinner., Â If, the, small, space, doesn't, suit, you, their, sister, restaurant, Snack, Taverna, in, the, West, Village, is, just, as, good,, if, not, better...and, more, \"upscale\", with, waiters, who, make, you, feel, well, taken, ...]   \n",
       "...                                                                                                                                                                                                                                                                                                                                                                                                                                                                                                                                                                                                                                                                                                                                            ...   \n",
       "111793                                                                                                                                                                                                                                                                                                                                                                                                                                                                                                                                             [The, chicken, and, waffles, were, great!!!., My, friend, got, the, cheese, burger, and, fries., The, fries, were, soggy, and, the, burger, was, a, frozen, patty,, which, is, unforgivable!!!]   \n",
       "111794                                                                                                                                                                                                                                                                                                                                                                                                                                                                                                                                                                     [Delicious, food,, friendly, service., Wish, the, portions, were, slightly, larger, on, the, dinner, meal, deal, --, hmm,, probably, a, good, thing, they, aren't, lol]   \n",
       "111795                                                                                                            [The, food, here, is, SLAMMIN\"!!!, e, I, truly, love, when, you, try, a, restaurant, for, the, first, time, and, the, workers/owners, are, all, so, happy, you, came!, The, service, is, really, a, major, plus., I, felt, like, I, walked, into, my, aunt's, house, or, something., I've, tried, a, few, of, the, items, on, the, menu, but, the, standout, by, far, would, be, the, honey, bbq, wings., They, are, so, sweet, and, tangy!, I, have, not, had, wings, that, juicy, and, good, in, a, very, long, time., The, homemade, baked, good, are, equally, stellar., I, hate, cheesecake,, but, the, sweet, potato, ...]   \n",
       "111796                                                    [I, just, moved, to, Brooklyn, and, was, in, search, of, that, Chicken, and, Waffles, combo, I, used, to, have, back, home, in, California., Â I've, had, tried, plenty, since, I've, moved, to, NY,, but, NONE, compare, to, Napoleons!!, Â I, ordered, the, 4, mini, waffles, and, wings, dinner, plate, (substituting, the, wings, for, a, leg, and, breast)., Â The, meat, was, juicy,, mouth, watering,, and, moist., Â The, skin, was, crispy,, crunchy,, and, extremely, flavorful., Â The, waffles, we, fluffy, and, covered, in, butter, and, powered, sugar,, with, syrup, on, the, side, to, smother, at, my, will., Â SO,, SO, YUMMY!, Â If, that, wasn't, enough,, my, ...]   \n",
       "111797  [Absolutely, delicious, pastries, and, a, nice, comfortable, place., They, seem, fixated, on, cleanliness,, which, is, a, good, thing, but, can, I, Â finish, my, delicious, chicken, and, waffles...please!!!, Granted, it's, a, new, spot, and, they, are, getting, Â things, together, but, their, menu, is, disappointingly, inconsistent,, their, shelves, are, mostly, empty, and..., what, no, coffee?, \"The, machine, was, turned, off,, this, is, not, a, coffee, shop\",, Â well, there's, is, something, called, instant, coffee,, just, add, water..., This, place, has, an, exceptional, baker, and, a, throw, down, cook,, once, you, get, over, the, emptiness, and, them, not, having, what, you, came, for....., You, ...]   \n",
       "\n",
       "        Number of Words  Character Review Length  \\\n",
       "0                    40                      215   \n",
       "1                    52                      269   \n",
       "2                    32                      180   \n",
       "3                    90                      493   \n",
       "4                   102                      601   \n",
       "...                 ...                      ...   \n",
       "111793               28                      162   \n",
       "111794               24                      142   \n",
       "111795              194                     1001   \n",
       "111796              229                     1308   \n",
       "111797              105                      634   \n",
       "\n",
       "                                                                                                                                                                                                                                                                                                                                                                                                                                                                                                                                                                                                                                                                                                                                                                                                                                                                                                                                                                                                                                                                                                                                                                                                                                                                                                                                                                              Sentences  \\\n",
       "0                                                                                                                                                                                                                                                                                                                                                                                                                                                                                                                                                                                                                                                                                                                                                                                                                                                                                                                                                                                                                                                                                                                                                          [The food at snack is a selection of popular Greek dishes., The appetizer tray is good as is the Greek salad., We were underwhelmed with the main courses., There are 4-5 tables here so it's sometimes hard to get seated.]   \n",
       "1                                                                                                                                                                                                                                                                                                                                                                                                                                                                                                                                                                                                                                                                                                                                                                                                                                                                                                                                                                                                                                                                                                    [This little place in Soho is wonderful., I had a lamb sandwich and a glass of wine., The price shocked me for how small the serving was, but then again, this is Soho., The staff can be a little snotty and rude, but the food is great, just don't expect world-class service.]   \n",
       "2                                                                                                                                                                                                                                                                                                                                                                                                                                                                                                                                                                                                                                                                                                                                                                                                                                                                                                                                                                                                                                                                                                                                                                                              [ordered lunch for 15 from Snack last Friday., Â On time, nothing missing and the food was great., Â I have added it to the regular company lunch list, as everyone enjoyed their meal.]   \n",
       "3                                                                                                                                                                                                                                                                                                                                                                                                                                                                                                                                                                                                                                                                                                                                                                                                                                                                 [This is a beautiful quaint little restaurant on a pretty street., Â If you're strolling through soho around lunchtime, this would be a great place to stop for a bite., I heard the reviews about the lamb sandwich, so I had to try it., I'm very happy that i did., Every single ingredient - from the bread to the onions and tomatoes, the lamb and the sauce - was delicious., These four stars are well deserved because of the tasty sandwich and great ambiance., Â I would recommend this place to anyone.]   \n",
       "4                                                                                                                                                                                                                                                                                                                                                                                                                                                                                                                                                                                                                                                                                                                                                      [Snack is great place for a Â casual sit down lunch- especially on a cold winter day., Â In many ways the restaurant mirrors the food- simple yet unique., Â The avgolemono soup was lemony perfection and the butter bean salad hearty yet light., Â The greek coffee is different...they sweeten it with honey which makes for an interesting thickness and sweet spice., I definitely plan on going back for dinner., Â If the small space doesn't suit you their sister restaurant Snack Taverna in the West Village is just as good, if not better...and more \"upscale\" with waiters who make you feel well taken care of.]   \n",
       "...                                                                                                                                                                                                                                                                                                                                                                                                                                                                                                                                                                                                                                                                                                                                                                                                                                                                                                                                                                                                                                                                                                                                                                                                                                                                                                                                                                                 ...   \n",
       "111793                                                                                                                                                                                                                                                                                                                                                                                                                                                                                                                                                                                                                                                                                                                                                                                                                                                                                                                                                                                                                                                                                                                                                                                                         [The chicken and waffles were great!!!., My friend got the cheese burger and fries., The fries were soggy and the burger was a frozen patty, which is unforgivable!!, !]   \n",
       "111794                                                                                                                                                                                                                                                                                                                                                                                                                                                                                                                                                                                                                                                                                                                                                                                                                                                                                                                                                                                                                                                                                                                                                                                                                                [Delicious food, friendly service., Wish the portions were slightly larger on the dinner meal deal -- hmm, probably a good thing they aren't lol]   \n",
       "111795                                                                                                                                                                                                                                                                                                                     [The food here is SLAMMIN\"!!!, e I truly love when you try a restaurant for the first time and the workers/owners are all so happy you came!, The service is really a major plus., I felt like I walked into my aunt's house or something., I've tried a few of the items on the menu but the standout by far would be the honey bbq wings., They are so sweet and tangy!, I have not had wings that juicy and good in a very long time., The homemade baked good are equally stellar., I hate cheesecake, but the sweet potato cheesecake here changed my mind!, The yellow cake with chocolate frosting, the lemon cake all hits!, Any of the sides you choose for your meal will be well seasond and tasty!, Wash it all down with a hal and half and you will be in heaven., I have not tried the breakfast and to be honest I am scared to do it., Grits, salmon cakes, waffles with nutella...These things could be a major wardrobe shrinker., I am very confident that when I do, it will be worth every calorie., Get yourself over there ASAP!, !]   \n",
       "111796  [I just moved to Brooklyn and was in search of that Chicken and Waffles combo I used to have back home in California., Â I've had tried plenty since I've moved to NY, but NONE compare to Napoleons!!, Â I ordered the 4 mini waffles and wings dinner plate (substituting the wings for a leg and breast)., Â The meat was juicy, mouth watering, and moist., Â The skin was crispy, crunchy, and extremely flavorful., Â The waffles we fluffy and covered in butter and powered sugar, with syrup on the side to smother at my will., Â SO, SO YUMMY!, Â If that wasn't enough, my boyfriend ordered the Honey Barbeque Chicken dinner plate which comes with two sides, he ordered mac & cheese and candied yams., Â The honey barbeque sauce was to die for!, Extremely orgasmic to say the least., Â You will NEVER desire another., Â To top off the exceptional dinner, we had the sweet potato cheesecake which again was phenomenal, for lack of words., Â Napoleon came out to check up on us, asking if everything was alright., Â We couldn't stop complimenting his cooking/baking skills.. the love he puts into his food is above all and one can really see that with every taste that poured into our mouths., Â He was very sweet, as was the cashier., Â I plan to recommend this restaurant to EVERYONE that crosses my way, it really is that GREAT!, !]   \n",
       "111797                                                                                                                                                                                                                                                                                                                                                                                                                                                                                                                                                                                                                                                                                                                 [Absolutely delicious pastries and a nice comfortable place., They seem fixated on cleanliness, which is a good thing but can I Â finish my delicious chicken and waffles...please!!!, Granted it's a new spot and they are getting Â things together but their menu is disappointingly inconsistent, their shelves are mostly empty and... what no coffee?, \"The machine was turned off, this is not a coffee shop\", Â well there's is something called instant coffee, just add water..., This place has an exceptional baker and a throw down cook, once you get over the emptiness and them not having what you came for..... You will love what they have.]   \n",
       "\n",
       "        Sentence Count  Avg Words Per Sentence Numbers  \n",
       "0                    4               10.000000      no  \n",
       "1                    4               13.000000      no  \n",
       "2                    3               10.666667      no  \n",
       "3                    7               12.857143      no  \n",
       "4                    6               17.000000      no  \n",
       "...                ...                     ...     ...  \n",
       "111793               4                7.000000      no  \n",
       "111794               2               12.000000      no  \n",
       "111795              17               11.411765      no  \n",
       "111796              17               13.470588      no  \n",
       "111797               5               21.000000      no  \n",
       "\n",
       "[111798 rows x 13 columns]"
      ]
     },
     "execution_count": 77,
     "metadata": {},
     "output_type": "execute_result"
    }
   ],
   "source": [
    "df_engineered"
   ]
  },
  {
   "cell_type": "code",
   "execution_count": null,
   "metadata": {},
   "outputs": [],
   "source": []
  },
  {
   "cell_type": "markdown",
   "metadata": {},
   "source": [
    "# TFIDF Multinomial Model"
   ]
  },
  {
   "cell_type": "code",
   "execution_count": 78,
   "metadata": {},
   "outputs": [],
   "source": [
    "#Make a test copy data frame\n",
    "df_test = df_engineered.copy()\n",
    "# Relabel our targets to a traditional 0 1 label\n",
    "binary_dict = {1:0,-1:1}\n",
    "df_test['Label'] = df_test['Label'].map(binary_dict)"
   ]
  },
  {
   "cell_type": "code",
   "execution_count": 79,
   "metadata": {},
   "outputs": [],
   "source": [
    "#This takes out the puncuation and makes everything lower cased. Numbers are still included in this model.\n",
    "df_test['Test Column'] = df_test['Review'].str.replace(r'[^\\w\\s]', '')\n",
    "df_test['Test Column'] = df_test['Test Column'].str.lower()"
   ]
  },
  {
   "cell_type": "code",
   "execution_count": 80,
   "metadata": {},
   "outputs": [],
   "source": [
    "X = df_test['Test Column']\n",
    "y = df_test['Label']"
   ]
  },
  {
   "cell_type": "code",
   "execution_count": 81,
   "metadata": {},
   "outputs": [],
   "source": [
    "#Perform train test split\n",
    "X_train,X_test,y_train,y_test = train_test_split(X,y,random_state=42)"
   ]
  },
  {
   "cell_type": "code",
   "execution_count": 82,
   "metadata": {},
   "outputs": [],
   "source": [
    "#Create pipeline and cross validate\n",
    "first_model = make_pipeline(TfidfVectorizer(stop_words=sw.words('english')), MultinomialNB())\n",
    "first_model_results = cross_validate(first_model, X_train, y_train,return_train_score=True)"
   ]
  },
  {
   "cell_type": "code",
   "execution_count": 84,
   "metadata": {},
   "outputs": [
    {
     "name": "stdout",
     "output_type": "stream",
     "text": [
      "Mean Train Score: 0.9005521894667872\n",
      "Mean Test Score: 0.9003196246246615\n"
     ]
    }
   ],
   "source": [
    "functions.mean_scores(first_model_results)"
   ]
  },
  {
   "cell_type": "code",
   "execution_count": 86,
   "metadata": {},
   "outputs": [
    {
     "name": "stdout",
     "output_type": "stream",
     "text": [
      "Recall Score: 0.0010756543564001434\n",
      "Precision Score: 1.0\n",
      "Accuracy Score:0.9003196259898865\n",
      "F1 Score: 0.002148997134670487\n",
      "Confusion Matrix: \n",
      "[[75481     0]\n",
      " [ 8358     9]]\n"
     ]
    }
   ],
   "source": [
    "y_preds = cross_val_predict(first_model, X_train, y_train)\n",
    "functions.metrics(y_train,y_preds)"
   ]
  },
  {
   "cell_type": "markdown",
   "metadata": {},
   "source": [
    "As we can see, the simple model has a hard time catching the fake reviews. This has no stemming or over/under sampling techniques. Future iterations will experiment with these along with other features that have been engineered. Also the matrics I am thinking about are either F1 or Recall. This is because I intend this system to flag reviews for a person to look at. This would mean it is okay to have more false positives because the reviews will be peer reviewed."
   ]
  },
  {
   "cell_type": "markdown",
   "metadata": {},
   "source": [
    "# TFIDF Logistic Model"
   ]
  },
  {
   "cell_type": "code",
   "execution_count": 95,
   "metadata": {},
   "outputs": [],
   "source": [
    "second_model = make_pipeline(TfidfVectorizer(stop_words=sw.words('english')),LogisticRegression())\n",
    "second_results = cross_validate(second_model,X_train,y_train,return_train_score=True)"
   ]
  },
  {
   "cell_type": "code",
   "execution_count": 96,
   "metadata": {},
   "outputs": [
    {
     "name": "stdout",
     "output_type": "stream",
     "text": [
      "Mean Train Score: 0.9009815384159419\n",
      "Mean Test Score: 0.8996159757976898\n"
     ]
    }
   ],
   "source": [
    "functions.mean_scores(second_results)"
   ]
  },
  {
   "cell_type": "code",
   "execution_count": 97,
   "metadata": {},
   "outputs": [
    {
     "name": "stdout",
     "output_type": "stream",
     "text": [
      "Recall Score: 0.007768614796223258\n",
      "Precision Score: 0.3611111111111111\n",
      "Accuracy Score:0.89961597175842\n",
      "F1 Score: 0.01521001521001521\n",
      "Confusion Matrix: \n",
      "[[75366   115]\n",
      " [ 8302    65]]\n"
     ]
    }
   ],
   "source": [
    "y_preds_LR = cross_val_predict(second_model, X_train, y_train)\n",
    "functions.metrics(y_train,y_preds_LR)"
   ]
  },
  {
   "cell_type": "markdown",
   "metadata": {},
   "source": [
    "So this is an improvement, this is picking up more on the fake reviews than the NB model did. This is a good step in the right direction."
   ]
  },
  {
   "cell_type": "markdown",
   "metadata": {},
   "source": [
    "# XGBoost TFIDF Model"
   ]
  },
  {
   "cell_type": "code",
   "execution_count": 103,
   "metadata": {},
   "outputs": [],
   "source": [
    "xg_model = make_pipeline(TfidfVectorizer(stop_words=sw.words('english')),XGBClassifier())\n",
    "xg_results = cross_validate(xg_model,X_train,y_train,return_train_score=True)"
   ]
  },
  {
   "cell_type": "code",
   "execution_count": 104,
   "metadata": {},
   "outputs": [
    {
     "name": "stdout",
     "output_type": "stream",
     "text": [
      "Mean Train Score: 0.9062052780226235\n",
      "Mean Test Score: 0.8997113878211751\n"
     ]
    }
   ],
   "source": [
    "functions.mean_scores(xg_results)"
   ]
  },
  {
   "cell_type": "code",
   "execution_count": 105,
   "metadata": {},
   "outputs": [
    {
     "name": "stdout",
     "output_type": "stream",
     "text": [
      "Recall Score: 0.006214891836978606\n",
      "Precision Score: 0.3561643835616438\n",
      "Accuracy Score:0.8997113825016697\n",
      "F1 Score: 0.012216609890755315\n",
      "Confusion Matrix: \n",
      "[[75387    94]\n",
      " [ 8315    52]]\n"
     ]
    }
   ],
   "source": [
    "xg_preds = cross_val_predict(xg_model,X_train,y_train)\n",
    "functions.metrics(y_train,xg_preds)"
   ]
  },
  {
   "cell_type": "markdown",
   "metadata": {},
   "source": [
    "Similar to the Logistic model, less positives but less FP also. Right now the LR model is the best. I want to see what a decision tree will do next"
   ]
  },
  {
   "cell_type": "code",
   "execution_count": 108,
   "metadata": {},
   "outputs": [
    {
     "name": "stdout",
     "output_type": "stream",
     "text": [
      "Mean Train Score: 0.9991055246375795\n",
      "Mean Test Score: 0.8398411634496213\n"
     ]
    }
   ],
   "source": [
    "dtree_model = make_pipeline(TfidfVectorizer(stop_words=sw.words('english')),DecisionTreeClassifier())\n",
    "tree_results = cross_validate(dtree_model,X_train,y_train,return_train_score=True)\n",
    "functions.mean_scores(tree_results)"
   ]
  },
  {
   "cell_type": "code",
   "execution_count": 109,
   "metadata": {},
   "outputs": [
    {
     "name": "stdout",
     "output_type": "stream",
     "text": [
      "Recall Score: 0.12214652802677184\n",
      "Precision Score: 0.14291707453503005\n",
      "Accuracy Score:0.8393044556817097\n",
      "F1 Score: 0.13171800489753835\n",
      "Confusion Matrix: \n",
      "[[69352  6129]\n",
      " [ 7345  1022]]\n"
     ]
    }
   ],
   "source": [
    "tree_preds = cross_val_predict(dtree_model,X_train,y_train)\n",
    "functions.metrics(y_train,tree_preds)"
   ]
  },
  {
   "cell_type": "markdown",
   "metadata": {},
   "source": [
    "This has given the best predictor at the fake reviews yet. There may be something to this model."
   ]
  },
  {
   "cell_type": "code",
   "execution_count": 110,
   "metadata": {},
   "outputs": [
    {
     "name": "stdout",
     "output_type": "stream",
     "text": [
      "Mean Train Score: 0.9991591931451008\n",
      "Mean Test Score: 0.8410576093199206\n"
     ]
    }
   ],
   "source": [
    "dtree_model = make_pipeline(CountVectorizer(stop_words=sw.words('english')),DecisionTreeClassifier())\n",
    "tree_results = cross_validate(dtree_model,X_train,y_train,return_train_score=True)\n",
    "functions.mean_scores(tree_results)"
   ]
  },
  {
   "cell_type": "code",
   "execution_count": 111,
   "metadata": {},
   "outputs": [
    {
     "name": "stdout",
     "output_type": "stream",
     "text": [
      "Recall Score: 0.10708736703716984\n",
      "Precision Score: 0.1315712187958884\n",
      "Accuracy Score:0.8403659002003626\n",
      "F1 Score: 0.11807340054029124\n",
      "Confusion Matrix: \n",
      "[[69567  5914]\n",
      " [ 7471   896]]\n"
     ]
    }
   ],
   "source": [
    "tree_preds = cross_val_predict(dtree_model,X_train,y_train)\n",
    "functions.metrics(y_train,tree_preds)"
   ]
  },
  {
   "cell_type": "code",
   "execution_count": null,
   "metadata": {},
   "outputs": [],
   "source": []
  },
  {
   "cell_type": "code",
   "execution_count": null,
   "metadata": {},
   "outputs": [],
   "source": []
  }
 ],
 "metadata": {
  "kernelspec": {
   "display_name": "Python (learn-env)",
   "language": "python",
   "name": "learn-env"
  },
  "language_info": {
   "codemirror_mode": {
    "name": "ipython",
    "version": 3
   },
   "file_extension": ".py",
   "mimetype": "text/x-python",
   "name": "python",
   "nbconvert_exporter": "python",
   "pygments_lexer": "ipython3",
   "version": "3.8.5"
  }
 },
 "nbformat": 4,
 "nbformat_minor": 4
}
