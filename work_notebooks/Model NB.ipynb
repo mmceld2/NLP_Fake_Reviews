{
 "cells": [
  {
   "cell_type": "code",
   "execution_count": 126,
   "metadata": {},
   "outputs": [
    {
     "name": "stdout",
     "output_type": "stream",
     "text": [
      "The autoreload extension is already loaded. To reload it, use:\n",
      "  %reload_ext autoreload\n"
     ]
    }
   ],
   "source": [
    "import pandas as pd\n",
    "import pickle\n",
    "import matplotlib.pyplot as plt\n",
    "import seaborn as sns\n",
    "import src as functions\n",
    "%load_ext autoreload \n",
    "%autoreload 2\n",
    "import re\n",
    "from nltk.tokenize import regexp_tokenize, word_tokenize, sent_tokenize\n",
    "from sklearn.model_selection import train_test_split, cross_validate , GridSearchCV, cross_val_predict\n",
    "from sklearn.pipeline import make_pipeline , Pipeline\n",
    "from nltk import word_tokenize\n",
    "from nltk.corpus import stopwords as sw\n",
    "from sklearn.linear_model import LogisticRegression , SGDClassifier\n",
    "from sklearn.feature_extraction.text import TfidfVectorizer, CountVectorizer\n",
    "from sklearn.naive_bayes import MultinomialNB\n",
    "from sklearn.preprocessing import StandardScaler, OneHotEncoder\n",
    "import warnings\n",
    "from xgboost import XGBClassifier\n",
    "from sklearn.ensemble import RandomForestClassifier\n",
    "from sklearn.tree import DecisionTreeClassifier\n",
    "from imblearn.pipeline import Pipeline as imbpipe\n",
    "from imblearn.over_sampling import RandomOverSampler, SMOTE\n",
    "from imblearn.under_sampling import RandomUnderSampler\n",
    "warnings.filterwarnings (\"ignore\")\n",
    "from sklearn.compose import ColumnTransformer\n",
    "from sklearn.neighbors import KNeighborsClassifier, NearestNeighbors\n",
    "from nltk.stem import SnowballStemmer\n",
    "from sklearn.cluster import KMeans\n",
    "from sklearn.metrics import plot_confusion_matrix , fbeta_score, make_scorer\n"
   ]
  },
  {
   "cell_type": "code",
   "execution_count": 127,
   "metadata": {},
   "outputs": [],
   "source": [
    "def transform(df,review_col):\n",
    "    '''Returns a DataFrame transformed and ready to be tested. Returns the df with \n",
    "    Tokens, Number of words, Char Review Count, Sentences and Sentence Count'''\n",
    "    df_engineered = df.copy()\n",
    "    # Make a column to split words up, puncuation is included\n",
    "    df_engineered['Tokens'] = df[review_col].str.split(' ')\n",
    "    # Find the number of words in each review\n",
    "    df_engineered['Number of Words'] = df_engineered['Tokens'].map(lambda x: len(x))\n",
    "    # Find number of characters used in Reviews\n",
    "    df_engineered['Character Review Length'] = df_engineered[review_col].map(lambda x: len(x))\n",
    "    # Find Number of Sentences in Each Review\n",
    "    df_engineered['Sentences'] = df_engineered[review_col].map(lambda x:sent_tokenize(x))\n",
    "    df_engineered['Sentence Count'] = df_engineered['Sentences'].map(lambda x : len(x))\n",
    "    df_engineered['Avg Words Per Sentence'] = df_engineered['Number of Words'] / df_engineered['Sentence Count']\n",
    "    return df_engineered\n",
    "\n",
    "def test_df(df,review_col):\n",
    "    X = df.copy()\n",
    "    X = df[[review_col,'Number of Words','Character Review Length','Sentence Count','Avg Words Per Sentence']]\n",
    "    # Remove all numbers\n",
    "    X[review_col] = X[review_col].str.replace('\\d+', '')\n",
    "    # Make a tokenize column\n",
    "    X['token'] = X[review_col].map(lambda x: word_tokenize(x))\n",
    "    # Stem words in the tokenized column then create a column where they are joined\n",
    "    X['stem'] = X['token'].apply(lambda x: [SnowballStemmer('english').stem(y) for y in x])\n",
    "    X['sentence'] = X['stem'].apply(lambda x : ' '.join(x))\n",
    "    # Add all of our extra features in\n",
    "    X = X[['sentence','Number of Words','Character Review Length','Sentence Count','Avg Words Per Sentence']]\n",
    "    return X"
   ]
  },
  {
   "cell_type": "code",
   "execution_count": 128,
   "metadata": {},
   "outputs": [],
   "source": [
    "# Load our Test DF into our notebook\n",
    "df  = pd.read_csv('data/Labelled Yelp Dataset Edited.csv')\n",
    "\n",
    "df_test = transform(df,'Review')\n"
   ]
  },
  {
   "cell_type": "markdown",
   "metadata": {},
   "source": [
    "# TFIDF Multinomial Model"
   ]
  },
  {
   "cell_type": "code",
   "execution_count": 129,
   "metadata": {},
   "outputs": [],
   "source": [
    "# Relabel our targets to a traditional 0 1 label\n",
    "binary_dict = {1:0,-1:1}\n",
    "df_test['Label'] = df_test['Label'].map(binary_dict)"
   ]
  },
  {
   "cell_type": "code",
   "execution_count": 130,
   "metadata": {},
   "outputs": [],
   "source": [
    "#This takes out the puncuation and makes everything lower cased. Numbers are still included in this model.\n",
    "df_test['Test Column'] = df_test['Review'].str.replace(r'[^\\w\\s]', '')\n",
    "df_test['Test Column'] = df_test['Test Column'].str.lower()"
   ]
  },
  {
   "cell_type": "code",
   "execution_count": 131,
   "metadata": {},
   "outputs": [],
   "source": [
    "X = df_test['Test Column']\n",
    "y = df_test['Label']"
   ]
  },
  {
   "cell_type": "code",
   "execution_count": 132,
   "metadata": {},
   "outputs": [],
   "source": [
    "#Perform train test split\n",
    "X_train,X_test,y_train,y_test = train_test_split(X,y,random_state=42)"
   ]
  },
  {
   "cell_type": "code",
   "execution_count": 133,
   "metadata": {},
   "outputs": [],
   "source": [
    "#Create pipeline and cross validate\n",
    "first_model = make_pipeline(TfidfVectorizer(stop_words=sw.words('english')), MultinomialNB())\n",
    "first_model_results = cross_validate(first_model, X_train, y_train,return_train_score=True)"
   ]
  },
  {
   "cell_type": "code",
   "execution_count": 134,
   "metadata": {},
   "outputs": [
    {
     "name": "stdout",
     "output_type": "stream",
     "text": [
      "Mean Train Score: 0.9005521894667872\n",
      "Mean Test Score: 0.9003196246246615\n"
     ]
    }
   ],
   "source": [
    "functions.mean_scores(first_model_results)"
   ]
  },
  {
   "cell_type": "code",
   "execution_count": 135,
   "metadata": {},
   "outputs": [
    {
     "name": "stdout",
     "output_type": "stream",
     "text": [
      "Recall Score: 0.0010756543564001434\n",
      "Precision Score: 1.0\n",
      "Accuracy Score:0.9003196259898865\n",
      "F1 Score: 0.002148997134670487\n",
      "Confusion Matrix: \n",
      "[[75481     0]\n",
      " [ 8358     9]]\n"
     ]
    }
   ],
   "source": [
    "y_preds = cross_val_predict(first_model, X_train, y_train)\n",
    "functions.metrics(y_train,y_preds)"
   ]
  },
  {
   "cell_type": "markdown",
   "metadata": {},
   "source": [
    "As we can see, the simple model has a hard time catching the fake reviews. This has no stemming or over/under sampling techniques. Future iterations will experiment with these along with other features that have been engineered. Also the matrics I am thinking about are either F1 or Recall. This is because I intend this system to flag reviews for a person to look at. This would mean it is okay to have more false positives because the reviews will be peer reviewed."
   ]
  },
  {
   "cell_type": "markdown",
   "metadata": {},
   "source": [
    "# TFIDF Logistic Model"
   ]
  },
  {
   "cell_type": "code",
   "execution_count": 136,
   "metadata": {},
   "outputs": [],
   "source": [
    "second_model = make_pipeline(TfidfVectorizer(stop_words=sw.words('english')),LogisticRegression())\n",
    "second_results = cross_validate(second_model,X_train,y_train,return_train_score=True)"
   ]
  },
  {
   "cell_type": "code",
   "execution_count": 137,
   "metadata": {},
   "outputs": [
    {
     "name": "stdout",
     "output_type": "stream",
     "text": [
      "Mean Train Score: 0.9009815384159419\n",
      "Mean Test Score: 0.8996159757976898\n"
     ]
    }
   ],
   "source": [
    "functions.mean_scores(second_results)"
   ]
  },
  {
   "cell_type": "code",
   "execution_count": 138,
   "metadata": {},
   "outputs": [
    {
     "name": "stdout",
     "output_type": "stream",
     "text": [
      "Recall Score: 0.007768614796223258\n",
      "Precision Score: 0.3611111111111111\n",
      "Accuracy Score:0.89961597175842\n",
      "F1 Score: 0.01521001521001521\n",
      "Confusion Matrix: \n",
      "[[75366   115]\n",
      " [ 8302    65]]\n"
     ]
    }
   ],
   "source": [
    "y_preds_LR = cross_val_predict(second_model, X_train, y_train)\n",
    "functions.metrics(y_train,y_preds_LR)"
   ]
  },
  {
   "cell_type": "markdown",
   "metadata": {},
   "source": [
    "So this is an improvement, this is picking up more on the fake reviews than the NB model did. This is a good step in the right direction."
   ]
  },
  {
   "cell_type": "markdown",
   "metadata": {},
   "source": [
    "# XGBoost TFIDF Model"
   ]
  },
  {
   "cell_type": "code",
   "execution_count": 139,
   "metadata": {},
   "outputs": [],
   "source": [
    "xg_model = make_pipeline(TfidfVectorizer(stop_words=sw.words('english')),XGBClassifier())\n",
    "xg_results = cross_validate(xg_model,X_train,y_train,return_train_score=True)"
   ]
  },
  {
   "cell_type": "code",
   "execution_count": 140,
   "metadata": {},
   "outputs": [
    {
     "name": "stdout",
     "output_type": "stream",
     "text": [
      "Mean Train Score: 0.9062052780226235\n",
      "Mean Test Score: 0.8997113878211751\n"
     ]
    }
   ],
   "source": [
    "functions.mean_scores(xg_results)"
   ]
  },
  {
   "cell_type": "code",
   "execution_count": 141,
   "metadata": {},
   "outputs": [
    {
     "name": "stdout",
     "output_type": "stream",
     "text": [
      "Recall Score: 0.006214891836978606\n",
      "Precision Score: 0.3561643835616438\n",
      "Accuracy Score:0.8997113825016697\n",
      "F1 Score: 0.012216609890755315\n",
      "Confusion Matrix: \n",
      "[[75387    94]\n",
      " [ 8315    52]]\n"
     ]
    }
   ],
   "source": [
    "xg_preds = cross_val_predict(xg_model,X_train,y_train)\n",
    "functions.metrics(y_train,xg_preds)"
   ]
  },
  {
   "cell_type": "markdown",
   "metadata": {},
   "source": [
    "Similar to the Logistic model, less positives but less FP also. Right now the LR model is the best."
   ]
  },
  {
   "cell_type": "markdown",
   "metadata": {},
   "source": [
    "# Oversampling"
   ]
  },
  {
   "cell_type": "markdown",
   "metadata": {},
   "source": [
    "# Logistic Regression with TFIDF"
   ]
  },
  {
   "cell_type": "code",
   "execution_count": 142,
   "metadata": {},
   "outputs": [
    {
     "name": "stdout",
     "output_type": "stream",
     "text": [
      "Mean Train Score: 0.7226827273824232\n",
      "Mean Test Score: 0.7001956800984354\n"
     ]
    }
   ],
   "source": [
    "imb_log_model = imbpipe(steps=[\n",
    "                         ('tfid',TfidfVectorizer(stop_words=sw.words('english'))),\n",
    "                         ('over',RandomOverSampler(sampling_strategy='minority')),\n",
    "                         ('LR',LogisticRegression(C=.1))])\n",
    "\n",
    "imb_log_results = cross_validate(imb_log_model,X_train,y_train,return_train_score=True)\n",
    "functions.mean_scores(imb_log_results)"
   ]
  },
  {
   "cell_type": "code",
   "execution_count": 143,
   "metadata": {},
   "outputs": [
    {
     "name": "stdout",
     "output_type": "stream",
     "text": [
      "Recall Score: 0.6134815346002152\n",
      "Precision Score: 0.18946552487819282\n",
      "Accuracy Score:0.6995396431638202\n",
      "F1 Score: 0.2895174708818636\n",
      "Confusion Matrix: \n",
      "[[53522 21959]\n",
      " [ 3234  5133]]\n"
     ]
    }
   ],
   "source": [
    "imb_log_preds = cross_val_predict(imb_log_model,X_train,y_train)\n",
    "functions.metrics(y_train,imb_log_preds)"
   ]
  },
  {
   "cell_type": "markdown",
   "metadata": {},
   "source": [
    "This has by far been the best model yet."
   ]
  },
  {
   "cell_type": "markdown",
   "metadata": {},
   "source": [
    "# TFIDF Naive Bayes"
   ]
  },
  {
   "cell_type": "code",
   "execution_count": 144,
   "metadata": {},
   "outputs": [
    {
     "name": "stdout",
     "output_type": "stream",
     "text": [
      "Mean Train Score: 0.8150075057186668\n",
      "Mean Test Score: 0.7532559785955378\n"
     ]
    }
   ],
   "source": [
    "imb_bayes_model = imbpipe(steps=[\n",
    "                         ('tfid',TfidfVectorizer(stop_words=sw.words('english'))),\n",
    "                         ('over',RandomOverSampler(sampling_strategy='minority')),\n",
    "                         ('bae',MultinomialNB())])\n",
    "\n",
    "imb_bayes_results = cross_validate(imb_bayes_model,X_train,y_train,return_train_score=True)\n",
    "functions.mean_scores(imb_bayes_results)"
   ]
  },
  {
   "cell_type": "code",
   "execution_count": 145,
   "metadata": {},
   "outputs": [
    {
     "name": "stdout",
     "output_type": "stream",
     "text": [
      "Recall Score: 0.4896617664634875\n",
      "Precision Score: 0.19834430673896206\n",
      "Accuracy Score:0.7515862036065261\n",
      "F1 Score: 0.2823278089790856\n",
      "Confusion Matrix: \n",
      "[[58922 16559]\n",
      " [ 4270  4097]]\n"
     ]
    }
   ],
   "source": [
    "imb_bayes_preds = cross_val_predict(imb_bayes_model,X_train,y_train)\n",
    "functions.metrics(y_train,imb_bayes_preds)"
   ]
  },
  {
   "cell_type": "markdown",
   "metadata": {},
   "source": [
    "About the same as the LR model, a little bit better."
   ]
  },
  {
   "cell_type": "markdown",
   "metadata": {},
   "source": [
    "# XGBoost with TFIDF"
   ]
  },
  {
   "cell_type": "code",
   "execution_count": 146,
   "metadata": {},
   "outputs": [
    {
     "name": "stdout",
     "output_type": "stream",
     "text": [
      "Mean Train Score: 0.75429944063062\n",
      "Mean Test Score: 0.6914297995637733\n"
     ]
    }
   ],
   "source": [
    "imb_boost_model = imbpipe(steps=[\n",
    "                         ('tfid',TfidfVectorizer(stop_words=sw.words('english'))),\n",
    "                         ('over',RandomOverSampler(sampling_strategy='minority')),\n",
    "                         ('boost',XGBClassifier())])\n",
    "\n",
    "imb_boost_results = cross_validate(imb_boost_model,X_train,y_train,return_train_score=True)\n",
    "functions.mean_scores(imb_boost_results)"
   ]
  },
  {
   "cell_type": "code",
   "execution_count": 147,
   "metadata": {},
   "outputs": [
    {
     "name": "stdout",
     "output_type": "stream",
     "text": [
      "Recall Score: 0.5628062626986973\n",
      "Precision Score: 0.17629441054247313\n",
      "Accuracy Score:0.6939700410266196\n",
      "F1 Score: 0.26848737100176745\n",
      "Confusion Matrix: \n",
      "[[53479 22002]\n",
      " [ 3658  4709]]\n"
     ]
    }
   ],
   "source": [
    "imb_boost_preds = cross_val_predict(imb_boost_model,X_train,y_train)\n",
    "functions.metrics(y_train,imb_boost_preds)"
   ]
  },
  {
   "cell_type": "markdown",
   "metadata": {},
   "source": [
    "This model has the best detection of fake reviews while not predicting everything as fake."
   ]
  },
  {
   "cell_type": "markdown",
   "metadata": {},
   "source": [
    "# Undersampling"
   ]
  },
  {
   "cell_type": "markdown",
   "metadata": {},
   "source": [
    "# LR Model"
   ]
  },
  {
   "cell_type": "code",
   "execution_count": 148,
   "metadata": {},
   "outputs": [
    {
     "name": "stdout",
     "output_type": "stream",
     "text": [
      "Mean Train Score: 0.6697208128202929\n",
      "Mean Test Score: 0.6484472693653809\n"
     ]
    }
   ],
   "source": [
    "under_log_model = imbpipe(steps=[\n",
    "                         ('tfid',TfidfVectorizer(stop_words=sw.words('english'))),\n",
    "                         ('under',RandomUnderSampler(sampling_strategy='majority')),\n",
    "                         ('LR',LogisticRegression())])\n",
    "\n",
    "under_log_results = cross_validate(under_log_model,X_train,y_train,return_train_score=True)\n",
    "functions.mean_scores(under_log_results)"
   ]
  },
  {
   "cell_type": "code",
   "execution_count": 149,
   "metadata": {},
   "outputs": [
    {
     "name": "stdout",
     "output_type": "stream",
     "text": [
      "Recall Score: 0.6609298434325326\n",
      "Precision Score: 0.17141971481711096\n",
      "Accuracy Score:0.6473738192920523\n",
      "F1 Score: 0.27223275161838184\n",
      "Confusion Matrix: \n",
      "[[48751 26730]\n",
      " [ 2837  5530]]\n"
     ]
    }
   ],
   "source": [
    "under_log_preds = cross_val_predict(under_log_model,X_train,y_train)\n",
    "functions.metrics(y_train,under_log_preds)"
   ]
  },
  {
   "cell_type": "markdown",
   "metadata": {},
   "source": [
    "# Naive Bayes"
   ]
  },
  {
   "cell_type": "code",
   "execution_count": 150,
   "metadata": {},
   "outputs": [
    {
     "name": "stdout",
     "output_type": "stream",
     "text": [
      "Mean Train Score: 0.849274869551224\n",
      "Mean Test Score: 0.8240507655090765\n"
     ]
    }
   ],
   "source": [
    "under_bayes_model = imbpipe(steps=[\n",
    "                         ('tfid',TfidfVectorizer(stop_words=sw.words('english'))),\n",
    "                         ('under',RandomUnderSampler(sampling_strategy='majority')),\n",
    "                         ('bae',MultinomialNB())])\n",
    "\n",
    "under_bayes_results = cross_validate(under_bayes_model,X_train,y_train,return_train_score=True)\n",
    "functions.mean_scores(under_bayes_results)"
   ]
  },
  {
   "cell_type": "code",
   "execution_count": 151,
   "metadata": {},
   "outputs": [
    {
     "name": "stdout",
     "output_type": "stream",
     "text": [
      "Recall Score: 0.33034540456555517\n",
      "Precision Score: 0.23025658113962014\n",
      "Accuracy Score:0.8229772922431066\n",
      "F1 Score: 0.27136615777330525\n",
      "Confusion Matrix: \n",
      "[[66241  9240]\n",
      " [ 5603  2764]]\n"
     ]
    }
   ],
   "source": [
    "under_bayes_preds = cross_val_predict(under_bayes_model,X_train,y_train)\n",
    "functions.metrics(y_train,under_bayes_preds)"
   ]
  },
  {
   "cell_type": "markdown",
   "metadata": {},
   "source": [
    "# XGBoost"
   ]
  },
  {
   "cell_type": "code",
   "execution_count": 152,
   "metadata": {},
   "outputs": [
    {
     "name": "stdout",
     "output_type": "stream",
     "text": [
      "Mean Train Score: 0.6473738253538852\n",
      "Mean Test Score: 0.6010281337702785\n"
     ]
    }
   ],
   "source": [
    "under_boost_model = imbpipe(steps=[\n",
    "                         ('tfid',TfidfVectorizer(stop_words=sw.words('english'))),\n",
    "                         ('under',RandomUnderSampler(sampling_strategy='majority')),\n",
    "                         ('boost',XGBClassifier())])\n",
    "\n",
    "under_boost_results = cross_validate(under_boost_model,X_train,y_train,return_train_score=True)\n",
    "functions.mean_scores(under_boost_results)"
   ]
  },
  {
   "cell_type": "code",
   "execution_count": 153,
   "metadata": {},
   "outputs": [
    {
     "name": "stdout",
     "output_type": "stream",
     "text": [
      "Recall Score: 0.6800525875463129\n",
      "Precision Score: 0.15658539270185481\n",
      "Accuracy Score:0.6025546226505104\n",
      "F1 Score: 0.2545576557432055\n",
      "Confusion Matrix: \n",
      "[[44833 30648]\n",
      " [ 2677  5690]]\n"
     ]
    }
   ],
   "source": [
    "under_boost_preds = cross_val_predict(under_boost_model,X_train,y_train)\n",
    "functions.metrics(y_train,under_boost_preds)"
   ]
  },
  {
   "cell_type": "markdown",
   "metadata": {},
   "source": [
    "The XGBoost model gives the highest recall score, but predicts a significant amount more of reviews being fake when they are real. The LR model comes close in recall, falling 1.5% behind the XGBoost while predicing less false positives. Hyperparameter tuning will be done for both to see which gives the best model."
   ]
  },
  {
   "cell_type": "markdown",
   "metadata": {},
   "source": [
    "# Hyperparameter Tuning"
   ]
  },
  {
   "cell_type": "markdown",
   "metadata": {},
   "source": [
    "## LR Parameter Tuning"
   ]
  },
  {
   "cell_type": "code",
   "execution_count": 154,
   "metadata": {},
   "outputs": [],
   "source": [
    "params = {'LR__C':[.1,1,20,50],\n",
    "         'LR__solver':['lbfgs', 'liblinear', 'sag'],\n",
    "         'LR__class_weight':[None,'balanced',.25]}"
   ]
  },
  {
   "cell_type": "code",
   "execution_count": 155,
   "metadata": {},
   "outputs": [],
   "source": [
    "lr_gs = GridSearchCV(under_log_model,params,return_train_score=True,scoring='recall')"
   ]
  },
  {
   "cell_type": "code",
   "execution_count": 156,
   "metadata": {},
   "outputs": [
    {
     "data": {
      "text/plain": [
       "GridSearchCV(estimator=Pipeline(steps=[('tfid',\n",
       "                                        TfidfVectorizer(stop_words=['i', 'me',\n",
       "                                                                    'my',\n",
       "                                                                    'myself',\n",
       "                                                                    'we', 'our',\n",
       "                                                                    'ours',\n",
       "                                                                    'ourselves',\n",
       "                                                                    'you',\n",
       "                                                                    \"you're\",\n",
       "                                                                    \"you've\",\n",
       "                                                                    \"you'll\",\n",
       "                                                                    \"you'd\",\n",
       "                                                                    'your',\n",
       "                                                                    'yours',\n",
       "                                                                    'yourself',\n",
       "                                                                    'yourselves',\n",
       "                                                                    'he', 'him',\n",
       "                                                                    'his',\n",
       "                                                                    'himself',\n",
       "                                                                    'she',\n",
       "                                                                    \"she's\",\n",
       "                                                                    'her',\n",
       "                                                                    'hers',\n",
       "                                                                    'herself',\n",
       "                                                                    'it',\n",
       "                                                                    \"it's\",\n",
       "                                                                    'its',\n",
       "                                                                    'itself', ...])),\n",
       "                                       ('under',\n",
       "                                        RandomUnderSampler(sampling_strategy='majority')),\n",
       "                                       ('LR', LogisticRegression())]),\n",
       "             param_grid={'LR__C': [0.1, 1, 20, 50],\n",
       "                         'LR__class_weight': [None, 'balanced', 0.25],\n",
       "                         'LR__solver': ['lbfgs', 'liblinear', 'sag']},\n",
       "             return_train_score=True, scoring='recall')"
      ]
     },
     "execution_count": 156,
     "metadata": {},
     "output_type": "execute_result"
    }
   ],
   "source": [
    "lr_gs.fit(X_train,y_train)"
   ]
  },
  {
   "cell_type": "code",
   "execution_count": 157,
   "metadata": {},
   "outputs": [
    {
     "data": {
      "text/plain": [
       "{'LR__C': 1, 'LR__class_weight': None, 'LR__solver': 'liblinear'}"
      ]
     },
     "execution_count": 157,
     "metadata": {},
     "output_type": "execute_result"
    }
   ],
   "source": [
    "lr_gs.best_params_"
   ]
  },
  {
   "cell_type": "code",
   "execution_count": 158,
   "metadata": {},
   "outputs": [],
   "source": [
    "lr_gs_ypreds = cross_val_predict(lr_gs.best_estimator_, X_train,y_train)"
   ]
  },
  {
   "cell_type": "code",
   "execution_count": 159,
   "metadata": {},
   "outputs": [
    {
     "name": "stdout",
     "output_type": "stream",
     "text": [
      "Recall Score: 0.65853950041831\n",
      "Precision Score: 0.17185989208072114\n",
      "Accuracy Score:0.6492701078141399\n",
      "F1 Score: 0.2725833580686653\n",
      "Confusion Matrix: \n",
      "[[48930 26551]\n",
      " [ 2857  5510]]\n"
     ]
    }
   ],
   "source": [
    "functions.metrics(y_train,lr_gs_ypreds)"
   ]
  },
  {
   "cell_type": "code",
   "execution_count": 160,
   "metadata": {},
   "outputs": [],
   "source": [
    "xg_params = {'boost__n_estimators':[50,75,100],\n",
    "            'boost__max_depth':[1,3,4,5],\n",
    "            'boost__booster':['gbtree','dart'],\n",
    "            'boost__eta':[.1,.3,.5,.7]}"
   ]
  },
  {
   "cell_type": "markdown",
   "metadata": {},
   "source": [
    "## XGBoost GS"
   ]
  },
  {
   "cell_type": "code",
   "execution_count": 161,
   "metadata": {},
   "outputs": [
    {
     "data": {
      "text/plain": [
       "GridSearchCV(estimator=Pipeline(steps=[('tfid',\n",
       "                                        TfidfVectorizer(stop_words=['i', 'me',\n",
       "                                                                    'my',\n",
       "                                                                    'myself',\n",
       "                                                                    'we', 'our',\n",
       "                                                                    'ours',\n",
       "                                                                    'ourselves',\n",
       "                                                                    'you',\n",
       "                                                                    \"you're\",\n",
       "                                                                    \"you've\",\n",
       "                                                                    \"you'll\",\n",
       "                                                                    \"you'd\",\n",
       "                                                                    'your',\n",
       "                                                                    'yours',\n",
       "                                                                    'yourself',\n",
       "                                                                    'yourselves',\n",
       "                                                                    'he', 'him',\n",
       "                                                                    'his',\n",
       "                                                                    'himself',\n",
       "                                                                    'she',\n",
       "                                                                    \"she's\",\n",
       "                                                                    'her',\n",
       "                                                                    'hers',\n",
       "                                                                    'herself',\n",
       "                                                                    'it',\n",
       "                                                                    \"it's\",\n",
       "                                                                    'its',\n",
       "                                                                    'itself', ...])),\n",
       "                                       ('under',\n",
       "                                        RandomUnderSampler(sampling_strateg...\n",
       "                                                      num_parallel_tree=None,\n",
       "                                                      random_state=None,\n",
       "                                                      reg_alpha=None,\n",
       "                                                      reg_lambda=None,\n",
       "                                                      scale_pos_weight=None,\n",
       "                                                      subsample=None,\n",
       "                                                      tree_method=None,\n",
       "                                                      validate_parameters=None,\n",
       "                                                      verbosity=None))]),\n",
       "             param_grid={'boost__booster': ['gbtree', 'dart'],\n",
       "                         'boost__eta': [0.1, 0.3, 0.5, 0.7],\n",
       "                         'boost__max_depth': [1, 3, 4, 5],\n",
       "                         'boost__n_estimators': [50, 75, 100]},\n",
       "             return_train_score=True, scoring='recall')"
      ]
     },
     "execution_count": 161,
     "metadata": {},
     "output_type": "execute_result"
    }
   ],
   "source": [
    "boost_gs = GridSearchCV(under_boost_model,xg_params,return_train_score=True,scoring='recall')\n",
    "boost_gs.fit(X_train,y_train)"
   ]
  },
  {
   "cell_type": "code",
   "execution_count": 162,
   "metadata": {},
   "outputs": [
    {
     "name": "stdout",
     "output_type": "stream",
     "text": [
      "Recall Score: 0.7417234373132544\n",
      "Precision Score: 0.14948093552038924\n",
      "Accuracy Score:0.5530960786184524\n",
      "F1 Score: 0.2488172560339989\n",
      "Confusion Matrix: \n",
      "[[40170 35311]\n",
      " [ 2161  6206]]\n"
     ]
    }
   ],
   "source": [
    "boost_gs_ypreds = cross_val_predict(boost_gs.best_estimator_, X_train,y_train)\n",
    "functions.metrics(y_train,boost_gs_ypreds)"
   ]
  },
  {
   "cell_type": "code",
   "execution_count": 163,
   "metadata": {},
   "outputs": [
    {
     "data": {
      "text/plain": [
       "{'boost__booster': 'gbtree',\n",
       " 'boost__eta': 0.3,\n",
       " 'boost__max_depth': 1,\n",
       " 'boost__n_estimators': 50}"
      ]
     },
     "execution_count": 163,
     "metadata": {},
     "output_type": "execute_result"
    }
   ],
   "source": [
    "boost_gs.best_params_"
   ]
  },
  {
   "cell_type": "code",
   "execution_count": 164,
   "metadata": {},
   "outputs": [
    {
     "name": "stdout",
     "output_type": "stream",
     "text": [
      "Recall Score: 0.7417234373132544\n",
      "Precision Score: 0.14948093552038924\n",
      "Accuracy Score:0.5530960786184524\n",
      "F1 Score: 0.2488172560339989\n",
      "Confusion Matrix: \n",
      "[[40170 35311]\n",
      " [ 2161  6206]]\n"
     ]
    }
   ],
   "source": [
    "functions.metrics(y_train,boost_gs_ypreds)"
   ]
  },
  {
   "cell_type": "code",
   "execution_count": 165,
   "metadata": {},
   "outputs": [
    {
     "name": "stdout",
     "output_type": "stream",
     "text": [
      "Recall Score: 0.65853950041831\n",
      "Precision Score: 0.17185989208072114\n",
      "Accuracy Score:0.6492701078141399\n",
      "F1 Score: 0.2725833580686653\n",
      "Confusion Matrix: \n",
      "[[48930 26551]\n",
      " [ 2857  5510]]\n"
     ]
    }
   ],
   "source": [
    "functions.metrics(y_train,lr_gs_ypreds)"
   ]
  },
  {
   "cell_type": "markdown",
   "metadata": {},
   "source": [
    "# Unsupervised Learning - KMeans and TFIDF"
   ]
  },
  {
   "cell_type": "code",
   "execution_count": 166,
   "metadata": {},
   "outputs": [],
   "source": [
    "knn = make_pipeline(TfidfVectorizer(stop_words=sw.words('english')),KMeans(n_clusters=2))\n"
   ]
  },
  {
   "cell_type": "code",
   "execution_count": 167,
   "metadata": {},
   "outputs": [],
   "source": [
    "y_preds = cross_val_predict(knn,X_train,y_train)"
   ]
  },
  {
   "cell_type": "code",
   "execution_count": 168,
   "metadata": {},
   "outputs": [
    {
     "name": "stdout",
     "output_type": "stream",
     "text": [
      "Recall Score: 0.4496235209752599\n",
      "Precision Score: 0.09321340964840556\n",
      "Accuracy Score:0.5086108195782845\n",
      "F1 Score: 0.15441448097524937\n",
      "Confusion Matrix: \n",
      "[[38884 36597]\n",
      " [ 4605  3762]]\n"
     ]
    }
   ],
   "source": [
    "functions.metrics(y_train,y_preds)"
   ]
  },
  {
   "cell_type": "markdown",
   "metadata": {},
   "source": [
    "There are models that do a better job of predicting fake than this one."
   ]
  },
  {
   "cell_type": "markdown",
   "metadata": {},
   "source": [
    "# Best Model with Engineered Features"
   ]
  },
  {
   "cell_type": "code",
   "execution_count": 169,
   "metadata": {},
   "outputs": [],
   "source": [
    "X = df_test[['Test Column','Number of Words','Character Review Length','Sentence Count','Avg Words Per Sentence']]\n",
    "y = df_test['Label']\n",
    "# Remove all numbers\n",
    "X['Test Column'] = X['Test Column'].str.replace('\\d+', '')\n",
    "# Make a tokenize column\n",
    "X['token'] = X['Test Column'].map(lambda x: word_tokenize(x))"
   ]
  },
  {
   "cell_type": "code",
   "execution_count": 170,
   "metadata": {},
   "outputs": [],
   "source": [
    "# Stem words in the tokenized column then create a column where they are joined\n",
    "X['stem'] = X['token'].apply(lambda x: [SnowballStemmer('english').stem(y) for y in x])\n",
    "X['sentence'] = X['stem'].apply(lambda x : ' '.join(x))"
   ]
  },
  {
   "cell_type": "code",
   "execution_count": 171,
   "metadata": {},
   "outputs": [],
   "source": [
    "# Add all of our extra features in\n",
    "X = X[['sentence','Number of Words','Character Review Length','Sentence Count','Avg Words Per Sentence']]\n",
    "#Perform train test split\n",
    "X_train,X_test,y_train,y_test = train_test_split(X,y,random_state=42)"
   ]
  },
  {
   "cell_type": "markdown",
   "metadata": {},
   "source": [
    "# Logistic Regression"
   ]
  },
  {
   "cell_type": "code",
   "execution_count": 172,
   "metadata": {},
   "outputs": [
    {
     "data": {
      "text/plain": [
       "make_scorer(fbeta_score, beta=10)"
      ]
     },
     "execution_count": 172,
     "metadata": {},
     "output_type": "execute_result"
    }
   ],
   "source": []
  },
  {
   "cell_type": "code",
   "execution_count": 173,
   "metadata": {},
   "outputs": [
    {
     "name": "stdout",
     "output_type": "stream",
     "text": [
      "Mean Train Score: 0.7218239373655418\n",
      "Mean Test Score: 0.704911015560226\n"
     ]
    }
   ],
   "source": [
    "# Tell TFIDF which column to vectorize\n",
    "column_transformer = ColumnTransformer(\n",
    "    [('tfidf1', TfidfVectorizer(stop_words=sw.words('english')), 'sentence')], \n",
    "    remainder='passthrough')\n",
    "\n",
    "# fit the model\n",
    "under_log_eng_model = imbpipe(steps=[('tfidf1', column_transformer),\n",
    "                                     ('under',RandomUnderSampler('majority',random_state=42)),\n",
    "                                     ('LR',LogisticRegression(C=.1,class_weight='balanced',solver='lbfgs',random_state=42))])\n",
    "# Evaluate results     \n",
    "under_log_eng_results = cross_validate(under_log_eng_model,X_train,y_train,return_train_score=True,scoring='recall')\n",
    "functions.mean_scores(under_log_eng_results)"
   ]
  },
  {
   "cell_type": "code",
   "execution_count": 174,
   "metadata": {},
   "outputs": [
    {
     "name": "stdout",
     "output_type": "stream",
     "text": [
      "Recall Score: 0.7049121548942273\n",
      "Precision Score: 0.16470719651484264\n",
      "Accuracy Score:0.61382501669688\n",
      "F1 Score: 0.26702281781963055\n",
      "Confusion Matrix: \n",
      "[[45570 29911]\n",
      " [ 2469  5898]]\n"
     ]
    }
   ],
   "source": [
    "# Metrics with confusion matrix\n",
    "under_log_stem_preds = cross_val_predict(under_log_eng_model,X_train,y_train)\n",
    "functions.metrics(y_train,under_log_stem_preds)"
   ]
  },
  {
   "cell_type": "markdown",
   "metadata": {},
   "source": [
    "# XGBoost"
   ]
  },
  {
   "cell_type": "code",
   "execution_count": 175,
   "metadata": {},
   "outputs": [
    {
     "name": "stdout",
     "output_type": "stream",
     "text": [
      "Mean Train Score: 0.7165054607351455\n",
      "Mean Test Score: 0.7039530072462992\n"
     ]
    }
   ],
   "source": [
    "# Tell TFIDF which column to vectorize\n",
    "column_transformer = ColumnTransformer(\n",
    "    [('tfidf1', TfidfVectorizer(stop_words=sw.words('english')), 'sentence')], \n",
    "    remainder='passthrough')\n",
    "\n",
    "# fit the model\n",
    "under_boost_eng_model = imbpipe(steps=[('tfidf1', column_transformer),\n",
    "                                     ('under',RandomUnderSampler('majority',random_state=42)),\n",
    "                                     ('boost',XGBClassifier(booster='dart',eta='.3',max_depth=1,n_estimators=75,random_state=42))])\n",
    "# Evaluate results     \n",
    "under_boost_eng_results = cross_validate(under_boost_eng_model,X_train,y_train,return_train_score=True,scoring='recall')\n",
    "functions.mean_scores(under_boost_eng_results)"
   ]
  },
  {
   "cell_type": "code",
   "execution_count": 176,
   "metadata": {},
   "outputs": [
    {
     "name": "stdout",
     "output_type": "stream",
     "text": [
      "Recall Score: 0.7039560176885383\n",
      "Precision Score: 0.1572721689674508\n",
      "Accuracy Score:0.5940511401583818\n",
      "F1 Score: 0.2571041948579161\n",
      "Confusion Matrix: \n",
      "[[43920 31561]\n",
      " [ 2477  5890]]\n"
     ]
    }
   ],
   "source": [
    "# Metrics with confusion matrix\n",
    "under_boost_stem_preds = cross_val_predict(under_boost_eng_model,X_train,y_train)\n",
    "functions.metrics(y_train,under_boost_stem_preds)"
   ]
  },
  {
   "cell_type": "code",
   "execution_count": 186,
   "metadata": {},
   "outputs": [],
   "source": [
    "xg_params = {'boost__n_estimators':[50,75,100],\n",
    "            'boost__max_depth':[1,3,4,5],\n",
    "            'boost__booster':['gbtree','dart'],\n",
    "            'boost__eta':[.1,.3,.5,.7]}"
   ]
  },
  {
   "cell_type": "code",
   "execution_count": 187,
   "metadata": {},
   "outputs": [
    {
     "data": {
      "text/plain": [
       "GridSearchCV(estimator=Pipeline(steps=[('tfidf1',\n",
       "                                        ColumnTransformer(remainder='passthrough',\n",
       "                                                          transformers=[('tfidf1',\n",
       "                                                                         TfidfVectorizer(stop_words=['i',\n",
       "                                                                                                     'me',\n",
       "                                                                                                     'my',\n",
       "                                                                                                     'myself',\n",
       "                                                                                                     'we',\n",
       "                                                                                                     'our',\n",
       "                                                                                                     'ours',\n",
       "                                                                                                     'ourselves',\n",
       "                                                                                                     'you',\n",
       "                                                                                                     \"you're\",\n",
       "                                                                                                     \"you've\",\n",
       "                                                                                                     \"you'll\",\n",
       "                                                                                                     \"you'd\",\n",
       "                                                                                                     'your',\n",
       "                                                                                                     'yours',\n",
       "                                                                                                     'yourself',\n",
       "                                                                                                     'yourselves',\n",
       "                                                                                                     'he',\n",
       "                                                                                                     'him',\n",
       "                                                                                                     'his',\n",
       "                                                                                                     'himself',\n",
       "                                                                                                     'she',\n",
       "                                                                                                     \"she's\",\n",
       "                                                                                                     'her',\n",
       "                                                                                                     'hers',\n",
       "                                                                                                     'herself',\n",
       "                                                                                                     'it',\n",
       "                                                                                                     \"it's...\n",
       "                                                      num_parallel_tree=None,\n",
       "                                                      random_state=42,\n",
       "                                                      reg_alpha=None,\n",
       "                                                      reg_lambda=None,\n",
       "                                                      scale_pos_weight=None,\n",
       "                                                      subsample=None,\n",
       "                                                      tree_method=None,\n",
       "                                                      validate_parameters=None,\n",
       "                                                      verbosity=None))]),\n",
       "             param_grid={'boost__booster': ['gbtree', 'dart'],\n",
       "                         'boost__eta': [0.1, 0.3, 0.5, 0.7],\n",
       "                         'boost__max_depth': [1, 3, 4, 5],\n",
       "                         'boost__n_estimators': [50, 75, 100]},\n",
       "             return_train_score=True, scoring='recall')"
      ]
     },
     "execution_count": 187,
     "metadata": {},
     "output_type": "execute_result"
    }
   ],
   "source": [
    "# tune parameters for XGBoost\n",
    "boost_gs = GridSearchCV(under_boost_eng_model,xg_params,return_train_score=True,scoring='recall')\n",
    "boost_gs.fit(X_train,y_train)"
   ]
  },
  {
   "cell_type": "code",
   "execution_count": 188,
   "metadata": {},
   "outputs": [
    {
     "name": "stdout",
     "output_type": "stream",
     "text": [
      "Recall Score: 0.707422015059161\n",
      "Precision Score: 0.15962783171521036\n",
      "Accuracy Score:0.5991675412651465\n",
      "F1 Score: 0.26047923955376595\n",
      "Confusion Matrix: \n",
      "[[44320 31161]\n",
      " [ 2448  5919]]\n"
     ]
    }
   ],
   "source": [
    "boost_gs_ypreds = cross_val_predict(boost_gs.best_estimator_, X_train,y_train)\n",
    "functions.metrics(y_train,boost_gs_ypreds)"
   ]
  },
  {
   "cell_type": "markdown",
   "metadata": {},
   "source": [
    "After running a gridsearch, the XGBoost model did not show much improvement. I will move forward with the LR model as it will perform better with some hyperparameter tuning."
   ]
  },
  {
   "cell_type": "markdown",
   "metadata": {},
   "source": [
    "# LR as chosen model"
   ]
  },
  {
   "cell_type": "code",
   "execution_count": 189,
   "metadata": {},
   "outputs": [],
   "source": [
    "# params for LR model\n",
    "params = {'LR__C':[.05,.01,.1,1,5],\n",
    "         'LR__solver':['lbfgs', 'liblinear', 'sag','saga'],\n",
    "         'LR__class_weight':[None,'balanced',.25,.5,.75]}"
   ]
  },
  {
   "cell_type": "code",
   "execution_count": 190,
   "metadata": {},
   "outputs": [
    {
     "data": {
      "text/plain": [
       "GridSearchCV(estimator=Pipeline(steps=[('tfidf1',\n",
       "                                        ColumnTransformer(remainder='passthrough',\n",
       "                                                          transformers=[('tfidf1',\n",
       "                                                                         TfidfVectorizer(stop_words=['i',\n",
       "                                                                                                     'me',\n",
       "                                                                                                     'my',\n",
       "                                                                                                     'myself',\n",
       "                                                                                                     'we',\n",
       "                                                                                                     'our',\n",
       "                                                                                                     'ours',\n",
       "                                                                                                     'ourselves',\n",
       "                                                                                                     'you',\n",
       "                                                                                                     \"you're\",\n",
       "                                                                                                     \"you've\",\n",
       "                                                                                                     \"you'll\",\n",
       "                                                                                                     \"you'd\",\n",
       "                                                                                                     'your',\n",
       "                                                                                                     'yours',\n",
       "                                                                                                     'yourself',\n",
       "                                                                                                     'yourselves',\n",
       "                                                                                                     'he',\n",
       "                                                                                                     'him',\n",
       "                                                                                                     'his',\n",
       "                                                                                                     'himself',\n",
       "                                                                                                     'she',\n",
       "                                                                                                     \"she's\",\n",
       "                                                                                                     'her',\n",
       "                                                                                                     'hers',\n",
       "                                                                                                     'herself',\n",
       "                                                                                                     'it',\n",
       "                                                                                                     \"it's...\n",
       "                                                                                                     'itself', ...]),\n",
       "                                                                         'sentence')])),\n",
       "                                       ('under',\n",
       "                                        RandomUnderSampler(random_state=42,\n",
       "                                                           sampling_strategy='majority')),\n",
       "                                       ('LR',\n",
       "                                        LogisticRegression(C=0.1,\n",
       "                                                           class_weight='balanced',\n",
       "                                                           random_state=42))]),\n",
       "             param_grid={'LR__C': [0.05, 0.01, 0.1, 1, 5],\n",
       "                         'LR__class_weight': [None, 'balanced', 0.25, 0.5,\n",
       "                                              0.75],\n",
       "                         'LR__solver': ['lbfgs', 'liblinear', 'sag', 'saga']},\n",
       "             return_train_score=True, scoring='recall')"
      ]
     },
     "execution_count": 190,
     "metadata": {},
     "output_type": "execute_result"
    }
   ],
   "source": [
    "lr_final = GridSearchCV(under_log_eng_model,params,return_train_score=True,scoring='recall')\n",
    "lr_final.fit(X_train,y_train)"
   ]
  },
  {
   "cell_type": "code",
   "execution_count": 191,
   "metadata": {},
   "outputs": [
    {
     "name": "stdout",
     "output_type": "stream",
     "text": [
      "Recall Score: 0.7192542129795626\n",
      "Precision Score: 0.15763830678960603\n",
      "Accuracy Score:0.5884576853353688\n",
      "F1 Score: 0.2585995745869411\n",
      "Confusion Matrix: \n",
      "[[43323 32158]\n",
      " [ 2349  6018]]\n"
     ]
    }
   ],
   "source": [
    "lr_final_ypreds = cross_val_predict(lr_final.best_estimator_, X_train,y_train)\n",
    "functions.metrics(y_train,lr_final_ypreds)"
   ]
  },
  {
   "cell_type": "code",
   "execution_count": 192,
   "metadata": {},
   "outputs": [
    {
     "data": {
      "text/plain": [
       "{'C': 0.05, 'class_weight': None, 'solver': 'liblinear'}"
      ]
     },
     "execution_count": 192,
     "metadata": {},
     "output_type": "execute_result"
    }
   ],
   "source": [
    "#Cleans up GS param dictionary to unpack it\n",
    "param_dict = {x.replace(\"LR__\", \"\"): v for x, v in lr_final.best_params_.items()}\n",
    "param_dict"
   ]
  },
  {
   "cell_type": "code",
   "execution_count": 193,
   "metadata": {},
   "outputs": [
    {
     "name": "stdout",
     "output_type": "stream",
     "text": [
      "Mean Train Score: 0.7365542557450803\n",
      "Mean Test Score: 0.7192530748746162\n"
     ]
    }
   ],
   "source": [
    "# Tell TFIDF which column to vectorize\n",
    "column_transformer = ColumnTransformer(\n",
    "    [('tfidf1', TfidfVectorizer(stop_words=sw.words('english')), 'sentence')], \n",
    "    remainder='passthrough')\n",
    "\n",
    "# fit the model\n",
    "final_log_eng_model = imbpipe(steps=[('tfidf1', column_transformer),\n",
    "                                     ('under',RandomUnderSampler('majority',random_state=42)),\n",
    "                                     ('LR',LogisticRegression(**param_dict))])\n",
    "# Evaluate results     \n",
    "final_log_eng_results = cross_validate(final_log_eng_model,X_train,y_train,return_train_score=True,scoring='recall')\n",
    "functions.mean_scores(final_log_eng_results)"
   ]
  },
  {
   "cell_type": "code",
   "execution_count": 194,
   "metadata": {},
   "outputs": [
    {
     "name": "stdout",
     "output_type": "stream",
     "text": [
      "Recall Score: 0.7192542129795626\n",
      "Precision Score: 0.15763830678960603\n",
      "Accuracy Score:0.5884576853353688\n",
      "F1 Score: 0.2585995745869411\n",
      "Confusion Matrix: \n",
      "[[43323 32158]\n",
      " [ 2349  6018]]\n"
     ]
    }
   ],
   "source": [
    "lr_final_ypreds = cross_val_predict(final_log_eng_model, X_train,y_train)\n",
    "functions.metrics(y_train,lr_final_ypreds)"
   ]
  },
  {
   "cell_type": "markdown",
   "metadata": {},
   "source": [
    "This model does end up giving us the best recall score and does a good job at catching the fake reviews while not predicting too many false positives."
   ]
  },
  {
   "cell_type": "code",
   "execution_count": null,
   "metadata": {},
   "outputs": [],
   "source": []
  },
  {
   "cell_type": "code",
   "execution_count": null,
   "metadata": {},
   "outputs": [],
   "source": []
  },
  {
   "cell_type": "code",
   "execution_count": null,
   "metadata": {},
   "outputs": [],
   "source": []
  },
  {
   "cell_type": "code",
   "execution_count": null,
   "metadata": {},
   "outputs": [],
   "source": []
  },
  {
   "cell_type": "code",
   "execution_count": 60,
   "metadata": {},
   "outputs": [
    {
     "data": {
      "text/plain": [
       "0.6000715563506261"
      ]
     },
     "execution_count": 60,
     "metadata": {},
     "output_type": "execute_result"
    }
   ],
   "source": [
    "final_log_eng_model.fit(X_train,y_train)\n",
    "final_log_eng_model.score(X_test,y_test)"
   ]
  },
  {
   "cell_type": "code",
   "execution_count": 61,
   "metadata": {},
   "outputs": [
    {
     "data": {
      "image/png": "[encoded data removed]",
      "text/plain": [
       "<Figure size 576x432 with 1 Axes>"
      ]
     },
     "metadata": {
      "needs_background": "light"
     },
     "output_type": "display_data"
    }
   ],
   "source": [
    "fig , ax = plt.subplots(figsize=(8,6))\n",
    "plot_confusion_matrix(final_log_eng_model,X_test,y_test,display_labels=['Real','Fake'],colorbar=False,ax=ax,values_format='d');"
   ]
  },
  {
   "cell_type": "code",
   "execution_count": 62,
   "metadata": {},
   "outputs": [
    {
     "name": "stdout",
     "output_type": "stream",
     "text": [
      "Recall Score: 0.6914244707570865\n",
      "Precision Score: 0.1573703552470396\n",
      "Accuracy Score:0.6000715563506261\n",
      "F1 Score: 0.25638637573177225\n",
      "Confusion Matrix: \n",
      "[[14845 10318]\n",
      " [  860  1927]]\n"
     ]
    }
   ],
   "source": [
    "functions.metrics(y_test,final_log_eng_model.predict(X_test))"
   ]
  },
  {
   "cell_type": "code",
   "execution_count": 63,
   "metadata": {},
   "outputs": [],
   "source": [
    "classifier = final_log_eng_model.named_steps['LR']\n",
    "vals = sorted(classifier.coef_[0],reverse=True)\n"
   ]
  },
  {
   "cell_type": "code",
   "execution_count": null,
   "metadata": {},
   "outputs": [],
   "source": []
  },
  {
   "cell_type": "code",
   "execution_count": null,
   "metadata": {},
   "outputs": [],
   "source": []
  },
  {
   "cell_type": "code",
   "execution_count": 64,
   "metadata": {},
   "outputs": [],
   "source": [
    "file = open('data/scraped_data/Broaddus_df','rb')\n",
    "df_Broaddus = pickle.load(file)\n",
    "file.close()\n",
    "\n",
    "file = open('data/scraped_data/BonTemps_df','rb')\n",
    "df_BonTemps = pickle.load(file)\n",
    "file.close()\n",
    "\n",
    "file = open('data/scraped_data/ruffinos_df','rb')\n",
    "df_ruffinos = pickle.load(file)\n",
    "file.close()\n",
    "\n",
    "file = open('data/scraped_data/social_df','rb')\n",
    "df_social = pickle.load(file)\n",
    "file.close()"
   ]
  },
  {
   "cell_type": "code",
   "execution_count": 65,
   "metadata": {},
   "outputs": [],
   "source": [
    "scraped_df = pd.concat([df_Broaddus,df_BonTemps,df_ruffinos,df_social],ignore_index=True)"
   ]
  },
  {
   "cell_type": "code",
   "execution_count": 66,
   "metadata": {},
   "outputs": [],
   "source": [
    "file = open('data/scraped_data/BonTemps_NR_review','rb')\n",
    "df_nr_bontemps = pickle.load(file)\n",
    "file.close()\n",
    "\n",
    "file = open('data/scraped_data/broaddus_NR_review','rb')\n",
    "df_nr_broaddus = pickle.load(file)\n",
    "file.close()\n",
    "\n",
    "file = open('data/scraped_data/ruffino_NR_reviews','rb')\n",
    "df_nr_ruffino = pickle.load(file)\n",
    "file.close()\n"
   ]
  },
  {
   "cell_type": "code",
   "execution_count": 68,
   "metadata": {},
   "outputs": [],
   "source": [
    "nr_scraped = pd.concat([df_nr_bontemps, df_nr_broaddus,df_nr_ruffino])\n",
    "scraped_reviews_all = pd.concat([nr_scraped,scraped_df],ignore_index=True)"
   ]
  },
  {
   "cell_type": "code",
   "execution_count": null,
   "metadata": {},
   "outputs": [],
   "source": []
  },
  {
   "cell_type": "code",
   "execution_count": 95,
   "metadata": {},
   "outputs": [],
   "source": [
    "scraped_test = functions.transform(scraped_reviews_all,'review')"
   ]
  },
  {
   "cell_type": "code",
   "execution_count": 97,
   "metadata": {},
   "outputs": [],
   "source": [
    "test = functions.test_df(scraped_test,'review')"
   ]
  },
  {
   "cell_type": "code",
   "execution_count": null,
   "metadata": {},
   "outputs": [],
   "source": []
  },
  {
   "cell_type": "code",
   "execution_count": 72,
   "metadata": {},
   "outputs": [
    {
     "data": {
      "text/plain": [
       "Pipeline(steps=[('tfidf1',\n",
       "                 ColumnTransformer(remainder='passthrough',\n",
       "                                   transformers=[('tfidf1',\n",
       "                                                  TfidfVectorizer(stop_words=['i',\n",
       "                                                                              'me',\n",
       "                                                                              'my',\n",
       "                                                                              'myself',\n",
       "                                                                              'we',\n",
       "                                                                              'our',\n",
       "                                                                              'ours',\n",
       "                                                                              'ourselves',\n",
       "                                                                              'you',\n",
       "                                                                              \"you're\",\n",
       "                                                                              \"you've\",\n",
       "                                                                              \"you'll\",\n",
       "                                                                              \"you'd\",\n",
       "                                                                              'your',\n",
       "                                                                              'yours',\n",
       "                                                                              'yourself',\n",
       "                                                                              'yourselves',\n",
       "                                                                              'he',\n",
       "                                                                              'him',\n",
       "                                                                              'his',\n",
       "                                                                              'himself',\n",
       "                                                                              'she',\n",
       "                                                                              \"she's\",\n",
       "                                                                              'her',\n",
       "                                                                              'hers',\n",
       "                                                                              'herself',\n",
       "                                                                              'it',\n",
       "                                                                              \"it's\",\n",
       "                                                                              'its',\n",
       "                                                                              'itself', ...]),\n",
       "                                                  'sentence')])),\n",
       "                ('under',\n",
       "                 RandomUnderSampler(random_state=42,\n",
       "                                    sampling_strategy='majority')),\n",
       "                ('LR', LogisticRegression(C=0.05, solver='liblinear'))])"
      ]
     },
     "execution_count": 72,
     "metadata": {},
     "output_type": "execute_result"
    }
   ],
   "source": [
    "final_log_eng_model.fit(X_train,y_train)"
   ]
  },
  {
   "cell_type": "code",
   "execution_count": 73,
   "metadata": {},
   "outputs": [],
   "source": [
    "y_real_preds = final_log_eng_model.predict(test)"
   ]
  },
  {
   "cell_type": "code",
   "execution_count": 74,
   "metadata": {},
   "outputs": [],
   "source": [
    "scraped_reviews_all['Label'] = pd.Series(y_real_preds)"
   ]
  },
  {
   "cell_type": "code",
   "execution_count": 75,
   "metadata": {},
   "outputs": [
    {
     "data": {
      "text/html": [
       "<div>\n",
       "<style scoped>\n",
       "    .dataframe tbody tr th:only-of-type {\n",
       "        vertical-align: middle;\n",
       "    }\n",
       "\n",
       "    .dataframe tbody tr th {\n",
       "        vertical-align: top;\n",
       "    }\n",
       "\n",
       "    .dataframe thead th {\n",
       "        text-align: right;\n",
       "    }\n",
       "</style>\n",
       "<table border=\"1\" class=\"dataframe\">\n",
       "  <thead>\n",
       "    <tr style=\"text-align: right;\">\n",
       "      <th></th>\n",
       "      <th>review</th>\n",
       "      <th>gone</th>\n",
       "      <th>name</th>\n",
       "      <th>Label</th>\n",
       "    </tr>\n",
       "  </thead>\n",
       "  <tbody>\n",
       "    <tr>\n",
       "      <th>0</th>\n",
       "      <td>Went based on reviews (4 1/2 stars) and I just...</td>\n",
       "      <td></td>\n",
       "      <td>NaN</td>\n",
       "      <td>1</td>\n",
       "    </tr>\n",
       "    <tr>\n",
       "      <th>1</th>\n",
       "      <td>This has to be one of the worst restaurants I ...</td>\n",
       "      <td></td>\n",
       "      <td>NaN</td>\n",
       "      <td>1</td>\n",
       "    </tr>\n",
       "    <tr>\n",
       "      <th>2</th>\n",
       "      <td>For starters some other guests who were dining...</td>\n",
       "      <td></td>\n",
       "      <td>NaN</td>\n",
       "      <td>1</td>\n",
       "    </tr>\n",
       "    <tr>\n",
       "      <th>3</th>\n",
       "      <td>One star was earned for the clean, casual surr...</td>\n",
       "      <td></td>\n",
       "      <td>NaN</td>\n",
       "      <td>0</td>\n",
       "    </tr>\n",
       "    <tr>\n",
       "      <th>4</th>\n",
       "      <td>Im not a huge fan of this place. Their chicken...</td>\n",
       "      <td></td>\n",
       "      <td>NaN</td>\n",
       "      <td>1</td>\n",
       "    </tr>\n",
       "    <tr>\n",
       "      <th>...</th>\n",
       "      <td>...</td>\n",
       "      <td>...</td>\n",
       "      <td>...</td>\n",
       "      <td>...</td>\n",
       "    </tr>\n",
       "    <tr>\n",
       "      <th>1814</th>\n",
       "      <td>I was hoping for a lot more oomph in the food ...</td>\n",
       "      <td></td>\n",
       "      <td>Social Southern Table &amp; Bar</td>\n",
       "      <td>1</td>\n",
       "    </tr>\n",
       "    <tr>\n",
       "      <th>1815</th>\n",
       "      <td>I have been here twice and I must say the food...</td>\n",
       "      <td></td>\n",
       "      <td>Social Southern Table &amp; Bar</td>\n",
       "      <td>1</td>\n",
       "    </tr>\n",
       "    <tr>\n",
       "      <th>1816</th>\n",
       "      <td>Disclaimer: My choice in this place is not a r...</td>\n",
       "      <td></td>\n",
       "      <td>Social Southern Table &amp; Bar</td>\n",
       "      <td>0</td>\n",
       "    </tr>\n",
       "    <tr>\n",
       "      <th>1817</th>\n",
       "      <td>Incredibly disappointing. My boyfriend and I w...</td>\n",
       "      <td></td>\n",
       "      <td>Social Southern Table &amp; Bar</td>\n",
       "      <td>0</td>\n",
       "    </tr>\n",
       "    <tr>\n",
       "      <th>1818</th>\n",
       "      <td>Loved this place! Our daughter goes to UL so w...</td>\n",
       "      <td></td>\n",
       "      <td>Social Southern Table &amp; Bar</td>\n",
       "      <td>1</td>\n",
       "    </tr>\n",
       "  </tbody>\n",
       "</table>\n",
       "<p>1819 rows × 4 columns</p>\n",
       "</div>"
      ],
      "text/plain": [
       "                                                 review gone  \\\n",
       "0     Went based on reviews (4 1/2 stars) and I just...        \n",
       "1     This has to be one of the worst restaurants I ...        \n",
       "2     For starters some other guests who were dining...        \n",
       "3     One star was earned for the clean, casual surr...        \n",
       "4     Im not a huge fan of this place. Their chicken...        \n",
       "...                                                 ...  ...   \n",
       "1814  I was hoping for a lot more oomph in the food ...        \n",
       "1815  I have been here twice and I must say the food...        \n",
       "1816  Disclaimer: My choice in this place is not a r...        \n",
       "1817  Incredibly disappointing. My boyfriend and I w...        \n",
       "1818  Loved this place! Our daughter goes to UL so w...        \n",
       "\n",
       "                             name  Label  \n",
       "0                             NaN      1  \n",
       "1                             NaN      1  \n",
       "2                             NaN      1  \n",
       "3                             NaN      0  \n",
       "4                             NaN      1  \n",
       "...                           ...    ...  \n",
       "1814  Social Southern Table & Bar      1  \n",
       "1815  Social Southern Table & Bar      1  \n",
       "1816  Social Southern Table & Bar      0  \n",
       "1817  Social Southern Table & Bar      0  \n",
       "1818  Social Southern Table & Bar      1  \n",
       "\n",
       "[1819 rows x 4 columns]"
      ]
     },
     "execution_count": 75,
     "metadata": {},
     "output_type": "execute_result"
    }
   ],
   "source": [
    "scraped_reviews_all"
   ]
  },
  {
   "cell_type": "code",
   "execution_count": null,
   "metadata": {},
   "outputs": [],
   "source": []
  },
  {
   "cell_type": "code",
   "execution_count": null,
   "metadata": {},
   "outputs": [],
   "source": []
  },
  {
   "cell_type": "code",
   "execution_count": null,
   "metadata": {},
   "outputs": [],
   "source": []
  },
  {
   "cell_type": "code",
   "execution_count": null,
   "metadata": {},
   "outputs": [],
   "source": []
  },
  {
   "cell_type": "code",
   "execution_count": null,
   "metadata": {},
   "outputs": [],
   "source": []
  },
  {
   "cell_type": "code",
   "execution_count": null,
   "metadata": {},
   "outputs": [],
   "source": []
  },
  {
   "cell_type": "code",
   "execution_count": null,
   "metadata": {},
   "outputs": [],
   "source": []
  },
  {
   "cell_type": "code",
   "execution_count": null,
   "metadata": {},
   "outputs": [],
   "source": []
  },
  {
   "cell_type": "code",
   "execution_count": null,
   "metadata": {},
   "outputs": [],
   "source": []
  }
 ],
 "metadata": {
  "kernelspec": {
   "display_name": "Python (learn-env)",
   "language": "python",
   "name": "learn-env"
  },
  "language_info": {
   "codemirror_mode": {
    "name": "ipython",
    "version": 3
   },
   "file_extension": ".py",
   "mimetype": "text/x-python",
   "name": "python",
   "nbconvert_exporter": "python",
   "pygments_lexer": "ipython3",
   "version": "3.8.5"
  }
 },
 "nbformat": 4,
 "nbformat_minor": 4
}
